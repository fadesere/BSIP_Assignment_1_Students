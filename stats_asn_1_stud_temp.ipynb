{
 "cells": [
  {
   "cell_type": "code",
   "execution_count": 225,
   "metadata": {},
   "outputs": [],
   "source": [
    "import thinkplot\n",
    "import thinkstats2\n",
    "import pandas as pd\n",
    "import numpy as np\n",
    "import scipy\n",
    "import seaborn as sns\n",
    "from matplotlib import pyplot as plt"
   ]
  },
  {
   "cell_type": "markdown",
   "metadata": {},
   "source": [
    "# Assignment #1 - Basic Data Exploration in Python ..\n",
    "\n",
    "## Assignment Overview\n",
    "\n",
    "In this assignment you'll load some data into a python notebook, and use some basic functions to do some basic analysis. Each section asks you to either calculate some answers or explore some information found in the data. When generating your answers, try to think about a few factors that can make your code better:\n",
    "<ul>\n",
    "<li> Present the answers clearly. Use the markdown cells, code comments, and formatting to help make your answers readable. One of the features of notebooks is that they allow us to combine code and commentary, and we need to ensure both are readable. Refer to the guide in the guides folder of the exercises workbook for an explaination and examples of different formatting. \n",
    "<li> Make your code clear. It is easy to make sense of small pieces of code, for short periods of time, so if your code makes little sense here, it won't really hurt your ability to find the answers. If you need to come back to it later, or others need to edit it, having code that doesn't make sense is a big issue. Use things like clearly named variables, comments, and spacing to make things readable. Even in this course, if you are looking back to something from 2 months ago for the project, it is far easier to understand code that is cleaned up a little. \n",
    "<li> Structure the code well. If there is some kind of repetitive task, it should likely be moved into a function. If there is something that happens several times, it should be in a loop. Having well structured code makes it easy to reuse stuff later, understand how things work, debug errors, and share code with others. This is something to keep in the back of your minds, right now you may not have much experience to lean on to judge how things should be, as you read, adjust, and write code it will become more clear. \n",
    "</ul>\n",
    "\n",
    "## Peer Evaluation\n",
    "\n",
    "This assignemnt will have a peer evaluation for the grade - you'll each read some other notebooks and evaluate their answers. The reason for this is not (entirely) my personal laziness, we are hoping to accomplish a couple of things:\n",
    "<ul>\n",
    "<li> Quick experience reading notebooks. One of the important skills we need to have is the ability to read examples that we find and adapting it to our scenario. This is practice with data you're now comfortable with.\n",
    "<li> Critically evaluating what makes sense in a data notebook. You know how you attempted to explain your look at the data, how did other people do it? What was better? What was worse?\n",
    "<li> Design is subjective. This will give you a set of opinions that are not mine. You will end up with plenty of feedback of what I think, feadback of others early-on should hopefully help you make things appealing to all and not tailored to me. \n",
    "</ul>\n",
    "Doing this right up front will hopefully help kickstart some of that expericence. \n",
    "\n",
    "### Grading\n",
    "\n",
    "The detailed grading is defined in the marking guide in the Moodle workshop. Note that there's points both for getting a correct answer and for presenting it in a way that makes sense. \n",
    "\n",
    "## Structure\n",
    "\n",
    "Each section contains a set of questions/prompts and a rough framework for your responses. You can change the structure around, just make sure it is readable. What I have there is just a loose guide to help get you started, you're not bound to it. "
   ]
  },
  {
   "cell_type": "markdown",
   "metadata": {},
   "source": [
    "## Load Data\n",
    "\n",
    "Load the labor data into a dataframe. You probably don't want to change this section. "
   ]
  },
  {
   "cell_type": "code",
   "execution_count": 226,
   "metadata": {},
   "outputs": [],
   "source": [
    "#Load/preview data\n",
    "df = pd.read_csv(\"LabourTrainingEvaluationData.csv\")"
   ]
  },
  {
   "cell_type": "code",
   "execution_count": 227,
   "metadata": {},
   "outputs": [],
   "source": [
    "df = df.sort_values(\"Earnings_1974\")\n"
   ]
  },
  {
   "cell_type": "code",
   "execution_count": 228,
   "metadata": {},
   "outputs": [
    {
     "data": {
      "text/html": [
       "<div>\n",
       "<style scoped>\n",
       "    .dataframe tbody tr th:only-of-type {\n",
       "        vertical-align: middle;\n",
       "    }\n",
       "\n",
       "    .dataframe tbody tr th {\n",
       "        vertical-align: top;\n",
       "    }\n",
       "\n",
       "    .dataframe thead th {\n",
       "        text-align: right;\n",
       "    }\n",
       "</style>\n",
       "<table border=\"1\" class=\"dataframe\">\n",
       "  <thead>\n",
       "    <tr style=\"text-align: right;\">\n",
       "      <th></th>\n",
       "      <th>Age</th>\n",
       "      <th>Eduacation</th>\n",
       "      <th>Race</th>\n",
       "      <th>Hisp</th>\n",
       "      <th>MaritalStatus</th>\n",
       "      <th>Nodeg</th>\n",
       "      <th>Earnings_1974</th>\n",
       "      <th>Earnings_1975</th>\n",
       "      <th>Earnings_1978</th>\n",
       "    </tr>\n",
       "  </thead>\n",
       "  <tbody>\n",
       "    <tr>\n",
       "      <th>5834</th>\n",
       "      <td>16</td>\n",
       "      <td>LessThanHighSchool</td>\n",
       "      <td>NotBlack</td>\n",
       "      <td>NotHispanic</td>\n",
       "      <td>NotMarried</td>\n",
       "      <td>1</td>\n",
       "      <td>0.00</td>\n",
       "      <td>2323.8390</td>\n",
       "      <td>2625.9200</td>\n",
       "    </tr>\n",
       "    <tr>\n",
       "      <th>13932</th>\n",
       "      <td>48</td>\n",
       "      <td>LessThanHighSchool</td>\n",
       "      <td>NotBlack</td>\n",
       "      <td>NotHispanic</td>\n",
       "      <td>Married</td>\n",
       "      <td>1</td>\n",
       "      <td>0.00</td>\n",
       "      <td>0.0000</td>\n",
       "      <td>0.0000</td>\n",
       "    </tr>\n",
       "    <tr>\n",
       "      <th>8030</th>\n",
       "      <td>19</td>\n",
       "      <td>HighSchool</td>\n",
       "      <td>NotBlack</td>\n",
       "      <td>NotHispanic</td>\n",
       "      <td>NotMarried</td>\n",
       "      <td>0</td>\n",
       "      <td>0.00</td>\n",
       "      <td>483.3871</td>\n",
       "      <td>5334.5930</td>\n",
       "    </tr>\n",
       "    <tr>\n",
       "      <th>5788</th>\n",
       "      <td>17</td>\n",
       "      <td>LessThanHighSchool</td>\n",
       "      <td>NotBlack</td>\n",
       "      <td>NotHispanic</td>\n",
       "      <td>NotMarried</td>\n",
       "      <td>1</td>\n",
       "      <td>0.00</td>\n",
       "      <td>1079.5650</td>\n",
       "      <td>7248.2490</td>\n",
       "    </tr>\n",
       "    <tr>\n",
       "      <th>13927</th>\n",
       "      <td>55</td>\n",
       "      <td>LessThanHighSchool</td>\n",
       "      <td>NotBlack</td>\n",
       "      <td>NotHispanic</td>\n",
       "      <td>Married</td>\n",
       "      <td>1</td>\n",
       "      <td>0.00</td>\n",
       "      <td>0.0000</td>\n",
       "      <td>0.0000</td>\n",
       "    </tr>\n",
       "    <tr>\n",
       "      <th>2483</th>\n",
       "      <td>53</td>\n",
       "      <td>LessThanHighSchool</td>\n",
       "      <td>black</td>\n",
       "      <td>NotHispanic</td>\n",
       "      <td>Married</td>\n",
       "      <td>1</td>\n",
       "      <td>0.00</td>\n",
       "      <td>0.0000</td>\n",
       "      <td>0.0000</td>\n",
       "    </tr>\n",
       "    <tr>\n",
       "      <th>9186</th>\n",
       "      <td>17</td>\n",
       "      <td>LessThanHighSchool</td>\n",
       "      <td>NotBlack</td>\n",
       "      <td>NotHispanic</td>\n",
       "      <td>NotMarried</td>\n",
       "      <td>1</td>\n",
       "      <td>0.00</td>\n",
       "      <td>4040.7580</td>\n",
       "      <td>9713.0970</td>\n",
       "    </tr>\n",
       "    <tr>\n",
       "      <th>11021</th>\n",
       "      <td>26</td>\n",
       "      <td>HighSchool</td>\n",
       "      <td>black</td>\n",
       "      <td>NotHispanic</td>\n",
       "      <td>NotMarried</td>\n",
       "      <td>0</td>\n",
       "      <td>0.00</td>\n",
       "      <td>1448.3710</td>\n",
       "      <td>0.0000</td>\n",
       "    </tr>\n",
       "    <tr>\n",
       "      <th>9192</th>\n",
       "      <td>23</td>\n",
       "      <td>Intermediate</td>\n",
       "      <td>NotBlack</td>\n",
       "      <td>NotHispanic</td>\n",
       "      <td>NotMarried</td>\n",
       "      <td>0</td>\n",
       "      <td>0.00</td>\n",
       "      <td>601.5484</td>\n",
       "      <td>23018.5500</td>\n",
       "    </tr>\n",
       "    <tr>\n",
       "      <th>2491</th>\n",
       "      <td>31</td>\n",
       "      <td>LessThanHighSchool</td>\n",
       "      <td>NotBlack</td>\n",
       "      <td>NotHispanic</td>\n",
       "      <td>Married</td>\n",
       "      <td>1</td>\n",
       "      <td>0.00</td>\n",
       "      <td>0.0000</td>\n",
       "      <td>591.0906</td>\n",
       "    </tr>\n",
       "    <tr>\n",
       "      <th>13081</th>\n",
       "      <td>28</td>\n",
       "      <td>HighSchool</td>\n",
       "      <td>NotBlack</td>\n",
       "      <td>NotHispanic</td>\n",
       "      <td>Married</td>\n",
       "      <td>0</td>\n",
       "      <td>25862.32</td>\n",
       "      <td>25243.5500</td>\n",
       "      <td>25564.6700</td>\n",
       "    </tr>\n",
       "    <tr>\n",
       "      <th>6795</th>\n",
       "      <td>54</td>\n",
       "      <td>LessThanHighSchool</td>\n",
       "      <td>NotBlack</td>\n",
       "      <td>NotHispanic</td>\n",
       "      <td>Married</td>\n",
       "      <td>1</td>\n",
       "      <td>25862.32</td>\n",
       "      <td>25243.5500</td>\n",
       "      <td>13556.6600</td>\n",
       "    </tr>\n",
       "    <tr>\n",
       "      <th>3514</th>\n",
       "      <td>39</td>\n",
       "      <td>Intermediate</td>\n",
       "      <td>NotBlack</td>\n",
       "      <td>NotHispanic</td>\n",
       "      <td>Married</td>\n",
       "      <td>0</td>\n",
       "      <td>25862.32</td>\n",
       "      <td>25243.5500</td>\n",
       "      <td>25564.6700</td>\n",
       "    </tr>\n",
       "    <tr>\n",
       "      <th>10028</th>\n",
       "      <td>49</td>\n",
       "      <td>HighSchool</td>\n",
       "      <td>NotBlack</td>\n",
       "      <td>NotHispanic</td>\n",
       "      <td>Married</td>\n",
       "      <td>0</td>\n",
       "      <td>25862.32</td>\n",
       "      <td>25243.5500</td>\n",
       "      <td>25564.6700</td>\n",
       "    </tr>\n",
       "    <tr>\n",
       "      <th>6798</th>\n",
       "      <td>47</td>\n",
       "      <td>LessThanHighSchool</td>\n",
       "      <td>NotBlack</td>\n",
       "      <td>NotHispanic</td>\n",
       "      <td>Married</td>\n",
       "      <td>1</td>\n",
       "      <td>25862.32</td>\n",
       "      <td>25243.5500</td>\n",
       "      <td>25564.6700</td>\n",
       "    </tr>\n",
       "    <tr>\n",
       "      <th>3505</th>\n",
       "      <td>55</td>\n",
       "      <td>LessThanHighSchool</td>\n",
       "      <td>NotBlack</td>\n",
       "      <td>NotHispanic</td>\n",
       "      <td>Married</td>\n",
       "      <td>1</td>\n",
       "      <td>25862.32</td>\n",
       "      <td>25243.5500</td>\n",
       "      <td>25564.6700</td>\n",
       "    </tr>\n",
       "    <tr>\n",
       "      <th>13090</th>\n",
       "      <td>28</td>\n",
       "      <td>HighSchool</td>\n",
       "      <td>NotBlack</td>\n",
       "      <td>NotHispanic</td>\n",
       "      <td>Married</td>\n",
       "      <td>0</td>\n",
       "      <td>25862.32</td>\n",
       "      <td>24985.7400</td>\n",
       "      <td>25564.6700</td>\n",
       "    </tr>\n",
       "    <tr>\n",
       "      <th>10026</th>\n",
       "      <td>31</td>\n",
       "      <td>HighSchool</td>\n",
       "      <td>black</td>\n",
       "      <td>NotHispanic</td>\n",
       "      <td>Married</td>\n",
       "      <td>0</td>\n",
       "      <td>25862.32</td>\n",
       "      <td>25243.5500</td>\n",
       "      <td>25564.6700</td>\n",
       "    </tr>\n",
       "    <tr>\n",
       "      <th>3535</th>\n",
       "      <td>53</td>\n",
       "      <td>LessThanHighSchool</td>\n",
       "      <td>NotBlack</td>\n",
       "      <td>NotHispanic</td>\n",
       "      <td>Married</td>\n",
       "      <td>1</td>\n",
       "      <td>25862.32</td>\n",
       "      <td>14442.5300</td>\n",
       "      <td>16077.6700</td>\n",
       "    </tr>\n",
       "    <tr>\n",
       "      <th>4287</th>\n",
       "      <td>27</td>\n",
       "      <td>Intermediate</td>\n",
       "      <td>NotBlack</td>\n",
       "      <td>NotHispanic</td>\n",
       "      <td>Married</td>\n",
       "      <td>0</td>\n",
       "      <td>25862.32</td>\n",
       "      <td>25243.5500</td>\n",
       "      <td>25564.6700</td>\n",
       "    </tr>\n",
       "  </tbody>\n",
       "</table>\n",
       "</div>"
      ],
      "text/plain": [
       "       Age          Eduacation      Race         Hisp MaritalStatus  Nodeg  \\\n",
       "5834    16  LessThanHighSchool  NotBlack  NotHispanic    NotMarried      1   \n",
       "13932   48  LessThanHighSchool  NotBlack  NotHispanic       Married      1   \n",
       "8030    19          HighSchool  NotBlack  NotHispanic    NotMarried      0   \n",
       "5788    17  LessThanHighSchool  NotBlack  NotHispanic    NotMarried      1   \n",
       "13927   55  LessThanHighSchool  NotBlack  NotHispanic       Married      1   \n",
       "2483    53  LessThanHighSchool     black  NotHispanic       Married      1   \n",
       "9186    17  LessThanHighSchool  NotBlack  NotHispanic    NotMarried      1   \n",
       "11021   26          HighSchool     black  NotHispanic    NotMarried      0   \n",
       "9192    23        Intermediate  NotBlack  NotHispanic    NotMarried      0   \n",
       "2491    31  LessThanHighSchool  NotBlack  NotHispanic       Married      1   \n",
       "13081   28          HighSchool  NotBlack  NotHispanic       Married      0   \n",
       "6795    54  LessThanHighSchool  NotBlack  NotHispanic       Married      1   \n",
       "3514    39        Intermediate  NotBlack  NotHispanic       Married      0   \n",
       "10028   49          HighSchool  NotBlack  NotHispanic       Married      0   \n",
       "6798    47  LessThanHighSchool  NotBlack  NotHispanic       Married      1   \n",
       "3505    55  LessThanHighSchool  NotBlack  NotHispanic       Married      1   \n",
       "13090   28          HighSchool  NotBlack  NotHispanic       Married      0   \n",
       "10026   31          HighSchool     black  NotHispanic       Married      0   \n",
       "3535    53  LessThanHighSchool  NotBlack  NotHispanic       Married      1   \n",
       "4287    27        Intermediate  NotBlack  NotHispanic       Married      0   \n",
       "\n",
       "       Earnings_1974  Earnings_1975  Earnings_1978  \n",
       "5834            0.00      2323.8390      2625.9200  \n",
       "13932           0.00         0.0000         0.0000  \n",
       "8030            0.00       483.3871      5334.5930  \n",
       "5788            0.00      1079.5650      7248.2490  \n",
       "13927           0.00         0.0000         0.0000  \n",
       "2483            0.00         0.0000         0.0000  \n",
       "9186            0.00      4040.7580      9713.0970  \n",
       "11021           0.00      1448.3710         0.0000  \n",
       "9192            0.00       601.5484     23018.5500  \n",
       "2491            0.00         0.0000       591.0906  \n",
       "13081       25862.32     25243.5500     25564.6700  \n",
       "6795        25862.32     25243.5500     13556.6600  \n",
       "3514        25862.32     25243.5500     25564.6700  \n",
       "10028       25862.32     25243.5500     25564.6700  \n",
       "6798        25862.32     25243.5500     25564.6700  \n",
       "3505        25862.32     25243.5500     25564.6700  \n",
       "13090       25862.32     24985.7400     25564.6700  \n",
       "10026       25862.32     25243.5500     25564.6700  \n",
       "3535        25862.32     14442.5300     16077.6700  \n",
       "4287        25862.32     25243.5500     25564.6700  "
      ]
     },
     "metadata": {},
     "output_type": "display_data"
    }
   ],
   "source": [
    "display(pd.concat([df.head(10),\n",
    "                   df.tail(10)]))"
   ]
  },
  {
   "cell_type": "code",
   "execution_count": 229,
   "metadata": {},
   "outputs": [],
   "source": [
    "df = df.round({\"Earnings_1974\":2,\"Earnings_1975\":2, \"Earnings_1978\":2})"
   ]
  },
  {
   "cell_type": "code",
   "execution_count": 230,
   "metadata": {},
   "outputs": [
    {
     "data": {
      "text/html": [
       "<div>\n",
       "<style scoped>\n",
       "    .dataframe tbody tr th:only-of-type {\n",
       "        vertical-align: middle;\n",
       "    }\n",
       "\n",
       "    .dataframe tbody tr th {\n",
       "        vertical-align: top;\n",
       "    }\n",
       "\n",
       "    .dataframe thead th {\n",
       "        text-align: right;\n",
       "    }\n",
       "</style>\n",
       "<table border=\"1\" class=\"dataframe\">\n",
       "  <thead>\n",
       "    <tr style=\"text-align: right;\">\n",
       "      <th></th>\n",
       "      <th>Age</th>\n",
       "      <th>Eduacation</th>\n",
       "      <th>Race</th>\n",
       "      <th>Hisp</th>\n",
       "      <th>MaritalStatus</th>\n",
       "      <th>Nodeg</th>\n",
       "      <th>Earnings_1974</th>\n",
       "      <th>Earnings_1975</th>\n",
       "      <th>Earnings_1978</th>\n",
       "    </tr>\n",
       "  </thead>\n",
       "  <tbody>\n",
       "    <tr>\n",
       "      <th>5834</th>\n",
       "      <td>16</td>\n",
       "      <td>LessThanHighSchool</td>\n",
       "      <td>NotBlack</td>\n",
       "      <td>NotHispanic</td>\n",
       "      <td>NotMarried</td>\n",
       "      <td>1</td>\n",
       "      <td>0.0</td>\n",
       "      <td>2323.84</td>\n",
       "      <td>2625.92</td>\n",
       "    </tr>\n",
       "    <tr>\n",
       "      <th>13932</th>\n",
       "      <td>48</td>\n",
       "      <td>LessThanHighSchool</td>\n",
       "      <td>NotBlack</td>\n",
       "      <td>NotHispanic</td>\n",
       "      <td>Married</td>\n",
       "      <td>1</td>\n",
       "      <td>0.0</td>\n",
       "      <td>0.00</td>\n",
       "      <td>0.00</td>\n",
       "    </tr>\n",
       "    <tr>\n",
       "      <th>8030</th>\n",
       "      <td>19</td>\n",
       "      <td>HighSchool</td>\n",
       "      <td>NotBlack</td>\n",
       "      <td>NotHispanic</td>\n",
       "      <td>NotMarried</td>\n",
       "      <td>0</td>\n",
       "      <td>0.0</td>\n",
       "      <td>483.39</td>\n",
       "      <td>5334.59</td>\n",
       "    </tr>\n",
       "    <tr>\n",
       "      <th>5788</th>\n",
       "      <td>17</td>\n",
       "      <td>LessThanHighSchool</td>\n",
       "      <td>NotBlack</td>\n",
       "      <td>NotHispanic</td>\n",
       "      <td>NotMarried</td>\n",
       "      <td>1</td>\n",
       "      <td>0.0</td>\n",
       "      <td>1079.56</td>\n",
       "      <td>7248.25</td>\n",
       "    </tr>\n",
       "    <tr>\n",
       "      <th>13927</th>\n",
       "      <td>55</td>\n",
       "      <td>LessThanHighSchool</td>\n",
       "      <td>NotBlack</td>\n",
       "      <td>NotHispanic</td>\n",
       "      <td>Married</td>\n",
       "      <td>1</td>\n",
       "      <td>0.0</td>\n",
       "      <td>0.00</td>\n",
       "      <td>0.00</td>\n",
       "    </tr>\n",
       "  </tbody>\n",
       "</table>\n",
       "</div>"
      ],
      "text/plain": [
       "       Age          Eduacation      Race         Hisp MaritalStatus  Nodeg  \\\n",
       "5834    16  LessThanHighSchool  NotBlack  NotHispanic    NotMarried      1   \n",
       "13932   48  LessThanHighSchool  NotBlack  NotHispanic       Married      1   \n",
       "8030    19          HighSchool  NotBlack  NotHispanic    NotMarried      0   \n",
       "5788    17  LessThanHighSchool  NotBlack  NotHispanic    NotMarried      1   \n",
       "13927   55  LessThanHighSchool  NotBlack  NotHispanic       Married      1   \n",
       "\n",
       "       Earnings_1974  Earnings_1975  Earnings_1978  \n",
       "5834             0.0        2323.84        2625.92  \n",
       "13932            0.0           0.00           0.00  \n",
       "8030             0.0         483.39        5334.59  \n",
       "5788             0.0        1079.56        7248.25  \n",
       "13927            0.0           0.00           0.00  "
      ]
     },
     "execution_count": 230,
     "metadata": {},
     "output_type": "execute_result"
    }
   ],
   "source": [
    "df.head()"
   ]
  },
  {
   "cell_type": "code",
   "execution_count": 231,
   "metadata": {},
   "outputs": [],
   "source": [
    "df2 = df.drop_duplicates()"
   ]
  },
  {
   "cell_type": "code",
   "execution_count": 232,
   "metadata": {},
   "outputs": [
    {
     "name": "stdout",
     "output_type": "stream",
     "text": [
      "<class 'pandas.core.frame.DataFrame'>\n",
      "Int64Index: 13990 entries, 5834 to 3535\n",
      "Data columns (total 9 columns):\n",
      " #   Column         Non-Null Count  Dtype  \n",
      "---  ------         --------------  -----  \n",
      " 0   Age            13990 non-null  int64  \n",
      " 1   Eduacation     13990 non-null  object \n",
      " 2   Race           13990 non-null  object \n",
      " 3   Hisp           13990 non-null  object \n",
      " 4   MaritalStatus  13990 non-null  object \n",
      " 5   Nodeg          13990 non-null  int64  \n",
      " 6   Earnings_1974  13990 non-null  float64\n",
      " 7   Earnings_1975  13990 non-null  float64\n",
      " 8   Earnings_1978  13990 non-null  float64\n",
      "dtypes: float64(3), int64(2), object(4)\n",
      "memory usage: 1.1+ MB\n"
     ]
    }
   ],
   "source": [
    "df2.info()"
   ]
  },
  {
   "cell_type": "code",
   "execution_count": 233,
   "metadata": {},
   "outputs": [],
   "source": [
    "df= df.drop_duplicates(subset=['Earnings_1974','Earnings_1975','Earnings_1978'])"
   ]
  },
  {
   "cell_type": "code",
   "execution_count": 234,
   "metadata": {},
   "outputs": [
    {
     "name": "stdout",
     "output_type": "stream",
     "text": [
      "<class 'pandas.core.frame.DataFrame'>\n",
      "Int64Index: 13121 entries, 5834 to 3535\n",
      "Data columns (total 9 columns):\n",
      " #   Column         Non-Null Count  Dtype  \n",
      "---  ------         --------------  -----  \n",
      " 0   Age            13121 non-null  int64  \n",
      " 1   Eduacation     13121 non-null  object \n",
      " 2   Race           13121 non-null  object \n",
      " 3   Hisp           13121 non-null  object \n",
      " 4   MaritalStatus  13121 non-null  object \n",
      " 5   Nodeg          13121 non-null  int64  \n",
      " 6   Earnings_1974  13121 non-null  float64\n",
      " 7   Earnings_1975  13121 non-null  float64\n",
      " 8   Earnings_1978  13121 non-null  float64\n",
      "dtypes: float64(3), int64(2), object(4)\n",
      "memory usage: 1.0+ MB\n"
     ]
    }
   ],
   "source": [
    "df.info()"
   ]
  },
  {
   "cell_type": "code",
   "execution_count": 235,
   "metadata": {},
   "outputs": [],
   "source": [
    "df = df.round(2)"
   ]
  },
  {
   "cell_type": "code",
   "execution_count": 236,
   "metadata": {},
   "outputs": [
    {
     "data": {
      "text/html": [
       "<div>\n",
       "<style scoped>\n",
       "    .dataframe tbody tr th:only-of-type {\n",
       "        vertical-align: middle;\n",
       "    }\n",
       "\n",
       "    .dataframe tbody tr th {\n",
       "        vertical-align: top;\n",
       "    }\n",
       "\n",
       "    .dataframe thead th {\n",
       "        text-align: right;\n",
       "    }\n",
       "</style>\n",
       "<table border=\"1\" class=\"dataframe\">\n",
       "  <thead>\n",
       "    <tr style=\"text-align: right;\">\n",
       "      <th></th>\n",
       "      <th>Age</th>\n",
       "      <th>Eduacation</th>\n",
       "      <th>Race</th>\n",
       "      <th>Hisp</th>\n",
       "      <th>MaritalStatus</th>\n",
       "      <th>Nodeg</th>\n",
       "      <th>Earnings_1974</th>\n",
       "      <th>Earnings_1975</th>\n",
       "      <th>Earnings_1978</th>\n",
       "    </tr>\n",
       "  </thead>\n",
       "  <tbody>\n",
       "    <tr>\n",
       "      <th>5834</th>\n",
       "      <td>16</td>\n",
       "      <td>LessThanHighSchool</td>\n",
       "      <td>NotBlack</td>\n",
       "      <td>NotHispanic</td>\n",
       "      <td>NotMarried</td>\n",
       "      <td>1</td>\n",
       "      <td>0.0</td>\n",
       "      <td>2323.84</td>\n",
       "      <td>2625.92</td>\n",
       "    </tr>\n",
       "    <tr>\n",
       "      <th>13932</th>\n",
       "      <td>48</td>\n",
       "      <td>LessThanHighSchool</td>\n",
       "      <td>NotBlack</td>\n",
       "      <td>NotHispanic</td>\n",
       "      <td>Married</td>\n",
       "      <td>1</td>\n",
       "      <td>0.0</td>\n",
       "      <td>0.00</td>\n",
       "      <td>0.00</td>\n",
       "    </tr>\n",
       "    <tr>\n",
       "      <th>8030</th>\n",
       "      <td>19</td>\n",
       "      <td>HighSchool</td>\n",
       "      <td>NotBlack</td>\n",
       "      <td>NotHispanic</td>\n",
       "      <td>NotMarried</td>\n",
       "      <td>0</td>\n",
       "      <td>0.0</td>\n",
       "      <td>483.39</td>\n",
       "      <td>5334.59</td>\n",
       "    </tr>\n",
       "    <tr>\n",
       "      <th>5788</th>\n",
       "      <td>17</td>\n",
       "      <td>LessThanHighSchool</td>\n",
       "      <td>NotBlack</td>\n",
       "      <td>NotHispanic</td>\n",
       "      <td>NotMarried</td>\n",
       "      <td>1</td>\n",
       "      <td>0.0</td>\n",
       "      <td>1079.56</td>\n",
       "      <td>7248.25</td>\n",
       "    </tr>\n",
       "    <tr>\n",
       "      <th>9186</th>\n",
       "      <td>17</td>\n",
       "      <td>LessThanHighSchool</td>\n",
       "      <td>NotBlack</td>\n",
       "      <td>NotHispanic</td>\n",
       "      <td>NotMarried</td>\n",
       "      <td>1</td>\n",
       "      <td>0.0</td>\n",
       "      <td>4040.76</td>\n",
       "      <td>9713.10</td>\n",
       "    </tr>\n",
       "  </tbody>\n",
       "</table>\n",
       "</div>"
      ],
      "text/plain": [
       "       Age          Eduacation      Race         Hisp MaritalStatus  Nodeg  \\\n",
       "5834    16  LessThanHighSchool  NotBlack  NotHispanic    NotMarried      1   \n",
       "13932   48  LessThanHighSchool  NotBlack  NotHispanic       Married      1   \n",
       "8030    19          HighSchool  NotBlack  NotHispanic    NotMarried      0   \n",
       "5788    17  LessThanHighSchool  NotBlack  NotHispanic    NotMarried      1   \n",
       "9186    17  LessThanHighSchool  NotBlack  NotHispanic    NotMarried      1   \n",
       "\n",
       "       Earnings_1974  Earnings_1975  Earnings_1978  \n",
       "5834             0.0        2323.84        2625.92  \n",
       "13932            0.0           0.00           0.00  \n",
       "8030             0.0         483.39        5334.59  \n",
       "5788             0.0        1079.56        7248.25  \n",
       "9186             0.0        4040.76        9713.10  "
      ]
     },
     "execution_count": 236,
     "metadata": {},
     "output_type": "execute_result"
    }
   ],
   "source": [
    "df.head()"
   ]
  },
  {
   "cell_type": "code",
   "execution_count": 237,
   "metadata": {},
   "outputs": [
    {
     "name": "stdout",
     "output_type": "stream",
     "text": [
      "Earnings_1978  Earnings_1974  Earnings_1975\n",
      "0.00           0.00           0.00             1\n",
      "                              10.74            1\n",
      "                              14.32            1\n",
      "                              21.48            1\n",
      "                              25.06            1\n",
      "                                              ..\n",
      "25564.67       25862.32       25222.06         1\n",
      "                              25232.81         1\n",
      "                              25239.97         1\n",
      "                              25241.76         1\n",
      "                              25243.55         1\n",
      "Length: 13121, dtype: int64\n"
     ]
    }
   ],
   "source": [
    "dups_values = df.pivot_table(columns=['Earnings_1978','Earnings_1974', 'Earnings_1975'], aggfunc='size')  #https://datatofish.com/count-duplicates-pandas/\n",
    "print (dups_values)"
   ]
  },
  {
   "cell_type": "code",
   "execution_count": 238,
   "metadata": {},
   "outputs": [],
   "source": [
    "df_real = df[((df['Earnings_1974']!=25862.32) & (df['Earnings_1975']!=25243.55) & (df['Earnings_1978']!=25564.67))]"
   ]
  },
  {
   "cell_type": "code",
   "execution_count": 239,
   "metadata": {},
   "outputs": [
    {
     "name": "stdout",
     "output_type": "stream",
     "text": [
      "<class 'pandas.core.frame.DataFrame'>\n",
      "Int64Index: 9998 entries, 5834 to 742\n",
      "Data columns (total 9 columns):\n",
      " #   Column         Non-Null Count  Dtype  \n",
      "---  ------         --------------  -----  \n",
      " 0   Age            9998 non-null   int64  \n",
      " 1   Eduacation     9998 non-null   object \n",
      " 2   Race           9998 non-null   object \n",
      " 3   Hisp           9998 non-null   object \n",
      " 4   MaritalStatus  9998 non-null   object \n",
      " 5   Nodeg          9998 non-null   int64  \n",
      " 6   Earnings_1974  9998 non-null   float64\n",
      " 7   Earnings_1975  9998 non-null   float64\n",
      " 8   Earnings_1978  9998 non-null   float64\n",
      "dtypes: float64(3), int64(2), object(4)\n",
      "memory usage: 781.1+ KB\n"
     ]
    }
   ],
   "source": [
    "df_real.info()"
   ]
  },
  {
   "cell_type": "code",
   "execution_count": 240,
   "metadata": {},
   "outputs": [
    {
     "data": {
      "text/html": [
       "<div>\n",
       "<style scoped>\n",
       "    .dataframe tbody tr th:only-of-type {\n",
       "        vertical-align: middle;\n",
       "    }\n",
       "\n",
       "    .dataframe tbody tr th {\n",
       "        vertical-align: top;\n",
       "    }\n",
       "\n",
       "    .dataframe thead th {\n",
       "        text-align: right;\n",
       "    }\n",
       "</style>\n",
       "<table border=\"1\" class=\"dataframe\">\n",
       "  <thead>\n",
       "    <tr style=\"text-align: right;\">\n",
       "      <th></th>\n",
       "      <th>Age</th>\n",
       "      <th>Nodeg</th>\n",
       "      <th>Earnings_1974</th>\n",
       "      <th>Earnings_1975</th>\n",
       "      <th>Earnings_1978</th>\n",
       "    </tr>\n",
       "  </thead>\n",
       "  <tbody>\n",
       "    <tr>\n",
       "      <th>count</th>\n",
       "      <td>9998.000000</td>\n",
       "      <td>9998.000000</td>\n",
       "      <td>9998.000000</td>\n",
       "      <td>9998.000000</td>\n",
       "      <td>9998.000000</td>\n",
       "    </tr>\n",
       "    <tr>\n",
       "      <th>mean</th>\n",
       "      <td>30.750750</td>\n",
       "      <td>0.358672</td>\n",
       "      <td>10467.877737</td>\n",
       "      <td>10243.369674</td>\n",
       "      <td>11650.274858</td>\n",
       "    </tr>\n",
       "    <tr>\n",
       "      <th>std</th>\n",
       "      <td>11.064629</td>\n",
       "      <td>0.479635</td>\n",
       "      <td>7779.671566</td>\n",
       "      <td>7486.619097</td>\n",
       "      <td>7974.564223</td>\n",
       "    </tr>\n",
       "    <tr>\n",
       "      <th>min</th>\n",
       "      <td>16.000000</td>\n",
       "      <td>0.000000</td>\n",
       "      <td>0.000000</td>\n",
       "      <td>0.000000</td>\n",
       "      <td>0.000000</td>\n",
       "    </tr>\n",
       "    <tr>\n",
       "      <th>25%</th>\n",
       "      <td>22.000000</td>\n",
       "      <td>0.000000</td>\n",
       "      <td>2864.450000</td>\n",
       "      <td>3002.817500</td>\n",
       "      <td>4170.510000</td>\n",
       "    </tr>\n",
       "    <tr>\n",
       "      <th>50%</th>\n",
       "      <td>28.000000</td>\n",
       "      <td>0.000000</td>\n",
       "      <td>10444.850000</td>\n",
       "      <td>10253.180000</td>\n",
       "      <td>12220.800000</td>\n",
       "    </tr>\n",
       "    <tr>\n",
       "      <th>75%</th>\n",
       "      <td>39.000000</td>\n",
       "      <td>1.000000</td>\n",
       "      <td>17197.462500</td>\n",
       "      <td>16677.752500</td>\n",
       "      <td>18520.350000</td>\n",
       "    </tr>\n",
       "    <tr>\n",
       "      <th>max</th>\n",
       "      <td>55.000000</td>\n",
       "      <td>1.000000</td>\n",
       "      <td>25860.360000</td>\n",
       "      <td>25241.760000</td>\n",
       "      <td>25555.800000</td>\n",
       "    </tr>\n",
       "  </tbody>\n",
       "</table>\n",
       "</div>"
      ],
      "text/plain": [
       "               Age        Nodeg  Earnings_1974  Earnings_1975  Earnings_1978\n",
       "count  9998.000000  9998.000000    9998.000000    9998.000000    9998.000000\n",
       "mean     30.750750     0.358672   10467.877737   10243.369674   11650.274858\n",
       "std      11.064629     0.479635    7779.671566    7486.619097    7974.564223\n",
       "min      16.000000     0.000000       0.000000       0.000000       0.000000\n",
       "25%      22.000000     0.000000    2864.450000    3002.817500    4170.510000\n",
       "50%      28.000000     0.000000   10444.850000   10253.180000   12220.800000\n",
       "75%      39.000000     1.000000   17197.462500   16677.752500   18520.350000\n",
       "max      55.000000     1.000000   25860.360000   25241.760000   25555.800000"
      ]
     },
     "execution_count": 240,
     "metadata": {},
     "output_type": "execute_result"
    }
   ],
   "source": [
    "df_real.describe()"
   ]
  },
  {
   "cell_type": "code",
   "execution_count": 241,
   "metadata": {},
   "outputs": [
    {
     "data": {
      "text/html": [
       "<div>\n",
       "<style scoped>\n",
       "    .dataframe tbody tr th:only-of-type {\n",
       "        vertical-align: middle;\n",
       "    }\n",
       "\n",
       "    .dataframe tbody tr th {\n",
       "        vertical-align: top;\n",
       "    }\n",
       "\n",
       "    .dataframe thead th {\n",
       "        text-align: right;\n",
       "    }\n",
       "</style>\n",
       "<table border=\"1\" class=\"dataframe\">\n",
       "  <thead>\n",
       "    <tr style=\"text-align: right;\">\n",
       "      <th></th>\n",
       "      <th>Age</th>\n",
       "      <th>Nodeg</th>\n",
       "      <th>Earnings_1974</th>\n",
       "      <th>Earnings_1975</th>\n",
       "      <th>Earnings_1978</th>\n",
       "    </tr>\n",
       "  </thead>\n",
       "  <tbody>\n",
       "    <tr>\n",
       "      <th>count</th>\n",
       "      <td>13121.000000</td>\n",
       "      <td>13121.000000</td>\n",
       "      <td>13121.000000</td>\n",
       "      <td>13121.000000</td>\n",
       "      <td>13121.000000</td>\n",
       "    </tr>\n",
       "    <tr>\n",
       "      <th>mean</th>\n",
       "      <td>31.937429</td>\n",
       "      <td>0.322232</td>\n",
       "      <td>13011.609867</td>\n",
       "      <td>12682.138238</td>\n",
       "      <td>14271.210635</td>\n",
       "    </tr>\n",
       "    <tr>\n",
       "      <th>std</th>\n",
       "      <td>10.959869</td>\n",
       "      <td>0.467349</td>\n",
       "      <td>8749.490339</td>\n",
       "      <td>8440.649578</td>\n",
       "      <td>8988.273900</td>\n",
       "    </tr>\n",
       "    <tr>\n",
       "      <th>min</th>\n",
       "      <td>16.000000</td>\n",
       "      <td>0.000000</td>\n",
       "      <td>0.000000</td>\n",
       "      <td>0.000000</td>\n",
       "      <td>0.000000</td>\n",
       "    </tr>\n",
       "    <tr>\n",
       "      <th>25%</th>\n",
       "      <td>23.000000</td>\n",
       "      <td>0.000000</td>\n",
       "      <td>4659.140000</td>\n",
       "      <td>4633.350000</td>\n",
       "      <td>6283.290000</td>\n",
       "    </tr>\n",
       "    <tr>\n",
       "      <th>50%</th>\n",
       "      <td>29.000000</td>\n",
       "      <td>0.000000</td>\n",
       "      <td>13650.210000</td>\n",
       "      <td>13269.870000</td>\n",
       "      <td>15233.880000</td>\n",
       "    </tr>\n",
       "    <tr>\n",
       "      <th>75%</th>\n",
       "      <td>40.000000</td>\n",
       "      <td>1.000000</td>\n",
       "      <td>20844.640000</td>\n",
       "      <td>20137.550000</td>\n",
       "      <td>22856.000000</td>\n",
       "    </tr>\n",
       "    <tr>\n",
       "      <th>max</th>\n",
       "      <td>55.000000</td>\n",
       "      <td>1.000000</td>\n",
       "      <td>25862.320000</td>\n",
       "      <td>25243.550000</td>\n",
       "      <td>25564.670000</td>\n",
       "    </tr>\n",
       "  </tbody>\n",
       "</table>\n",
       "</div>"
      ],
      "text/plain": [
       "                Age         Nodeg  Earnings_1974  Earnings_1975  Earnings_1978\n",
       "count  13121.000000  13121.000000   13121.000000   13121.000000   13121.000000\n",
       "mean      31.937429      0.322232   13011.609867   12682.138238   14271.210635\n",
       "std       10.959869      0.467349    8749.490339    8440.649578    8988.273900\n",
       "min       16.000000      0.000000       0.000000       0.000000       0.000000\n",
       "25%       23.000000      0.000000    4659.140000    4633.350000    6283.290000\n",
       "50%       29.000000      0.000000   13650.210000   13269.870000   15233.880000\n",
       "75%       40.000000      1.000000   20844.640000   20137.550000   22856.000000\n",
       "max       55.000000      1.000000   25862.320000   25243.550000   25564.670000"
      ]
     },
     "execution_count": 241,
     "metadata": {},
     "output_type": "execute_result"
    }
   ],
   "source": [
    "df.describe()"
   ]
  },
  {
   "cell_type": "code",
   "execution_count": 242,
   "metadata": {},
   "outputs": [],
   "source": [
    "df_real = df_real[((df_real['Earnings_1974']>0) & (df_real['Earnings_1975']>0)&  (df_real['Earnings_1978']>0))]\n",
    "    \n",
    " "
   ]
  },
  {
   "cell_type": "code",
   "execution_count": 243,
   "metadata": {},
   "outputs": [
    {
     "name": "stdout",
     "output_type": "stream",
     "text": [
      "<class 'pandas.core.frame.DataFrame'>\n",
      "Int64Index: 7556 entries, 3555 to 742\n",
      "Data columns (total 9 columns):\n",
      " #   Column         Non-Null Count  Dtype  \n",
      "---  ------         --------------  -----  \n",
      " 0   Age            7556 non-null   int64  \n",
      " 1   Eduacation     7556 non-null   object \n",
      " 2   Race           7556 non-null   object \n",
      " 3   Hisp           7556 non-null   object \n",
      " 4   MaritalStatus  7556 non-null   object \n",
      " 5   Nodeg          7556 non-null   int64  \n",
      " 6   Earnings_1974  7556 non-null   float64\n",
      " 7   Earnings_1975  7556 non-null   float64\n",
      " 8   Earnings_1978  7556 non-null   float64\n",
      "dtypes: float64(3), int64(2), object(4)\n",
      "memory usage: 590.3+ KB\n"
     ]
    }
   ],
   "source": [
    "df_real.info()"
   ]
  },
  {
   "cell_type": "code",
   "execution_count": 244,
   "metadata": {},
   "outputs": [
    {
     "data": {
      "text/html": [
       "<div>\n",
       "<style scoped>\n",
       "    .dataframe tbody tr th:only-of-type {\n",
       "        vertical-align: middle;\n",
       "    }\n",
       "\n",
       "    .dataframe tbody tr th {\n",
       "        vertical-align: top;\n",
       "    }\n",
       "\n",
       "    .dataframe thead th {\n",
       "        text-align: right;\n",
       "    }\n",
       "</style>\n",
       "<table border=\"1\" class=\"dataframe\">\n",
       "  <thead>\n",
       "    <tr style=\"text-align: right;\">\n",
       "      <th></th>\n",
       "      <th>Age</th>\n",
       "      <th>Nodeg</th>\n",
       "      <th>Earnings_1974</th>\n",
       "      <th>Earnings_1975</th>\n",
       "      <th>Earnings_1978</th>\n",
       "    </tr>\n",
       "  </thead>\n",
       "  <tbody>\n",
       "    <tr>\n",
       "      <th>count</th>\n",
       "      <td>7556.000000</td>\n",
       "      <td>7556.000000</td>\n",
       "      <td>7556.000000</td>\n",
       "      <td>7556.000000</td>\n",
       "      <td>7556.000000</td>\n",
       "    </tr>\n",
       "    <tr>\n",
       "      <th>mean</th>\n",
       "      <td>31.515484</td>\n",
       "      <td>0.336818</td>\n",
       "      <td>12364.869817</td>\n",
       "      <td>12177.667087</td>\n",
       "      <td>14007.814592</td>\n",
       "    </tr>\n",
       "    <tr>\n",
       "      <th>std</th>\n",
       "      <td>10.837706</td>\n",
       "      <td>0.472654</td>\n",
       "      <td>7108.905370</td>\n",
       "      <td>6781.628600</td>\n",
       "      <td>6974.494800</td>\n",
       "    </tr>\n",
       "    <tr>\n",
       "      <th>min</th>\n",
       "      <td>16.000000</td>\n",
       "      <td>0.000000</td>\n",
       "      <td>11.760000</td>\n",
       "      <td>10.740000</td>\n",
       "      <td>2.960000</td>\n",
       "    </tr>\n",
       "    <tr>\n",
       "      <th>25%</th>\n",
       "      <td>23.000000</td>\n",
       "      <td>0.000000</td>\n",
       "      <td>6177.570000</td>\n",
       "      <td>6398.610000</td>\n",
       "      <td>8591.130000</td>\n",
       "    </tr>\n",
       "    <tr>\n",
       "      <th>50%</th>\n",
       "      <td>29.000000</td>\n",
       "      <td>0.000000</td>\n",
       "      <td>12832.220000</td>\n",
       "      <td>12654.895000</td>\n",
       "      <td>14754.360000</td>\n",
       "    </tr>\n",
       "    <tr>\n",
       "      <th>75%</th>\n",
       "      <td>39.000000</td>\n",
       "      <td>1.000000</td>\n",
       "      <td>18336.780000</td>\n",
       "      <td>17801.627500</td>\n",
       "      <td>19898.327500</td>\n",
       "    </tr>\n",
       "    <tr>\n",
       "      <th>max</th>\n",
       "      <td>55.000000</td>\n",
       "      <td>1.000000</td>\n",
       "      <td>25860.360000</td>\n",
       "      <td>25241.760000</td>\n",
       "      <td>25555.800000</td>\n",
       "    </tr>\n",
       "  </tbody>\n",
       "</table>\n",
       "</div>"
      ],
      "text/plain": [
       "               Age        Nodeg  Earnings_1974  Earnings_1975  Earnings_1978\n",
       "count  7556.000000  7556.000000    7556.000000    7556.000000    7556.000000\n",
       "mean     31.515484     0.336818   12364.869817   12177.667087   14007.814592\n",
       "std      10.837706     0.472654    7108.905370    6781.628600    6974.494800\n",
       "min      16.000000     0.000000      11.760000      10.740000       2.960000\n",
       "25%      23.000000     0.000000    6177.570000    6398.610000    8591.130000\n",
       "50%      29.000000     0.000000   12832.220000   12654.895000   14754.360000\n",
       "75%      39.000000     1.000000   18336.780000   17801.627500   19898.327500\n",
       "max      55.000000     1.000000   25860.360000   25241.760000   25555.800000"
      ]
     },
     "execution_count": 244,
     "metadata": {},
     "output_type": "execute_result"
    }
   ],
   "source": [
    "df_real.describe()"
   ]
  },
  {
   "cell_type": "code",
   "execution_count": 245,
   "metadata": {},
   "outputs": [
    {
     "data": {
      "text/html": [
       "<div>\n",
       "<style scoped>\n",
       "    .dataframe tbody tr th:only-of-type {\n",
       "        vertical-align: middle;\n",
       "    }\n",
       "\n",
       "    .dataframe tbody tr th {\n",
       "        vertical-align: top;\n",
       "    }\n",
       "\n",
       "    .dataframe thead th {\n",
       "        text-align: right;\n",
       "    }\n",
       "</style>\n",
       "<table border=\"1\" class=\"dataframe\">\n",
       "  <thead>\n",
       "    <tr style=\"text-align: right;\">\n",
       "      <th></th>\n",
       "      <th>Age</th>\n",
       "      <th>Eduacation</th>\n",
       "      <th>Race</th>\n",
       "      <th>Hisp</th>\n",
       "      <th>MaritalStatus</th>\n",
       "      <th>Nodeg</th>\n",
       "      <th>Earnings_1974</th>\n",
       "      <th>Earnings_1975</th>\n",
       "      <th>Earnings_1978</th>\n",
       "    </tr>\n",
       "  </thead>\n",
       "  <tbody>\n",
       "    <tr>\n",
       "      <th>3555</th>\n",
       "      <td>31</td>\n",
       "      <td>PostGraduate</td>\n",
       "      <td>NotBlack</td>\n",
       "      <td>NotHispanic</td>\n",
       "      <td>NotMarried</td>\n",
       "      <td>0</td>\n",
       "      <td>11.76</td>\n",
       "      <td>8498.66</td>\n",
       "      <td>17348.51</td>\n",
       "    </tr>\n",
       "    <tr>\n",
       "      <th>1699</th>\n",
       "      <td>23</td>\n",
       "      <td>Intermediate</td>\n",
       "      <td>NotBlack</td>\n",
       "      <td>NotHispanic</td>\n",
       "      <td>Married</td>\n",
       "      <td>0</td>\n",
       "      <td>11.76</td>\n",
       "      <td>2968.36</td>\n",
       "      <td>12832.58</td>\n",
       "    </tr>\n",
       "    <tr>\n",
       "      <th>7057</th>\n",
       "      <td>18</td>\n",
       "      <td>LessThanHighSchool</td>\n",
       "      <td>NotBlack</td>\n",
       "      <td>NotHispanic</td>\n",
       "      <td>NotMarried</td>\n",
       "      <td>1</td>\n",
       "      <td>17.63</td>\n",
       "      <td>186.19</td>\n",
       "      <td>9223.97</td>\n",
       "    </tr>\n",
       "    <tr>\n",
       "      <th>3822</th>\n",
       "      <td>17</td>\n",
       "      <td>LessThanHighSchool</td>\n",
       "      <td>NotBlack</td>\n",
       "      <td>NotHispanic</td>\n",
       "      <td>NotMarried</td>\n",
       "      <td>1</td>\n",
       "      <td>19.59</td>\n",
       "      <td>1092.10</td>\n",
       "      <td>18609.01</td>\n",
       "    </tr>\n",
       "    <tr>\n",
       "      <th>2502</th>\n",
       "      <td>18</td>\n",
       "      <td>HighSchool</td>\n",
       "      <td>NotBlack</td>\n",
       "      <td>NotHispanic</td>\n",
       "      <td>NotMarried</td>\n",
       "      <td>0</td>\n",
       "      <td>19.59</td>\n",
       "      <td>7834.45</td>\n",
       "      <td>12810.41</td>\n",
       "    </tr>\n",
       "    <tr>\n",
       "      <th>9527</th>\n",
       "      <td>18</td>\n",
       "      <td>HighSchool</td>\n",
       "      <td>NotBlack</td>\n",
       "      <td>NotHispanic</td>\n",
       "      <td>NotMarried</td>\n",
       "      <td>0</td>\n",
       "      <td>21.55</td>\n",
       "      <td>4837.45</td>\n",
       "      <td>13445.83</td>\n",
       "    </tr>\n",
       "    <tr>\n",
       "      <th>14845</th>\n",
       "      <td>39</td>\n",
       "      <td>HighSchool</td>\n",
       "      <td>NotBlack</td>\n",
       "      <td>NotHispanic</td>\n",
       "      <td>Married</td>\n",
       "      <td>0</td>\n",
       "      <td>29.39</td>\n",
       "      <td>196.94</td>\n",
       "      <td>6855.17</td>\n",
       "    </tr>\n",
       "    <tr>\n",
       "      <th>13441</th>\n",
       "      <td>19</td>\n",
       "      <td>HighSchool</td>\n",
       "      <td>black</td>\n",
       "      <td>NotHispanic</td>\n",
       "      <td>NotMarried</td>\n",
       "      <td>0</td>\n",
       "      <td>31.35</td>\n",
       "      <td>3224.37</td>\n",
       "      <td>10757.85</td>\n",
       "    </tr>\n",
       "    <tr>\n",
       "      <th>2620</th>\n",
       "      <td>16</td>\n",
       "      <td>LessThanHighSchool</td>\n",
       "      <td>NotBlack</td>\n",
       "      <td>NotHispanic</td>\n",
       "      <td>NotMarried</td>\n",
       "      <td>1</td>\n",
       "      <td>31.35</td>\n",
       "      <td>21.48</td>\n",
       "      <td>6868.47</td>\n",
       "    </tr>\n",
       "    <tr>\n",
       "      <th>578</th>\n",
       "      <td>20</td>\n",
       "      <td>Intermediate</td>\n",
       "      <td>NotBlack</td>\n",
       "      <td>NotHispanic</td>\n",
       "      <td>Married</td>\n",
       "      <td>0</td>\n",
       "      <td>33.31</td>\n",
       "      <td>1312.31</td>\n",
       "      <td>12299.12</td>\n",
       "    </tr>\n",
       "    <tr>\n",
       "      <th>5675</th>\n",
       "      <td>27</td>\n",
       "      <td>LessThanHighSchool</td>\n",
       "      <td>NotBlack</td>\n",
       "      <td>hispanic</td>\n",
       "      <td>Married</td>\n",
       "      <td>1</td>\n",
       "      <td>33.31</td>\n",
       "      <td>8874.63</td>\n",
       "      <td>19859.17</td>\n",
       "    </tr>\n",
       "    <tr>\n",
       "      <th>6597</th>\n",
       "      <td>17</td>\n",
       "      <td>LessThanHighSchool</td>\n",
       "      <td>NotBlack</td>\n",
       "      <td>NotHispanic</td>\n",
       "      <td>NotMarried</td>\n",
       "      <td>1</td>\n",
       "      <td>37.23</td>\n",
       "      <td>963.19</td>\n",
       "      <td>7607.34</td>\n",
       "    </tr>\n",
       "    <tr>\n",
       "      <th>2664</th>\n",
       "      <td>19</td>\n",
       "      <td>LessThanHighSchool</td>\n",
       "      <td>NotBlack</td>\n",
       "      <td>NotHispanic</td>\n",
       "      <td>Married</td>\n",
       "      <td>1</td>\n",
       "      <td>39.19</td>\n",
       "      <td>4744.35</td>\n",
       "      <td>39.90</td>\n",
       "    </tr>\n",
       "    <tr>\n",
       "      <th>3887</th>\n",
       "      <td>19</td>\n",
       "      <td>LessThanHighSchool</td>\n",
       "      <td>NotBlack</td>\n",
       "      <td>NotHispanic</td>\n",
       "      <td>Married</td>\n",
       "      <td>1</td>\n",
       "      <td>39.19</td>\n",
       "      <td>1136.86</td>\n",
       "      <td>5327.20</td>\n",
       "    </tr>\n",
       "    <tr>\n",
       "      <th>12628</th>\n",
       "      <td>23</td>\n",
       "      <td>Intermediate</td>\n",
       "      <td>black</td>\n",
       "      <td>NotHispanic</td>\n",
       "      <td>NotMarried</td>\n",
       "      <td>0</td>\n",
       "      <td>41.14</td>\n",
       "      <td>1204.89</td>\n",
       "      <td>21326.55</td>\n",
       "    </tr>\n",
       "    <tr>\n",
       "      <th>10522</th>\n",
       "      <td>21</td>\n",
       "      <td>Intermediate</td>\n",
       "      <td>NotBlack</td>\n",
       "      <td>NotHispanic</td>\n",
       "      <td>NotMarried</td>\n",
       "      <td>0</td>\n",
       "      <td>43.10</td>\n",
       "      <td>7003.74</td>\n",
       "      <td>2980.58</td>\n",
       "    </tr>\n",
       "    <tr>\n",
       "      <th>7766</th>\n",
       "      <td>17</td>\n",
       "      <td>LessThanHighSchool</td>\n",
       "      <td>NotBlack</td>\n",
       "      <td>NotHispanic</td>\n",
       "      <td>NotMarried</td>\n",
       "      <td>1</td>\n",
       "      <td>47.02</td>\n",
       "      <td>4320.05</td>\n",
       "      <td>18003.14</td>\n",
       "    </tr>\n",
       "    <tr>\n",
       "      <th>12456</th>\n",
       "      <td>21</td>\n",
       "      <td>Intermediate</td>\n",
       "      <td>NotBlack</td>\n",
       "      <td>NotHispanic</td>\n",
       "      <td>NotMarried</td>\n",
       "      <td>0</td>\n",
       "      <td>48.98</td>\n",
       "      <td>5505.24</td>\n",
       "      <td>21895.47</td>\n",
       "    </tr>\n",
       "    <tr>\n",
       "      <th>5846</th>\n",
       "      <td>25</td>\n",
       "      <td>HighSchool</td>\n",
       "      <td>NotBlack</td>\n",
       "      <td>NotHispanic</td>\n",
       "      <td>Married</td>\n",
       "      <td>0</td>\n",
       "      <td>48.98</td>\n",
       "      <td>4003.16</td>\n",
       "      <td>854.13</td>\n",
       "    </tr>\n",
       "    <tr>\n",
       "      <th>9044</th>\n",
       "      <td>51</td>\n",
       "      <td>LessThanHighSchool</td>\n",
       "      <td>NotBlack</td>\n",
       "      <td>NotHispanic</td>\n",
       "      <td>NotMarried</td>\n",
       "      <td>1</td>\n",
       "      <td>48.98</td>\n",
       "      <td>3813.39</td>\n",
       "      <td>1525.01</td>\n",
       "    </tr>\n",
       "    <tr>\n",
       "      <th>8700</th>\n",
       "      <td>17</td>\n",
       "      <td>LessThanHighSchool</td>\n",
       "      <td>NotBlack</td>\n",
       "      <td>NotHispanic</td>\n",
       "      <td>NotMarried</td>\n",
       "      <td>1</td>\n",
       "      <td>52.90</td>\n",
       "      <td>1267.55</td>\n",
       "      <td>12501.57</td>\n",
       "    </tr>\n",
       "    <tr>\n",
       "      <th>11689</th>\n",
       "      <td>16</td>\n",
       "      <td>LessThanHighSchool</td>\n",
       "      <td>NotBlack</td>\n",
       "      <td>NotHispanic</td>\n",
       "      <td>NotMarried</td>\n",
       "      <td>1</td>\n",
       "      <td>52.90</td>\n",
       "      <td>1129.69</td>\n",
       "      <td>10921.88</td>\n",
       "    </tr>\n",
       "    <tr>\n",
       "      <th>12539</th>\n",
       "      <td>17</td>\n",
       "      <td>LessThanHighSchool</td>\n",
       "      <td>NotBlack</td>\n",
       "      <td>NotHispanic</td>\n",
       "      <td>NotMarried</td>\n",
       "      <td>1</td>\n",
       "      <td>56.82</td>\n",
       "      <td>1885.21</td>\n",
       "      <td>5628.66</td>\n",
       "    </tr>\n",
       "    <tr>\n",
       "      <th>13511</th>\n",
       "      <td>26</td>\n",
       "      <td>Intermediate</td>\n",
       "      <td>NotBlack</td>\n",
       "      <td>NotHispanic</td>\n",
       "      <td>NotMarried</td>\n",
       "      <td>0</td>\n",
       "      <td>58.78</td>\n",
       "      <td>50.13</td>\n",
       "      <td>31.03</td>\n",
       "    </tr>\n",
       "    <tr>\n",
       "      <th>7052</th>\n",
       "      <td>39</td>\n",
       "      <td>PostGraduate</td>\n",
       "      <td>NotBlack</td>\n",
       "      <td>hispanic</td>\n",
       "      <td>Married</td>\n",
       "      <td>0</td>\n",
       "      <td>62.70</td>\n",
       "      <td>6772.79</td>\n",
       "      <td>15956.49</td>\n",
       "    </tr>\n",
       "    <tr>\n",
       "      <th>14504</th>\n",
       "      <td>16</td>\n",
       "      <td>LessThanHighSchool</td>\n",
       "      <td>NotBlack</td>\n",
       "      <td>NotHispanic</td>\n",
       "      <td>NotMarried</td>\n",
       "      <td>1</td>\n",
       "      <td>68.57</td>\n",
       "      <td>911.27</td>\n",
       "      <td>10246.56</td>\n",
       "    </tr>\n",
       "    <tr>\n",
       "      <th>10994</th>\n",
       "      <td>18</td>\n",
       "      <td>LessThanHighSchool</td>\n",
       "      <td>NotBlack</td>\n",
       "      <td>NotHispanic</td>\n",
       "      <td>NotMarried</td>\n",
       "      <td>1</td>\n",
       "      <td>70.53</td>\n",
       "      <td>2305.94</td>\n",
       "      <td>8024.06</td>\n",
       "    </tr>\n",
       "    <tr>\n",
       "      <th>2951</th>\n",
       "      <td>16</td>\n",
       "      <td>LessThanHighSchool</td>\n",
       "      <td>NotBlack</td>\n",
       "      <td>NotHispanic</td>\n",
       "      <td>NotMarried</td>\n",
       "      <td>1</td>\n",
       "      <td>72.49</td>\n",
       "      <td>1530.73</td>\n",
       "      <td>2325.94</td>\n",
       "    </tr>\n",
       "    <tr>\n",
       "      <th>15552</th>\n",
       "      <td>21</td>\n",
       "      <td>Intermediate</td>\n",
       "      <td>NotBlack</td>\n",
       "      <td>hispanic</td>\n",
       "      <td>NotMarried</td>\n",
       "      <td>0</td>\n",
       "      <td>74.45</td>\n",
       "      <td>379.55</td>\n",
       "      <td>9915.54</td>\n",
       "    </tr>\n",
       "    <tr>\n",
       "      <th>13674</th>\n",
       "      <td>18</td>\n",
       "      <td>LessThanHighSchool</td>\n",
       "      <td>NotBlack</td>\n",
       "      <td>NotHispanic</td>\n",
       "      <td>Married</td>\n",
       "      <td>1</td>\n",
       "      <td>76.41</td>\n",
       "      <td>501.29</td>\n",
       "      <td>3651.46</td>\n",
       "    </tr>\n",
       "    <tr>\n",
       "      <th>8754</th>\n",
       "      <td>21</td>\n",
       "      <td>Intermediate</td>\n",
       "      <td>NotBlack</td>\n",
       "      <td>NotHispanic</td>\n",
       "      <td>NotMarried</td>\n",
       "      <td>0</td>\n",
       "      <td>80.33</td>\n",
       "      <td>1890.58</td>\n",
       "      <td>6389.69</td>\n",
       "    </tr>\n",
       "    <tr>\n",
       "      <th>2622</th>\n",
       "      <td>18</td>\n",
       "      <td>LessThanHighSchool</td>\n",
       "      <td>NotBlack</td>\n",
       "      <td>NotHispanic</td>\n",
       "      <td>NotMarried</td>\n",
       "      <td>1</td>\n",
       "      <td>80.33</td>\n",
       "      <td>1946.08</td>\n",
       "      <td>5967.06</td>\n",
       "    </tr>\n",
       "    <tr>\n",
       "      <th>1449</th>\n",
       "      <td>18</td>\n",
       "      <td>LessThanHighSchool</td>\n",
       "      <td>NotBlack</td>\n",
       "      <td>NotHispanic</td>\n",
       "      <td>NotMarried</td>\n",
       "      <td>1</td>\n",
       "      <td>82.29</td>\n",
       "      <td>2309.52</td>\n",
       "      <td>8584.11</td>\n",
       "    </tr>\n",
       "    <tr>\n",
       "      <th>3744</th>\n",
       "      <td>16</td>\n",
       "      <td>LessThanHighSchool</td>\n",
       "      <td>NotBlack</td>\n",
       "      <td>hispanic</td>\n",
       "      <td>NotMarried</td>\n",
       "      <td>1</td>\n",
       "      <td>82.29</td>\n",
       "      <td>155.76</td>\n",
       "      <td>1029.97</td>\n",
       "    </tr>\n",
       "    <tr>\n",
       "      <th>6883</th>\n",
       "      <td>18</td>\n",
       "      <td>LessThanHighSchool</td>\n",
       "      <td>NotBlack</td>\n",
       "      <td>NotHispanic</td>\n",
       "      <td>NotMarried</td>\n",
       "      <td>1</td>\n",
       "      <td>86.21</td>\n",
       "      <td>1256.81</td>\n",
       "      <td>9933.28</td>\n",
       "    </tr>\n",
       "    <tr>\n",
       "      <th>2894</th>\n",
       "      <td>21</td>\n",
       "      <td>LessThanHighSchool</td>\n",
       "      <td>NotBlack</td>\n",
       "      <td>NotHispanic</td>\n",
       "      <td>Married</td>\n",
       "      <td>1</td>\n",
       "      <td>88.17</td>\n",
       "      <td>7607.08</td>\n",
       "      <td>10282.02</td>\n",
       "    </tr>\n",
       "    <tr>\n",
       "      <th>5572</th>\n",
       "      <td>36</td>\n",
       "      <td>HighSchool</td>\n",
       "      <td>NotBlack</td>\n",
       "      <td>NotHispanic</td>\n",
       "      <td>Married</td>\n",
       "      <td>0</td>\n",
       "      <td>88.17</td>\n",
       "      <td>657.05</td>\n",
       "      <td>951.66</td>\n",
       "    </tr>\n",
       "    <tr>\n",
       "      <th>1851</th>\n",
       "      <td>20</td>\n",
       "      <td>LessThanHighSchool</td>\n",
       "      <td>NotBlack</td>\n",
       "      <td>NotHispanic</td>\n",
       "      <td>Married</td>\n",
       "      <td>1</td>\n",
       "      <td>90.13</td>\n",
       "      <td>2719.50</td>\n",
       "      <td>5284.35</td>\n",
       "    </tr>\n",
       "    <tr>\n",
       "      <th>12846</th>\n",
       "      <td>17</td>\n",
       "      <td>LessThanHighSchool</td>\n",
       "      <td>NotBlack</td>\n",
       "      <td>NotHispanic</td>\n",
       "      <td>NotMarried</td>\n",
       "      <td>1</td>\n",
       "      <td>90.13</td>\n",
       "      <td>3432.05</td>\n",
       "      <td>13444.36</td>\n",
       "    </tr>\n",
       "    <tr>\n",
       "      <th>1334</th>\n",
       "      <td>49</td>\n",
       "      <td>HighSchool</td>\n",
       "      <td>NotBlack</td>\n",
       "      <td>NotHispanic</td>\n",
       "      <td>Married</td>\n",
       "      <td>0</td>\n",
       "      <td>92.09</td>\n",
       "      <td>594.39</td>\n",
       "      <td>396.03</td>\n",
       "    </tr>\n",
       "    <tr>\n",
       "      <th>8128</th>\n",
       "      <td>16</td>\n",
       "      <td>LessThanHighSchool</td>\n",
       "      <td>NotBlack</td>\n",
       "      <td>NotHispanic</td>\n",
       "      <td>NotMarried</td>\n",
       "      <td>1</td>\n",
       "      <td>92.09</td>\n",
       "      <td>379.55</td>\n",
       "      <td>2439.73</td>\n",
       "    </tr>\n",
       "    <tr>\n",
       "      <th>4875</th>\n",
       "      <td>18</td>\n",
       "      <td>LessThanHighSchool</td>\n",
       "      <td>NotBlack</td>\n",
       "      <td>NotHispanic</td>\n",
       "      <td>NotMarried</td>\n",
       "      <td>1</td>\n",
       "      <td>94.04</td>\n",
       "      <td>1203.10</td>\n",
       "      <td>11773.05</td>\n",
       "    </tr>\n",
       "    <tr>\n",
       "      <th>14254</th>\n",
       "      <td>19</td>\n",
       "      <td>HighSchool</td>\n",
       "      <td>NotBlack</td>\n",
       "      <td>NotHispanic</td>\n",
       "      <td>NotMarried</td>\n",
       "      <td>0</td>\n",
       "      <td>99.92</td>\n",
       "      <td>3172.45</td>\n",
       "      <td>15436.33</td>\n",
       "    </tr>\n",
       "    <tr>\n",
       "      <th>1481</th>\n",
       "      <td>20</td>\n",
       "      <td>Intermediate</td>\n",
       "      <td>NotBlack</td>\n",
       "      <td>NotHispanic</td>\n",
       "      <td>NotMarried</td>\n",
       "      <td>0</td>\n",
       "      <td>101.88</td>\n",
       "      <td>42.97</td>\n",
       "      <td>3242.13</td>\n",
       "    </tr>\n",
       "    <tr>\n",
       "      <th>3210</th>\n",
       "      <td>18</td>\n",
       "      <td>LessThanHighSchool</td>\n",
       "      <td>black</td>\n",
       "      <td>NotHispanic</td>\n",
       "      <td>NotMarried</td>\n",
       "      <td>1</td>\n",
       "      <td>101.88</td>\n",
       "      <td>1910.27</td>\n",
       "      <td>13504.94</td>\n",
       "    </tr>\n",
       "    <tr>\n",
       "      <th>5155</th>\n",
       "      <td>24</td>\n",
       "      <td>PostGraduate</td>\n",
       "      <td>NotBlack</td>\n",
       "      <td>NotHispanic</td>\n",
       "      <td>Married</td>\n",
       "      <td>0</td>\n",
       "      <td>101.88</td>\n",
       "      <td>10326.58</td>\n",
       "      <td>13679.31</td>\n",
       "    </tr>\n",
       "    <tr>\n",
       "      <th>15871</th>\n",
       "      <td>19</td>\n",
       "      <td>Intermediate</td>\n",
       "      <td>NotBlack</td>\n",
       "      <td>NotHispanic</td>\n",
       "      <td>NotMarried</td>\n",
       "      <td>0</td>\n",
       "      <td>101.88</td>\n",
       "      <td>3245.86</td>\n",
       "      <td>9309.68</td>\n",
       "    </tr>\n",
       "    <tr>\n",
       "      <th>4361</th>\n",
       "      <td>22</td>\n",
       "      <td>LessThanHighSchool</td>\n",
       "      <td>NotBlack</td>\n",
       "      <td>NotHispanic</td>\n",
       "      <td>Married</td>\n",
       "      <td>1</td>\n",
       "      <td>105.80</td>\n",
       "      <td>42.97</td>\n",
       "      <td>209.84</td>\n",
       "    </tr>\n",
       "    <tr>\n",
       "      <th>7472</th>\n",
       "      <td>21</td>\n",
       "      <td>Intermediate</td>\n",
       "      <td>NotBlack</td>\n",
       "      <td>NotHispanic</td>\n",
       "      <td>NotMarried</td>\n",
       "      <td>0</td>\n",
       "      <td>107.76</td>\n",
       "      <td>293.61</td>\n",
       "      <td>7698.96</td>\n",
       "    </tr>\n",
       "    <tr>\n",
       "      <th>6215</th>\n",
       "      <td>21</td>\n",
       "      <td>LessThanHighSchool</td>\n",
       "      <td>NotBlack</td>\n",
       "      <td>NotHispanic</td>\n",
       "      <td>NotMarried</td>\n",
       "      <td>1</td>\n",
       "      <td>109.72</td>\n",
       "      <td>150.39</td>\n",
       "      <td>6002.52</td>\n",
       "    </tr>\n",
       "  </tbody>\n",
       "</table>\n",
       "</div>"
      ],
      "text/plain": [
       "       Age          Eduacation      Race         Hisp MaritalStatus  Nodeg  \\\n",
       "3555    31        PostGraduate  NotBlack  NotHispanic    NotMarried      0   \n",
       "1699    23        Intermediate  NotBlack  NotHispanic       Married      0   \n",
       "7057    18  LessThanHighSchool  NotBlack  NotHispanic    NotMarried      1   \n",
       "3822    17  LessThanHighSchool  NotBlack  NotHispanic    NotMarried      1   \n",
       "2502    18          HighSchool  NotBlack  NotHispanic    NotMarried      0   \n",
       "9527    18          HighSchool  NotBlack  NotHispanic    NotMarried      0   \n",
       "14845   39          HighSchool  NotBlack  NotHispanic       Married      0   \n",
       "13441   19          HighSchool     black  NotHispanic    NotMarried      0   \n",
       "2620    16  LessThanHighSchool  NotBlack  NotHispanic    NotMarried      1   \n",
       "578     20        Intermediate  NotBlack  NotHispanic       Married      0   \n",
       "5675    27  LessThanHighSchool  NotBlack     hispanic       Married      1   \n",
       "6597    17  LessThanHighSchool  NotBlack  NotHispanic    NotMarried      1   \n",
       "2664    19  LessThanHighSchool  NotBlack  NotHispanic       Married      1   \n",
       "3887    19  LessThanHighSchool  NotBlack  NotHispanic       Married      1   \n",
       "12628   23        Intermediate     black  NotHispanic    NotMarried      0   \n",
       "10522   21        Intermediate  NotBlack  NotHispanic    NotMarried      0   \n",
       "7766    17  LessThanHighSchool  NotBlack  NotHispanic    NotMarried      1   \n",
       "12456   21        Intermediate  NotBlack  NotHispanic    NotMarried      0   \n",
       "5846    25          HighSchool  NotBlack  NotHispanic       Married      0   \n",
       "9044    51  LessThanHighSchool  NotBlack  NotHispanic    NotMarried      1   \n",
       "8700    17  LessThanHighSchool  NotBlack  NotHispanic    NotMarried      1   \n",
       "11689   16  LessThanHighSchool  NotBlack  NotHispanic    NotMarried      1   \n",
       "12539   17  LessThanHighSchool  NotBlack  NotHispanic    NotMarried      1   \n",
       "13511   26        Intermediate  NotBlack  NotHispanic    NotMarried      0   \n",
       "7052    39        PostGraduate  NotBlack     hispanic       Married      0   \n",
       "14504   16  LessThanHighSchool  NotBlack  NotHispanic    NotMarried      1   \n",
       "10994   18  LessThanHighSchool  NotBlack  NotHispanic    NotMarried      1   \n",
       "2951    16  LessThanHighSchool  NotBlack  NotHispanic    NotMarried      1   \n",
       "15552   21        Intermediate  NotBlack     hispanic    NotMarried      0   \n",
       "13674   18  LessThanHighSchool  NotBlack  NotHispanic       Married      1   \n",
       "8754    21        Intermediate  NotBlack  NotHispanic    NotMarried      0   \n",
       "2622    18  LessThanHighSchool  NotBlack  NotHispanic    NotMarried      1   \n",
       "1449    18  LessThanHighSchool  NotBlack  NotHispanic    NotMarried      1   \n",
       "3744    16  LessThanHighSchool  NotBlack     hispanic    NotMarried      1   \n",
       "6883    18  LessThanHighSchool  NotBlack  NotHispanic    NotMarried      1   \n",
       "2894    21  LessThanHighSchool  NotBlack  NotHispanic       Married      1   \n",
       "5572    36          HighSchool  NotBlack  NotHispanic       Married      0   \n",
       "1851    20  LessThanHighSchool  NotBlack  NotHispanic       Married      1   \n",
       "12846   17  LessThanHighSchool  NotBlack  NotHispanic    NotMarried      1   \n",
       "1334    49          HighSchool  NotBlack  NotHispanic       Married      0   \n",
       "8128    16  LessThanHighSchool  NotBlack  NotHispanic    NotMarried      1   \n",
       "4875    18  LessThanHighSchool  NotBlack  NotHispanic    NotMarried      1   \n",
       "14254   19          HighSchool  NotBlack  NotHispanic    NotMarried      0   \n",
       "1481    20        Intermediate  NotBlack  NotHispanic    NotMarried      0   \n",
       "3210    18  LessThanHighSchool     black  NotHispanic    NotMarried      1   \n",
       "5155    24        PostGraduate  NotBlack  NotHispanic       Married      0   \n",
       "15871   19        Intermediate  NotBlack  NotHispanic    NotMarried      0   \n",
       "4361    22  LessThanHighSchool  NotBlack  NotHispanic       Married      1   \n",
       "7472    21        Intermediate  NotBlack  NotHispanic    NotMarried      0   \n",
       "6215    21  LessThanHighSchool  NotBlack  NotHispanic    NotMarried      1   \n",
       "\n",
       "       Earnings_1974  Earnings_1975  Earnings_1978  \n",
       "3555           11.76        8498.66       17348.51  \n",
       "1699           11.76        2968.36       12832.58  \n",
       "7057           17.63         186.19        9223.97  \n",
       "3822           19.59        1092.10       18609.01  \n",
       "2502           19.59        7834.45       12810.41  \n",
       "9527           21.55        4837.45       13445.83  \n",
       "14845          29.39         196.94        6855.17  \n",
       "13441          31.35        3224.37       10757.85  \n",
       "2620           31.35          21.48        6868.47  \n",
       "578            33.31        1312.31       12299.12  \n",
       "5675           33.31        8874.63       19859.17  \n",
       "6597           37.23         963.19        7607.34  \n",
       "2664           39.19        4744.35          39.90  \n",
       "3887           39.19        1136.86        5327.20  \n",
       "12628          41.14        1204.89       21326.55  \n",
       "10522          43.10        7003.74        2980.58  \n",
       "7766           47.02        4320.05       18003.14  \n",
       "12456          48.98        5505.24       21895.47  \n",
       "5846           48.98        4003.16         854.13  \n",
       "9044           48.98        3813.39        1525.01  \n",
       "8700           52.90        1267.55       12501.57  \n",
       "11689          52.90        1129.69       10921.88  \n",
       "12539          56.82        1885.21        5628.66  \n",
       "13511          58.78          50.13          31.03  \n",
       "7052           62.70        6772.79       15956.49  \n",
       "14504          68.57         911.27       10246.56  \n",
       "10994          70.53        2305.94        8024.06  \n",
       "2951           72.49        1530.73        2325.94  \n",
       "15552          74.45         379.55        9915.54  \n",
       "13674          76.41         501.29        3651.46  \n",
       "8754           80.33        1890.58        6389.69  \n",
       "2622           80.33        1946.08        5967.06  \n",
       "1449           82.29        2309.52        8584.11  \n",
       "3744           82.29         155.76        1029.97  \n",
       "6883           86.21        1256.81        9933.28  \n",
       "2894           88.17        7607.08       10282.02  \n",
       "5572           88.17         657.05         951.66  \n",
       "1851           90.13        2719.50        5284.35  \n",
       "12846          90.13        3432.05       13444.36  \n",
       "1334           92.09         594.39         396.03  \n",
       "8128           92.09         379.55        2439.73  \n",
       "4875           94.04        1203.10       11773.05  \n",
       "14254          99.92        3172.45       15436.33  \n",
       "1481          101.88          42.97        3242.13  \n",
       "3210          101.88        1910.27       13504.94  \n",
       "5155          101.88       10326.58       13679.31  \n",
       "15871         101.88        3245.86        9309.68  \n",
       "4361          105.80          42.97         209.84  \n",
       "7472          107.76         293.61        7698.96  \n",
       "6215          109.72         150.39        6002.52  "
      ]
     },
     "execution_count": 245,
     "metadata": {},
     "output_type": "execute_result"
    }
   ],
   "source": [
    "df_real.head(50)"
   ]
  },
  {
   "cell_type": "code",
   "execution_count": 246,
   "metadata": {},
   "outputs": [],
   "source": [
    "df_o = df2[['Earnings_1974','Earnings_1975','Earnings_1978']]"
   ]
  },
  {
   "cell_type": "code",
   "execution_count": 247,
   "metadata": {},
   "outputs": [
    {
     "data": {
      "image/png": "[encoded data removed]",
      "text/plain": [
       "<Figure size 1440x1080 with 4 Axes>"
      ]
     },
     "metadata": {
      "needs_background": "light"
     },
     "output_type": "display_data"
    }
   ],
   "source": [
    "%matplotlib inline\n",
    "\n",
    "import matplotlib.pyplot as plt\n",
    "df_o.hist(bins=50, figsize=(20,15))\n",
    "plt.show()"
   ]
  },
  {
   "cell_type": "code",
   "execution_count": 248,
   "metadata": {},
   "outputs": [],
   "source": [
    "df_d = df_o[(df_o[\"Earnings_1974\"]!=0)  | (df_o['Earnings_1974']>24000)] "
   ]
  },
  {
   "cell_type": "code",
   "execution_count": 249,
   "metadata": {},
   "outputs": [],
   "source": [
    "df_d = df_o[(df_o[\"Earnings_1974\"]!=0)  & (df_o['Earnings_1974']<24000) & (df_o[\"Earnings_1975\"]!=0)  & (df_o['Earnings_1975']<24000) \n",
    "                                  & (df_o[\"Earnings_1978\"]!=0)  & (df_o['Earnings_1978']<24000) ] "
   ]
  },
  {
   "cell_type": "markdown",
   "metadata": {},
   "source": [
    "# Domain Knowledge"
   ]
  },
  {
   "cell_type": "markdown",
   "metadata": {},
   "source": [
    "# Judgement call"
   ]
  },
  {
   "cell_type": "code",
   "execution_count": null,
   "metadata": {},
   "outputs": [],
   "source": []
  },
  {
   "cell_type": "code",
   "execution_count": 250,
   "metadata": {},
   "outputs": [
    {
     "data": {
      "text/html": [
       "<div>\n",
       "<style scoped>\n",
       "    .dataframe tbody tr th:only-of-type {\n",
       "        vertical-align: middle;\n",
       "    }\n",
       "\n",
       "    .dataframe tbody tr th {\n",
       "        vertical-align: top;\n",
       "    }\n",
       "\n",
       "    .dataframe thead th {\n",
       "        text-align: right;\n",
       "    }\n",
       "</style>\n",
       "<table border=\"1\" class=\"dataframe\">\n",
       "  <thead>\n",
       "    <tr style=\"text-align: right;\">\n",
       "      <th></th>\n",
       "      <th>Earnings_1974</th>\n",
       "      <th>Earnings_1975</th>\n",
       "      <th>Earnings_1978</th>\n",
       "    </tr>\n",
       "  </thead>\n",
       "  <tbody>\n",
       "    <tr>\n",
       "      <th>5834</th>\n",
       "      <td>0.0</td>\n",
       "      <td>2323.84</td>\n",
       "      <td>2625.92</td>\n",
       "    </tr>\n",
       "    <tr>\n",
       "      <th>13932</th>\n",
       "      <td>0.0</td>\n",
       "      <td>0.00</td>\n",
       "      <td>0.00</td>\n",
       "    </tr>\n",
       "    <tr>\n",
       "      <th>8030</th>\n",
       "      <td>0.0</td>\n",
       "      <td>483.39</td>\n",
       "      <td>5334.59</td>\n",
       "    </tr>\n",
       "    <tr>\n",
       "      <th>5788</th>\n",
       "      <td>0.0</td>\n",
       "      <td>1079.56</td>\n",
       "      <td>7248.25</td>\n",
       "    </tr>\n",
       "    <tr>\n",
       "      <th>13927</th>\n",
       "      <td>0.0</td>\n",
       "      <td>0.00</td>\n",
       "      <td>0.00</td>\n",
       "    </tr>\n",
       "  </tbody>\n",
       "</table>\n",
       "</div>"
      ],
      "text/plain": [
       "       Earnings_1974  Earnings_1975  Earnings_1978\n",
       "5834             0.0        2323.84        2625.92\n",
       "13932            0.0           0.00           0.00\n",
       "8030             0.0         483.39        5334.59\n",
       "5788             0.0        1079.56        7248.25\n",
       "13927            0.0           0.00           0.00"
      ]
     },
     "execution_count": 250,
     "metadata": {},
     "output_type": "execute_result"
    }
   ],
   "source": [
    "df_o.head()"
   ]
  },
  {
   "cell_type": "code",
   "execution_count": 251,
   "metadata": {},
   "outputs": [
    {
     "data": {
      "image/png": "[encoded data removed]",
      "text/plain": [
       "<Figure size 1440x1080 with 4 Axes>"
      ]
     },
     "metadata": {
      "needs_background": "light"
     },
     "output_type": "display_data"
    }
   ],
   "source": [
    "import matplotlib.pyplot as plt\n",
    "df_o.hist(bins=50, figsize=(20,15))\n",
    "plt.show()"
   ]
  },
  {
   "cell_type": "code",
   "execution_count": 252,
   "metadata": {},
   "outputs": [
    {
     "name": "stdout",
     "output_type": "stream",
     "text": [
      "<class 'pandas.core.frame.DataFrame'>\n",
      "Int64Index: 6916 entries, 3555 to 792\n",
      "Data columns (total 3 columns):\n",
      " #   Column         Non-Null Count  Dtype  \n",
      "---  ------         --------------  -----  \n",
      " 0   Earnings_1974  6916 non-null   float64\n",
      " 1   Earnings_1975  6916 non-null   float64\n",
      " 2   Earnings_1978  6916 non-null   float64\n",
      "dtypes: float64(3)\n",
      "memory usage: 216.1 KB\n"
     ]
    }
   ],
   "source": [
    "df_d.info()"
   ]
  },
  {
   "cell_type": "markdown",
   "metadata": {},
   "source": [
    "# Counting the value of a column"
   ]
  },
  {
   "cell_type": "code",
   "execution_count": 253,
   "metadata": {},
   "outputs": [
    {
     "data": {
      "text/plain": [
       "121"
      ]
     },
     "execution_count": 253,
     "metadata": {},
     "output_type": "execute_result"
    }
   ],
   "source": [
    "\n",
    "\n",
    "len(df_d[df_d['Earnings_1974']<=300]) # counting the number that is less than 300\n"
   ]
  },
  {
   "cell_type": "code",
   "execution_count": 254,
   "metadata": {},
   "outputs": [
    {
     "data": {
      "text/plain": [
       "264"
      ]
     },
     "execution_count": 254,
     "metadata": {},
     "output_type": "execute_result"
    }
   ],
   "source": [
    "len(df_d[(df_d['Earnings_1974']<=300) | (df_d['Earnings_1975']<=300 ) | (df_d['Earnings_1978']<=300)])"
   ]
  },
  {
   "cell_type": "code",
   "execution_count": 255,
   "metadata": {},
   "outputs": [
    {
     "data": {
      "text/plain": [
       "Race\n",
       "NotBlack    12089\n",
       "black        1032\n",
       "dtype: int64"
      ]
     },
     "execution_count": 255,
     "metadata": {},
     "output_type": "execute_result"
    }
   ],
   "source": [
    "df.value_counts('Race')"
   ]
  },
  {
   "cell_type": "code",
   "execution_count": 256,
   "metadata": {},
   "outputs": [
    {
     "data": {
      "text/plain": [
       "Hisp\n",
       "NotHispanic    12083\n",
       "hispanic        1038\n",
       "dtype: int64"
      ]
     },
     "execution_count": 256,
     "metadata": {},
     "output_type": "execute_result"
    }
   ],
   "source": [
    "df.value_counts('Hisp')"
   ]
  },
  {
   "cell_type": "code",
   "execution_count": 257,
   "metadata": {},
   "outputs": [],
   "source": [
    "df_real['racial'] = ''"
   ]
  },
  {
   "cell_type": "code",
   "execution_count": 258,
   "metadata": {},
   "outputs": [
    {
     "data": {
      "text/html": [
       "<div>\n",
       "<style scoped>\n",
       "    .dataframe tbody tr th:only-of-type {\n",
       "        vertical-align: middle;\n",
       "    }\n",
       "\n",
       "    .dataframe tbody tr th {\n",
       "        vertical-align: top;\n",
       "    }\n",
       "\n",
       "    .dataframe thead th {\n",
       "        text-align: right;\n",
       "    }\n",
       "</style>\n",
       "<table border=\"1\" class=\"dataframe\">\n",
       "  <thead>\n",
       "    <tr style=\"text-align: right;\">\n",
       "      <th></th>\n",
       "      <th>Age</th>\n",
       "      <th>Eduacation</th>\n",
       "      <th>Race</th>\n",
       "      <th>Hisp</th>\n",
       "      <th>MaritalStatus</th>\n",
       "      <th>Nodeg</th>\n",
       "      <th>Earnings_1974</th>\n",
       "      <th>Earnings_1975</th>\n",
       "      <th>Earnings_1978</th>\n",
       "      <th>racial</th>\n",
       "    </tr>\n",
       "  </thead>\n",
       "  <tbody>\n",
       "    <tr>\n",
       "      <th>3555</th>\n",
       "      <td>31</td>\n",
       "      <td>PostGraduate</td>\n",
       "      <td>NotBlack</td>\n",
       "      <td>NotHispanic</td>\n",
       "      <td>NotMarried</td>\n",
       "      <td>0</td>\n",
       "      <td>11.76</td>\n",
       "      <td>8498.66</td>\n",
       "      <td>17348.51</td>\n",
       "      <td></td>\n",
       "    </tr>\n",
       "    <tr>\n",
       "      <th>1699</th>\n",
       "      <td>23</td>\n",
       "      <td>Intermediate</td>\n",
       "      <td>NotBlack</td>\n",
       "      <td>NotHispanic</td>\n",
       "      <td>Married</td>\n",
       "      <td>0</td>\n",
       "      <td>11.76</td>\n",
       "      <td>2968.36</td>\n",
       "      <td>12832.58</td>\n",
       "      <td></td>\n",
       "    </tr>\n",
       "    <tr>\n",
       "      <th>7057</th>\n",
       "      <td>18</td>\n",
       "      <td>LessThanHighSchool</td>\n",
       "      <td>NotBlack</td>\n",
       "      <td>NotHispanic</td>\n",
       "      <td>NotMarried</td>\n",
       "      <td>1</td>\n",
       "      <td>17.63</td>\n",
       "      <td>186.19</td>\n",
       "      <td>9223.97</td>\n",
       "      <td></td>\n",
       "    </tr>\n",
       "    <tr>\n",
       "      <th>3822</th>\n",
       "      <td>17</td>\n",
       "      <td>LessThanHighSchool</td>\n",
       "      <td>NotBlack</td>\n",
       "      <td>NotHispanic</td>\n",
       "      <td>NotMarried</td>\n",
       "      <td>1</td>\n",
       "      <td>19.59</td>\n",
       "      <td>1092.10</td>\n",
       "      <td>18609.01</td>\n",
       "      <td></td>\n",
       "    </tr>\n",
       "    <tr>\n",
       "      <th>2502</th>\n",
       "      <td>18</td>\n",
       "      <td>HighSchool</td>\n",
       "      <td>NotBlack</td>\n",
       "      <td>NotHispanic</td>\n",
       "      <td>NotMarried</td>\n",
       "      <td>0</td>\n",
       "      <td>19.59</td>\n",
       "      <td>7834.45</td>\n",
       "      <td>12810.41</td>\n",
       "      <td></td>\n",
       "    </tr>\n",
       "  </tbody>\n",
       "</table>\n",
       "</div>"
      ],
      "text/plain": [
       "      Age          Eduacation      Race         Hisp MaritalStatus  Nodeg  \\\n",
       "3555   31        PostGraduate  NotBlack  NotHispanic    NotMarried      0   \n",
       "1699   23        Intermediate  NotBlack  NotHispanic       Married      0   \n",
       "7057   18  LessThanHighSchool  NotBlack  NotHispanic    NotMarried      1   \n",
       "3822   17  LessThanHighSchool  NotBlack  NotHispanic    NotMarried      1   \n",
       "2502   18          HighSchool  NotBlack  NotHispanic    NotMarried      0   \n",
       "\n",
       "      Earnings_1974  Earnings_1975  Earnings_1978 racial  \n",
       "3555          11.76        8498.66       17348.51         \n",
       "1699          11.76        2968.36       12832.58         \n",
       "7057          17.63         186.19        9223.97         \n",
       "3822          19.59        1092.10       18609.01         \n",
       "2502          19.59        7834.45       12810.41         "
      ]
     },
     "execution_count": 258,
     "metadata": {},
     "output_type": "execute_result"
    }
   ],
   "source": [
    "df_real.head()"
   ]
  },
  {
   "cell_type": "code",
   "execution_count": 259,
   "metadata": {},
   "outputs": [],
   "source": [
    "df_real.loc[((df_real['Hisp'] ==\"NotHispanic\") & (df_real['Race']=='NotBlack')), 'racial'] = \"NotBlackNotHispanic\""
   ]
  },
  {
   "cell_type": "code",
   "execution_count": 260,
   "metadata": {},
   "outputs": [],
   "source": [
    "df_real.loc[((df_real['Hisp'] ==\"hispanic\") & (df_real['Race']=='NotBlack')), 'racial'] = \"hispanic\""
   ]
  },
  {
   "cell_type": "code",
   "execution_count": 261,
   "metadata": {},
   "outputs": [],
   "source": [
    "df_real.loc[(df_real['Race']=='black'), 'racial'] = \"black\""
   ]
  },
  {
   "cell_type": "code",
   "execution_count": 262,
   "metadata": {},
   "outputs": [
    {
     "data": {
      "text/html": [
       "<div>\n",
       "<style scoped>\n",
       "    .dataframe tbody tr th:only-of-type {\n",
       "        vertical-align: middle;\n",
       "    }\n",
       "\n",
       "    .dataframe tbody tr th {\n",
       "        vertical-align: top;\n",
       "    }\n",
       "\n",
       "    .dataframe thead th {\n",
       "        text-align: right;\n",
       "    }\n",
       "</style>\n",
       "<table border=\"1\" class=\"dataframe\">\n",
       "  <thead>\n",
       "    <tr style=\"text-align: right;\">\n",
       "      <th></th>\n",
       "      <th>Age</th>\n",
       "      <th>Eduacation</th>\n",
       "      <th>Race</th>\n",
       "      <th>Hisp</th>\n",
       "      <th>MaritalStatus</th>\n",
       "      <th>Nodeg</th>\n",
       "      <th>Earnings_1974</th>\n",
       "      <th>Earnings_1975</th>\n",
       "      <th>Earnings_1978</th>\n",
       "      <th>racial</th>\n",
       "    </tr>\n",
       "  </thead>\n",
       "  <tbody>\n",
       "    <tr>\n",
       "      <th>3555</th>\n",
       "      <td>31</td>\n",
       "      <td>PostGraduate</td>\n",
       "      <td>NotBlack</td>\n",
       "      <td>NotHispanic</td>\n",
       "      <td>NotMarried</td>\n",
       "      <td>0</td>\n",
       "      <td>11.76</td>\n",
       "      <td>8498.66</td>\n",
       "      <td>17348.51</td>\n",
       "      <td>NotBlackNotHispanic</td>\n",
       "    </tr>\n",
       "    <tr>\n",
       "      <th>1699</th>\n",
       "      <td>23</td>\n",
       "      <td>Intermediate</td>\n",
       "      <td>NotBlack</td>\n",
       "      <td>NotHispanic</td>\n",
       "      <td>Married</td>\n",
       "      <td>0</td>\n",
       "      <td>11.76</td>\n",
       "      <td>2968.36</td>\n",
       "      <td>12832.58</td>\n",
       "      <td>NotBlackNotHispanic</td>\n",
       "    </tr>\n",
       "    <tr>\n",
       "      <th>7057</th>\n",
       "      <td>18</td>\n",
       "      <td>LessThanHighSchool</td>\n",
       "      <td>NotBlack</td>\n",
       "      <td>NotHispanic</td>\n",
       "      <td>NotMarried</td>\n",
       "      <td>1</td>\n",
       "      <td>17.63</td>\n",
       "      <td>186.19</td>\n",
       "      <td>9223.97</td>\n",
       "      <td>NotBlackNotHispanic</td>\n",
       "    </tr>\n",
       "    <tr>\n",
       "      <th>3822</th>\n",
       "      <td>17</td>\n",
       "      <td>LessThanHighSchool</td>\n",
       "      <td>NotBlack</td>\n",
       "      <td>NotHispanic</td>\n",
       "      <td>NotMarried</td>\n",
       "      <td>1</td>\n",
       "      <td>19.59</td>\n",
       "      <td>1092.10</td>\n",
       "      <td>18609.01</td>\n",
       "      <td>NotBlackNotHispanic</td>\n",
       "    </tr>\n",
       "    <tr>\n",
       "      <th>2502</th>\n",
       "      <td>18</td>\n",
       "      <td>HighSchool</td>\n",
       "      <td>NotBlack</td>\n",
       "      <td>NotHispanic</td>\n",
       "      <td>NotMarried</td>\n",
       "      <td>0</td>\n",
       "      <td>19.59</td>\n",
       "      <td>7834.45</td>\n",
       "      <td>12810.41</td>\n",
       "      <td>NotBlackNotHispanic</td>\n",
       "    </tr>\n",
       "  </tbody>\n",
       "</table>\n",
       "</div>"
      ],
      "text/plain": [
       "      Age          Eduacation      Race         Hisp MaritalStatus  Nodeg  \\\n",
       "3555   31        PostGraduate  NotBlack  NotHispanic    NotMarried      0   \n",
       "1699   23        Intermediate  NotBlack  NotHispanic       Married      0   \n",
       "7057   18  LessThanHighSchool  NotBlack  NotHispanic    NotMarried      1   \n",
       "3822   17  LessThanHighSchool  NotBlack  NotHispanic    NotMarried      1   \n",
       "2502   18          HighSchool  NotBlack  NotHispanic    NotMarried      0   \n",
       "\n",
       "      Earnings_1974  Earnings_1975  Earnings_1978               racial  \n",
       "3555          11.76        8498.66       17348.51  NotBlackNotHispanic  \n",
       "1699          11.76        2968.36       12832.58  NotBlackNotHispanic  \n",
       "7057          17.63         186.19        9223.97  NotBlackNotHispanic  \n",
       "3822          19.59        1092.10       18609.01  NotBlackNotHispanic  \n",
       "2502          19.59        7834.45       12810.41  NotBlackNotHispanic  "
      ]
     },
     "execution_count": 262,
     "metadata": {},
     "output_type": "execute_result"
    }
   ],
   "source": [
    "df_real.head()"
   ]
  },
  {
   "cell_type": "code",
   "execution_count": null,
   "metadata": {},
   "outputs": [],
   "source": []
  },
  {
   "cell_type": "code",
   "execution_count": 361,
   "metadata": {},
   "outputs": [
    {
     "data": {
      "text/plain": [
       "racial\n",
       "NotBlackNotHispanic    6258\n",
       "black                   649\n",
       "hispanic                649\n",
       "dtype: int64"
      ]
     },
     "execution_count": 361,
     "metadata": {},
     "output_type": "execute_result"
    }
   ],
   "source": [
    "df_real.value_counts('racial')"
   ]
  },
  {
   "cell_type": "code",
   "execution_count": 264,
   "metadata": {},
   "outputs": [
    {
     "data": {
      "text/plain": [
       "pandas.core.groupby.generic.DataFrameGroupBy"
      ]
     },
     "execution_count": 264,
     "metadata": {},
     "output_type": "execute_result"
    }
   ],
   "source": [
    "df_racialgroup = df_real.groupby(\"racial\")\n",
    "type(df_racialgroup)"
   ]
  },
  {
   "cell_type": "code",
   "execution_count": 265,
   "metadata": {},
   "outputs": [
    {
     "data": {
      "text/html": [
       "<div>\n",
       "<style scoped>\n",
       "    .dataframe tbody tr th:only-of-type {\n",
       "        vertical-align: middle;\n",
       "    }\n",
       "\n",
       "    .dataframe tbody tr th {\n",
       "        vertical-align: top;\n",
       "    }\n",
       "\n",
       "    .dataframe thead th {\n",
       "        text-align: right;\n",
       "    }\n",
       "</style>\n",
       "<table border=\"1\" class=\"dataframe\">\n",
       "  <thead>\n",
       "    <tr style=\"text-align: right;\">\n",
       "      <th></th>\n",
       "      <th>Age</th>\n",
       "      <th>Eduacation</th>\n",
       "      <th>Race</th>\n",
       "      <th>Hisp</th>\n",
       "      <th>MaritalStatus</th>\n",
       "      <th>Nodeg</th>\n",
       "      <th>Earnings_1974</th>\n",
       "      <th>Earnings_1975</th>\n",
       "      <th>Earnings_1978</th>\n",
       "    </tr>\n",
       "    <tr>\n",
       "      <th>racial</th>\n",
       "      <th></th>\n",
       "      <th></th>\n",
       "      <th></th>\n",
       "      <th></th>\n",
       "      <th></th>\n",
       "      <th></th>\n",
       "      <th></th>\n",
       "      <th></th>\n",
       "      <th></th>\n",
       "    </tr>\n",
       "  </thead>\n",
       "  <tbody>\n",
       "    <tr>\n",
       "      <th>NotBlackNotHispanic</th>\n",
       "      <td>55</td>\n",
       "      <td>HighSchool</td>\n",
       "      <td>NotBlack</td>\n",
       "      <td>NotHispanic</td>\n",
       "      <td>Married</td>\n",
       "      <td>0</td>\n",
       "      <td>25860.36</td>\n",
       "      <td>5295.77</td>\n",
       "      <td>5646.39</td>\n",
       "    </tr>\n",
       "    <tr>\n",
       "      <th>black</th>\n",
       "      <td>55</td>\n",
       "      <td>LessThanHighSchool</td>\n",
       "      <td>black</td>\n",
       "      <td>NotHispanic</td>\n",
       "      <td>NotMarried</td>\n",
       "      <td>1</td>\n",
       "      <td>25640.92</td>\n",
       "      <td>24264.24</td>\n",
       "      <td>1260.50</td>\n",
       "    </tr>\n",
       "    <tr>\n",
       "      <th>hispanic</th>\n",
       "      <td>40</td>\n",
       "      <td>HighSchool</td>\n",
       "      <td>NotBlack</td>\n",
       "      <td>hispanic</td>\n",
       "      <td>Married</td>\n",
       "      <td>0</td>\n",
       "      <td>25793.75</td>\n",
       "      <td>20230.65</td>\n",
       "      <td>10552.45</td>\n",
       "    </tr>\n",
       "  </tbody>\n",
       "</table>\n",
       "</div>"
      ],
      "text/plain": [
       "                     Age          Eduacation      Race         Hisp  \\\n",
       "racial                                                                \n",
       "NotBlackNotHispanic   55          HighSchool  NotBlack  NotHispanic   \n",
       "black                 55  LessThanHighSchool     black  NotHispanic   \n",
       "hispanic              40          HighSchool  NotBlack     hispanic   \n",
       "\n",
       "                    MaritalStatus  Nodeg  Earnings_1974  Earnings_1975  \\\n",
       "racial                                                                   \n",
       "NotBlackNotHispanic       Married      0       25860.36        5295.77   \n",
       "black                  NotMarried      1       25640.92       24264.24   \n",
       "hispanic                  Married      0       25793.75       20230.65   \n",
       "\n",
       "                     Earnings_1978  \n",
       "racial                              \n",
       "NotBlackNotHispanic        5646.39  \n",
       "black                      1260.50  \n",
       "hispanic                  10552.45  "
      ]
     },
     "execution_count": 265,
     "metadata": {},
     "output_type": "execute_result"
    }
   ],
   "source": [
    "df_racialgroup.last()"
   ]
  },
  {
   "cell_type": "code",
   "execution_count": 266,
   "metadata": {},
   "outputs": [
    {
     "data": {
      "text/plain": [
       "racial\n",
       "NotBlackNotHispanic    55\n",
       "black                  55\n",
       "hispanic               55\n",
       "Name: Age, dtype: int64"
      ]
     },
     "execution_count": 266,
     "metadata": {},
     "output_type": "execute_result"
    }
   ],
   "source": [
    "df_racialgroup.Age.max()"
   ]
  },
  {
   "cell_type": "code",
   "execution_count": 267,
   "metadata": {},
   "outputs": [
    {
     "data": {
      "text/html": [
       "<div>\n",
       "<style scoped>\n",
       "    .dataframe tbody tr th:only-of-type {\n",
       "        vertical-align: middle;\n",
       "    }\n",
       "\n",
       "    .dataframe tbody tr th {\n",
       "        vertical-align: top;\n",
       "    }\n",
       "\n",
       "    .dataframe thead th {\n",
       "        text-align: right;\n",
       "    }\n",
       "</style>\n",
       "<table border=\"1\" class=\"dataframe\">\n",
       "  <thead>\n",
       "    <tr style=\"text-align: right;\">\n",
       "      <th></th>\n",
       "      <th>max</th>\n",
       "      <th>min</th>\n",
       "      <th>count</th>\n",
       "      <th>median</th>\n",
       "      <th>mean</th>\n",
       "    </tr>\n",
       "    <tr>\n",
       "      <th>racial</th>\n",
       "      <th></th>\n",
       "      <th></th>\n",
       "      <th></th>\n",
       "      <th></th>\n",
       "      <th></th>\n",
       "    </tr>\n",
       "  </thead>\n",
       "  <tbody>\n",
       "    <tr>\n",
       "      <th>NotBlackNotHispanic</th>\n",
       "      <td>25555.80</td>\n",
       "      <td>4.43</td>\n",
       "      <td>6258</td>\n",
       "      <td>14979.71</td>\n",
       "      <td>14215.115561</td>\n",
       "    </tr>\n",
       "    <tr>\n",
       "      <th>black</th>\n",
       "      <td>25529.20</td>\n",
       "      <td>2.96</td>\n",
       "      <td>649</td>\n",
       "      <td>13286.24</td>\n",
       "      <td>12681.553359</td>\n",
       "    </tr>\n",
       "    <tr>\n",
       "      <th>hispanic</th>\n",
       "      <td>25505.56</td>\n",
       "      <td>93.10</td>\n",
       "      <td>649</td>\n",
       "      <td>13658.63</td>\n",
       "      <td>13335.170647</td>\n",
       "    </tr>\n",
       "  </tbody>\n",
       "</table>\n",
       "</div>"
      ],
      "text/plain": [
       "                          max    min  count    median          mean\n",
       "racial                                                             \n",
       "NotBlackNotHispanic  25555.80   4.43   6258  14979.71  14215.115561\n",
       "black                25529.20   2.96    649  13286.24  12681.553359\n",
       "hispanic             25505.56  93.10    649  13658.63  13335.170647"
      ]
     },
     "execution_count": 267,
     "metadata": {},
     "output_type": "execute_result"
    }
   ],
   "source": [
    "df_racialgroup.Earnings_1978.agg(['max', 'min', 'count', 'median', 'mean'])"
   ]
  },
  {
   "cell_type": "code",
   "execution_count": 268,
   "metadata": {},
   "outputs": [
    {
     "data": {
      "text/html": [
       "<div>\n",
       "<style scoped>\n",
       "    .dataframe tbody tr th:only-of-type {\n",
       "        vertical-align: middle;\n",
       "    }\n",
       "\n",
       "    .dataframe tbody tr th {\n",
       "        vertical-align: top;\n",
       "    }\n",
       "\n",
       "    .dataframe thead th {\n",
       "        text-align: right;\n",
       "    }\n",
       "</style>\n",
       "<table border=\"1\" class=\"dataframe\">\n",
       "  <thead>\n",
       "    <tr style=\"text-align: right;\">\n",
       "      <th></th>\n",
       "      <th>Age</th>\n",
       "      <th>Nodeg</th>\n",
       "      <th>Earnings_1974</th>\n",
       "      <th>Earnings_1975</th>\n",
       "      <th>Earnings_1978</th>\n",
       "    </tr>\n",
       "  </thead>\n",
       "  <tbody>\n",
       "    <tr>\n",
       "      <th>count</th>\n",
       "      <td>13121.000000</td>\n",
       "      <td>13121.000000</td>\n",
       "      <td>13121.000000</td>\n",
       "      <td>13121.000000</td>\n",
       "      <td>13121.000000</td>\n",
       "    </tr>\n",
       "    <tr>\n",
       "      <th>mean</th>\n",
       "      <td>31.937429</td>\n",
       "      <td>0.322232</td>\n",
       "      <td>13011.609867</td>\n",
       "      <td>12682.138238</td>\n",
       "      <td>14271.210635</td>\n",
       "    </tr>\n",
       "    <tr>\n",
       "      <th>std</th>\n",
       "      <td>10.959869</td>\n",
       "      <td>0.467349</td>\n",
       "      <td>8749.490339</td>\n",
       "      <td>8440.649578</td>\n",
       "      <td>8988.273900</td>\n",
       "    </tr>\n",
       "    <tr>\n",
       "      <th>min</th>\n",
       "      <td>16.000000</td>\n",
       "      <td>0.000000</td>\n",
       "      <td>0.000000</td>\n",
       "      <td>0.000000</td>\n",
       "      <td>0.000000</td>\n",
       "    </tr>\n",
       "    <tr>\n",
       "      <th>25%</th>\n",
       "      <td>23.000000</td>\n",
       "      <td>0.000000</td>\n",
       "      <td>4659.140000</td>\n",
       "      <td>4633.350000</td>\n",
       "      <td>6283.290000</td>\n",
       "    </tr>\n",
       "    <tr>\n",
       "      <th>50%</th>\n",
       "      <td>29.000000</td>\n",
       "      <td>0.000000</td>\n",
       "      <td>13650.210000</td>\n",
       "      <td>13269.870000</td>\n",
       "      <td>15233.880000</td>\n",
       "    </tr>\n",
       "    <tr>\n",
       "      <th>75%</th>\n",
       "      <td>40.000000</td>\n",
       "      <td>1.000000</td>\n",
       "      <td>20844.640000</td>\n",
       "      <td>20137.550000</td>\n",
       "      <td>22856.000000</td>\n",
       "    </tr>\n",
       "    <tr>\n",
       "      <th>max</th>\n",
       "      <td>55.000000</td>\n",
       "      <td>1.000000</td>\n",
       "      <td>25862.320000</td>\n",
       "      <td>25243.550000</td>\n",
       "      <td>25564.670000</td>\n",
       "    </tr>\n",
       "  </tbody>\n",
       "</table>\n",
       "</div>"
      ],
      "text/plain": [
       "                Age         Nodeg  Earnings_1974  Earnings_1975  Earnings_1978\n",
       "count  13121.000000  13121.000000   13121.000000   13121.000000   13121.000000\n",
       "mean      31.937429      0.322232   13011.609867   12682.138238   14271.210635\n",
       "std       10.959869      0.467349    8749.490339    8440.649578    8988.273900\n",
       "min       16.000000      0.000000       0.000000       0.000000       0.000000\n",
       "25%       23.000000      0.000000    4659.140000    4633.350000    6283.290000\n",
       "50%       29.000000      0.000000   13650.210000   13269.870000   15233.880000\n",
       "75%       40.000000      1.000000   20844.640000   20137.550000   22856.000000\n",
       "max       55.000000      1.000000   25862.320000   25243.550000   25564.670000"
      ]
     },
     "execution_count": 268,
     "metadata": {},
     "output_type": "execute_result"
    }
   ],
   "source": [
    "df.describe()"
   ]
  },
  {
   "cell_type": "code",
   "execution_count": 269,
   "metadata": {},
   "outputs": [
    {
     "data": {
      "text/html": [
       "<div>\n",
       "<style scoped>\n",
       "    .dataframe tbody tr th:only-of-type {\n",
       "        vertical-align: middle;\n",
       "    }\n",
       "\n",
       "    .dataframe tbody tr th {\n",
       "        vertical-align: top;\n",
       "    }\n",
       "\n",
       "    .dataframe thead th {\n",
       "        text-align: right;\n",
       "    }\n",
       "</style>\n",
       "<table border=\"1\" class=\"dataframe\">\n",
       "  <thead>\n",
       "    <tr style=\"text-align: right;\">\n",
       "      <th></th>\n",
       "      <th>count</th>\n",
       "      <th>unique</th>\n",
       "      <th>top</th>\n",
       "      <th>freq</th>\n",
       "      <th>mean</th>\n",
       "      <th>std</th>\n",
       "      <th>min</th>\n",
       "      <th>25%</th>\n",
       "      <th>50%</th>\n",
       "      <th>75%</th>\n",
       "      <th>max</th>\n",
       "    </tr>\n",
       "  </thead>\n",
       "  <tbody>\n",
       "    <tr>\n",
       "      <th>Age</th>\n",
       "      <td>13121.0</td>\n",
       "      <td>NaN</td>\n",
       "      <td>NaN</td>\n",
       "      <td>NaN</td>\n",
       "      <td>31.937429</td>\n",
       "      <td>10.959869</td>\n",
       "      <td>16.0</td>\n",
       "      <td>23.0</td>\n",
       "      <td>29.0</td>\n",
       "      <td>40.0</td>\n",
       "      <td>55.0</td>\n",
       "    </tr>\n",
       "    <tr>\n",
       "      <th>Eduacation</th>\n",
       "      <td>13121</td>\n",
       "      <td>5</td>\n",
       "      <td>HighSchool</td>\n",
       "      <td>5083</td>\n",
       "      <td>NaN</td>\n",
       "      <td>NaN</td>\n",
       "      <td>NaN</td>\n",
       "      <td>NaN</td>\n",
       "      <td>NaN</td>\n",
       "      <td>NaN</td>\n",
       "      <td>NaN</td>\n",
       "    </tr>\n",
       "    <tr>\n",
       "      <th>Race</th>\n",
       "      <td>13121</td>\n",
       "      <td>2</td>\n",
       "      <td>NotBlack</td>\n",
       "      <td>12089</td>\n",
       "      <td>NaN</td>\n",
       "      <td>NaN</td>\n",
       "      <td>NaN</td>\n",
       "      <td>NaN</td>\n",
       "      <td>NaN</td>\n",
       "      <td>NaN</td>\n",
       "      <td>NaN</td>\n",
       "    </tr>\n",
       "    <tr>\n",
       "      <th>Hisp</th>\n",
       "      <td>13121</td>\n",
       "      <td>2</td>\n",
       "      <td>NotHispanic</td>\n",
       "      <td>12083</td>\n",
       "      <td>NaN</td>\n",
       "      <td>NaN</td>\n",
       "      <td>NaN</td>\n",
       "      <td>NaN</td>\n",
       "      <td>NaN</td>\n",
       "      <td>NaN</td>\n",
       "      <td>NaN</td>\n",
       "    </tr>\n",
       "    <tr>\n",
       "      <th>MaritalStatus</th>\n",
       "      <td>13121</td>\n",
       "      <td>2</td>\n",
       "      <td>Married</td>\n",
       "      <td>8893</td>\n",
       "      <td>NaN</td>\n",
       "      <td>NaN</td>\n",
       "      <td>NaN</td>\n",
       "      <td>NaN</td>\n",
       "      <td>NaN</td>\n",
       "      <td>NaN</td>\n",
       "      <td>NaN</td>\n",
       "    </tr>\n",
       "    <tr>\n",
       "      <th>Nodeg</th>\n",
       "      <td>13121.0</td>\n",
       "      <td>NaN</td>\n",
       "      <td>NaN</td>\n",
       "      <td>NaN</td>\n",
       "      <td>0.322232</td>\n",
       "      <td>0.467349</td>\n",
       "      <td>0.0</td>\n",
       "      <td>0.0</td>\n",
       "      <td>0.0</td>\n",
       "      <td>1.0</td>\n",
       "      <td>1.0</td>\n",
       "    </tr>\n",
       "    <tr>\n",
       "      <th>Earnings_1974</th>\n",
       "      <td>13121.0</td>\n",
       "      <td>NaN</td>\n",
       "      <td>NaN</td>\n",
       "      <td>NaN</td>\n",
       "      <td>13011.609867</td>\n",
       "      <td>8749.490339</td>\n",
       "      <td>0.0</td>\n",
       "      <td>4659.14</td>\n",
       "      <td>13650.21</td>\n",
       "      <td>20844.64</td>\n",
       "      <td>25862.32</td>\n",
       "    </tr>\n",
       "    <tr>\n",
       "      <th>Earnings_1975</th>\n",
       "      <td>13121.0</td>\n",
       "      <td>NaN</td>\n",
       "      <td>NaN</td>\n",
       "      <td>NaN</td>\n",
       "      <td>12682.138238</td>\n",
       "      <td>8440.649578</td>\n",
       "      <td>0.0</td>\n",
       "      <td>4633.35</td>\n",
       "      <td>13269.87</td>\n",
       "      <td>20137.55</td>\n",
       "      <td>25243.55</td>\n",
       "    </tr>\n",
       "    <tr>\n",
       "      <th>Earnings_1978</th>\n",
       "      <td>13121.0</td>\n",
       "      <td>NaN</td>\n",
       "      <td>NaN</td>\n",
       "      <td>NaN</td>\n",
       "      <td>14271.210635</td>\n",
       "      <td>8988.2739</td>\n",
       "      <td>0.0</td>\n",
       "      <td>6283.29</td>\n",
       "      <td>15233.88</td>\n",
       "      <td>22856.0</td>\n",
       "      <td>25564.67</td>\n",
       "    </tr>\n",
       "  </tbody>\n",
       "</table>\n",
       "</div>"
      ],
      "text/plain": [
       "                 count unique          top   freq          mean          std  \\\n",
       "Age            13121.0    NaN          NaN    NaN     31.937429    10.959869   \n",
       "Eduacation       13121      5   HighSchool   5083           NaN          NaN   \n",
       "Race             13121      2     NotBlack  12089           NaN          NaN   \n",
       "Hisp             13121      2  NotHispanic  12083           NaN          NaN   \n",
       "MaritalStatus    13121      2      Married   8893           NaN          NaN   \n",
       "Nodeg          13121.0    NaN          NaN    NaN      0.322232     0.467349   \n",
       "Earnings_1974  13121.0    NaN          NaN    NaN  13011.609867  8749.490339   \n",
       "Earnings_1975  13121.0    NaN          NaN    NaN  12682.138238  8440.649578   \n",
       "Earnings_1978  13121.0    NaN          NaN    NaN  14271.210635    8988.2739   \n",
       "\n",
       "                min      25%       50%       75%       max  \n",
       "Age            16.0     23.0      29.0      40.0      55.0  \n",
       "Eduacation      NaN      NaN       NaN       NaN       NaN  \n",
       "Race            NaN      NaN       NaN       NaN       NaN  \n",
       "Hisp            NaN      NaN       NaN       NaN       NaN  \n",
       "MaritalStatus   NaN      NaN       NaN       NaN       NaN  \n",
       "Nodeg           0.0      0.0       0.0       1.0       1.0  \n",
       "Earnings_1974   0.0  4659.14  13650.21  20844.64  25862.32  \n",
       "Earnings_1975   0.0  4633.35  13269.87  20137.55  25243.55  \n",
       "Earnings_1978   0.0  6283.29  15233.88   22856.0  25564.67  "
      ]
     },
     "execution_count": 269,
     "metadata": {},
     "output_type": "execute_result"
    }
   ],
   "source": [
    "df.describe(include=\"all\").T"
   ]
  },
  {
   "cell_type": "code",
   "execution_count": 270,
   "metadata": {},
   "outputs": [
    {
     "name": "stdout",
     "output_type": "stream",
     "text": [
      "<class 'pandas.core.frame.DataFrame'>\n",
      "Int64Index: 13121 entries, 5834 to 3535\n",
      "Data columns (total 9 columns):\n",
      " #   Column         Non-Null Count  Dtype  \n",
      "---  ------         --------------  -----  \n",
      " 0   Age            13121 non-null  int64  \n",
      " 1   Eduacation     13121 non-null  object \n",
      " 2   Race           13121 non-null  object \n",
      " 3   Hisp           13121 non-null  object \n",
      " 4   MaritalStatus  13121 non-null  object \n",
      " 5   Nodeg          13121 non-null  int64  \n",
      " 6   Earnings_1974  13121 non-null  float64\n",
      " 7   Earnings_1975  13121 non-null  float64\n",
      " 8   Earnings_1978  13121 non-null  float64\n",
      "dtypes: float64(3), int64(2), object(4)\n",
      "memory usage: 1.0+ MB\n"
     ]
    }
   ],
   "source": [
    "df.info()"
   ]
  },
  {
   "cell_type": "markdown",
   "metadata": {},
   "source": [
    "## Part 1 - Age\n",
    "\n",
    "<ol>\n",
    "<li> Make and plot a Hist and Pmf for age.\n",
    "<li> What fraction of the people in the data are 51? What fraction are older than 51?\n",
    "<li> What is the median age? \n",
    "<li> Does the distribution of the sample data seem to mirror the working age population?\n",
    "</ol>"
   ]
  },
  {
   "cell_type": "markdown",
   "metadata": {},
   "source": [
    "#### Make and plot a Hist and Pmf for age."
   ]
  },
  {
   "cell_type": "code",
   "execution_count": 271,
   "metadata": {},
   "outputs": [],
   "source": [
    "agehist = thinkstats2.Hist(df['Age'], label='Age')"
   ]
  },
  {
   "cell_type": "code",
   "execution_count": null,
   "metadata": {},
   "outputs": [],
   "source": []
  },
  {
   "cell_type": "code",
   "execution_count": 272,
   "metadata": {},
   "outputs": [
    {
     "data": {
      "image/png": "[encoded data removed]",
      "text/plain": [
       "<Figure size 432x288 with 1 Axes>"
      ]
     },
     "metadata": {
      "needs_background": "light"
     },
     "output_type": "display_data"
    }
   ],
   "source": [
    "thinkplot.Hist(agehist)\n",
    "thinkplot.Config(xlabel='Age', ylabel='count')\n",
    "thinkplot.axvline(np.mean(agehist), color=\"red\")\n"
   ]
  },
  {
   "cell_type": "code",
   "execution_count": 273,
   "metadata": {},
   "outputs": [],
   "source": [
    "dfpmf = thinkstats2.Pmf(df[\"Age\"])"
   ]
  },
  {
   "cell_type": "code",
   "execution_count": 274,
   "metadata": {},
   "outputs": [
    {
     "data": {
      "image/png": "[encoded data removed]",
      "text/plain": [
       "<Figure size 864x432 with 1 Axes>"
      ]
     },
     "metadata": {
      "needs_background": "light"
     },
     "output_type": "display_data"
    },
    {
     "data": {
      "text/plain": [
       "<Figure size 576x432 with 0 Axes>"
      ]
     },
     "metadata": {},
     "output_type": "display_data"
    }
   ],
   "source": [
    "#Graph\n",
    "thinkplot.PrePlot(cols=2)\n",
    "thinkplot.Pmfs([dfpmf])\n",
    "#thinkplot.Show(xlabel=\"Age\", ylabel = \"Percentage\")\n",
    "thinkplot.Show(xlabel=\"Age\", ylabel = \"Share/Density/Percentage\")"
   ]
  },
  {
   "cell_type": "code",
   "execution_count": 275,
   "metadata": {},
   "outputs": [
    {
     "data": {
      "text/plain": [
       "<seaborn.axisgrid.FacetGrid at 0x1f9f6da89d0>"
      ]
     },
     "execution_count": 275,
     "metadata": {},
     "output_type": "execute_result"
    },
    {
     "data": {
      "image/png": "[encoded data removed]",
      "text/plain": [
       "<Figure size 360x360 with 1 Axes>"
      ]
     },
     "metadata": {
      "needs_background": "light"
     },
     "output_type": "display_data"
    }
   ],
   "source": [
    "sns.displot(df[\"Age\"], kde=True)"
   ]
  },
  {
   "cell_type": "code",
   "execution_count": null,
   "metadata": {},
   "outputs": [],
   "source": []
  },
  {
   "cell_type": "code",
   "execution_count": 276,
   "metadata": {},
   "outputs": [
    {
     "data": {
      "text/plain": [
       "count     1032.000000\n",
       "mean     11997.540291\n",
       "std       8767.174084\n",
       "min          0.000000\n",
       "25%       3514.035000\n",
       "50%      12214.150000\n",
       "75%      19578.767500\n",
       "max      25564.670000\n",
       "Name: Earnings_1978, dtype: float64"
      ]
     },
     "execution_count": 276,
     "metadata": {},
     "output_type": "execute_result"
    }
   ],
   "source": [
    "df2 = df[df['Race']==\"black\"]\n",
    "\n",
    "df2[\"Earnings_1978\"].describe()\n"
   ]
  },
  {
   "cell_type": "code",
   "execution_count": 277,
   "metadata": {},
   "outputs": [],
   "source": [
    "df3 = df2[[\"Earnings_1978\", \"Age\"]]"
   ]
  },
  {
   "cell_type": "code",
   "execution_count": null,
   "metadata": {},
   "outputs": [],
   "source": []
  },
  {
   "cell_type": "code",
   "execution_count": 278,
   "metadata": {},
   "outputs": [
    {
     "data": {
      "text/html": [
       "<div>\n",
       "<style scoped>\n",
       "    .dataframe tbody tr th:only-of-type {\n",
       "        vertical-align: middle;\n",
       "    }\n",
       "\n",
       "    .dataframe tbody tr th {\n",
       "        vertical-align: top;\n",
       "    }\n",
       "\n",
       "    .dataframe thead th {\n",
       "        text-align: right;\n",
       "    }\n",
       "</style>\n",
       "<table border=\"1\" class=\"dataframe\">\n",
       "  <thead>\n",
       "    <tr style=\"text-align: right;\">\n",
       "      <th></th>\n",
       "      <th>Earnings_1978</th>\n",
       "      <th>Age</th>\n",
       "    </tr>\n",
       "  </thead>\n",
       "  <tbody>\n",
       "    <tr>\n",
       "      <th>11021</th>\n",
       "      <td>0.00</td>\n",
       "      <td>26</td>\n",
       "    </tr>\n",
       "    <tr>\n",
       "      <th>13922</th>\n",
       "      <td>964.96</td>\n",
       "      <td>39</td>\n",
       "    </tr>\n",
       "    <tr>\n",
       "      <th>8042</th>\n",
       "      <td>5495.66</td>\n",
       "      <td>20</td>\n",
       "    </tr>\n",
       "    <tr>\n",
       "      <th>2593</th>\n",
       "      <td>54.68</td>\n",
       "      <td>17</td>\n",
       "    </tr>\n",
       "    <tr>\n",
       "      <th>2597</th>\n",
       "      <td>0.00</td>\n",
       "      <td>28</td>\n",
       "    </tr>\n",
       "  </tbody>\n",
       "</table>\n",
       "</div>"
      ],
      "text/plain": [
       "       Earnings_1978  Age\n",
       "11021           0.00   26\n",
       "13922         964.96   39\n",
       "8042         5495.66   20\n",
       "2593           54.68   17\n",
       "2597            0.00   28"
      ]
     },
     "execution_count": 278,
     "metadata": {},
     "output_type": "execute_result"
    }
   ],
   "source": [
    "df3.head()"
   ]
  },
  {
   "cell_type": "code",
   "execution_count": 279,
   "metadata": {},
   "outputs": [
    {
     "name": "stderr",
     "output_type": "stream",
     "text": [
      "C:\\Users\\toluw\\AppData\\Local\\Temp\\ipykernel_18364\\639177775.py:1: UserWarning: Boolean Series key will be reindexed to match DataFrame index.\n",
      "  out = df3[(df3[\"Age\"]<=20) & (df[\"Earnings_1978\"]>20000)]\n"
     ]
    }
   ],
   "source": [
    "out = df3[(df3[\"Age\"]<=20) & (df[\"Earnings_1978\"]>20000)]"
   ]
  },
  {
   "cell_type": "code",
   "execution_count": 280,
   "metadata": {},
   "outputs": [
    {
     "data": {
      "text/html": [
       "<div>\n",
       "<style scoped>\n",
       "    .dataframe tbody tr th:only-of-type {\n",
       "        vertical-align: middle;\n",
       "    }\n",
       "\n",
       "    .dataframe tbody tr th {\n",
       "        vertical-align: top;\n",
       "    }\n",
       "\n",
       "    .dataframe thead th {\n",
       "        text-align: right;\n",
       "    }\n",
       "</style>\n",
       "<table border=\"1\" class=\"dataframe\">\n",
       "  <thead>\n",
       "    <tr style=\"text-align: right;\">\n",
       "      <th></th>\n",
       "      <th>Age</th>\n",
       "      <th>Eduacation</th>\n",
       "      <th>Race</th>\n",
       "      <th>Hisp</th>\n",
       "      <th>MaritalStatus</th>\n",
       "      <th>Nodeg</th>\n",
       "      <th>Earnings_1974</th>\n",
       "      <th>Earnings_1975</th>\n",
       "      <th>Earnings_1978</th>\n",
       "    </tr>\n",
       "  </thead>\n",
       "  <tbody>\n",
       "    <tr>\n",
       "      <th>8978</th>\n",
       "      <td>20</td>\n",
       "      <td>HighSchool</td>\n",
       "      <td>NotBlack</td>\n",
       "      <td>NotHispanic</td>\n",
       "      <td>NotMarried</td>\n",
       "      <td>0</td>\n",
       "      <td>10352.77</td>\n",
       "      <td>9780.53</td>\n",
       "      <td>24206.64</td>\n",
       "    </tr>\n",
       "    <tr>\n",
       "      <th>14839</th>\n",
       "      <td>20</td>\n",
       "      <td>HighSchool</td>\n",
       "      <td>NotBlack</td>\n",
       "      <td>NotHispanic</td>\n",
       "      <td>NotMarried</td>\n",
       "      <td>0</td>\n",
       "      <td>13812.83</td>\n",
       "      <td>16650.00</td>\n",
       "      <td>24474.11</td>\n",
       "    </tr>\n",
       "    <tr>\n",
       "      <th>6030</th>\n",
       "      <td>20</td>\n",
       "      <td>LessThanHighSchool</td>\n",
       "      <td>NotBlack</td>\n",
       "      <td>NotHispanic</td>\n",
       "      <td>Married</td>\n",
       "      <td>1</td>\n",
       "      <td>14308.53</td>\n",
       "      <td>20576.18</td>\n",
       "      <td>24511.05</td>\n",
       "    </tr>\n",
       "    <tr>\n",
       "      <th>8707</th>\n",
       "      <td>20</td>\n",
       "      <td>HighSchool</td>\n",
       "      <td>NotBlack</td>\n",
       "      <td>NotHispanic</td>\n",
       "      <td>Married</td>\n",
       "      <td>0</td>\n",
       "      <td>12660.78</td>\n",
       "      <td>5682.48</td>\n",
       "      <td>24558.34</td>\n",
       "    </tr>\n",
       "    <tr>\n",
       "      <th>522</th>\n",
       "      <td>20</td>\n",
       "      <td>Intermediate</td>\n",
       "      <td>NotBlack</td>\n",
       "      <td>NotHispanic</td>\n",
       "      <td>Married</td>\n",
       "      <td>0</td>\n",
       "      <td>12384.53</td>\n",
       "      <td>13987.79</td>\n",
       "      <td>24576.07</td>\n",
       "    </tr>\n",
       "    <tr>\n",
       "      <th>2188</th>\n",
       "      <td>20</td>\n",
       "      <td>Intermediate</td>\n",
       "      <td>NotBlack</td>\n",
       "      <td>NotHispanic</td>\n",
       "      <td>NotMarried</td>\n",
       "      <td>0</td>\n",
       "      <td>3779.43</td>\n",
       "      <td>4633.35</td>\n",
       "      <td>24883.44</td>\n",
       "    </tr>\n",
       "    <tr>\n",
       "      <th>12595</th>\n",
       "      <td>20</td>\n",
       "      <td>HighSchool</td>\n",
       "      <td>NotBlack</td>\n",
       "      <td>NotHispanic</td>\n",
       "      <td>NotMarried</td>\n",
       "      <td>0</td>\n",
       "      <td>14332.04</td>\n",
       "      <td>13200.05</td>\n",
       "      <td>24884.92</td>\n",
       "    </tr>\n",
       "    <tr>\n",
       "      <th>12176</th>\n",
       "      <td>19</td>\n",
       "      <td>HighSchool</td>\n",
       "      <td>black</td>\n",
       "      <td>NotHispanic</td>\n",
       "      <td>NotMarried</td>\n",
       "      <td>0</td>\n",
       "      <td>2241.40</td>\n",
       "      <td>6629.56</td>\n",
       "      <td>24935.16</td>\n",
       "    </tr>\n",
       "    <tr>\n",
       "      <th>13606</th>\n",
       "      <td>20</td>\n",
       "      <td>HighSchool</td>\n",
       "      <td>NotBlack</td>\n",
       "      <td>NotHispanic</td>\n",
       "      <td>NotMarried</td>\n",
       "      <td>0</td>\n",
       "      <td>8799.07</td>\n",
       "      <td>15207.00</td>\n",
       "      <td>24942.55</td>\n",
       "    </tr>\n",
       "    <tr>\n",
       "      <th>12713</th>\n",
       "      <td>19</td>\n",
       "      <td>HighSchool</td>\n",
       "      <td>NotBlack</td>\n",
       "      <td>NotHispanic</td>\n",
       "      <td>Married</td>\n",
       "      <td>0</td>\n",
       "      <td>11773.23</td>\n",
       "      <td>24550.69</td>\n",
       "      <td>25009.04</td>\n",
       "    </tr>\n",
       "    <tr>\n",
       "      <th>9317</th>\n",
       "      <td>20</td>\n",
       "      <td>HighSchool</td>\n",
       "      <td>NotBlack</td>\n",
       "      <td>NotHispanic</td>\n",
       "      <td>NotMarried</td>\n",
       "      <td>0</td>\n",
       "      <td>8019.28</td>\n",
       "      <td>13416.68</td>\n",
       "      <td>25167.16</td>\n",
       "    </tr>\n",
       "    <tr>\n",
       "      <th>14718</th>\n",
       "      <td>20</td>\n",
       "      <td>HighSchool</td>\n",
       "      <td>NotBlack</td>\n",
       "      <td>NotHispanic</td>\n",
       "      <td>Married</td>\n",
       "      <td>0</td>\n",
       "      <td>12024.02</td>\n",
       "      <td>17380.45</td>\n",
       "      <td>25181.94</td>\n",
       "    </tr>\n",
       "    <tr>\n",
       "      <th>1549</th>\n",
       "      <td>20</td>\n",
       "      <td>Intermediate</td>\n",
       "      <td>NotBlack</td>\n",
       "      <td>NotHispanic</td>\n",
       "      <td>NotMarried</td>\n",
       "      <td>0</td>\n",
       "      <td>0.00</td>\n",
       "      <td>6398.61</td>\n",
       "      <td>25239.57</td>\n",
       "    </tr>\n",
       "    <tr>\n",
       "      <th>15441</th>\n",
       "      <td>20</td>\n",
       "      <td>HighSchool</td>\n",
       "      <td>NotBlack</td>\n",
       "      <td>NotHispanic</td>\n",
       "      <td>NotMarried</td>\n",
       "      <td>0</td>\n",
       "      <td>9261.45</td>\n",
       "      <td>11789.27</td>\n",
       "      <td>25239.57</td>\n",
       "    </tr>\n",
       "    <tr>\n",
       "      <th>11914</th>\n",
       "      <td>20</td>\n",
       "      <td>HighSchool</td>\n",
       "      <td>black</td>\n",
       "      <td>NotHispanic</td>\n",
       "      <td>NotMarried</td>\n",
       "      <td>0</td>\n",
       "      <td>16567.56</td>\n",
       "      <td>17292.73</td>\n",
       "      <td>25303.11</td>\n",
       "    </tr>\n",
       "    <tr>\n",
       "      <th>5396</th>\n",
       "      <td>20</td>\n",
       "      <td>HighSchool</td>\n",
       "      <td>NotBlack</td>\n",
       "      <td>NotHispanic</td>\n",
       "      <td>Married</td>\n",
       "      <td>0</td>\n",
       "      <td>9872.75</td>\n",
       "      <td>9039.34</td>\n",
       "      <td>25360.74</td>\n",
       "    </tr>\n",
       "    <tr>\n",
       "      <th>7264</th>\n",
       "      <td>19</td>\n",
       "      <td>HighSchool</td>\n",
       "      <td>NotBlack</td>\n",
       "      <td>NotHispanic</td>\n",
       "      <td>Married</td>\n",
       "      <td>0</td>\n",
       "      <td>1118.74</td>\n",
       "      <td>655.26</td>\n",
       "      <td>25419.85</td>\n",
       "    </tr>\n",
       "    <tr>\n",
       "      <th>8893</th>\n",
       "      <td>20</td>\n",
       "      <td>HighSchool</td>\n",
       "      <td>NotBlack</td>\n",
       "      <td>NotHispanic</td>\n",
       "      <td>NotMarried</td>\n",
       "      <td>0</td>\n",
       "      <td>8130.96</td>\n",
       "      <td>13166.03</td>\n",
       "      <td>25564.67</td>\n",
       "    </tr>\n",
       "    <tr>\n",
       "      <th>7838</th>\n",
       "      <td>20</td>\n",
       "      <td>Intermediate</td>\n",
       "      <td>NotBlack</td>\n",
       "      <td>NotHispanic</td>\n",
       "      <td>Married</td>\n",
       "      <td>0</td>\n",
       "      <td>8383.70</td>\n",
       "      <td>18610.40</td>\n",
       "      <td>25564.67</td>\n",
       "    </tr>\n",
       "    <tr>\n",
       "      <th>7123</th>\n",
       "      <td>20</td>\n",
       "      <td>HighSchool</td>\n",
       "      <td>NotBlack</td>\n",
       "      <td>NotHispanic</td>\n",
       "      <td>Married</td>\n",
       "      <td>0</td>\n",
       "      <td>8544.36</td>\n",
       "      <td>18193.26</td>\n",
       "      <td>25564.67</td>\n",
       "    </tr>\n",
       "    <tr>\n",
       "      <th>7065</th>\n",
       "      <td>20</td>\n",
       "      <td>HighSchool</td>\n",
       "      <td>NotBlack</td>\n",
       "      <td>NotHispanic</td>\n",
       "      <td>Married</td>\n",
       "      <td>0</td>\n",
       "      <td>19874.80</td>\n",
       "      <td>23207.95</td>\n",
       "      <td>25564.67</td>\n",
       "    </tr>\n",
       "    <tr>\n",
       "      <th>1000</th>\n",
       "      <td>19</td>\n",
       "      <td>HighSchool</td>\n",
       "      <td>NotBlack</td>\n",
       "      <td>NotHispanic</td>\n",
       "      <td>Married</td>\n",
       "      <td>0</td>\n",
       "      <td>10037.32</td>\n",
       "      <td>14949.19</td>\n",
       "      <td>25564.67</td>\n",
       "    </tr>\n",
       "    <tr>\n",
       "      <th>8747</th>\n",
       "      <td>19</td>\n",
       "      <td>LessThanHighSchool</td>\n",
       "      <td>NotBlack</td>\n",
       "      <td>NotHispanic</td>\n",
       "      <td>Married</td>\n",
       "      <td>1</td>\n",
       "      <td>14008.76</td>\n",
       "      <td>8378.71</td>\n",
       "      <td>25564.67</td>\n",
       "    </tr>\n",
       "    <tr>\n",
       "      <th>6723</th>\n",
       "      <td>20</td>\n",
       "      <td>HighSchool</td>\n",
       "      <td>NotBlack</td>\n",
       "      <td>NotHispanic</td>\n",
       "      <td>NotMarried</td>\n",
       "      <td>0</td>\n",
       "      <td>14232.11</td>\n",
       "      <td>12537.63</td>\n",
       "      <td>25564.67</td>\n",
       "    </tr>\n",
       "    <tr>\n",
       "      <th>4841</th>\n",
       "      <td>19</td>\n",
       "      <td>HighSchool</td>\n",
       "      <td>NotBlack</td>\n",
       "      <td>NotHispanic</td>\n",
       "      <td>Married</td>\n",
       "      <td>0</td>\n",
       "      <td>12319.87</td>\n",
       "      <td>10738.35</td>\n",
       "      <td>25564.67</td>\n",
       "    </tr>\n",
       "    <tr>\n",
       "      <th>7328</th>\n",
       "      <td>20</td>\n",
       "      <td>HighSchool</td>\n",
       "      <td>NotBlack</td>\n",
       "      <td>NotHispanic</td>\n",
       "      <td>Married</td>\n",
       "      <td>0</td>\n",
       "      <td>15787.77</td>\n",
       "      <td>24056.56</td>\n",
       "      <td>25564.67</td>\n",
       "    </tr>\n",
       "    <tr>\n",
       "      <th>12668</th>\n",
       "      <td>20</td>\n",
       "      <td>HighSchool</td>\n",
       "      <td>NotBlack</td>\n",
       "      <td>NotHispanic</td>\n",
       "      <td>NotMarried</td>\n",
       "      <td>0</td>\n",
       "      <td>8062.38</td>\n",
       "      <td>2083.94</td>\n",
       "      <td>25564.67</td>\n",
       "    </tr>\n",
       "    <tr>\n",
       "      <th>10154</th>\n",
       "      <td>20</td>\n",
       "      <td>HighSchool</td>\n",
       "      <td>NotBlack</td>\n",
       "      <td>NotHispanic</td>\n",
       "      <td>NotMarried</td>\n",
       "      <td>0</td>\n",
       "      <td>12752.87</td>\n",
       "      <td>19944.19</td>\n",
       "      <td>25564.67</td>\n",
       "    </tr>\n",
       "    <tr>\n",
       "      <th>11866</th>\n",
       "      <td>19</td>\n",
       "      <td>HighSchool</td>\n",
       "      <td>NotBlack</td>\n",
       "      <td>NotHispanic</td>\n",
       "      <td>Married</td>\n",
       "      <td>0</td>\n",
       "      <td>15617.32</td>\n",
       "      <td>25243.55</td>\n",
       "      <td>25564.67</td>\n",
       "    </tr>\n",
       "    <tr>\n",
       "      <th>2737</th>\n",
       "      <td>19</td>\n",
       "      <td>HighSchool</td>\n",
       "      <td>NotBlack</td>\n",
       "      <td>NotHispanic</td>\n",
       "      <td>NotMarried</td>\n",
       "      <td>0</td>\n",
       "      <td>10319.46</td>\n",
       "      <td>25243.55</td>\n",
       "      <td>25564.67</td>\n",
       "    </tr>\n",
       "    <tr>\n",
       "      <th>7741</th>\n",
       "      <td>20</td>\n",
       "      <td>PostGraduate</td>\n",
       "      <td>NotBlack</td>\n",
       "      <td>NotHispanic</td>\n",
       "      <td>Married</td>\n",
       "      <td>0</td>\n",
       "      <td>19359.52</td>\n",
       "      <td>21014.81</td>\n",
       "      <td>25564.67</td>\n",
       "    </tr>\n",
       "    <tr>\n",
       "      <th>8939</th>\n",
       "      <td>19</td>\n",
       "      <td>LessThanHighSchool</td>\n",
       "      <td>NotBlack</td>\n",
       "      <td>NotHispanic</td>\n",
       "      <td>NotMarried</td>\n",
       "      <td>1</td>\n",
       "      <td>7976.18</td>\n",
       "      <td>22781.85</td>\n",
       "      <td>25564.67</td>\n",
       "    </tr>\n",
       "    <tr>\n",
       "      <th>7222</th>\n",
       "      <td>20</td>\n",
       "      <td>HighSchool</td>\n",
       "      <td>NotBlack</td>\n",
       "      <td>NotHispanic</td>\n",
       "      <td>Married</td>\n",
       "      <td>0</td>\n",
       "      <td>23309.40</td>\n",
       "      <td>22456.02</td>\n",
       "      <td>25564.67</td>\n",
       "    </tr>\n",
       "    <tr>\n",
       "      <th>9447</th>\n",
       "      <td>19</td>\n",
       "      <td>Intermediate</td>\n",
       "      <td>NotBlack</td>\n",
       "      <td>NotHispanic</td>\n",
       "      <td>Married</td>\n",
       "      <td>0</td>\n",
       "      <td>0.00</td>\n",
       "      <td>5630.56</td>\n",
       "      <td>25564.67</td>\n",
       "    </tr>\n",
       "    <tr>\n",
       "      <th>13121</th>\n",
       "      <td>19</td>\n",
       "      <td>HighSchool</td>\n",
       "      <td>NotBlack</td>\n",
       "      <td>NotHispanic</td>\n",
       "      <td>NotMarried</td>\n",
       "      <td>0</td>\n",
       "      <td>321.32</td>\n",
       "      <td>159.34</td>\n",
       "      <td>25564.67</td>\n",
       "    </tr>\n",
       "    <tr>\n",
       "      <th>5300</th>\n",
       "      <td>19</td>\n",
       "      <td>Intermediate</td>\n",
       "      <td>NotBlack</td>\n",
       "      <td>NotHispanic</td>\n",
       "      <td>NotMarried</td>\n",
       "      <td>0</td>\n",
       "      <td>397.73</td>\n",
       "      <td>3526.94</td>\n",
       "      <td>25564.67</td>\n",
       "    </tr>\n",
       "    <tr>\n",
       "      <th>5686</th>\n",
       "      <td>19</td>\n",
       "      <td>HighSchool</td>\n",
       "      <td>NotBlack</td>\n",
       "      <td>NotHispanic</td>\n",
       "      <td>NotMarried</td>\n",
       "      <td>0</td>\n",
       "      <td>476.10</td>\n",
       "      <td>5736.19</td>\n",
       "      <td>25564.67</td>\n",
       "    </tr>\n",
       "    <tr>\n",
       "      <th>12769</th>\n",
       "      <td>19</td>\n",
       "      <td>HighSchool</td>\n",
       "      <td>NotBlack</td>\n",
       "      <td>NotHispanic</td>\n",
       "      <td>NotMarried</td>\n",
       "      <td>0</td>\n",
       "      <td>858.16</td>\n",
       "      <td>2954.03</td>\n",
       "      <td>25564.67</td>\n",
       "    </tr>\n",
       "    <tr>\n",
       "      <th>2970</th>\n",
       "      <td>19</td>\n",
       "      <td>HighSchool</td>\n",
       "      <td>NotBlack</td>\n",
       "      <td>NotHispanic</td>\n",
       "      <td>NotMarried</td>\n",
       "      <td>0</td>\n",
       "      <td>973.76</td>\n",
       "      <td>617.66</td>\n",
       "      <td>25564.67</td>\n",
       "    </tr>\n",
       "    <tr>\n",
       "      <th>7612</th>\n",
       "      <td>19</td>\n",
       "      <td>LessThanHighSchool</td>\n",
       "      <td>NotBlack</td>\n",
       "      <td>NotHispanic</td>\n",
       "      <td>NotMarried</td>\n",
       "      <td>1</td>\n",
       "      <td>2080.74</td>\n",
       "      <td>8774.37</td>\n",
       "      <td>25564.67</td>\n",
       "    </tr>\n",
       "    <tr>\n",
       "      <th>10679</th>\n",
       "      <td>19</td>\n",
       "      <td>LessThanHighSchool</td>\n",
       "      <td>NotBlack</td>\n",
       "      <td>NotHispanic</td>\n",
       "      <td>NotMarried</td>\n",
       "      <td>1</td>\n",
       "      <td>2466.72</td>\n",
       "      <td>0.00</td>\n",
       "      <td>25564.67</td>\n",
       "    </tr>\n",
       "    <tr>\n",
       "      <th>6404</th>\n",
       "      <td>20</td>\n",
       "      <td>Intermediate</td>\n",
       "      <td>NotBlack</td>\n",
       "      <td>NotHispanic</td>\n",
       "      <td>NotMarried</td>\n",
       "      <td>0</td>\n",
       "      <td>3671.67</td>\n",
       "      <td>1869.10</td>\n",
       "      <td>25564.67</td>\n",
       "    </tr>\n",
       "    <tr>\n",
       "      <th>8844</th>\n",
       "      <td>19</td>\n",
       "      <td>HighSchool</td>\n",
       "      <td>NotBlack</td>\n",
       "      <td>NotHispanic</td>\n",
       "      <td>NotMarried</td>\n",
       "      <td>0</td>\n",
       "      <td>4335.86</td>\n",
       "      <td>6651.05</td>\n",
       "      <td>25564.67</td>\n",
       "    </tr>\n",
       "    <tr>\n",
       "      <th>9089</th>\n",
       "      <td>20</td>\n",
       "      <td>HighSchool</td>\n",
       "      <td>NotBlack</td>\n",
       "      <td>NotHispanic</td>\n",
       "      <td>Married</td>\n",
       "      <td>0</td>\n",
       "      <td>4410.31</td>\n",
       "      <td>0.00</td>\n",
       "      <td>25564.67</td>\n",
       "    </tr>\n",
       "    <tr>\n",
       "      <th>801</th>\n",
       "      <td>20</td>\n",
       "      <td>LessThanHighSchool</td>\n",
       "      <td>NotBlack</td>\n",
       "      <td>NotHispanic</td>\n",
       "      <td>Married</td>\n",
       "      <td>1</td>\n",
       "      <td>4545.50</td>\n",
       "      <td>10244.23</td>\n",
       "      <td>25564.67</td>\n",
       "    </tr>\n",
       "    <tr>\n",
       "      <th>14459</th>\n",
       "      <td>20</td>\n",
       "      <td>HighSchool</td>\n",
       "      <td>NotBlack</td>\n",
       "      <td>NotHispanic</td>\n",
       "      <td>NotMarried</td>\n",
       "      <td>0</td>\n",
       "      <td>4962.82</td>\n",
       "      <td>4606.50</td>\n",
       "      <td>25564.67</td>\n",
       "    </tr>\n",
       "    <tr>\n",
       "      <th>5677</th>\n",
       "      <td>20</td>\n",
       "      <td>Intermediate</td>\n",
       "      <td>NotBlack</td>\n",
       "      <td>NotHispanic</td>\n",
       "      <td>NotMarried</td>\n",
       "      <td>0</td>\n",
       "      <td>4978.50</td>\n",
       "      <td>5220.58</td>\n",
       "      <td>25564.67</td>\n",
       "    </tr>\n",
       "    <tr>\n",
       "      <th>1762</th>\n",
       "      <td>20</td>\n",
       "      <td>Intermediate</td>\n",
       "      <td>black</td>\n",
       "      <td>NotHispanic</td>\n",
       "      <td>NotMarried</td>\n",
       "      <td>0</td>\n",
       "      <td>5094.09</td>\n",
       "      <td>4388.08</td>\n",
       "      <td>25564.67</td>\n",
       "    </tr>\n",
       "    <tr>\n",
       "      <th>7857</th>\n",
       "      <td>20</td>\n",
       "      <td>Intermediate</td>\n",
       "      <td>NotBlack</td>\n",
       "      <td>hispanic</td>\n",
       "      <td>NotMarried</td>\n",
       "      <td>0</td>\n",
       "      <td>5591.75</td>\n",
       "      <td>6837.24</td>\n",
       "      <td>25564.67</td>\n",
       "    </tr>\n",
       "    <tr>\n",
       "      <th>5748</th>\n",
       "      <td>20</td>\n",
       "      <td>HighSchool</td>\n",
       "      <td>NotBlack</td>\n",
       "      <td>NotHispanic</td>\n",
       "      <td>NotMarried</td>\n",
       "      <td>0</td>\n",
       "      <td>5811.18</td>\n",
       "      <td>14336.90</td>\n",
       "      <td>25564.67</td>\n",
       "    </tr>\n",
       "    <tr>\n",
       "      <th>15374</th>\n",
       "      <td>19</td>\n",
       "      <td>HighSchool</td>\n",
       "      <td>NotBlack</td>\n",
       "      <td>NotHispanic</td>\n",
       "      <td>NotMarried</td>\n",
       "      <td>0</td>\n",
       "      <td>6054.13</td>\n",
       "      <td>9628.36</td>\n",
       "      <td>25564.67</td>\n",
       "    </tr>\n",
       "    <tr>\n",
       "      <th>7147</th>\n",
       "      <td>20</td>\n",
       "      <td>Intermediate</td>\n",
       "      <td>NotBlack</td>\n",
       "      <td>NotHispanic</td>\n",
       "      <td>NotMarried</td>\n",
       "      <td>0</td>\n",
       "      <td>6371.54</td>\n",
       "      <td>12233.27</td>\n",
       "      <td>25564.67</td>\n",
       "    </tr>\n",
       "    <tr>\n",
       "      <th>6585</th>\n",
       "      <td>20</td>\n",
       "      <td>HighSchool</td>\n",
       "      <td>NotBlack</td>\n",
       "      <td>NotHispanic</td>\n",
       "      <td>NotMarried</td>\n",
       "      <td>0</td>\n",
       "      <td>6438.15</td>\n",
       "      <td>10357.02</td>\n",
       "      <td>25564.67</td>\n",
       "    </tr>\n",
       "    <tr>\n",
       "      <th>6898</th>\n",
       "      <td>19</td>\n",
       "      <td>HighSchool</td>\n",
       "      <td>NotBlack</td>\n",
       "      <td>NotHispanic</td>\n",
       "      <td>Married</td>\n",
       "      <td>0</td>\n",
       "      <td>6671.30</td>\n",
       "      <td>15921.34</td>\n",
       "      <td>25564.67</td>\n",
       "    </tr>\n",
       "    <tr>\n",
       "      <th>4631</th>\n",
       "      <td>20</td>\n",
       "      <td>HighSchool</td>\n",
       "      <td>NotBlack</td>\n",
       "      <td>NotHispanic</td>\n",
       "      <td>Married</td>\n",
       "      <td>0</td>\n",
       "      <td>6769.27</td>\n",
       "      <td>19446.48</td>\n",
       "      <td>25564.67</td>\n",
       "    </tr>\n",
       "    <tr>\n",
       "      <th>620</th>\n",
       "      <td>19</td>\n",
       "      <td>HighSchool</td>\n",
       "      <td>NotBlack</td>\n",
       "      <td>NotHispanic</td>\n",
       "      <td>Married</td>\n",
       "      <td>0</td>\n",
       "      <td>7100.38</td>\n",
       "      <td>19654.16</td>\n",
       "      <td>25564.67</td>\n",
       "    </tr>\n",
       "    <tr>\n",
       "      <th>4936</th>\n",
       "      <td>20</td>\n",
       "      <td>HighSchool</td>\n",
       "      <td>NotBlack</td>\n",
       "      <td>NotHispanic</td>\n",
       "      <td>NotMarried</td>\n",
       "      <td>0</td>\n",
       "      <td>7425.62</td>\n",
       "      <td>6087.10</td>\n",
       "      <td>25564.67</td>\n",
       "    </tr>\n",
       "    <tr>\n",
       "      <th>530</th>\n",
       "      <td>19</td>\n",
       "      <td>HighSchool</td>\n",
       "      <td>NotBlack</td>\n",
       "      <td>NotHispanic</td>\n",
       "      <td>Married</td>\n",
       "      <td>0</td>\n",
       "      <td>7676.41</td>\n",
       "      <td>11902.06</td>\n",
       "      <td>25564.67</td>\n",
       "    </tr>\n",
       "    <tr>\n",
       "      <th>9892</th>\n",
       "      <td>19</td>\n",
       "      <td>LessThanHighSchool</td>\n",
       "      <td>NotBlack</td>\n",
       "      <td>NotHispanic</td>\n",
       "      <td>Married</td>\n",
       "      <td>1</td>\n",
       "      <td>8031.04</td>\n",
       "      <td>13334.32</td>\n",
       "      <td>25564.67</td>\n",
       "    </tr>\n",
       "    <tr>\n",
       "      <th>6558</th>\n",
       "      <td>19</td>\n",
       "      <td>LessThanHighSchool</td>\n",
       "      <td>black</td>\n",
       "      <td>NotHispanic</td>\n",
       "      <td>NotMarried</td>\n",
       "      <td>1</td>\n",
       "      <td>24868.97</td>\n",
       "      <td>23666.27</td>\n",
       "      <td>25564.67</td>\n",
       "    </tr>\n",
       "  </tbody>\n",
       "</table>\n",
       "</div>"
      ],
      "text/plain": [
       "       Age          Eduacation      Race         Hisp MaritalStatus  Nodeg  \\\n",
       "8978    20          HighSchool  NotBlack  NotHispanic    NotMarried      0   \n",
       "14839   20          HighSchool  NotBlack  NotHispanic    NotMarried      0   \n",
       "6030    20  LessThanHighSchool  NotBlack  NotHispanic       Married      1   \n",
       "8707    20          HighSchool  NotBlack  NotHispanic       Married      0   \n",
       "522     20        Intermediate  NotBlack  NotHispanic       Married      0   \n",
       "2188    20        Intermediate  NotBlack  NotHispanic    NotMarried      0   \n",
       "12595   20          HighSchool  NotBlack  NotHispanic    NotMarried      0   \n",
       "12176   19          HighSchool     black  NotHispanic    NotMarried      0   \n",
       "13606   20          HighSchool  NotBlack  NotHispanic    NotMarried      0   \n",
       "12713   19          HighSchool  NotBlack  NotHispanic       Married      0   \n",
       "9317    20          HighSchool  NotBlack  NotHispanic    NotMarried      0   \n",
       "14718   20          HighSchool  NotBlack  NotHispanic       Married      0   \n",
       "1549    20        Intermediate  NotBlack  NotHispanic    NotMarried      0   \n",
       "15441   20          HighSchool  NotBlack  NotHispanic    NotMarried      0   \n",
       "11914   20          HighSchool     black  NotHispanic    NotMarried      0   \n",
       "5396    20          HighSchool  NotBlack  NotHispanic       Married      0   \n",
       "7264    19          HighSchool  NotBlack  NotHispanic       Married      0   \n",
       "8893    20          HighSchool  NotBlack  NotHispanic    NotMarried      0   \n",
       "7838    20        Intermediate  NotBlack  NotHispanic       Married      0   \n",
       "7123    20          HighSchool  NotBlack  NotHispanic       Married      0   \n",
       "7065    20          HighSchool  NotBlack  NotHispanic       Married      0   \n",
       "1000    19          HighSchool  NotBlack  NotHispanic       Married      0   \n",
       "8747    19  LessThanHighSchool  NotBlack  NotHispanic       Married      1   \n",
       "6723    20          HighSchool  NotBlack  NotHispanic    NotMarried      0   \n",
       "4841    19          HighSchool  NotBlack  NotHispanic       Married      0   \n",
       "7328    20          HighSchool  NotBlack  NotHispanic       Married      0   \n",
       "12668   20          HighSchool  NotBlack  NotHispanic    NotMarried      0   \n",
       "10154   20          HighSchool  NotBlack  NotHispanic    NotMarried      0   \n",
       "11866   19          HighSchool  NotBlack  NotHispanic       Married      0   \n",
       "2737    19          HighSchool  NotBlack  NotHispanic    NotMarried      0   \n",
       "7741    20        PostGraduate  NotBlack  NotHispanic       Married      0   \n",
       "8939    19  LessThanHighSchool  NotBlack  NotHispanic    NotMarried      1   \n",
       "7222    20          HighSchool  NotBlack  NotHispanic       Married      0   \n",
       "9447    19        Intermediate  NotBlack  NotHispanic       Married      0   \n",
       "13121   19          HighSchool  NotBlack  NotHispanic    NotMarried      0   \n",
       "5300    19        Intermediate  NotBlack  NotHispanic    NotMarried      0   \n",
       "5686    19          HighSchool  NotBlack  NotHispanic    NotMarried      0   \n",
       "12769   19          HighSchool  NotBlack  NotHispanic    NotMarried      0   \n",
       "2970    19          HighSchool  NotBlack  NotHispanic    NotMarried      0   \n",
       "7612    19  LessThanHighSchool  NotBlack  NotHispanic    NotMarried      1   \n",
       "10679   19  LessThanHighSchool  NotBlack  NotHispanic    NotMarried      1   \n",
       "6404    20        Intermediate  NotBlack  NotHispanic    NotMarried      0   \n",
       "8844    19          HighSchool  NotBlack  NotHispanic    NotMarried      0   \n",
       "9089    20          HighSchool  NotBlack  NotHispanic       Married      0   \n",
       "801     20  LessThanHighSchool  NotBlack  NotHispanic       Married      1   \n",
       "14459   20          HighSchool  NotBlack  NotHispanic    NotMarried      0   \n",
       "5677    20        Intermediate  NotBlack  NotHispanic    NotMarried      0   \n",
       "1762    20        Intermediate     black  NotHispanic    NotMarried      0   \n",
       "7857    20        Intermediate  NotBlack     hispanic    NotMarried      0   \n",
       "5748    20          HighSchool  NotBlack  NotHispanic    NotMarried      0   \n",
       "15374   19          HighSchool  NotBlack  NotHispanic    NotMarried      0   \n",
       "7147    20        Intermediate  NotBlack  NotHispanic    NotMarried      0   \n",
       "6585    20          HighSchool  NotBlack  NotHispanic    NotMarried      0   \n",
       "6898    19          HighSchool  NotBlack  NotHispanic       Married      0   \n",
       "4631    20          HighSchool  NotBlack  NotHispanic       Married      0   \n",
       "620     19          HighSchool  NotBlack  NotHispanic       Married      0   \n",
       "4936    20          HighSchool  NotBlack  NotHispanic    NotMarried      0   \n",
       "530     19          HighSchool  NotBlack  NotHispanic       Married      0   \n",
       "9892    19  LessThanHighSchool  NotBlack  NotHispanic       Married      1   \n",
       "6558    19  LessThanHighSchool     black  NotHispanic    NotMarried      1   \n",
       "\n",
       "       Earnings_1974  Earnings_1975  Earnings_1978  \n",
       "8978        10352.77        9780.53       24206.64  \n",
       "14839       13812.83       16650.00       24474.11  \n",
       "6030        14308.53       20576.18       24511.05  \n",
       "8707        12660.78        5682.48       24558.34  \n",
       "522         12384.53       13987.79       24576.07  \n",
       "2188         3779.43        4633.35       24883.44  \n",
       "12595       14332.04       13200.05       24884.92  \n",
       "12176        2241.40        6629.56       24935.16  \n",
       "13606        8799.07       15207.00       24942.55  \n",
       "12713       11773.23       24550.69       25009.04  \n",
       "9317         8019.28       13416.68       25167.16  \n",
       "14718       12024.02       17380.45       25181.94  \n",
       "1549            0.00        6398.61       25239.57  \n",
       "15441        9261.45       11789.27       25239.57  \n",
       "11914       16567.56       17292.73       25303.11  \n",
       "5396         9872.75        9039.34       25360.74  \n",
       "7264         1118.74         655.26       25419.85  \n",
       "8893         8130.96       13166.03       25564.67  \n",
       "7838         8383.70       18610.40       25564.67  \n",
       "7123         8544.36       18193.26       25564.67  \n",
       "7065        19874.80       23207.95       25564.67  \n",
       "1000        10037.32       14949.19       25564.67  \n",
       "8747        14008.76        8378.71       25564.67  \n",
       "6723        14232.11       12537.63       25564.67  \n",
       "4841        12319.87       10738.35       25564.67  \n",
       "7328        15787.77       24056.56       25564.67  \n",
       "12668        8062.38        2083.94       25564.67  \n",
       "10154       12752.87       19944.19       25564.67  \n",
       "11866       15617.32       25243.55       25564.67  \n",
       "2737        10319.46       25243.55       25564.67  \n",
       "7741        19359.52       21014.81       25564.67  \n",
       "8939         7976.18       22781.85       25564.67  \n",
       "7222        23309.40       22456.02       25564.67  \n",
       "9447            0.00        5630.56       25564.67  \n",
       "13121         321.32         159.34       25564.67  \n",
       "5300          397.73        3526.94       25564.67  \n",
       "5686          476.10        5736.19       25564.67  \n",
       "12769         858.16        2954.03       25564.67  \n",
       "2970          973.76         617.66       25564.67  \n",
       "7612         2080.74        8774.37       25564.67  \n",
       "10679        2466.72           0.00       25564.67  \n",
       "6404         3671.67        1869.10       25564.67  \n",
       "8844         4335.86        6651.05       25564.67  \n",
       "9089         4410.31           0.00       25564.67  \n",
       "801          4545.50       10244.23       25564.67  \n",
       "14459        4962.82        4606.50       25564.67  \n",
       "5677         4978.50        5220.58       25564.67  \n",
       "1762         5094.09        4388.08       25564.67  \n",
       "7857         5591.75        6837.24       25564.67  \n",
       "5748         5811.18       14336.90       25564.67  \n",
       "15374        6054.13        9628.36       25564.67  \n",
       "7147         6371.54       12233.27       25564.67  \n",
       "6585         6438.15       10357.02       25564.67  \n",
       "6898         6671.30       15921.34       25564.67  \n",
       "4631         6769.27       19446.48       25564.67  \n",
       "620          7100.38       19654.16       25564.67  \n",
       "4936         7425.62        6087.10       25564.67  \n",
       "530          7676.41       11902.06       25564.67  \n",
       "9892         8031.04       13334.32       25564.67  \n",
       "6558        24868.97       23666.27       25564.67  "
      ]
     },
     "execution_count": 280,
     "metadata": {},
     "output_type": "execute_result"
    }
   ],
   "source": [
    "df[(df[\"Age\"]>18) & (df[\"Age\"]<=20) & (df[\"Earnings_1978\"]>=24000)].sort_values(\"Earnings_1978\")"
   ]
  },
  {
   "cell_type": "code",
   "execution_count": 281,
   "metadata": {},
   "outputs": [
    {
     "data": {
      "text/plain": [
       "Earnings_1978  Age\n",
       "20243.38       18     1\n",
       "24935.16       19     1\n",
       "25303.11       20     1\n",
       "25564.67       18     1\n",
       "               19     1\n",
       "               20     1\n",
       "dtype: int64"
      ]
     },
     "execution_count": 281,
     "metadata": {},
     "output_type": "execute_result"
    }
   ],
   "source": [
    "out.value_counts()"
   ]
  },
  {
   "cell_type": "code",
   "execution_count": 282,
   "metadata": {},
   "outputs": [
    {
     "name": "stdout",
     "output_type": "stream",
     "text": [
      "<class 'pandas.core.frame.DataFrame'>\n",
      "Int64Index: 6 entries, 3101 to 6558\n",
      "Data columns (total 2 columns):\n",
      " #   Column         Non-Null Count  Dtype  \n",
      "---  ------         --------------  -----  \n",
      " 0   Earnings_1978  6 non-null      float64\n",
      " 1   Age            6 non-null      int64  \n",
      "dtypes: float64(1), int64(1)\n",
      "memory usage: 144.0 bytes\n"
     ]
    }
   ],
   "source": [
    "out.info()"
   ]
  },
  {
   "cell_type": "code",
   "execution_count": null,
   "metadata": {},
   "outputs": [],
   "source": []
  },
  {
   "cell_type": "code",
   "execution_count": 283,
   "metadata": {},
   "outputs": [],
   "source": [
    "df3_1 = df2[[\"Earnings_1978\", \"Eduacation\"]]"
   ]
  },
  {
   "cell_type": "code",
   "execution_count": 284,
   "metadata": {},
   "outputs": [
    {
     "data": {
      "text/plain": [
       "<AxesSubplot:xlabel='Age'>"
      ]
     },
     "execution_count": 284,
     "metadata": {},
     "output_type": "execute_result"
    },
    {
     "data": {
      "image/png": "[encoded data removed]",
      "text/plain": [
       "<Figure size 432x288 with 1 Axes>"
      ]
     },
     "metadata": {
      "needs_background": "light"
     },
     "output_type": "display_data"
    }
   ],
   "source": [
    "df3.groupby('Age').count().plot.bar()"
   ]
  },
  {
   "cell_type": "code",
   "execution_count": 285,
   "metadata": {},
   "outputs": [
    {
     "data": {
      "text/plain": [
       "<AxesSubplot:xlabel='Eduacation'>"
      ]
     },
     "execution_count": 285,
     "metadata": {},
     "output_type": "execute_result"
    },
    {
     "data": {
      "image/png": "[encoded data removed]",
      "text/plain": [
       "<Figure size 432x288 with 1 Axes>"
      ]
     },
     "metadata": {
      "needs_background": "light"
     },
     "output_type": "display_data"
    }
   ],
   "source": [
    "df3_1.groupby('Eduacation').count().plot.bar()"
   ]
  },
  {
   "cell_type": "code",
   "execution_count": 286,
   "metadata": {},
   "outputs": [
    {
     "data": {
      "text/html": [
       "<div>\n",
       "<style scoped>\n",
       "    .dataframe tbody tr th:only-of-type {\n",
       "        vertical-align: middle;\n",
       "    }\n",
       "\n",
       "    .dataframe tbody tr th {\n",
       "        vertical-align: top;\n",
       "    }\n",
       "\n",
       "    .dataframe thead th {\n",
       "        text-align: right;\n",
       "    }\n",
       "</style>\n",
       "<table border=\"1\" class=\"dataframe\">\n",
       "  <thead>\n",
       "    <tr style=\"text-align: right;\">\n",
       "      <th></th>\n",
       "      <th>Earnings_1978</th>\n",
       "      <th>Age</th>\n",
       "    </tr>\n",
       "  </thead>\n",
       "  <tbody>\n",
       "    <tr>\n",
       "      <th>count</th>\n",
       "      <td>1032.000000</td>\n",
       "      <td>1032.000000</td>\n",
       "    </tr>\n",
       "    <tr>\n",
       "      <th>mean</th>\n",
       "      <td>11997.540291</td>\n",
       "      <td>31.720930</td>\n",
       "    </tr>\n",
       "    <tr>\n",
       "      <th>std</th>\n",
       "      <td>8767.174084</td>\n",
       "      <td>10.830841</td>\n",
       "    </tr>\n",
       "    <tr>\n",
       "      <th>min</th>\n",
       "      <td>0.000000</td>\n",
       "      <td>16.000000</td>\n",
       "    </tr>\n",
       "    <tr>\n",
       "      <th>25%</th>\n",
       "      <td>3514.035000</td>\n",
       "      <td>23.000000</td>\n",
       "    </tr>\n",
       "    <tr>\n",
       "      <th>50%</th>\n",
       "      <td>12214.150000</td>\n",
       "      <td>29.000000</td>\n",
       "    </tr>\n",
       "    <tr>\n",
       "      <th>75%</th>\n",
       "      <td>19578.767500</td>\n",
       "      <td>39.000000</td>\n",
       "    </tr>\n",
       "    <tr>\n",
       "      <th>max</th>\n",
       "      <td>25564.670000</td>\n",
       "      <td>55.000000</td>\n",
       "    </tr>\n",
       "  </tbody>\n",
       "</table>\n",
       "</div>"
      ],
      "text/plain": [
       "       Earnings_1978          Age\n",
       "count    1032.000000  1032.000000\n",
       "mean    11997.540291    31.720930\n",
       "std      8767.174084    10.830841\n",
       "min         0.000000    16.000000\n",
       "25%      3514.035000    23.000000\n",
       "50%     12214.150000    29.000000\n",
       "75%     19578.767500    39.000000\n",
       "max     25564.670000    55.000000"
      ]
     },
     "execution_count": 286,
     "metadata": {},
     "output_type": "execute_result"
    }
   ],
   "source": [
    "df3.describe()"
   ]
  },
  {
   "cell_type": "code",
   "execution_count": 287,
   "metadata": {},
   "outputs": [
    {
     "data": {
      "text/plain": [
       "array([[<AxesSubplot:title={'center':'Earnings_1978'}>,\n",
       "        <AxesSubplot:title={'center':'Age'}>]], dtype=object)"
      ]
     },
     "execution_count": 287,
     "metadata": {},
     "output_type": "execute_result"
    },
    {
     "data": {
      "image/png": "[encoded data removed]",
      "text/plain": [
       "<Figure size 432x288 with 2 Axes>"
      ]
     },
     "metadata": {
      "needs_background": "light"
     },
     "output_type": "display_data"
    }
   ],
   "source": [
    "df3.hist()"
   ]
  },
  {
   "cell_type": "code",
   "execution_count": null,
   "metadata": {},
   "outputs": [],
   "source": []
  },
  {
   "cell_type": "code",
   "execution_count": 288,
   "metadata": {},
   "outputs": [
    {
     "data": {
      "text/plain": [
       "count    13121.000000\n",
       "mean     14271.210635\n",
       "std       8988.273900\n",
       "min          0.000000\n",
       "25%       6283.290000\n",
       "50%      15233.880000\n",
       "75%      22856.000000\n",
       "max      25564.670000\n",
       "Name: Earnings_1978, dtype: float64"
      ]
     },
     "execution_count": 288,
     "metadata": {},
     "output_type": "execute_result"
    }
   ],
   "source": [
    "df['Earnings_1978'].describe()"
   ]
  },
  {
   "cell_type": "code",
   "execution_count": 289,
   "metadata": {},
   "outputs": [
    {
     "data": {
      "text/plain": [
       "15233.88"
      ]
     },
     "execution_count": 289,
     "metadata": {},
     "output_type": "execute_result"
    }
   ],
   "source": [
    "df['Earnings_1978'].median()"
   ]
  },
  {
   "cell_type": "code",
   "execution_count": 290,
   "metadata": {},
   "outputs": [
    {
     "data": {
      "text/plain": [
       "14271.2106348592"
      ]
     },
     "execution_count": 290,
     "metadata": {},
     "output_type": "execute_result"
    }
   ],
   "source": [
    "df['Earnings_1978'].mean()"
   ]
  },
  {
   "cell_type": "code",
   "execution_count": 357,
   "metadata": {},
   "outputs": [],
   "source": [
    "\n",
    "df2pmf = thinkstats2.Pmf(round(df_real[\"Earnings_1978\"],2))\n"
   ]
  },
  {
   "cell_type": "code",
   "execution_count": 358,
   "metadata": {},
   "outputs": [
    {
     "data": {
      "image/png": "[encoded data removed]",
      "text/plain": [
       "<Figure size 864x432 with 1 Axes>"
      ]
     },
     "metadata": {
      "needs_background": "light"
     },
     "output_type": "display_data"
    },
    {
     "data": {
      "text/plain": [
       "<Figure size 576x432 with 0 Axes>"
      ]
     },
     "metadata": {},
     "output_type": "display_data"
    }
   ],
   "source": [
    "#Graph\n",
    "thinkplot.PrePlot(cols=2)\n",
    "thinkplot.Pmfs([df2pmf])\n",
    "#thinkplot.Show(xlabel=\"Earnings_1978\", ylabel = \"Percentage\")\n",
    "thinkplot.Show(xlabel=\"Earnings_1978\", ylabel = \"Share/Density/Percentage\")"
   ]
  },
  {
   "cell_type": "code",
   "execution_count": 293,
   "metadata": {},
   "outputs": [],
   "source": [
    "# PMF\n",
    "\n",
    "dfpmf = thinkstats2.Pmf(df[\"Age\"])\n"
   ]
  },
  {
   "cell_type": "code",
   "execution_count": 294,
   "metadata": {},
   "outputs": [
    {
     "data": {
      "image/png": "[encoded data removed]",
      "text/plain": [
       "<Figure size 864x432 with 1 Axes>"
      ]
     },
     "metadata": {
      "needs_background": "light"
     },
     "output_type": "display_data"
    },
    {
     "data": {
      "text/plain": [
       "<Figure size 576x432 with 0 Axes>"
      ]
     },
     "metadata": {},
     "output_type": "display_data"
    }
   ],
   "source": [
    "#Graph\n",
    "thinkplot.PrePlot(cols=2)\n",
    "thinkplot.Pmfs([dfpmf])\n",
    "#thinkplot.Show(xlabel=\"Age\", ylabel = \"Percentage\")\n",
    "thinkplot.Show(xlabel=\"Age\", ylabel = \"Share/Density/Percentage\")"
   ]
  },
  {
   "cell_type": "code",
   "execution_count": 295,
   "metadata": {},
   "outputs": [],
   "source": [
    "#find frequency of each Age using crosstab\n",
    "df_freq = pd.crosstab(index=df['Age'], columns='count')"
   ]
  },
  {
   "cell_type": "code",
   "execution_count": 296,
   "metadata": {},
   "outputs": [
    {
     "data": {
      "text/html": [
       "<div>\n",
       "<style scoped>\n",
       "    .dataframe tbody tr th:only-of-type {\n",
       "        vertical-align: middle;\n",
       "    }\n",
       "\n",
       "    .dataframe tbody tr th {\n",
       "        vertical-align: top;\n",
       "    }\n",
       "\n",
       "    .dataframe thead th {\n",
       "        text-align: right;\n",
       "    }\n",
       "</style>\n",
       "<table border=\"1\" class=\"dataframe\">\n",
       "  <thead>\n",
       "    <tr style=\"text-align: right;\">\n",
       "      <th>col_0</th>\n",
       "      <th>count</th>\n",
       "    </tr>\n",
       "    <tr>\n",
       "      <th>Age</th>\n",
       "      <th></th>\n",
       "    </tr>\n",
       "  </thead>\n",
       "  <tbody>\n",
       "    <tr>\n",
       "      <th>51</th>\n",
       "      <td>226</td>\n",
       "    </tr>\n",
       "    <tr>\n",
       "      <th>52</th>\n",
       "      <td>206</td>\n",
       "    </tr>\n",
       "    <tr>\n",
       "      <th>53</th>\n",
       "      <td>216</td>\n",
       "    </tr>\n",
       "    <tr>\n",
       "      <th>54</th>\n",
       "      <td>195</td>\n",
       "    </tr>\n",
       "    <tr>\n",
       "      <th>55</th>\n",
       "      <td>220</td>\n",
       "    </tr>\n",
       "  </tbody>\n",
       "</table>\n",
       "</div>"
      ],
      "text/plain": [
       "col_0  count\n",
       "Age         \n",
       "51       226\n",
       "52       206\n",
       "53       216\n",
       "54       195\n",
       "55       220"
      ]
     },
     "execution_count": 296,
     "metadata": {},
     "output_type": "execute_result"
    }
   ],
   "source": [
    "df_freq.tail()"
   ]
  },
  {
   "cell_type": "code",
   "execution_count": null,
   "metadata": {},
   "outputs": [],
   "source": []
  },
  {
   "cell_type": "code",
   "execution_count": null,
   "metadata": {},
   "outputs": [],
   "source": []
  },
  {
   "cell_type": "code",
   "execution_count": 297,
   "metadata": {},
   "outputs": [
    {
     "data": {
      "text/html": [
       "<div>\n",
       "<style scoped>\n",
       "    .dataframe tbody tr th:only-of-type {\n",
       "        vertical-align: middle;\n",
       "    }\n",
       "\n",
       "    .dataframe tbody tr th {\n",
       "        vertical-align: top;\n",
       "    }\n",
       "\n",
       "    .dataframe thead th {\n",
       "        text-align: right;\n",
       "    }\n",
       "</style>\n",
       "<table border=\"1\" class=\"dataframe\">\n",
       "  <thead>\n",
       "    <tr style=\"text-align: right;\">\n",
       "      <th></th>\n",
       "      <th>counts</th>\n",
       "      <th>percent</th>\n",
       "      <th>%</th>\n",
       "    </tr>\n",
       "    <tr>\n",
       "      <th>Age</th>\n",
       "      <th></th>\n",
       "      <th></th>\n",
       "      <th></th>\n",
       "    </tr>\n",
       "  </thead>\n",
       "  <tbody>\n",
       "    <tr>\n",
       "      <th>28</th>\n",
       "      <td>556</td>\n",
       "      <td>0.042375</td>\n",
       "      <td>4.2%</td>\n",
       "    </tr>\n",
       "    <tr>\n",
       "      <th>29</th>\n",
       "      <td>544</td>\n",
       "      <td>0.041460</td>\n",
       "      <td>4.1%</td>\n",
       "    </tr>\n",
       "    <tr>\n",
       "      <th>26</th>\n",
       "      <td>531</td>\n",
       "      <td>0.040469</td>\n",
       "      <td>4.0%</td>\n",
       "    </tr>\n",
       "    <tr>\n",
       "      <th>27</th>\n",
       "      <td>528</td>\n",
       "      <td>0.040241</td>\n",
       "      <td>4.0%</td>\n",
       "    </tr>\n",
       "    <tr>\n",
       "      <th>25</th>\n",
       "      <td>513</td>\n",
       "      <td>0.039098</td>\n",
       "      <td>3.9%</td>\n",
       "    </tr>\n",
       "  </tbody>\n",
       "</table>\n",
       "</div>"
      ],
      "text/plain": [
       "     counts   percent     %\n",
       "Age                        \n",
       "28      556  0.042375  4.2%\n",
       "29      544  0.041460  4.1%\n",
       "26      531  0.040469  4.0%\n",
       "27      528  0.040241  4.0%\n",
       "25      513  0.039098  3.9%"
      ]
     },
     "execution_count": 297,
     "metadata": {},
     "output_type": "execute_result"
    }
   ],
   "source": [
    "#calculating frequency table \n",
    "\n",
    "s = df['Age']\n",
    "counts = s.value_counts()\n",
    "percent = s.value_counts(normalize=True)\n",
    "percent100 = s.value_counts(normalize=True).mul(100).round(1).astype(str) + '%'\n",
    "freq = pd.DataFrame({'counts': counts, 'percent': percent, '%': percent100})\n",
    "freq.index.name = 'Age' # renaming the index cloumn name to age\n",
    "freq.head()\n"
   ]
  },
  {
   "cell_type": "code",
   "execution_count": 298,
   "metadata": {},
   "outputs": [
    {
     "data": {
      "text/html": [
       "<div>\n",
       "<style scoped>\n",
       "    .dataframe tbody tr th:only-of-type {\n",
       "        vertical-align: middle;\n",
       "    }\n",
       "\n",
       "    .dataframe tbody tr th {\n",
       "        vertical-align: top;\n",
       "    }\n",
       "\n",
       "    .dataframe thead th {\n",
       "        text-align: right;\n",
       "    }\n",
       "</style>\n",
       "<table border=\"1\" class=\"dataframe\">\n",
       "  <thead>\n",
       "    <tr style=\"text-align: right;\">\n",
       "      <th></th>\n",
       "      <th>counts</th>\n",
       "      <th>percent</th>\n",
       "      <th>%</th>\n",
       "    </tr>\n",
       "    <tr>\n",
       "      <th>Age</th>\n",
       "      <th></th>\n",
       "      <th></th>\n",
       "      <th></th>\n",
       "    </tr>\n",
       "  </thead>\n",
       "  <tbody>\n",
       "    <tr>\n",
       "      <th>51</th>\n",
       "      <td>226</td>\n",
       "      <td>0.017224</td>\n",
       "      <td>1.7%</td>\n",
       "    </tr>\n",
       "    <tr>\n",
       "      <th>52</th>\n",
       "      <td>206</td>\n",
       "      <td>0.015700</td>\n",
       "      <td>1.6%</td>\n",
       "    </tr>\n",
       "    <tr>\n",
       "      <th>53</th>\n",
       "      <td>216</td>\n",
       "      <td>0.016462</td>\n",
       "      <td>1.6%</td>\n",
       "    </tr>\n",
       "    <tr>\n",
       "      <th>54</th>\n",
       "      <td>195</td>\n",
       "      <td>0.014862</td>\n",
       "      <td>1.5%</td>\n",
       "    </tr>\n",
       "    <tr>\n",
       "      <th>55</th>\n",
       "      <td>220</td>\n",
       "      <td>0.016767</td>\n",
       "      <td>1.7%</td>\n",
       "    </tr>\n",
       "  </tbody>\n",
       "</table>\n",
       "</div>"
      ],
      "text/plain": [
       "     counts   percent     %\n",
       "Age                        \n",
       "51      226  0.017224  1.7%\n",
       "52      206  0.015700  1.6%\n",
       "53      216  0.016462  1.6%\n",
       "54      195  0.014862  1.5%\n",
       "55      220  0.016767  1.7%"
      ]
     },
     "execution_count": 298,
     "metadata": {},
     "output_type": "execute_result"
    }
   ],
   "source": [
    "# creating a frequency table and ensuring it's sorted\n",
    "\n",
    "s = df['Age']\n",
    "counts = s.value_counts()\n",
    "percent = s.value_counts(normalize=True)\n",
    "percent100 = s.value_counts(normalize=True).mul(100).round(1).astype(str) + '%'\n",
    "df_freq1= pd.DataFrame({'counts': counts, 'percent': percent, '%': percent100})\n",
    "df_freq2 = df_freq1.sort_index () # making sure the date is sorted\n",
    "df_freq2.index.name = 'Age' # renaming the index cloumn name to age\n",
    "df_freq2.tail()\n",
    "\n"
   ]
  },
  {
   "cell_type": "code",
   "execution_count": 299,
   "metadata": {},
   "outputs": [],
   "source": [
    "# create a cumulative column\n",
    "\n",
    "df_freq2[\"cumulative\"]= df_freq2['percent'].cumsum().mul(100).round(1).astype(str) + '%'"
   ]
  },
  {
   "cell_type": "code",
   "execution_count": 300,
   "metadata": {},
   "outputs": [
    {
     "data": {
      "text/html": [
       "<div>\n",
       "<style scoped>\n",
       "    .dataframe tbody tr th:only-of-type {\n",
       "        vertical-align: middle;\n",
       "    }\n",
       "\n",
       "    .dataframe tbody tr th {\n",
       "        vertical-align: top;\n",
       "    }\n",
       "\n",
       "    .dataframe thead th {\n",
       "        text-align: right;\n",
       "    }\n",
       "</style>\n",
       "<table border=\"1\" class=\"dataframe\">\n",
       "  <thead>\n",
       "    <tr style=\"text-align: right;\">\n",
       "      <th></th>\n",
       "      <th>counts</th>\n",
       "      <th>percent</th>\n",
       "      <th>%</th>\n",
       "      <th>cumulative</th>\n",
       "    </tr>\n",
       "    <tr>\n",
       "      <th>Age</th>\n",
       "      <th></th>\n",
       "      <th></th>\n",
       "      <th></th>\n",
       "      <th></th>\n",
       "    </tr>\n",
       "  </thead>\n",
       "  <tbody>\n",
       "    <tr>\n",
       "      <th>51</th>\n",
       "      <td>226</td>\n",
       "      <td>0.017224</td>\n",
       "      <td>1.7%</td>\n",
       "      <td>93.6%</td>\n",
       "    </tr>\n",
       "    <tr>\n",
       "      <th>52</th>\n",
       "      <td>206</td>\n",
       "      <td>0.015700</td>\n",
       "      <td>1.6%</td>\n",
       "      <td>95.2%</td>\n",
       "    </tr>\n",
       "    <tr>\n",
       "      <th>53</th>\n",
       "      <td>216</td>\n",
       "      <td>0.016462</td>\n",
       "      <td>1.6%</td>\n",
       "      <td>96.8%</td>\n",
       "    </tr>\n",
       "    <tr>\n",
       "      <th>54</th>\n",
       "      <td>195</td>\n",
       "      <td>0.014862</td>\n",
       "      <td>1.5%</td>\n",
       "      <td>98.3%</td>\n",
       "    </tr>\n",
       "    <tr>\n",
       "      <th>55</th>\n",
       "      <td>220</td>\n",
       "      <td>0.016767</td>\n",
       "      <td>1.7%</td>\n",
       "      <td>100.0%</td>\n",
       "    </tr>\n",
       "  </tbody>\n",
       "</table>\n",
       "</div>"
      ],
      "text/plain": [
       "     counts   percent     % cumulative\n",
       "Age                                   \n",
       "51      226  0.017224  1.7%      93.6%\n",
       "52      206  0.015700  1.6%      95.2%\n",
       "53      216  0.016462  1.6%      96.8%\n",
       "54      195  0.014862  1.5%      98.3%\n",
       "55      220  0.016767  1.7%     100.0%"
      ]
     },
     "execution_count": 300,
     "metadata": {},
     "output_type": "execute_result"
    }
   ],
   "source": [
    "df_freq2.tail() "
   ]
  },
  {
   "cell_type": "code",
   "execution_count": 301,
   "metadata": {},
   "outputs": [
    {
     "data": {
      "text/plain": [
       "{'xscale': 'linear', 'yscale': 'linear'}"
      ]
     },
     "execution_count": 301,
     "metadata": {},
     "output_type": "execute_result"
    },
    {
     "data": {
      "image/png": "[encoded data removed]",
      "text/plain": [
       "<Figure size 432x288 with 1 Axes>"
      ]
     },
     "metadata": {
      "needs_background": "light"
     },
     "output_type": "display_data"
    }
   ],
   "source": [
    "#Create and show CDF of Age\n",
    "df_cdf = thinkstats2.Cdf(df['Age'])\n",
    "thinkplot.Cdf(df_cdf)"
   ]
  },
  {
   "cell_type": "code",
   "execution_count": 302,
   "metadata": {},
   "outputs": [
    {
     "name": "stdout",
     "output_type": "stream",
     "text": [
      "Fraction of people that are 51 is: 93.60000000000001%\n"
     ]
    }
   ],
   "source": [
    "df_cdf.Prob(51)\n",
    "#And if we want to see in in pretty printing\n",
    "print(\"Fraction of people that are 51 is:\",str(round(df_cdf.Prob(51), 3)*100)+\"%\")"
   ]
  },
  {
   "cell_type": "code",
   "execution_count": 303,
   "metadata": {},
   "outputs": [
    {
     "name": "stdout",
     "output_type": "stream",
     "text": [
      "Fraction of people that are 51 is: 93.60000000000001%\n"
     ]
    }
   ],
   "source": [
    "df_cdf.Prob(51)\n",
    "#And if we want to see in in pretty printing\n",
    "print(\"Fraction of people that are 51 is:\",str(round(df_cdf.Prob(51), 3)*100)+\"%\")"
   ]
  },
  {
   "cell_type": "markdown",
   "metadata": {},
   "source": [
    "#### What fraction of the people in the data are 51? What fraction are older than 51?"
   ]
  },
  {
   "cell_type": "code",
   "execution_count": 304,
   "metadata": {},
   "outputs": [],
   "source": [
    "# using .loc and lamba for slicing is efficient\n",
    "df_1 = df['Age'].loc[lambda x : x<=51]\n",
    "\n"
   ]
  },
  {
   "cell_type": "code",
   "execution_count": 305,
   "metadata": {},
   "outputs": [
    {
     "data": {
      "text/plain": [
       "5834     16\n",
       "13932    48\n",
       "8030     19\n",
       "5788     17\n",
       "9186     17\n",
       "Name: Age, dtype: int64"
      ]
     },
     "execution_count": 305,
     "metadata": {},
     "output_type": "execute_result"
    }
   ],
   "source": [
    "df_1.head()"
   ]
  },
  {
   "cell_type": "code",
   "execution_count": 306,
   "metadata": {},
   "outputs": [
    {
     "data": {
      "text/plain": [
       "12284"
      ]
     },
     "execution_count": 306,
     "metadata": {},
     "output_type": "execute_result"
    }
   ],
   "source": [
    "df_1.count()"
   ]
  },
  {
   "cell_type": "code",
   "execution_count": 307,
   "metadata": {},
   "outputs": [],
   "source": [
    "# using .loc and lamba for slicing is efficient\n",
    "df_2 = df['Age'].loc[lambda x : x>51]\n"
   ]
  },
  {
   "cell_type": "code",
   "execution_count": 308,
   "metadata": {},
   "outputs": [
    {
     "data": {
      "text/plain": [
       "837"
      ]
     },
     "execution_count": 308,
     "metadata": {},
     "output_type": "execute_result"
    }
   ],
   "source": [
    "df_2.count()\n"
   ]
  },
  {
   "cell_type": "code",
   "execution_count": 309,
   "metadata": {},
   "outputs": [
    {
     "name": "stdout",
     "output_type": "stream",
     "text": [
      "(13121, 9)\n",
      "(12284,)\n",
      "(837,)\n"
     ]
    }
   ],
   "source": [
    "print(df.shape, df_1.shape, df_2.shape,sep=\"\\n\")"
   ]
  },
  {
   "cell_type": "code",
   "execution_count": 310,
   "metadata": {},
   "outputs": [
    {
     "name": "stdout",
     "output_type": "stream",
     "text": [
      ">51: 0.06379086959835378\n"
     ]
    }
   ],
   "source": [
    "# %>51 in the dataset\n",
    "print(\">51:\", df_2.shape[0]/df.shape[0])"
   ]
  },
  {
   "cell_type": "code",
   "execution_count": 311,
   "metadata": {},
   "outputs": [
    {
     "data": {
      "text/html": [
       "<div>\n",
       "<style scoped>\n",
       "    .dataframe tbody tr th:only-of-type {\n",
       "        vertical-align: middle;\n",
       "    }\n",
       "\n",
       "    .dataframe tbody tr th {\n",
       "        vertical-align: top;\n",
       "    }\n",
       "\n",
       "    .dataframe thead th {\n",
       "        text-align: right;\n",
       "    }\n",
       "</style>\n",
       "<table border=\"1\" class=\"dataframe\">\n",
       "  <thead>\n",
       "    <tr style=\"text-align: right;\">\n",
       "      <th></th>\n",
       "      <th>Age</th>\n",
       "      <th>Nodeg</th>\n",
       "      <th>Earnings_1974</th>\n",
       "      <th>Earnings_1975</th>\n",
       "      <th>Earnings_1978</th>\n",
       "    </tr>\n",
       "  </thead>\n",
       "  <tbody>\n",
       "    <tr>\n",
       "      <th>count</th>\n",
       "      <td>13121.000000</td>\n",
       "      <td>13121.000000</td>\n",
       "      <td>13121.000000</td>\n",
       "      <td>13121.000000</td>\n",
       "      <td>13121.000000</td>\n",
       "    </tr>\n",
       "    <tr>\n",
       "      <th>mean</th>\n",
       "      <td>31.937429</td>\n",
       "      <td>0.322232</td>\n",
       "      <td>13011.609867</td>\n",
       "      <td>12682.138238</td>\n",
       "      <td>14271.210635</td>\n",
       "    </tr>\n",
       "    <tr>\n",
       "      <th>std</th>\n",
       "      <td>10.959869</td>\n",
       "      <td>0.467349</td>\n",
       "      <td>8749.490339</td>\n",
       "      <td>8440.649578</td>\n",
       "      <td>8988.273900</td>\n",
       "    </tr>\n",
       "    <tr>\n",
       "      <th>min</th>\n",
       "      <td>16.000000</td>\n",
       "      <td>0.000000</td>\n",
       "      <td>0.000000</td>\n",
       "      <td>0.000000</td>\n",
       "      <td>0.000000</td>\n",
       "    </tr>\n",
       "    <tr>\n",
       "      <th>25%</th>\n",
       "      <td>23.000000</td>\n",
       "      <td>0.000000</td>\n",
       "      <td>4659.140000</td>\n",
       "      <td>4633.350000</td>\n",
       "      <td>6283.290000</td>\n",
       "    </tr>\n",
       "    <tr>\n",
       "      <th>50%</th>\n",
       "      <td>29.000000</td>\n",
       "      <td>0.000000</td>\n",
       "      <td>13650.210000</td>\n",
       "      <td>13269.870000</td>\n",
       "      <td>15233.880000</td>\n",
       "    </tr>\n",
       "    <tr>\n",
       "      <th>75%</th>\n",
       "      <td>40.000000</td>\n",
       "      <td>1.000000</td>\n",
       "      <td>20844.640000</td>\n",
       "      <td>20137.550000</td>\n",
       "      <td>22856.000000</td>\n",
       "    </tr>\n",
       "    <tr>\n",
       "      <th>max</th>\n",
       "      <td>55.000000</td>\n",
       "      <td>1.000000</td>\n",
       "      <td>25862.320000</td>\n",
       "      <td>25243.550000</td>\n",
       "      <td>25564.670000</td>\n",
       "    </tr>\n",
       "  </tbody>\n",
       "</table>\n",
       "</div>"
      ],
      "text/plain": [
       "                Age         Nodeg  Earnings_1974  Earnings_1975  Earnings_1978\n",
       "count  13121.000000  13121.000000   13121.000000   13121.000000   13121.000000\n",
       "mean      31.937429      0.322232   13011.609867   12682.138238   14271.210635\n",
       "std       10.959869      0.467349    8749.490339    8440.649578    8988.273900\n",
       "min       16.000000      0.000000       0.000000       0.000000       0.000000\n",
       "25%       23.000000      0.000000    4659.140000    4633.350000    6283.290000\n",
       "50%       29.000000      0.000000   13650.210000   13269.870000   15233.880000\n",
       "75%       40.000000      1.000000   20844.640000   20137.550000   22856.000000\n",
       "max       55.000000      1.000000   25862.320000   25243.550000   25564.670000"
      ]
     },
     "execution_count": 311,
     "metadata": {},
     "output_type": "execute_result"
    }
   ],
   "source": [
    "df.describe()"
   ]
  },
  {
   "cell_type": "markdown",
   "metadata": {},
   "source": [
    "##### What is the median age?"
   ]
  },
  {
   "cell_type": "code",
   "execution_count": 312,
   "metadata": {},
   "outputs": [
    {
     "data": {
      "text/plain": [
       "29.0"
      ]
     },
     "execution_count": 312,
     "metadata": {},
     "output_type": "execute_result"
    }
   ],
   "source": [
    "df[\"Age\"].median()"
   ]
  },
  {
   "cell_type": "markdown",
   "metadata": {},
   "source": [
    "##### Does the distribution of the sample data seem to mirror the working age population?"
   ]
  },
  {
   "cell_type": "markdown",
   "metadata": {},
   "source": []
  },
  {
   "cell_type": "markdown",
   "metadata": {},
   "source": [
    "### Part 2 - Demographics\n",
    "\n",
    "<ul>\n",
    "<li>Consider some of the demographic features: \n",
    "    <ul>\n",
    "    <li>Education\n",
    "    <li>Race\n",
    "    <li>Hisp\n",
    "    <li>MaritalStatus\n",
    "    <li>Nodeg. \n",
    "    </ul>\n",
    "</ul>\n",
    "<ol>\n",
    "<li>This data came from the United States, does it appear to be a representative sample of the US population?\n",
    "<li>Demonstrate this in some way in your code. \n",
    "</ol>\n",
    "\n",
    "##### Exploring the data..."
   ]
  },
  {
   "cell_type": "code",
   "execution_count": 313,
   "metadata": {},
   "outputs": [
    {
     "data": {
      "text/html": [
       "<div>\n",
       "<style scoped>\n",
       "    .dataframe tbody tr th:only-of-type {\n",
       "        vertical-align: middle;\n",
       "    }\n",
       "\n",
       "    .dataframe tbody tr th {\n",
       "        vertical-align: top;\n",
       "    }\n",
       "\n",
       "    .dataframe thead th {\n",
       "        text-align: right;\n",
       "    }\n",
       "</style>\n",
       "<table border=\"1\" class=\"dataframe\">\n",
       "  <thead>\n",
       "    <tr style=\"text-align: right;\">\n",
       "      <th></th>\n",
       "      <th>Age</th>\n",
       "      <th>Eduacation</th>\n",
       "      <th>Race</th>\n",
       "      <th>Hisp</th>\n",
       "      <th>MaritalStatus</th>\n",
       "      <th>Nodeg</th>\n",
       "      <th>Earnings_1974</th>\n",
       "      <th>Earnings_1975</th>\n",
       "      <th>Earnings_1978</th>\n",
       "    </tr>\n",
       "  </thead>\n",
       "  <tbody>\n",
       "    <tr>\n",
       "      <th>5834</th>\n",
       "      <td>16</td>\n",
       "      <td>LessThanHighSchool</td>\n",
       "      <td>NotBlack</td>\n",
       "      <td>NotHispanic</td>\n",
       "      <td>NotMarried</td>\n",
       "      <td>1</td>\n",
       "      <td>0.0</td>\n",
       "      <td>2323.84</td>\n",
       "      <td>2625.92</td>\n",
       "    </tr>\n",
       "    <tr>\n",
       "      <th>13932</th>\n",
       "      <td>48</td>\n",
       "      <td>LessThanHighSchool</td>\n",
       "      <td>NotBlack</td>\n",
       "      <td>NotHispanic</td>\n",
       "      <td>Married</td>\n",
       "      <td>1</td>\n",
       "      <td>0.0</td>\n",
       "      <td>0.00</td>\n",
       "      <td>0.00</td>\n",
       "    </tr>\n",
       "    <tr>\n",
       "      <th>8030</th>\n",
       "      <td>19</td>\n",
       "      <td>HighSchool</td>\n",
       "      <td>NotBlack</td>\n",
       "      <td>NotHispanic</td>\n",
       "      <td>NotMarried</td>\n",
       "      <td>0</td>\n",
       "      <td>0.0</td>\n",
       "      <td>483.39</td>\n",
       "      <td>5334.59</td>\n",
       "    </tr>\n",
       "    <tr>\n",
       "      <th>5788</th>\n",
       "      <td>17</td>\n",
       "      <td>LessThanHighSchool</td>\n",
       "      <td>NotBlack</td>\n",
       "      <td>NotHispanic</td>\n",
       "      <td>NotMarried</td>\n",
       "      <td>1</td>\n",
       "      <td>0.0</td>\n",
       "      <td>1079.56</td>\n",
       "      <td>7248.25</td>\n",
       "    </tr>\n",
       "    <tr>\n",
       "      <th>9186</th>\n",
       "      <td>17</td>\n",
       "      <td>LessThanHighSchool</td>\n",
       "      <td>NotBlack</td>\n",
       "      <td>NotHispanic</td>\n",
       "      <td>NotMarried</td>\n",
       "      <td>1</td>\n",
       "      <td>0.0</td>\n",
       "      <td>4040.76</td>\n",
       "      <td>9713.10</td>\n",
       "    </tr>\n",
       "  </tbody>\n",
       "</table>\n",
       "</div>"
      ],
      "text/plain": [
       "       Age          Eduacation      Race         Hisp MaritalStatus  Nodeg  \\\n",
       "5834    16  LessThanHighSchool  NotBlack  NotHispanic    NotMarried      1   \n",
       "13932   48  LessThanHighSchool  NotBlack  NotHispanic       Married      1   \n",
       "8030    19          HighSchool  NotBlack  NotHispanic    NotMarried      0   \n",
       "5788    17  LessThanHighSchool  NotBlack  NotHispanic    NotMarried      1   \n",
       "9186    17  LessThanHighSchool  NotBlack  NotHispanic    NotMarried      1   \n",
       "\n",
       "       Earnings_1974  Earnings_1975  Earnings_1978  \n",
       "5834             0.0        2323.84        2625.92  \n",
       "13932            0.0           0.00           0.00  \n",
       "8030             0.0         483.39        5334.59  \n",
       "5788             0.0        1079.56        7248.25  \n",
       "9186             0.0        4040.76        9713.10  "
      ]
     },
     "execution_count": 313,
     "metadata": {},
     "output_type": "execute_result"
    }
   ],
   "source": [
    "df.head()"
   ]
  },
  {
   "cell_type": "code",
   "execution_count": 314,
   "metadata": {},
   "outputs": [
    {
     "data": {
      "text/plain": [
       "(array([223.,  82.,  74., 100., 103., 104., 101.,  72.,  81.,  92.]),\n",
       " array([    0.   ,  2586.232,  5172.464,  7758.696, 10344.928, 12931.16 ,\n",
       "        15517.392, 18103.624, 20689.856, 23276.088, 25862.32 ]),\n",
       " <BarContainer object of 10 artists>)"
      ]
     },
     "execution_count": 314,
     "metadata": {},
     "output_type": "execute_result"
    },
    {
     "data": {
      "image/png": "[encoded data removed]",
      "text/plain": [
       "<Figure size 432x288 with 1 Axes>"
      ]
     },
     "metadata": {
      "needs_background": "light"
     },
     "output_type": "display_data"
    }
   ],
   "source": [
    "plt.hist(round(df2['Earnings_1974'],2), bins=10)"
   ]
  },
  {
   "cell_type": "code",
   "execution_count": 315,
   "metadata": {},
   "outputs": [
    {
     "data": {
      "text/plain": [
       "(array([2501., 1161.,  970., 1061., 1238., 1274., 1399., 1328., 2189.]),\n",
       " array([    0.        ,  2804.83888889,  5609.67777778,  8414.51666667,\n",
       "        11219.35555556, 14024.19444444, 16829.03333333, 19633.87222222,\n",
       "        22438.71111111, 25243.55      ]),\n",
       " <BarContainer object of 9 artists>)"
      ]
     },
     "execution_count": 315,
     "metadata": {},
     "output_type": "execute_result"
    },
    {
     "data": {
      "image/png": "[encoded data removed]",
      "text/plain": [
       "<Figure size 432x288 with 1 Axes>"
      ]
     },
     "metadata": {
      "needs_background": "light"
     },
     "output_type": "display_data"
    }
   ],
   "source": [
    "plt.hist(df['Earnings_1975'], bins=9)"
   ]
  },
  {
   "cell_type": "code",
   "execution_count": 316,
   "metadata": {},
   "outputs": [
    {
     "data": {
      "text/plain": [
       "NotHispanic    12083\n",
       "hispanic        1038\n",
       "Name: Hisp, dtype: int64"
      ]
     },
     "execution_count": 316,
     "metadata": {},
     "output_type": "execute_result"
    }
   ],
   "source": [
    "df[\"Hisp\"].value_counts()"
   ]
  },
  {
   "cell_type": "code",
   "execution_count": 317,
   "metadata": {},
   "outputs": [],
   "source": [
    "df_nhb = df[(df[\"Hisp\"]=='NotHispanic') & (df['Race']==\"NotBlack\")]"
   ]
  },
  {
   "cell_type": "code",
   "execution_count": 318,
   "metadata": {},
   "outputs": [
    {
     "data": {
      "text/html": [
       "<div>\n",
       "<style scoped>\n",
       "    .dataframe tbody tr th:only-of-type {\n",
       "        vertical-align: middle;\n",
       "    }\n",
       "\n",
       "    .dataframe tbody tr th {\n",
       "        vertical-align: top;\n",
       "    }\n",
       "\n",
       "    .dataframe thead th {\n",
       "        text-align: right;\n",
       "    }\n",
       "</style>\n",
       "<table border=\"1\" class=\"dataframe\">\n",
       "  <thead>\n",
       "    <tr style=\"text-align: right;\">\n",
       "      <th></th>\n",
       "      <th>Age</th>\n",
       "      <th>Eduacation</th>\n",
       "      <th>Race</th>\n",
       "      <th>Hisp</th>\n",
       "      <th>MaritalStatus</th>\n",
       "      <th>Nodeg</th>\n",
       "      <th>Earnings_1974</th>\n",
       "      <th>Earnings_1975</th>\n",
       "      <th>Earnings_1978</th>\n",
       "    </tr>\n",
       "  </thead>\n",
       "  <tbody>\n",
       "    <tr>\n",
       "      <th>5834</th>\n",
       "      <td>16</td>\n",
       "      <td>LessThanHighSchool</td>\n",
       "      <td>NotBlack</td>\n",
       "      <td>NotHispanic</td>\n",
       "      <td>NotMarried</td>\n",
       "      <td>1</td>\n",
       "      <td>0.0</td>\n",
       "      <td>2323.84</td>\n",
       "      <td>2625.92</td>\n",
       "    </tr>\n",
       "    <tr>\n",
       "      <th>13932</th>\n",
       "      <td>48</td>\n",
       "      <td>LessThanHighSchool</td>\n",
       "      <td>NotBlack</td>\n",
       "      <td>NotHispanic</td>\n",
       "      <td>Married</td>\n",
       "      <td>1</td>\n",
       "      <td>0.0</td>\n",
       "      <td>0.00</td>\n",
       "      <td>0.00</td>\n",
       "    </tr>\n",
       "    <tr>\n",
       "      <th>8030</th>\n",
       "      <td>19</td>\n",
       "      <td>HighSchool</td>\n",
       "      <td>NotBlack</td>\n",
       "      <td>NotHispanic</td>\n",
       "      <td>NotMarried</td>\n",
       "      <td>0</td>\n",
       "      <td>0.0</td>\n",
       "      <td>483.39</td>\n",
       "      <td>5334.59</td>\n",
       "    </tr>\n",
       "    <tr>\n",
       "      <th>5788</th>\n",
       "      <td>17</td>\n",
       "      <td>LessThanHighSchool</td>\n",
       "      <td>NotBlack</td>\n",
       "      <td>NotHispanic</td>\n",
       "      <td>NotMarried</td>\n",
       "      <td>1</td>\n",
       "      <td>0.0</td>\n",
       "      <td>1079.56</td>\n",
       "      <td>7248.25</td>\n",
       "    </tr>\n",
       "    <tr>\n",
       "      <th>9186</th>\n",
       "      <td>17</td>\n",
       "      <td>LessThanHighSchool</td>\n",
       "      <td>NotBlack</td>\n",
       "      <td>NotHispanic</td>\n",
       "      <td>NotMarried</td>\n",
       "      <td>1</td>\n",
       "      <td>0.0</td>\n",
       "      <td>4040.76</td>\n",
       "      <td>9713.10</td>\n",
       "    </tr>\n",
       "  </tbody>\n",
       "</table>\n",
       "</div>"
      ],
      "text/plain": [
       "       Age          Eduacation      Race         Hisp MaritalStatus  Nodeg  \\\n",
       "5834    16  LessThanHighSchool  NotBlack  NotHispanic    NotMarried      1   \n",
       "13932   48  LessThanHighSchool  NotBlack  NotHispanic       Married      1   \n",
       "8030    19          HighSchool  NotBlack  NotHispanic    NotMarried      0   \n",
       "5788    17  LessThanHighSchool  NotBlack  NotHispanic    NotMarried      1   \n",
       "9186    17  LessThanHighSchool  NotBlack  NotHispanic    NotMarried      1   \n",
       "\n",
       "       Earnings_1974  Earnings_1975  Earnings_1978  \n",
       "5834             0.0        2323.84        2625.92  \n",
       "13932            0.0           0.00           0.00  \n",
       "8030             0.0         483.39        5334.59  \n",
       "5788             0.0        1079.56        7248.25  \n",
       "9186             0.0        4040.76        9713.10  "
      ]
     },
     "execution_count": 318,
     "metadata": {},
     "output_type": "execute_result"
    }
   ],
   "source": [
    "df_nhb.head()"
   ]
  },
  {
   "cell_type": "code",
   "execution_count": 319,
   "metadata": {},
   "outputs": [],
   "source": [
    "df_hisp = df[df[\"Hisp\"]=='hispanic']"
   ]
  },
  {
   "cell_type": "code",
   "execution_count": 320,
   "metadata": {},
   "outputs": [
    {
     "data": {
      "text/html": [
       "<div>\n",
       "<style scoped>\n",
       "    .dataframe tbody tr th:only-of-type {\n",
       "        vertical-align: middle;\n",
       "    }\n",
       "\n",
       "    .dataframe tbody tr th {\n",
       "        vertical-align: top;\n",
       "    }\n",
       "\n",
       "    .dataframe thead th {\n",
       "        text-align: right;\n",
       "    }\n",
       "</style>\n",
       "<table border=\"1\" class=\"dataframe\">\n",
       "  <thead>\n",
       "    <tr style=\"text-align: right;\">\n",
       "      <th></th>\n",
       "      <th>Age</th>\n",
       "      <th>Eduacation</th>\n",
       "      <th>Race</th>\n",
       "      <th>Hisp</th>\n",
       "      <th>MaritalStatus</th>\n",
       "      <th>Nodeg</th>\n",
       "      <th>Earnings_1974</th>\n",
       "      <th>Earnings_1975</th>\n",
       "      <th>Earnings_1978</th>\n",
       "    </tr>\n",
       "  </thead>\n",
       "  <tbody>\n",
       "    <tr>\n",
       "      <th>13901</th>\n",
       "      <td>18</td>\n",
       "      <td>LessThanHighSchool</td>\n",
       "      <td>NotBlack</td>\n",
       "      <td>hispanic</td>\n",
       "      <td>NotMarried</td>\n",
       "      <td>1</td>\n",
       "      <td>0.0</td>\n",
       "      <td>3039.97</td>\n",
       "      <td>2027.44</td>\n",
       "    </tr>\n",
       "    <tr>\n",
       "      <th>9179</th>\n",
       "      <td>27</td>\n",
       "      <td>graduate</td>\n",
       "      <td>NotBlack</td>\n",
       "      <td>hispanic</td>\n",
       "      <td>NotMarried</td>\n",
       "      <td>0</td>\n",
       "      <td>0.0</td>\n",
       "      <td>5370.97</td>\n",
       "      <td>12237.05</td>\n",
       "    </tr>\n",
       "    <tr>\n",
       "      <th>10943</th>\n",
       "      <td>16</td>\n",
       "      <td>LessThanHighSchool</td>\n",
       "      <td>NotBlack</td>\n",
       "      <td>hispanic</td>\n",
       "      <td>NotMarried</td>\n",
       "      <td>1</td>\n",
       "      <td>0.0</td>\n",
       "      <td>3750.73</td>\n",
       "      <td>11770.09</td>\n",
       "    </tr>\n",
       "    <tr>\n",
       "      <th>5870</th>\n",
       "      <td>21</td>\n",
       "      <td>Intermediate</td>\n",
       "      <td>NotBlack</td>\n",
       "      <td>hispanic</td>\n",
       "      <td>NotMarried</td>\n",
       "      <td>0</td>\n",
       "      <td>0.0</td>\n",
       "      <td>309.73</td>\n",
       "      <td>10355.91</td>\n",
       "    </tr>\n",
       "    <tr>\n",
       "      <th>13813</th>\n",
       "      <td>42</td>\n",
       "      <td>LessThanHighSchool</td>\n",
       "      <td>NotBlack</td>\n",
       "      <td>hispanic</td>\n",
       "      <td>Married</td>\n",
       "      <td>1</td>\n",
       "      <td>0.0</td>\n",
       "      <td>7897.11</td>\n",
       "      <td>11526.27</td>\n",
       "    </tr>\n",
       "  </tbody>\n",
       "</table>\n",
       "</div>"
      ],
      "text/plain": [
       "       Age          Eduacation      Race      Hisp MaritalStatus  Nodeg  \\\n",
       "13901   18  LessThanHighSchool  NotBlack  hispanic    NotMarried      1   \n",
       "9179    27            graduate  NotBlack  hispanic    NotMarried      0   \n",
       "10943   16  LessThanHighSchool  NotBlack  hispanic    NotMarried      1   \n",
       "5870    21        Intermediate  NotBlack  hispanic    NotMarried      0   \n",
       "13813   42  LessThanHighSchool  NotBlack  hispanic       Married      1   \n",
       "\n",
       "       Earnings_1974  Earnings_1975  Earnings_1978  \n",
       "13901            0.0        3039.97        2027.44  \n",
       "9179             0.0        5370.97       12237.05  \n",
       "10943            0.0        3750.73       11770.09  \n",
       "5870             0.0         309.73       10355.91  \n",
       "13813            0.0        7897.11       11526.27  "
      ]
     },
     "execution_count": 320,
     "metadata": {},
     "output_type": "execute_result"
    }
   ],
   "source": [
    "df_hisp.head()"
   ]
  },
  {
   "cell_type": "code",
   "execution_count": 321,
   "metadata": {},
   "outputs": [
    {
     "data": {
      "text/html": [
       "<div>\n",
       "<style scoped>\n",
       "    .dataframe tbody tr th:only-of-type {\n",
       "        vertical-align: middle;\n",
       "    }\n",
       "\n",
       "    .dataframe tbody tr th {\n",
       "        vertical-align: top;\n",
       "    }\n",
       "\n",
       "    .dataframe thead th {\n",
       "        text-align: right;\n",
       "    }\n",
       "</style>\n",
       "<table border=\"1\" class=\"dataframe\">\n",
       "  <thead>\n",
       "    <tr style=\"text-align: right;\">\n",
       "      <th></th>\n",
       "      <th>Age</th>\n",
       "      <th>Nodeg</th>\n",
       "      <th>Earnings_1974</th>\n",
       "      <th>Earnings_1975</th>\n",
       "      <th>Earnings_1978</th>\n",
       "    </tr>\n",
       "  </thead>\n",
       "  <tbody>\n",
       "    <tr>\n",
       "      <th>count</th>\n",
       "      <td>13121.000000</td>\n",
       "      <td>13121.000000</td>\n",
       "      <td>13121.000000</td>\n",
       "      <td>13121.000000</td>\n",
       "      <td>13121.000000</td>\n",
       "    </tr>\n",
       "    <tr>\n",
       "      <th>mean</th>\n",
       "      <td>31.937429</td>\n",
       "      <td>0.322232</td>\n",
       "      <td>13011.609867</td>\n",
       "      <td>12682.138238</td>\n",
       "      <td>14271.210635</td>\n",
       "    </tr>\n",
       "    <tr>\n",
       "      <th>std</th>\n",
       "      <td>10.959869</td>\n",
       "      <td>0.467349</td>\n",
       "      <td>8749.490339</td>\n",
       "      <td>8440.649578</td>\n",
       "      <td>8988.273900</td>\n",
       "    </tr>\n",
       "    <tr>\n",
       "      <th>min</th>\n",
       "      <td>16.000000</td>\n",
       "      <td>0.000000</td>\n",
       "      <td>0.000000</td>\n",
       "      <td>0.000000</td>\n",
       "      <td>0.000000</td>\n",
       "    </tr>\n",
       "    <tr>\n",
       "      <th>25%</th>\n",
       "      <td>23.000000</td>\n",
       "      <td>0.000000</td>\n",
       "      <td>4659.140000</td>\n",
       "      <td>4633.350000</td>\n",
       "      <td>6283.290000</td>\n",
       "    </tr>\n",
       "    <tr>\n",
       "      <th>50%</th>\n",
       "      <td>29.000000</td>\n",
       "      <td>0.000000</td>\n",
       "      <td>13650.210000</td>\n",
       "      <td>13269.870000</td>\n",
       "      <td>15233.880000</td>\n",
       "    </tr>\n",
       "    <tr>\n",
       "      <th>75%</th>\n",
       "      <td>40.000000</td>\n",
       "      <td>1.000000</td>\n",
       "      <td>20844.640000</td>\n",
       "      <td>20137.550000</td>\n",
       "      <td>22856.000000</td>\n",
       "    </tr>\n",
       "    <tr>\n",
       "      <th>max</th>\n",
       "      <td>55.000000</td>\n",
       "      <td>1.000000</td>\n",
       "      <td>25862.320000</td>\n",
       "      <td>25243.550000</td>\n",
       "      <td>25564.670000</td>\n",
       "    </tr>\n",
       "  </tbody>\n",
       "</table>\n",
       "</div>"
      ],
      "text/plain": [
       "                Age         Nodeg  Earnings_1974  Earnings_1975  Earnings_1978\n",
       "count  13121.000000  13121.000000   13121.000000   13121.000000   13121.000000\n",
       "mean      31.937429      0.322232   13011.609867   12682.138238   14271.210635\n",
       "std       10.959869      0.467349    8749.490339    8440.649578    8988.273900\n",
       "min       16.000000      0.000000       0.000000       0.000000       0.000000\n",
       "25%       23.000000      0.000000    4659.140000    4633.350000    6283.290000\n",
       "50%       29.000000      0.000000   13650.210000   13269.870000   15233.880000\n",
       "75%       40.000000      1.000000   20844.640000   20137.550000   22856.000000\n",
       "max       55.000000      1.000000   25862.320000   25243.550000   25564.670000"
      ]
     },
     "execution_count": 321,
     "metadata": {},
     "output_type": "execute_result"
    }
   ],
   "source": [
    "df.describe()"
   ]
  },
  {
   "cell_type": "code",
   "execution_count": 322,
   "metadata": {},
   "outputs": [
    {
     "data": {
      "text/plain": [
       "NotBlack    12089\n",
       "black        1032\n",
       "Name: Race, dtype: int64"
      ]
     },
     "execution_count": 322,
     "metadata": {},
     "output_type": "execute_result"
    }
   ],
   "source": [
    "df[\"Race\"].value_counts()"
   ]
  },
  {
   "cell_type": "code",
   "execution_count": 323,
   "metadata": {},
   "outputs": [
    {
     "data": {
      "text/plain": [
       "HighSchool            5083\n",
       "LessThanHighSchool    4228\n",
       "Intermediate          2161\n",
       "graduate              1022\n",
       "PostGraduate           627\n",
       "Name: Eduacation, dtype: int64"
      ]
     },
     "execution_count": 323,
     "metadata": {},
     "output_type": "execute_result"
    }
   ],
   "source": [
    "df['Eduacation'].value_counts()"
   ]
  },
  {
   "cell_type": "code",
   "execution_count": 324,
   "metadata": {},
   "outputs": [],
   "source": [
    "df_black = df[df['Race']==\"black\"]"
   ]
  },
  {
   "cell_type": "code",
   "execution_count": 325,
   "metadata": {},
   "outputs": [
    {
     "data": {
      "text/html": [
       "<div>\n",
       "<style scoped>\n",
       "    .dataframe tbody tr th:only-of-type {\n",
       "        vertical-align: middle;\n",
       "    }\n",
       "\n",
       "    .dataframe tbody tr th {\n",
       "        vertical-align: top;\n",
       "    }\n",
       "\n",
       "    .dataframe thead th {\n",
       "        text-align: right;\n",
       "    }\n",
       "</style>\n",
       "<table border=\"1\" class=\"dataframe\">\n",
       "  <thead>\n",
       "    <tr style=\"text-align: right;\">\n",
       "      <th></th>\n",
       "      <th>Age</th>\n",
       "      <th>Eduacation</th>\n",
       "      <th>Race</th>\n",
       "      <th>Hisp</th>\n",
       "      <th>MaritalStatus</th>\n",
       "      <th>Nodeg</th>\n",
       "      <th>Earnings_1974</th>\n",
       "      <th>Earnings_1975</th>\n",
       "      <th>Earnings_1978</th>\n",
       "    </tr>\n",
       "  </thead>\n",
       "  <tbody>\n",
       "    <tr>\n",
       "      <th>11021</th>\n",
       "      <td>26</td>\n",
       "      <td>HighSchool</td>\n",
       "      <td>black</td>\n",
       "      <td>NotHispanic</td>\n",
       "      <td>NotMarried</td>\n",
       "      <td>0</td>\n",
       "      <td>0.0</td>\n",
       "      <td>1448.37</td>\n",
       "      <td>0.00</td>\n",
       "    </tr>\n",
       "    <tr>\n",
       "      <th>13922</th>\n",
       "      <td>39</td>\n",
       "      <td>LessThanHighSchool</td>\n",
       "      <td>black</td>\n",
       "      <td>NotHispanic</td>\n",
       "      <td>Married</td>\n",
       "      <td>1</td>\n",
       "      <td>0.0</td>\n",
       "      <td>0.00</td>\n",
       "      <td>964.96</td>\n",
       "    </tr>\n",
       "    <tr>\n",
       "      <th>8042</th>\n",
       "      <td>20</td>\n",
       "      <td>LessThanHighSchool</td>\n",
       "      <td>black</td>\n",
       "      <td>NotHispanic</td>\n",
       "      <td>NotMarried</td>\n",
       "      <td>1</td>\n",
       "      <td>0.0</td>\n",
       "      <td>3480.39</td>\n",
       "      <td>5495.66</td>\n",
       "    </tr>\n",
       "    <tr>\n",
       "      <th>2593</th>\n",
       "      <td>17</td>\n",
       "      <td>LessThanHighSchool</td>\n",
       "      <td>black</td>\n",
       "      <td>NotHispanic</td>\n",
       "      <td>NotMarried</td>\n",
       "      <td>1</td>\n",
       "      <td>0.0</td>\n",
       "      <td>297.19</td>\n",
       "      <td>54.68</td>\n",
       "    </tr>\n",
       "    <tr>\n",
       "      <th>2597</th>\n",
       "      <td>28</td>\n",
       "      <td>Intermediate</td>\n",
       "      <td>black</td>\n",
       "      <td>NotHispanic</td>\n",
       "      <td>NotMarried</td>\n",
       "      <td>0</td>\n",
       "      <td>0.0</td>\n",
       "      <td>1063.45</td>\n",
       "      <td>0.00</td>\n",
       "    </tr>\n",
       "  </tbody>\n",
       "</table>\n",
       "</div>"
      ],
      "text/plain": [
       "       Age          Eduacation   Race         Hisp MaritalStatus  Nodeg  \\\n",
       "11021   26          HighSchool  black  NotHispanic    NotMarried      0   \n",
       "13922   39  LessThanHighSchool  black  NotHispanic       Married      1   \n",
       "8042    20  LessThanHighSchool  black  NotHispanic    NotMarried      1   \n",
       "2593    17  LessThanHighSchool  black  NotHispanic    NotMarried      1   \n",
       "2597    28        Intermediate  black  NotHispanic    NotMarried      0   \n",
       "\n",
       "       Earnings_1974  Earnings_1975  Earnings_1978  \n",
       "11021            0.0        1448.37           0.00  \n",
       "13922            0.0           0.00         964.96  \n",
       "8042             0.0        3480.39        5495.66  \n",
       "2593             0.0         297.19          54.68  \n",
       "2597             0.0        1063.45           0.00  "
      ]
     },
     "execution_count": 325,
     "metadata": {},
     "output_type": "execute_result"
    }
   ],
   "source": [
    "df_black.head()"
   ]
  },
  {
   "cell_type": "code",
   "execution_count": null,
   "metadata": {},
   "outputs": [],
   "source": []
  },
  {
   "cell_type": "code",
   "execution_count": 326,
   "metadata": {},
   "outputs": [
    {
     "data": {
      "text/plain": [
       "NotHispanic    1032\n",
       "Name: Hisp, dtype: int64"
      ]
     },
     "execution_count": 326,
     "metadata": {},
     "output_type": "execute_result"
    }
   ],
   "source": [
    "df_black[\"Hisp\"].value_counts()"
   ]
  },
  {
   "cell_type": "code",
   "execution_count": 327,
   "metadata": {},
   "outputs": [
    {
     "data": {
      "text/plain": [
       "LessThanHighSchool    463\n",
       "HighSchool            371\n",
       "Intermediate          137\n",
       "graduate               41\n",
       "PostGraduate           20\n",
       "Name: Eduacation, dtype: int64"
      ]
     },
     "execution_count": 327,
     "metadata": {},
     "output_type": "execute_result"
    }
   ],
   "source": [
    "df_black[\"Eduacation\"].value_counts()"
   ]
  },
  {
   "cell_type": "code",
   "execution_count": 328,
   "metadata": {},
   "outputs": [
    {
     "data": {
      "text/html": [
       "<div>\n",
       "<style scoped>\n",
       "    .dataframe tbody tr th:only-of-type {\n",
       "        vertical-align: middle;\n",
       "    }\n",
       "\n",
       "    .dataframe tbody tr th {\n",
       "        vertical-align: top;\n",
       "    }\n",
       "\n",
       "    .dataframe thead th {\n",
       "        text-align: right;\n",
       "    }\n",
       "</style>\n",
       "<table border=\"1\" class=\"dataframe\">\n",
       "  <thead>\n",
       "    <tr style=\"text-align: right;\">\n",
       "      <th></th>\n",
       "      <th>counts</th>\n",
       "      <th>percent</th>\n",
       "      <th>%</th>\n",
       "    </tr>\n",
       "  </thead>\n",
       "  <tbody>\n",
       "    <tr>\n",
       "      <th>LessThanHighSchool</th>\n",
       "      <td>463</td>\n",
       "      <td>0.448643</td>\n",
       "      <td>44.9%</td>\n",
       "    </tr>\n",
       "    <tr>\n",
       "      <th>HighSchool</th>\n",
       "      <td>371</td>\n",
       "      <td>0.359496</td>\n",
       "      <td>35.9%</td>\n",
       "    </tr>\n",
       "    <tr>\n",
       "      <th>Intermediate</th>\n",
       "      <td>137</td>\n",
       "      <td>0.132752</td>\n",
       "      <td>13.3%</td>\n",
       "    </tr>\n",
       "    <tr>\n",
       "      <th>graduate</th>\n",
       "      <td>41</td>\n",
       "      <td>0.039729</td>\n",
       "      <td>4.0%</td>\n",
       "    </tr>\n",
       "    <tr>\n",
       "      <th>PostGraduate</th>\n",
       "      <td>20</td>\n",
       "      <td>0.019380</td>\n",
       "      <td>1.9%</td>\n",
       "    </tr>\n",
       "  </tbody>\n",
       "</table>\n",
       "</div>"
      ],
      "text/plain": [
       "                    counts   percent      %\n",
       "LessThanHighSchool     463  0.448643  44.9%\n",
       "HighSchool             371  0.359496  35.9%\n",
       "Intermediate           137  0.132752  13.3%\n",
       "graduate                41  0.039729   4.0%\n",
       "PostGraduate            20  0.019380   1.9%"
      ]
     },
     "execution_count": 328,
     "metadata": {},
     "output_type": "execute_result"
    }
   ],
   "source": [
    "# calculating the counts an percentage of black people with eductaion\n",
    "\n",
    "s = df_black.Eduacation\n",
    "counts = s.value_counts()\n",
    "percent = s.value_counts(normalize=True)\n",
    "percent100 = s.value_counts(normalize=True).mul(100).round(1).astype(str) + '%'\n",
    "pd.DataFrame({'counts': counts, 'percent': percent, '%': percent100})\n"
   ]
  },
  {
   "cell_type": "markdown",
   "metadata": {},
   "source": [
    "##### Demographic Conclusion\n"
   ]
  },
  {
   "cell_type": "markdown",
   "metadata": {},
   "source": [
    "### Part 3 - Earnings\n",
    "\n",
    "<ol>\n",
    "<li>Make and plot a graph or graph of your choosing of the 3 earnings values, in order to answer the below question. Identify how the graph gave you your answer.\n",
    "    <ul>\n",
    "    <li>What is one conclusion could you draw from visualizing of the earnings in the different year? Please express it in plain language/non-statistics terms/as though you were explaining to one of your friends what happened to earnings between 1974 and 1978?\n",
    "    </ul>\n",
    "<li>Which has the greatest effect size on 1978 earnings: Race, Hispanic, MaritalStatus, or Nodeg? \n",
    "    <ul>\n",
    "    <li>What could you investigate further in an attempt to explain this?\n",
    "    </ul>\n",
    "<li>Plot a histogram and PMF, and compute useful descriptive statistics (think: average...) for the 1978 earnings value. Use the \"Cohorts\" code from the quiz to break the data into cohorts, plotting each group (either on one chart, or separately, whichever makes the most sense for examining the data - state specifically why you chose 1 vs many charts.\n",
    "    <ul>\n",
    "    <li>What is the difference in median income between the groups?\n",
    "    <li>Theorize a reason for the difference between the groups that could be explained with more data. Briefly describe the data you'd need. This does not need to be something you have data for, or know how to solve right now - just one well founded hypothesis on what might explain the difference.\n",
    "    </ul>\n",
    "<li>Are there outliers in the 1978 earnings data? Demonstrate this in some way with your code. \n",
    "    <ul>\n",
    "    <li>What can you infer from the presence of outliers that may impact analysis of this data.\n",
    "    </ul>\n",
    "</ol>"
   ]
  },
  {
   "cell_type": "markdown",
   "metadata": {},
   "source": [
    "##### Plot Earnings Data"
   ]
  },
  {
   "cell_type": "code",
   "execution_count": 329,
   "metadata": {},
   "outputs": [
    {
     "data": {
      "image/png": "[encoded data removed]",
      "text/plain": [
       "<Figure size 432x288 with 1 Axes>"
      ]
     },
     "metadata": {
      "needs_background": "light"
     },
     "output_type": "display_data"
    }
   ],
   "source": [
    "#Hist\n",
    "histSP = thinkstats2.Hist(round(df_real[\"Earnings_1978\"], -3))\n",
    "thinkplot.Hist(histSP)\n",
    "thinkplot.Config()\n"
   ]
  },
  {
   "cell_type": "markdown",
   "metadata": {},
   "source": [
    "Race and gender still played a strong role in lifetime earnings, however. White men had higher earnings than any other group at each education level below a master’s degree, where they were out-earned only by Asian men. Moreover, workers of some racial groups got more value from higher degrees than others did. For example, while Asian, Hispanic and non-Hispanic black workers with just a high school diploma made roughly similar earnings over a 40-year career span, an Asian man with a master’s degree could expect to earn nearly $3.5 million during his career, while, with the same academic credentials, a Hispanic man would earn $2.8 million, and a non-Hispanic black woman would earn only $2.3 million during the same time frame.\n",
    "\n",
    "The Census researchers also compared the data to previous educational attainment data and found that the overall level of education in America has risen dramatically in the past. As of 2008, 85 percent of adults ages 25 and older had at least a high school diploma, up from 24.5 percent in 1940.\n",
    "\n",
    "However, they found those who speak English as a second language had an annual decrease in earnings, after accounting for education and other issues. Those who spoke English “very well” still saw $989 less each year compared to workers who spoke only English."
   ]
  },
  {
   "cell_type": "code",
   "execution_count": null,
   "metadata": {},
   "outputs": [],
   "source": []
  },
  {
   "cell_type": "code",
   "execution_count": 330,
   "metadata": {},
   "outputs": [],
   "source": [
    "df_plot =  df[(df[\"Earnings_1978\"]!=0) & (df[\"Earnings_1978\"]<25000)]"
   ]
  },
  {
   "cell_type": "code",
   "execution_count": 359,
   "metadata": {},
   "outputs": [
    {
     "name": "stderr",
     "output_type": "stream",
     "text": [
      "c:\\Users\\toluw\\anaconda3\\lib\\site-packages\\seaborn\\distributions.py:2619: FutureWarning: `distplot` is a deprecated function and will be removed in a future version. Please adapt your code to use either `displot` (a figure-level function with similar flexibility) or `histplot` (an axes-level function for histograms).\n",
      "  warnings.warn(msg, FutureWarning)\n"
     ]
    },
    {
     "data": {
      "text/plain": [
       "<AxesSubplot:xlabel='Earnings_1974', ylabel='Density'>"
      ]
     },
     "execution_count": 359,
     "metadata": {},
     "output_type": "execute_result"
    },
    {
     "data": {
      "image/png": "[encoded data removed]",
      "text/plain": [
       "<Figure size 432x288 with 1 Axes>"
      ]
     },
     "metadata": {
      "needs_background": "light"
     },
     "output_type": "display_data"
    }
   ],
   "source": [
    "\t\n",
    "sns.distplot(df_real[\"Earnings_1974\"])"
   ]
  },
  {
   "cell_type": "code",
   "execution_count": 360,
   "metadata": {},
   "outputs": [
    {
     "data": {
      "image/png": "[encoded data removed]",
      "text/plain": [
       "<Figure size 432x288 with 1 Axes>"
      ]
     },
     "metadata": {
      "needs_background": "light"
     },
     "output_type": "display_data"
    }
   ],
   "source": [
    "#Hist\n",
    "histSP = thinkstats2.Hist(round(df_real[\"Earnings_1974\"], -3))\n",
    "thinkplot.Hist(histSP)\n",
    "thinkplot.Config()"
   ]
  },
  {
   "cell_type": "markdown",
   "metadata": {},
   "source": [
    "As a conclusion, there seems to be a large jump in the number of people earning near the top end, around $25k. Otherwise the distributions are pretty similar. "
   ]
  },
  {
   "cell_type": "markdown",
   "metadata": {},
   "source": [
    "##### What to Investigate Further\n"
   ]
  },
  {
   "cell_type": "markdown",
   "metadata": {},
   "source": [
    "##### Histogram and PMF"
   ]
  },
  {
   "cell_type": "code",
   "execution_count": 333,
   "metadata": {},
   "outputs": [],
   "source": [
    "#Create a hist, pmf, and stats for 1987 Earnings\n",
    "#Note: if you don't round or otherwise create bins, the thinkstats plots for this will be weird\n",
    "#That's because there are very few values that are the same, e.g. $14762.34, $15672.86, etc... \n",
    "#Every cent is a different value. \n",
    "#Seaborn plots will probably look better by default. "
   ]
  },
  {
   "cell_type": "code",
   "execution_count": null,
   "metadata": {},
   "outputs": [],
   "source": []
  },
  {
   "cell_type": "markdown",
   "metadata": {},
   "source": [
    "##### Differences in Median Income, and Theory on Why\n"
   ]
  },
  {
   "cell_type": "markdown",
   "metadata": {},
   "source": [
    "##### Outliers"
   ]
  },
  {
   "cell_type": "code",
   "execution_count": null,
   "metadata": {},
   "outputs": [],
   "source": []
  },
  {
   "cell_type": "markdown",
   "metadata": {},
   "source": [
    "##### Outlier Conclusions\n"
   ]
  },
  {
   "cell_type": "code",
   "execution_count": 334,
   "metadata": {},
   "outputs": [],
   "source": [
    "# putting the years in data frame and median earning and rounding to 2 decimal places\n",
    "\n",
    "Data = {'Year': [1974,1975,1978],\n",
    "        'Earning': [round(df_black[\"Earnings_1974\"].median(),2),round(df_black[\"Earnings_1975\"].median(),2),round(df_black[\"Earnings_1978\"].median(),2)]\n",
    "  }"
   ]
  },
  {
   "cell_type": "code",
   "execution_count": 335,
   "metadata": {},
   "outputs": [],
   "source": [
    "df_Earning_black = pd.DataFrame(Data,columns=['Year','Earning'])\n"
   ]
  },
  {
   "cell_type": "code",
   "execution_count": 336,
   "metadata": {},
   "outputs": [
    {
     "data": {
      "text/html": [
       "<div>\n",
       "<style scoped>\n",
       "    .dataframe tbody tr th:only-of-type {\n",
       "        vertical-align: middle;\n",
       "    }\n",
       "\n",
       "    .dataframe tbody tr th {\n",
       "        vertical-align: top;\n",
       "    }\n",
       "\n",
       "    .dataframe thead th {\n",
       "        text-align: right;\n",
       "    }\n",
       "</style>\n",
       "<table border=\"1\" class=\"dataframe\">\n",
       "  <thead>\n",
       "    <tr style=\"text-align: right;\">\n",
       "      <th></th>\n",
       "      <th>Year</th>\n",
       "      <th>Earning</th>\n",
       "    </tr>\n",
       "  </thead>\n",
       "  <tbody>\n",
       "    <tr>\n",
       "      <th>0</th>\n",
       "      <td>1974</td>\n",
       "      <td>11160.97</td>\n",
       "    </tr>\n",
       "    <tr>\n",
       "      <th>1</th>\n",
       "      <td>1975</td>\n",
       "      <td>10886.06</td>\n",
       "    </tr>\n",
       "    <tr>\n",
       "      <th>2</th>\n",
       "      <td>1978</td>\n",
       "      <td>12214.15</td>\n",
       "    </tr>\n",
       "  </tbody>\n",
       "</table>\n",
       "</div>"
      ],
      "text/plain": [
       "   Year   Earning\n",
       "0  1974  11160.97\n",
       "1  1975  10886.06\n",
       "2  1978  12214.15"
      ]
     },
     "execution_count": 336,
     "metadata": {},
     "output_type": "execute_result"
    }
   ],
   "source": [
    "df_Earning_black.head()"
   ]
  },
  {
   "cell_type": "code",
   "execution_count": 337,
   "metadata": {},
   "outputs": [
    {
     "name": "stdout",
     "output_type": "stream",
     "text": [
      "<class 'pandas.core.frame.DataFrame'>\n",
      "RangeIndex: 3 entries, 0 to 2\n",
      "Data columns (total 2 columns):\n",
      " #   Column   Non-Null Count  Dtype  \n",
      "---  ------   --------------  -----  \n",
      " 0   Year     3 non-null      int64  \n",
      " 1   Earning  3 non-null      float64\n",
      "dtypes: float64(1), int64(1)\n",
      "memory usage: 176.0 bytes\n"
     ]
    }
   ],
   "source": [
    "df_Earning_black.info()"
   ]
  },
  {
   "cell_type": "code",
   "execution_count": 338,
   "metadata": {},
   "outputs": [],
   "source": [
    "# putting the years in data frame and median earning and rounding to 2 decimal places\n",
    "\n",
    "Data1 = {'Year': [1974,1975,1978],\n",
    "        'Earning': [round(df_hisp[\"Earnings_1974\"].median(),2),round(df_hisp[\"Earnings_1975\"].median(),2),round(df_hisp[\"Earnings_1978\"].median(),2)]\n",
    "  }"
   ]
  },
  {
   "cell_type": "code",
   "execution_count": 339,
   "metadata": {},
   "outputs": [],
   "source": [
    "df_Earning_hisp = pd.DataFrame(Data1,columns=['Year','Earning'])\n",
    "\n"
   ]
  },
  {
   "cell_type": "code",
   "execution_count": 340,
   "metadata": {},
   "outputs": [
    {
     "data": {
      "text/html": [
       "<div>\n",
       "<style scoped>\n",
       "    .dataframe tbody tr th:only-of-type {\n",
       "        vertical-align: middle;\n",
       "    }\n",
       "\n",
       "    .dataframe tbody tr th {\n",
       "        vertical-align: top;\n",
       "    }\n",
       "\n",
       "    .dataframe thead th {\n",
       "        text-align: right;\n",
       "    }\n",
       "</style>\n",
       "<table border=\"1\" class=\"dataframe\">\n",
       "  <thead>\n",
       "    <tr style=\"text-align: right;\">\n",
       "      <th></th>\n",
       "      <th>Year</th>\n",
       "      <th>Earning</th>\n",
       "    </tr>\n",
       "  </thead>\n",
       "  <tbody>\n",
       "    <tr>\n",
       "      <th>0</th>\n",
       "      <td>1974</td>\n",
       "      <td>12480.53</td>\n",
       "    </tr>\n",
       "    <tr>\n",
       "      <th>1</th>\n",
       "      <td>1975</td>\n",
       "      <td>12204.63</td>\n",
       "    </tr>\n",
       "    <tr>\n",
       "      <th>2</th>\n",
       "      <td>1978</td>\n",
       "      <td>13581.78</td>\n",
       "    </tr>\n",
       "  </tbody>\n",
       "</table>\n",
       "</div>"
      ],
      "text/plain": [
       "   Year   Earning\n",
       "0  1974  12480.53\n",
       "1  1975  12204.63\n",
       "2  1978  13581.78"
      ]
     },
     "execution_count": 340,
     "metadata": {},
     "output_type": "execute_result"
    }
   ],
   "source": [
    "df_Earning_hisp.head()"
   ]
  },
  {
   "cell_type": "code",
   "execution_count": 341,
   "metadata": {},
   "outputs": [],
   "source": [
    "Data2 = {'Year': [1974,1975,1978],\n",
    "        'Earning': [round(df_nhb[\"Earnings_1974\"].median(),2),round(df_nhb[\"Earnings_1975\"].median(),2),round(df_nhb[\"Earnings_1978\"].median(),2)]\n",
    "  }"
   ]
  },
  {
   "cell_type": "code",
   "execution_count": 342,
   "metadata": {},
   "outputs": [],
   "source": [
    "df_Earning_nhb = pd.DataFrame(Data2,columns=['Year','Earning'])\n"
   ]
  },
  {
   "cell_type": "code",
   "execution_count": 343,
   "metadata": {},
   "outputs": [
    {
     "data": {
      "text/html": [
       "<div>\n",
       "<style scoped>\n",
       "    .dataframe tbody tr th:only-of-type {\n",
       "        vertical-align: middle;\n",
       "    }\n",
       "\n",
       "    .dataframe tbody tr th {\n",
       "        vertical-align: top;\n",
       "    }\n",
       "\n",
       "    .dataframe thead th {\n",
       "        text-align: right;\n",
       "    }\n",
       "</style>\n",
       "<table border=\"1\" class=\"dataframe\">\n",
       "  <thead>\n",
       "    <tr style=\"text-align: right;\">\n",
       "      <th></th>\n",
       "      <th>Year</th>\n",
       "      <th>Earning</th>\n",
       "    </tr>\n",
       "  </thead>\n",
       "  <tbody>\n",
       "    <tr>\n",
       "      <th>0</th>\n",
       "      <td>1974</td>\n",
       "      <td>14093.01</td>\n",
       "    </tr>\n",
       "    <tr>\n",
       "      <th>1</th>\n",
       "      <td>1975</td>\n",
       "      <td>13695.97</td>\n",
       "    </tr>\n",
       "    <tr>\n",
       "      <th>2</th>\n",
       "      <td>1978</td>\n",
       "      <td>15776.21</td>\n",
       "    </tr>\n",
       "  </tbody>\n",
       "</table>\n",
       "</div>"
      ],
      "text/plain": [
       "   Year   Earning\n",
       "0  1974  14093.01\n",
       "1  1975  13695.97\n",
       "2  1978  15776.21"
      ]
     },
     "execution_count": 343,
     "metadata": {},
     "output_type": "execute_result"
    }
   ],
   "source": [
    "df_Earning_nhb.head()"
   ]
  },
  {
   "cell_type": "code",
   "execution_count": 344,
   "metadata": {},
   "outputs": [
    {
     "data": {
      "image/png": "[encoded data removed]",
      "text/plain": [
       "<Figure size 432x288 with 1 Axes>"
      ]
     },
     "metadata": {
      "needs_background": "light"
     },
     "output_type": "display_data"
    }
   ],
   "source": [
    "plt.plot(df_Earning_black['Year'], df_Earning_black['Earning'], color='red', marker='o')\n",
    "plt.plot(df_Earning_hisp['Year'], df_Earning_hisp['Earning'], color='green', marker='o')\n",
    "plt.plot(df_Earning_nhb['Year'], df_Earning_nhb['Earning'], color='blue', marker='o')\n",
    "plt.title('Earning Vs Year', fontsize=14)\n",
    "plt.xlabel('Year', fontsize=14)\n",
    "plt.ylabel('Earning', fontsize=14)\n",
    "\n",
    "plt.grid(True)\n",
    "plt.show()"
   ]
  },
  {
   "cell_type": "code",
   "execution_count": 345,
   "metadata": {},
   "outputs": [
    {
     "data": {
      "image/png": "[encoded data removed]",
      "text/plain": [
       "<Figure size 432x288 with 1 Axes>"
      ]
     },
     "metadata": {
      "needs_background": "light"
     },
     "output_type": "display_data"
    }
   ],
   "source": [
    "plt.plot(df_Earning_black['Year'], df_Earning_black['Earning'], color='red', marker='o')\n",
    "plt.plot(df_Earning_hisp['Year'], df_Earning_hisp['Earning'], color='green', marker='o')\n",
    "plt.plot(df_Earning_nhb['Year'], df_Earning_nhb['Earning'], color='blue', marker='o')\n",
    "plt.title('Earning Vs Year', fontsize=14)\n",
    "plt.xlabel('Year', fontsize=14)\n",
    "plt.ylabel('Earning', fontsize=14)\n",
    "plt.axis([1973, 1979, 10000, 18000]) # setting axis scale X and Y\n",
    "plt.grid(True)\n",
    "plt.show()"
   ]
  },
  {
   "cell_type": "code",
   "execution_count": 346,
   "metadata": {},
   "outputs": [],
   "source": [
    "\n",
    "df_Earning_black['Year'] = pd.to_datetime(df_Earning_black[\"Year\"], format='%Y')\n",
    "\n",
    "df_Earning_black = df_Earning_black.set_index('Year')\n"
   ]
  },
  {
   "cell_type": "code",
   "execution_count": 347,
   "metadata": {},
   "outputs": [
    {
     "data": {
      "text/html": [
       "<div>\n",
       "<style scoped>\n",
       "    .dataframe tbody tr th:only-of-type {\n",
       "        vertical-align: middle;\n",
       "    }\n",
       "\n",
       "    .dataframe tbody tr th {\n",
       "        vertical-align: top;\n",
       "    }\n",
       "\n",
       "    .dataframe thead th {\n",
       "        text-align: right;\n",
       "    }\n",
       "</style>\n",
       "<table border=\"1\" class=\"dataframe\">\n",
       "  <thead>\n",
       "    <tr style=\"text-align: right;\">\n",
       "      <th></th>\n",
       "      <th>Earning</th>\n",
       "    </tr>\n",
       "    <tr>\n",
       "      <th>Year</th>\n",
       "      <th></th>\n",
       "    </tr>\n",
       "  </thead>\n",
       "  <tbody>\n",
       "    <tr>\n",
       "      <th>1974-01-01</th>\n",
       "      <td>11160.97</td>\n",
       "    </tr>\n",
       "    <tr>\n",
       "      <th>1975-01-01</th>\n",
       "      <td>10886.06</td>\n",
       "    </tr>\n",
       "    <tr>\n",
       "      <th>1978-01-01</th>\n",
       "      <td>12214.15</td>\n",
       "    </tr>\n",
       "  </tbody>\n",
       "</table>\n",
       "</div>"
      ],
      "text/plain": [
       "             Earning\n",
       "Year                \n",
       "1974-01-01  11160.97\n",
       "1975-01-01  10886.06\n",
       "1978-01-01  12214.15"
      ]
     },
     "execution_count": 347,
     "metadata": {},
     "output_type": "execute_result"
    }
   ],
   "source": [
    "df_Earning_black.head()"
   ]
  },
  {
   "cell_type": "code",
   "execution_count": 348,
   "metadata": {},
   "outputs": [
    {
     "data": {
      "text/html": [
       "<div>\n",
       "<style scoped>\n",
       "    .dataframe tbody tr th:only-of-type {\n",
       "        vertical-align: middle;\n",
       "    }\n",
       "\n",
       "    .dataframe tbody tr th {\n",
       "        vertical-align: top;\n",
       "    }\n",
       "\n",
       "    .dataframe thead th {\n",
       "        text-align: right;\n",
       "    }\n",
       "</style>\n",
       "<table border=\"1\" class=\"dataframe\">\n",
       "  <thead>\n",
       "    <tr style=\"text-align: right;\">\n",
       "      <th></th>\n",
       "      <th>Earning</th>\n",
       "    </tr>\n",
       "    <tr>\n",
       "      <th>Year</th>\n",
       "      <th></th>\n",
       "    </tr>\n",
       "  </thead>\n",
       "  <tbody>\n",
       "    <tr>\n",
       "      <th>1974-01-01</th>\n",
       "      <td>12480.53</td>\n",
       "    </tr>\n",
       "    <tr>\n",
       "      <th>1975-01-01</th>\n",
       "      <td>12204.63</td>\n",
       "    </tr>\n",
       "    <tr>\n",
       "      <th>1978-01-01</th>\n",
       "      <td>13581.78</td>\n",
       "    </tr>\n",
       "  </tbody>\n",
       "</table>\n",
       "</div>"
      ],
      "text/plain": [
       "             Earning\n",
       "Year                \n",
       "1974-01-01  12480.53\n",
       "1975-01-01  12204.63\n",
       "1978-01-01  13581.78"
      ]
     },
     "execution_count": 348,
     "metadata": {},
     "output_type": "execute_result"
    }
   ],
   "source": [
    "df_Earning_hisp['Year'] = pd.to_datetime(df_Earning_hisp[\"Year\"], format='%Y')\n",
    "df_Earning_hisp = df_Earning_hisp.set_index('Year')\n",
    "df_Earning_hisp.head()"
   ]
  },
  {
   "cell_type": "code",
   "execution_count": 349,
   "metadata": {},
   "outputs": [
    {
     "data": {
      "text/html": [
       "<div>\n",
       "<style scoped>\n",
       "    .dataframe tbody tr th:only-of-type {\n",
       "        vertical-align: middle;\n",
       "    }\n",
       "\n",
       "    .dataframe tbody tr th {\n",
       "        vertical-align: top;\n",
       "    }\n",
       "\n",
       "    .dataframe thead th {\n",
       "        text-align: right;\n",
       "    }\n",
       "</style>\n",
       "<table border=\"1\" class=\"dataframe\">\n",
       "  <thead>\n",
       "    <tr style=\"text-align: right;\">\n",
       "      <th></th>\n",
       "      <th>Earning</th>\n",
       "    </tr>\n",
       "    <tr>\n",
       "      <th>Year</th>\n",
       "      <th></th>\n",
       "    </tr>\n",
       "  </thead>\n",
       "  <tbody>\n",
       "    <tr>\n",
       "      <th>1974-01-01</th>\n",
       "      <td>14093.01</td>\n",
       "    </tr>\n",
       "    <tr>\n",
       "      <th>1975-01-01</th>\n",
       "      <td>13695.97</td>\n",
       "    </tr>\n",
       "    <tr>\n",
       "      <th>1978-01-01</th>\n",
       "      <td>15776.21</td>\n",
       "    </tr>\n",
       "  </tbody>\n",
       "</table>\n",
       "</div>"
      ],
      "text/plain": [
       "             Earning\n",
       "Year                \n",
       "1974-01-01  14093.01\n",
       "1975-01-01  13695.97\n",
       "1978-01-01  15776.21"
      ]
     },
     "execution_count": 349,
     "metadata": {},
     "output_type": "execute_result"
    }
   ],
   "source": [
    "df_Earning_nhb['Year'] = pd.to_datetime(df_Earning_nhb[\"Year\"], format='%Y')\n",
    "df_Earning_nhb = df_Earning_nhb.set_index('Year')\n",
    "df_Earning_nhb.head()"
   ]
  },
  {
   "cell_type": "code",
   "execution_count": 350,
   "metadata": {},
   "outputs": [
    {
     "data": {
      "image/png": "[encoded data removed]",
      "text/plain": [
       "<Figure size 432x288 with 1 Axes>"
      ]
     },
     "metadata": {
      "needs_background": "light"
     },
     "output_type": "display_data"
    }
   ],
   "source": [
    "plt.plot(df_Earning_black['Earning'], color='red', marker='o')\n",
    "plt.plot(df_Earning_hisp['Earning'], color='green', marker='o')\n",
    "plt.plot(df_Earning_nhb['Earning'], color='blue', marker='o')\n",
    "plt.title('Earning Vs Year', fontsize=14)\n",
    "plt.xlabel('Year', fontsize=14)\n",
    "plt.ylabel('Earning', fontsize=14)\n",
    "plt.grid(True)\n",
    "plt.show()"
   ]
  },
  {
   "cell_type": "code",
   "execution_count": null,
   "metadata": {},
   "outputs": [],
   "source": []
  },
  {
   "cell_type": "code",
   "execution_count": 351,
   "metadata": {},
   "outputs": [],
   "source": [
    "df_Earning = df2[[\"Earnings_1974\", \"Earnings_1975\", \"Earnings_1978\"]]"
   ]
  },
  {
   "cell_type": "code",
   "execution_count": 352,
   "metadata": {},
   "outputs": [
    {
     "data": {
      "text/plain": [
       "(1032, 3)"
      ]
     },
     "execution_count": 352,
     "metadata": {},
     "output_type": "execute_result"
    }
   ],
   "source": [
    "#find Q1, Q3, and interquartile range for each column\n",
    "import scipy.stats as stats\n",
    "Q1 = df_Earning.quantile(q=.25)\n",
    "Q3 = df_Earning.quantile(q=.75)\n",
    "IQR = df_Earning.apply(stats.iqr)\n",
    "\n",
    "#only keep rows in dataframe that have values within 1.5*IQR of Q1 and Q3\n",
    "data_clean = df_Earning[~((df_Earning < (Q1-1.5*IQR)) | (df_Earning > (Q3+1.5*IQR))).any(axis=1)]\n",
    "\n",
    "#find how many rows are left in the dataframe \n",
    "data_clean.shape\n"
   ]
  }
 ],
 "metadata": {
  "kernelspec": {
   "display_name": "Python 3.9.12 ('base')",
   "language": "python",
   "name": "python3"
  },
  "language_info": {
   "codemirror_mode": {
    "name": "ipython",
    "version": 3
   },
   "file_extension": ".py",
   "mimetype": "text/x-python",
   "name": "python",
   "nbconvert_exporter": "python",
   "pygments_lexer": "ipython3",
   "version": "3.9.12"
  },
  "orig_nbformat": 4,
  "vscode": {
   "interpreter": {
    "hash": "5e7cbeb742f02d765fcec4b3e42c8713f0c6d06ac97c88ada4b0856650159d56"
   }
  }
 },
 "nbformat": 4,
 "nbformat_minor": 2
}
