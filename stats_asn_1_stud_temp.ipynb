{
 "cells": [
  {
   "cell_type": "code",
   "execution_count": 129,
   "metadata": {},
   "outputs": [],
   "source": [
    "import thinkplot\n",
    "import thinkstats2\n",
    "import pandas as pd\n",
    "import numpy as np\n",
    "import scipy\n",
    "import seaborn as sns\n",
    "from matplotlib import pyplot as plt"
   ]
  },
  {
   "cell_type": "markdown",
   "metadata": {},
   "source": [
    "# Assignment #1 - Basic Data Exploration in Python ..\n",
    "\n",
    "## Assignment Overview\n",
    "\n",
    "In this assignment you'll load some data into a python notebook, and use some basic functions to do some basic analysis. Each section asks you to either calculate some answers or explore some information found in the data. When generating your answers, try to think about a few factors that can make your code better:\n",
    "<ul>\n",
    "<li> Present the answers clearly. Use the markdown cells, code comments, and formatting to help make your answers readable. One of the features of notebooks is that they allow us to combine code and commentary, and we need to ensure both are readable. Refer to the guide in the guides folder of the exercises workbook for an explaination and examples of different formatting. \n",
    "<li> Make your code clear. It is easy to make sense of small pieces of code, for short periods of time, so if your code makes little sense here, it won't really hurt your ability to find the answers. If you need to come back to it later, or others need to edit it, having code that doesn't make sense is a big issue. Use things like clearly named variables, comments, and spacing to make things readable. Even in this course, if you are looking back to something from 2 months ago for the project, it is far easier to understand code that is cleaned up a little. \n",
    "<li> Structure the code well. If there is some kind of repetitive task, it should likely be moved into a function. If there is something that happens several times, it should be in a loop. Having well structured code makes it easy to reuse stuff later, understand how things work, debug errors, and share code with others. This is something to keep in the back of your minds, right now you may not have much experience to lean on to judge how things should be, as you read, adjust, and write code it will become more clear. \n",
    "</ul>\n",
    "\n",
    "## Peer Evaluation\n",
    "\n",
    "This assignemnt will have a peer evaluation for the grade - you'll each read some other notebooks and evaluate their answers. The reason for this is not (entirely) my personal laziness, we are hoping to accomplish a couple of things:\n",
    "<ul>\n",
    "<li> Quick experience reading notebooks. One of the important skills we need to have is the ability to read examples that we find and adapting it to our scenario. This is practice with data you're now comfortable with.\n",
    "<li> Critically evaluating what makes sense in a data notebook. You know how you attempted to explain your look at the data, how did other people do it? What was better? What was worse?\n",
    "<li> Design is subjective. This will give you a set of opinions that are not mine. You will end up with plenty of feedback of what I think, feadback of others early-on should hopefully help you make things appealing to all and not tailored to me. \n",
    "</ul>\n",
    "Doing this right up front will hopefully help kickstart some of that expericence. \n",
    "\n",
    "### Grading\n",
    "\n",
    "The detailed grading is defined in the marking guide in the Moodle workshop. Note that there's points both for getting a correct answer and for presenting it in a way that makes sense. \n",
    "\n",
    "## Structure\n",
    "\n",
    "Each section contains a set of questions/prompts and a rough framework for your responses. You can change the structure around, just make sure it is readable. What I have there is just a loose guide to help get you started, you're not bound to it. "
   ]
  },
  {
   "cell_type": "markdown",
   "metadata": {},
   "source": [
    "## Load Data\n",
    "\n",
    "Load the labor data into a dataframe. You probably don't want to change this section. "
   ]
  },
  {
   "cell_type": "code",
   "execution_count": 130,
   "metadata": {},
   "outputs": [],
   "source": [
    "#Load/preview data\n",
    "df = pd.read_csv(\"LabourTrainingEvaluationData.csv\")"
   ]
  },
  {
   "cell_type": "code",
   "execution_count": 131,
   "metadata": {},
   "outputs": [],
   "source": [
    "df = df.sort_values(\"Earnings_1974\")\n"
   ]
  },
  {
   "cell_type": "code",
   "execution_count": 132,
   "metadata": {},
   "outputs": [
    {
     "data": {
      "text/html": [
       "<div>\n",
       "<style scoped>\n",
       "    .dataframe tbody tr th:only-of-type {\n",
       "        vertical-align: middle;\n",
       "    }\n",
       "\n",
       "    .dataframe tbody tr th {\n",
       "        vertical-align: top;\n",
       "    }\n",
       "\n",
       "    .dataframe thead th {\n",
       "        text-align: right;\n",
       "    }\n",
       "</style>\n",
       "<table border=\"1\" class=\"dataframe\">\n",
       "  <thead>\n",
       "    <tr style=\"text-align: right;\">\n",
       "      <th></th>\n",
       "      <th>Age</th>\n",
       "      <th>Eduacation</th>\n",
       "      <th>Race</th>\n",
       "      <th>Hisp</th>\n",
       "      <th>MaritalStatus</th>\n",
       "      <th>Nodeg</th>\n",
       "      <th>Earnings_1974</th>\n",
       "      <th>Earnings_1975</th>\n",
       "      <th>Earnings_1978</th>\n",
       "    </tr>\n",
       "  </thead>\n",
       "  <tbody>\n",
       "    <tr>\n",
       "      <th>5834</th>\n",
       "      <td>16</td>\n",
       "      <td>LessThanHighSchool</td>\n",
       "      <td>NotBlack</td>\n",
       "      <td>NotHispanic</td>\n",
       "      <td>NotMarried</td>\n",
       "      <td>1</td>\n",
       "      <td>0.00</td>\n",
       "      <td>2323.8390</td>\n",
       "      <td>2625.92000</td>\n",
       "    </tr>\n",
       "    <tr>\n",
       "      <th>13932</th>\n",
       "      <td>48</td>\n",
       "      <td>LessThanHighSchool</td>\n",
       "      <td>NotBlack</td>\n",
       "      <td>NotHispanic</td>\n",
       "      <td>Married</td>\n",
       "      <td>1</td>\n",
       "      <td>0.00</td>\n",
       "      <td>0.0000</td>\n",
       "      <td>0.00000</td>\n",
       "    </tr>\n",
       "    <tr>\n",
       "      <th>8030</th>\n",
       "      <td>19</td>\n",
       "      <td>HighSchool</td>\n",
       "      <td>NotBlack</td>\n",
       "      <td>NotHispanic</td>\n",
       "      <td>NotMarried</td>\n",
       "      <td>0</td>\n",
       "      <td>0.00</td>\n",
       "      <td>483.3871</td>\n",
       "      <td>5334.59300</td>\n",
       "    </tr>\n",
       "    <tr>\n",
       "      <th>5788</th>\n",
       "      <td>17</td>\n",
       "      <td>LessThanHighSchool</td>\n",
       "      <td>NotBlack</td>\n",
       "      <td>NotHispanic</td>\n",
       "      <td>NotMarried</td>\n",
       "      <td>1</td>\n",
       "      <td>0.00</td>\n",
       "      <td>1079.5650</td>\n",
       "      <td>7248.24900</td>\n",
       "    </tr>\n",
       "    <tr>\n",
       "      <th>13927</th>\n",
       "      <td>55</td>\n",
       "      <td>LessThanHighSchool</td>\n",
       "      <td>NotBlack</td>\n",
       "      <td>NotHispanic</td>\n",
       "      <td>Married</td>\n",
       "      <td>1</td>\n",
       "      <td>0.00</td>\n",
       "      <td>0.0000</td>\n",
       "      <td>0.00000</td>\n",
       "    </tr>\n",
       "    <tr>\n",
       "      <th>2483</th>\n",
       "      <td>53</td>\n",
       "      <td>LessThanHighSchool</td>\n",
       "      <td>black</td>\n",
       "      <td>NotHispanic</td>\n",
       "      <td>Married</td>\n",
       "      <td>1</td>\n",
       "      <td>0.00</td>\n",
       "      <td>0.0000</td>\n",
       "      <td>0.00000</td>\n",
       "    </tr>\n",
       "    <tr>\n",
       "      <th>9186</th>\n",
       "      <td>17</td>\n",
       "      <td>LessThanHighSchool</td>\n",
       "      <td>NotBlack</td>\n",
       "      <td>NotHispanic</td>\n",
       "      <td>NotMarried</td>\n",
       "      <td>1</td>\n",
       "      <td>0.00</td>\n",
       "      <td>4040.7580</td>\n",
       "      <td>9713.09700</td>\n",
       "    </tr>\n",
       "    <tr>\n",
       "      <th>11021</th>\n",
       "      <td>26</td>\n",
       "      <td>HighSchool</td>\n",
       "      <td>black</td>\n",
       "      <td>NotHispanic</td>\n",
       "      <td>NotMarried</td>\n",
       "      <td>0</td>\n",
       "      <td>0.00</td>\n",
       "      <td>1448.3710</td>\n",
       "      <td>0.00000</td>\n",
       "    </tr>\n",
       "    <tr>\n",
       "      <th>9192</th>\n",
       "      <td>23</td>\n",
       "      <td>Intermediate</td>\n",
       "      <td>NotBlack</td>\n",
       "      <td>NotHispanic</td>\n",
       "      <td>NotMarried</td>\n",
       "      <td>0</td>\n",
       "      <td>0.00</td>\n",
       "      <td>601.5484</td>\n",
       "      <td>23018.55000</td>\n",
       "    </tr>\n",
       "    <tr>\n",
       "      <th>2491</th>\n",
       "      <td>31</td>\n",
       "      <td>LessThanHighSchool</td>\n",
       "      <td>NotBlack</td>\n",
       "      <td>NotHispanic</td>\n",
       "      <td>Married</td>\n",
       "      <td>1</td>\n",
       "      <td>0.00</td>\n",
       "      <td>0.0000</td>\n",
       "      <td>591.09060</td>\n",
       "    </tr>\n",
       "    <tr>\n",
       "      <th>13922</th>\n",
       "      <td>39</td>\n",
       "      <td>LessThanHighSchool</td>\n",
       "      <td>black</td>\n",
       "      <td>NotHispanic</td>\n",
       "      <td>Married</td>\n",
       "      <td>1</td>\n",
       "      <td>0.00</td>\n",
       "      <td>0.0000</td>\n",
       "      <td>964.95550</td>\n",
       "    </tr>\n",
       "    <tr>\n",
       "      <th>5785</th>\n",
       "      <td>49</td>\n",
       "      <td>PostGraduate</td>\n",
       "      <td>NotBlack</td>\n",
       "      <td>NotHispanic</td>\n",
       "      <td>Married</td>\n",
       "      <td>0</td>\n",
       "      <td>0.00</td>\n",
       "      <td>0.0000</td>\n",
       "      <td>0.00000</td>\n",
       "    </tr>\n",
       "    <tr>\n",
       "      <th>13914</th>\n",
       "      <td>29</td>\n",
       "      <td>Intermediate</td>\n",
       "      <td>NotBlack</td>\n",
       "      <td>NotHispanic</td>\n",
       "      <td>NotMarried</td>\n",
       "      <td>0</td>\n",
       "      <td>0.00</td>\n",
       "      <td>943.5000</td>\n",
       "      <td>16240.22000</td>\n",
       "    </tr>\n",
       "    <tr>\n",
       "      <th>2500</th>\n",
       "      <td>16</td>\n",
       "      <td>LessThanHighSchool</td>\n",
       "      <td>NotBlack</td>\n",
       "      <td>NotHispanic</td>\n",
       "      <td>NotMarried</td>\n",
       "      <td>1</td>\n",
       "      <td>0.00</td>\n",
       "      <td>0.0000</td>\n",
       "      <td>2255.01100</td>\n",
       "    </tr>\n",
       "    <tr>\n",
       "      <th>13906</th>\n",
       "      <td>55</td>\n",
       "      <td>HighSchool</td>\n",
       "      <td>NotBlack</td>\n",
       "      <td>NotHispanic</td>\n",
       "      <td>Married</td>\n",
       "      <td>0</td>\n",
       "      <td>0.00</td>\n",
       "      <td>0.0000</td>\n",
       "      <td>0.00000</td>\n",
       "    </tr>\n",
       "    <tr>\n",
       "      <th>13901</th>\n",
       "      <td>18</td>\n",
       "      <td>LessThanHighSchool</td>\n",
       "      <td>NotBlack</td>\n",
       "      <td>hispanic</td>\n",
       "      <td>NotMarried</td>\n",
       "      <td>1</td>\n",
       "      <td>0.00</td>\n",
       "      <td>3039.9680</td>\n",
       "      <td>2027.44100</td>\n",
       "    </tr>\n",
       "    <tr>\n",
       "      <th>5781</th>\n",
       "      <td>33</td>\n",
       "      <td>PostGraduate</td>\n",
       "      <td>NotBlack</td>\n",
       "      <td>NotHispanic</td>\n",
       "      <td>Married</td>\n",
       "      <td>0</td>\n",
       "      <td>0.00</td>\n",
       "      <td>0.0000</td>\n",
       "      <td>0.00000</td>\n",
       "    </tr>\n",
       "    <tr>\n",
       "      <th>2518</th>\n",
       "      <td>41</td>\n",
       "      <td>PostGraduate</td>\n",
       "      <td>NotBlack</td>\n",
       "      <td>NotHispanic</td>\n",
       "      <td>Married</td>\n",
       "      <td>0</td>\n",
       "      <td>0.00</td>\n",
       "      <td>0.0000</td>\n",
       "      <td>82.75269</td>\n",
       "    </tr>\n",
       "    <tr>\n",
       "      <th>2472</th>\n",
       "      <td>42</td>\n",
       "      <td>HighSchool</td>\n",
       "      <td>NotBlack</td>\n",
       "      <td>NotHispanic</td>\n",
       "      <td>Married</td>\n",
       "      <td>0</td>\n",
       "      <td>0.00</td>\n",
       "      <td>0.0000</td>\n",
       "      <td>0.00000</td>\n",
       "    </tr>\n",
       "    <tr>\n",
       "      <th>9195</th>\n",
       "      <td>30</td>\n",
       "      <td>PostGraduate</td>\n",
       "      <td>NotBlack</td>\n",
       "      <td>NotHispanic</td>\n",
       "      <td>Married</td>\n",
       "      <td>0</td>\n",
       "      <td>0.00</td>\n",
       "      <td>0.0000</td>\n",
       "      <td>0.00000</td>\n",
       "    </tr>\n",
       "    <tr>\n",
       "      <th>10041</th>\n",
       "      <td>45</td>\n",
       "      <td>LessThanHighSchool</td>\n",
       "      <td>NotBlack</td>\n",
       "      <td>NotHispanic</td>\n",
       "      <td>Married</td>\n",
       "      <td>1</td>\n",
       "      <td>25862.32</td>\n",
       "      <td>25243.5500</td>\n",
       "      <td>21594.02000</td>\n",
       "    </tr>\n",
       "    <tr>\n",
       "      <th>10040</th>\n",
       "      <td>30</td>\n",
       "      <td>PostGraduate</td>\n",
       "      <td>NotBlack</td>\n",
       "      <td>NotHispanic</td>\n",
       "      <td>NotMarried</td>\n",
       "      <td>0</td>\n",
       "      <td>25862.32</td>\n",
       "      <td>25243.5500</td>\n",
       "      <td>25564.67000</td>\n",
       "    </tr>\n",
       "    <tr>\n",
       "      <th>13061</th>\n",
       "      <td>30</td>\n",
       "      <td>Intermediate</td>\n",
       "      <td>NotBlack</td>\n",
       "      <td>hispanic</td>\n",
       "      <td>Married</td>\n",
       "      <td>0</td>\n",
       "      <td>25862.32</td>\n",
       "      <td>25243.5500</td>\n",
       "      <td>25564.67000</td>\n",
       "    </tr>\n",
       "    <tr>\n",
       "      <th>13062</th>\n",
       "      <td>38</td>\n",
       "      <td>LessThanHighSchool</td>\n",
       "      <td>NotBlack</td>\n",
       "      <td>hispanic</td>\n",
       "      <td>Married</td>\n",
       "      <td>1</td>\n",
       "      <td>25862.32</td>\n",
       "      <td>25243.5500</td>\n",
       "      <td>4187.87700</td>\n",
       "    </tr>\n",
       "    <tr>\n",
       "      <th>3497</th>\n",
       "      <td>45</td>\n",
       "      <td>HighSchool</td>\n",
       "      <td>NotBlack</td>\n",
       "      <td>hispanic</td>\n",
       "      <td>Married</td>\n",
       "      <td>0</td>\n",
       "      <td>25862.32</td>\n",
       "      <td>25243.5500</td>\n",
       "      <td>16591.91000</td>\n",
       "    </tr>\n",
       "    <tr>\n",
       "      <th>6787</th>\n",
       "      <td>33</td>\n",
       "      <td>Intermediate</td>\n",
       "      <td>NotBlack</td>\n",
       "      <td>NotHispanic</td>\n",
       "      <td>NotMarried</td>\n",
       "      <td>0</td>\n",
       "      <td>25862.32</td>\n",
       "      <td>25243.5500</td>\n",
       "      <td>25564.67000</td>\n",
       "    </tr>\n",
       "    <tr>\n",
       "      <th>13075</th>\n",
       "      <td>32</td>\n",
       "      <td>Intermediate</td>\n",
       "      <td>NotBlack</td>\n",
       "      <td>NotHispanic</td>\n",
       "      <td>Married</td>\n",
       "      <td>0</td>\n",
       "      <td>25862.32</td>\n",
       "      <td>25243.5500</td>\n",
       "      <td>25564.67000</td>\n",
       "    </tr>\n",
       "    <tr>\n",
       "      <th>10035</th>\n",
       "      <td>53</td>\n",
       "      <td>PostGraduate</td>\n",
       "      <td>NotBlack</td>\n",
       "      <td>NotHispanic</td>\n",
       "      <td>NotMarried</td>\n",
       "      <td>0</td>\n",
       "      <td>25862.32</td>\n",
       "      <td>25243.5500</td>\n",
       "      <td>25564.67000</td>\n",
       "    </tr>\n",
       "    <tr>\n",
       "      <th>13078</th>\n",
       "      <td>46</td>\n",
       "      <td>LessThanHighSchool</td>\n",
       "      <td>black</td>\n",
       "      <td>NotHispanic</td>\n",
       "      <td>Married</td>\n",
       "      <td>1</td>\n",
       "      <td>25862.32</td>\n",
       "      <td>22874.9500</td>\n",
       "      <td>24624.84000</td>\n",
       "    </tr>\n",
       "    <tr>\n",
       "      <th>10031</th>\n",
       "      <td>37</td>\n",
       "      <td>graduate</td>\n",
       "      <td>NotBlack</td>\n",
       "      <td>NotHispanic</td>\n",
       "      <td>NotMarried</td>\n",
       "      <td>0</td>\n",
       "      <td>25862.32</td>\n",
       "      <td>25243.5500</td>\n",
       "      <td>25564.67000</td>\n",
       "    </tr>\n",
       "    <tr>\n",
       "      <th>13081</th>\n",
       "      <td>28</td>\n",
       "      <td>HighSchool</td>\n",
       "      <td>NotBlack</td>\n",
       "      <td>NotHispanic</td>\n",
       "      <td>Married</td>\n",
       "      <td>0</td>\n",
       "      <td>25862.32</td>\n",
       "      <td>25243.5500</td>\n",
       "      <td>25564.67000</td>\n",
       "    </tr>\n",
       "    <tr>\n",
       "      <th>6795</th>\n",
       "      <td>54</td>\n",
       "      <td>LessThanHighSchool</td>\n",
       "      <td>NotBlack</td>\n",
       "      <td>NotHispanic</td>\n",
       "      <td>Married</td>\n",
       "      <td>1</td>\n",
       "      <td>25862.32</td>\n",
       "      <td>25243.5500</td>\n",
       "      <td>13556.66000</td>\n",
       "    </tr>\n",
       "    <tr>\n",
       "      <th>3514</th>\n",
       "      <td>39</td>\n",
       "      <td>Intermediate</td>\n",
       "      <td>NotBlack</td>\n",
       "      <td>NotHispanic</td>\n",
       "      <td>Married</td>\n",
       "      <td>0</td>\n",
       "      <td>25862.32</td>\n",
       "      <td>25243.5500</td>\n",
       "      <td>25564.67000</td>\n",
       "    </tr>\n",
       "    <tr>\n",
       "      <th>10028</th>\n",
       "      <td>49</td>\n",
       "      <td>HighSchool</td>\n",
       "      <td>NotBlack</td>\n",
       "      <td>NotHispanic</td>\n",
       "      <td>Married</td>\n",
       "      <td>0</td>\n",
       "      <td>25862.32</td>\n",
       "      <td>25243.5500</td>\n",
       "      <td>25564.67000</td>\n",
       "    </tr>\n",
       "    <tr>\n",
       "      <th>6798</th>\n",
       "      <td>47</td>\n",
       "      <td>LessThanHighSchool</td>\n",
       "      <td>NotBlack</td>\n",
       "      <td>NotHispanic</td>\n",
       "      <td>Married</td>\n",
       "      <td>1</td>\n",
       "      <td>25862.32</td>\n",
       "      <td>25243.5500</td>\n",
       "      <td>25564.67000</td>\n",
       "    </tr>\n",
       "    <tr>\n",
       "      <th>3505</th>\n",
       "      <td>55</td>\n",
       "      <td>LessThanHighSchool</td>\n",
       "      <td>NotBlack</td>\n",
       "      <td>NotHispanic</td>\n",
       "      <td>Married</td>\n",
       "      <td>1</td>\n",
       "      <td>25862.32</td>\n",
       "      <td>25243.5500</td>\n",
       "      <td>25564.67000</td>\n",
       "    </tr>\n",
       "    <tr>\n",
       "      <th>13090</th>\n",
       "      <td>28</td>\n",
       "      <td>HighSchool</td>\n",
       "      <td>NotBlack</td>\n",
       "      <td>NotHispanic</td>\n",
       "      <td>Married</td>\n",
       "      <td>0</td>\n",
       "      <td>25862.32</td>\n",
       "      <td>24985.7400</td>\n",
       "      <td>25564.67000</td>\n",
       "    </tr>\n",
       "    <tr>\n",
       "      <th>10026</th>\n",
       "      <td>31</td>\n",
       "      <td>HighSchool</td>\n",
       "      <td>black</td>\n",
       "      <td>NotHispanic</td>\n",
       "      <td>Married</td>\n",
       "      <td>0</td>\n",
       "      <td>25862.32</td>\n",
       "      <td>25243.5500</td>\n",
       "      <td>25564.67000</td>\n",
       "    </tr>\n",
       "    <tr>\n",
       "      <th>3535</th>\n",
       "      <td>53</td>\n",
       "      <td>LessThanHighSchool</td>\n",
       "      <td>NotBlack</td>\n",
       "      <td>NotHispanic</td>\n",
       "      <td>Married</td>\n",
       "      <td>1</td>\n",
       "      <td>25862.32</td>\n",
       "      <td>14442.5300</td>\n",
       "      <td>16077.67000</td>\n",
       "    </tr>\n",
       "    <tr>\n",
       "      <th>4287</th>\n",
       "      <td>27</td>\n",
       "      <td>Intermediate</td>\n",
       "      <td>NotBlack</td>\n",
       "      <td>NotHispanic</td>\n",
       "      <td>Married</td>\n",
       "      <td>0</td>\n",
       "      <td>25862.32</td>\n",
       "      <td>25243.5500</td>\n",
       "      <td>25564.67000</td>\n",
       "    </tr>\n",
       "  </tbody>\n",
       "</table>\n",
       "</div>"
      ],
      "text/plain": [
       "       Age          Eduacation      Race         Hisp MaritalStatus  Nodeg  \\\n",
       "5834    16  LessThanHighSchool  NotBlack  NotHispanic    NotMarried      1   \n",
       "13932   48  LessThanHighSchool  NotBlack  NotHispanic       Married      1   \n",
       "8030    19          HighSchool  NotBlack  NotHispanic    NotMarried      0   \n",
       "5788    17  LessThanHighSchool  NotBlack  NotHispanic    NotMarried      1   \n",
       "13927   55  LessThanHighSchool  NotBlack  NotHispanic       Married      1   \n",
       "2483    53  LessThanHighSchool     black  NotHispanic       Married      1   \n",
       "9186    17  LessThanHighSchool  NotBlack  NotHispanic    NotMarried      1   \n",
       "11021   26          HighSchool     black  NotHispanic    NotMarried      0   \n",
       "9192    23        Intermediate  NotBlack  NotHispanic    NotMarried      0   \n",
       "2491    31  LessThanHighSchool  NotBlack  NotHispanic       Married      1   \n",
       "13922   39  LessThanHighSchool     black  NotHispanic       Married      1   \n",
       "5785    49        PostGraduate  NotBlack  NotHispanic       Married      0   \n",
       "13914   29        Intermediate  NotBlack  NotHispanic    NotMarried      0   \n",
       "2500    16  LessThanHighSchool  NotBlack  NotHispanic    NotMarried      1   \n",
       "13906   55          HighSchool  NotBlack  NotHispanic       Married      0   \n",
       "13901   18  LessThanHighSchool  NotBlack     hispanic    NotMarried      1   \n",
       "5781    33        PostGraduate  NotBlack  NotHispanic       Married      0   \n",
       "2518    41        PostGraduate  NotBlack  NotHispanic       Married      0   \n",
       "2472    42          HighSchool  NotBlack  NotHispanic       Married      0   \n",
       "9195    30        PostGraduate  NotBlack  NotHispanic       Married      0   \n",
       "10041   45  LessThanHighSchool  NotBlack  NotHispanic       Married      1   \n",
       "10040   30        PostGraduate  NotBlack  NotHispanic    NotMarried      0   \n",
       "13061   30        Intermediate  NotBlack     hispanic       Married      0   \n",
       "13062   38  LessThanHighSchool  NotBlack     hispanic       Married      1   \n",
       "3497    45          HighSchool  NotBlack     hispanic       Married      0   \n",
       "6787    33        Intermediate  NotBlack  NotHispanic    NotMarried      0   \n",
       "13075   32        Intermediate  NotBlack  NotHispanic       Married      0   \n",
       "10035   53        PostGraduate  NotBlack  NotHispanic    NotMarried      0   \n",
       "13078   46  LessThanHighSchool     black  NotHispanic       Married      1   \n",
       "10031   37            graduate  NotBlack  NotHispanic    NotMarried      0   \n",
       "13081   28          HighSchool  NotBlack  NotHispanic       Married      0   \n",
       "6795    54  LessThanHighSchool  NotBlack  NotHispanic       Married      1   \n",
       "3514    39        Intermediate  NotBlack  NotHispanic       Married      0   \n",
       "10028   49          HighSchool  NotBlack  NotHispanic       Married      0   \n",
       "6798    47  LessThanHighSchool  NotBlack  NotHispanic       Married      1   \n",
       "3505    55  LessThanHighSchool  NotBlack  NotHispanic       Married      1   \n",
       "13090   28          HighSchool  NotBlack  NotHispanic       Married      0   \n",
       "10026   31          HighSchool     black  NotHispanic       Married      0   \n",
       "3535    53  LessThanHighSchool  NotBlack  NotHispanic       Married      1   \n",
       "4287    27        Intermediate  NotBlack  NotHispanic       Married      0   \n",
       "\n",
       "       Earnings_1974  Earnings_1975  Earnings_1978  \n",
       "5834            0.00      2323.8390     2625.92000  \n",
       "13932           0.00         0.0000        0.00000  \n",
       "8030            0.00       483.3871     5334.59300  \n",
       "5788            0.00      1079.5650     7248.24900  \n",
       "13927           0.00         0.0000        0.00000  \n",
       "2483            0.00         0.0000        0.00000  \n",
       "9186            0.00      4040.7580     9713.09700  \n",
       "11021           0.00      1448.3710        0.00000  \n",
       "9192            0.00       601.5484    23018.55000  \n",
       "2491            0.00         0.0000      591.09060  \n",
       "13922           0.00         0.0000      964.95550  \n",
       "5785            0.00         0.0000        0.00000  \n",
       "13914           0.00       943.5000    16240.22000  \n",
       "2500            0.00         0.0000     2255.01100  \n",
       "13906           0.00         0.0000        0.00000  \n",
       "13901           0.00      3039.9680     2027.44100  \n",
       "5781            0.00         0.0000        0.00000  \n",
       "2518            0.00         0.0000       82.75269  \n",
       "2472            0.00         0.0000        0.00000  \n",
       "9195            0.00         0.0000        0.00000  \n",
       "10041       25862.32     25243.5500    21594.02000  \n",
       "10040       25862.32     25243.5500    25564.67000  \n",
       "13061       25862.32     25243.5500    25564.67000  \n",
       "13062       25862.32     25243.5500     4187.87700  \n",
       "3497        25862.32     25243.5500    16591.91000  \n",
       "6787        25862.32     25243.5500    25564.67000  \n",
       "13075       25862.32     25243.5500    25564.67000  \n",
       "10035       25862.32     25243.5500    25564.67000  \n",
       "13078       25862.32     22874.9500    24624.84000  \n",
       "10031       25862.32     25243.5500    25564.67000  \n",
       "13081       25862.32     25243.5500    25564.67000  \n",
       "6795        25862.32     25243.5500    13556.66000  \n",
       "3514        25862.32     25243.5500    25564.67000  \n",
       "10028       25862.32     25243.5500    25564.67000  \n",
       "6798        25862.32     25243.5500    25564.67000  \n",
       "3505        25862.32     25243.5500    25564.67000  \n",
       "13090       25862.32     24985.7400    25564.67000  \n",
       "10026       25862.32     25243.5500    25564.67000  \n",
       "3535        25862.32     14442.5300    16077.67000  \n",
       "4287        25862.32     25243.5500    25564.67000  "
      ]
     },
     "metadata": {},
     "output_type": "display_data"
    }
   ],
   "source": [
    "display(pd.concat([df.head(20),\n",
    "                   df.tail(20)]))"
   ]
  },
  {
   "cell_type": "code",
   "execution_count": 133,
   "metadata": {},
   "outputs": [],
   "source": [
    "df_o = df[['Earnings_1974','Earnings_1975','Earnings_1978']]"
   ]
  },
  {
   "cell_type": "code",
   "execution_count": 134,
   "metadata": {},
   "outputs": [
    {
     "data": {
      "image/png": "[encoded data removed]",
      "text/plain": [
       "<Figure size 1440x1080 with 4 Axes>"
      ]
     },
     "metadata": {
      "needs_background": "light"
     },
     "output_type": "display_data"
    }
   ],
   "source": [
    "%matplotlib inline\n",
    "\n",
    "import matplotlib.pyplot as plt\n",
    "df_o.hist(bins=50, figsize=(20,15))\n",
    "plt.show()"
   ]
  },
  {
   "cell_type": "code",
   "execution_count": 135,
   "metadata": {},
   "outputs": [],
   "source": [
    "df_d = df_o[(df_o[\"Earnings_1974\"]!=0)  | (df_o['Earnings_1974']>24000)] "
   ]
  },
  {
   "cell_type": "code",
   "execution_count": 136,
   "metadata": {},
   "outputs": [],
   "source": [
    "df_d = df_o[(df_o[\"Earnings_1974\"]!=0)  & (df_o['Earnings_1974']<24000) & (df_o[\"Earnings_1975\"]!=0)  & (df_o['Earnings_1975']<24000) \n",
    "                                  & (df_o[\"Earnings_1978\"]!=0)  & (df_o['Earnings_1978']<24000) ] "
   ]
  },
  {
   "cell_type": "markdown",
   "metadata": {},
   "source": [
    "# Domain Knowledge"
   ]
  },
  {
   "cell_type": "markdown",
   "metadata": {},
   "source": [
    "# Judgement call"
   ]
  },
  {
   "cell_type": "code",
   "execution_count": null,
   "metadata": {},
   "outputs": [],
   "source": []
  },
  {
   "cell_type": "code",
   "execution_count": 137,
   "metadata": {},
   "outputs": [
    {
     "data": {
      "text/html": [
       "<div>\n",
       "<style scoped>\n",
       "    .dataframe tbody tr th:only-of-type {\n",
       "        vertical-align: middle;\n",
       "    }\n",
       "\n",
       "    .dataframe tbody tr th {\n",
       "        vertical-align: top;\n",
       "    }\n",
       "\n",
       "    .dataframe thead th {\n",
       "        text-align: right;\n",
       "    }\n",
       "</style>\n",
       "<table border=\"1\" class=\"dataframe\">\n",
       "  <thead>\n",
       "    <tr style=\"text-align: right;\">\n",
       "      <th></th>\n",
       "      <th>Earnings_1974</th>\n",
       "      <th>Earnings_1975</th>\n",
       "      <th>Earnings_1978</th>\n",
       "    </tr>\n",
       "  </thead>\n",
       "  <tbody>\n",
       "    <tr>\n",
       "      <th>3555</th>\n",
       "      <td>11.75560</td>\n",
       "      <td>8498.6610</td>\n",
       "      <td>17348.510</td>\n",
       "    </tr>\n",
       "    <tr>\n",
       "      <th>1699</th>\n",
       "      <td>11.75560</td>\n",
       "      <td>2968.3550</td>\n",
       "      <td>12832.580</td>\n",
       "    </tr>\n",
       "    <tr>\n",
       "      <th>7057</th>\n",
       "      <td>17.63340</td>\n",
       "      <td>186.1935</td>\n",
       "      <td>9223.969</td>\n",
       "    </tr>\n",
       "    <tr>\n",
       "      <th>3822</th>\n",
       "      <td>19.59267</td>\n",
       "      <td>1092.0970</td>\n",
       "      <td>18609.010</td>\n",
       "    </tr>\n",
       "    <tr>\n",
       "      <th>2502</th>\n",
       "      <td>19.59267</td>\n",
       "      <td>7834.4520</td>\n",
       "      <td>12810.410</td>\n",
       "    </tr>\n",
       "  </tbody>\n",
       "</table>\n",
       "</div>"
      ],
      "text/plain": [
       "      Earnings_1974  Earnings_1975  Earnings_1978\n",
       "3555       11.75560      8498.6610      17348.510\n",
       "1699       11.75560      2968.3550      12832.580\n",
       "7057       17.63340       186.1935       9223.969\n",
       "3822       19.59267      1092.0970      18609.010\n",
       "2502       19.59267      7834.4520      12810.410"
      ]
     },
     "execution_count": 137,
     "metadata": {},
     "output_type": "execute_result"
    }
   ],
   "source": [
    "df_d.head()"
   ]
  },
  {
   "cell_type": "code",
   "execution_count": 138,
   "metadata": {},
   "outputs": [
    {
     "data": {
      "image/png": "[encoded data removed]",
      "text/plain": [
       "<Figure size 1440x1080 with 4 Axes>"
      ]
     },
     "metadata": {
      "needs_background": "light"
     },
     "output_type": "display_data"
    }
   ],
   "source": [
    "import matplotlib.pyplot as plt\n",
    "df_d.hist(bins=50, figsize=(20,15))\n",
    "plt.show()"
   ]
  },
  {
   "cell_type": "code",
   "execution_count": 139,
   "metadata": {},
   "outputs": [
    {
     "name": "stdout",
     "output_type": "stream",
     "text": [
      "<class 'pandas.core.frame.DataFrame'>\n",
      "Int64Index: 6916 entries, 3555 to 792\n",
      "Data columns (total 3 columns):\n",
      " #   Column         Non-Null Count  Dtype  \n",
      "---  ------         --------------  -----  \n",
      " 0   Earnings_1974  6916 non-null   float64\n",
      " 1   Earnings_1975  6916 non-null   float64\n",
      " 2   Earnings_1978  6916 non-null   float64\n",
      "dtypes: float64(3)\n",
      "memory usage: 216.1 KB\n"
     ]
    }
   ],
   "source": [
    "df_d.info()"
   ]
  },
  {
   "cell_type": "markdown",
   "metadata": {},
   "source": [
    "# Counting the value of a column"
   ]
  },
  {
   "cell_type": "code",
   "execution_count": 140,
   "metadata": {},
   "outputs": [
    {
     "data": {
      "text/plain": [
       "121"
      ]
     },
     "execution_count": 140,
     "metadata": {},
     "output_type": "execute_result"
    }
   ],
   "source": [
    "\n",
    "\n",
    "len(df_d[df_d['Earnings_1974']<=300]) # counting the number that is less than 300\n"
   ]
  },
  {
   "cell_type": "code",
   "execution_count": 141,
   "metadata": {},
   "outputs": [
    {
     "data": {
      "text/plain": [
       "264"
      ]
     },
     "execution_count": 141,
     "metadata": {},
     "output_type": "execute_result"
    }
   ],
   "source": [
    "len(df_d[(df_d['Earnings_1974']<=300) | (df_d['Earnings_1975']<=300 ) | (df_d['Earnings_1978']<=300)])"
   ]
  },
  {
   "cell_type": "code",
   "execution_count": 142,
   "metadata": {},
   "outputs": [
    {
     "data": {
      "text/plain": [
       "Race\n",
       "NotBlack    14816\n",
       "black        1176\n",
       "dtype: int64"
      ]
     },
     "execution_count": 142,
     "metadata": {},
     "output_type": "execute_result"
    }
   ],
   "source": [
    "df.value_counts('Race')"
   ]
  },
  {
   "cell_type": "code",
   "execution_count": 143,
   "metadata": {},
   "outputs": [
    {
     "data": {
      "text/plain": [
       "Hisp\n",
       "NotHispanic    14840\n",
       "hispanic        1152\n",
       "dtype: int64"
      ]
     },
     "execution_count": 143,
     "metadata": {},
     "output_type": "execute_result"
    }
   ],
   "source": [
    "df.value_counts('Hisp')"
   ]
  },
  {
   "cell_type": "code",
   "execution_count": 144,
   "metadata": {},
   "outputs": [],
   "source": [
    "df['racial'] = ''"
   ]
  },
  {
   "cell_type": "code",
   "execution_count": 145,
   "metadata": {},
   "outputs": [
    {
     "data": {
      "text/html": [
       "<div>\n",
       "<style scoped>\n",
       "    .dataframe tbody tr th:only-of-type {\n",
       "        vertical-align: middle;\n",
       "    }\n",
       "\n",
       "    .dataframe tbody tr th {\n",
       "        vertical-align: top;\n",
       "    }\n",
       "\n",
       "    .dataframe thead th {\n",
       "        text-align: right;\n",
       "    }\n",
       "</style>\n",
       "<table border=\"1\" class=\"dataframe\">\n",
       "  <thead>\n",
       "    <tr style=\"text-align: right;\">\n",
       "      <th></th>\n",
       "      <th>Age</th>\n",
       "      <th>Eduacation</th>\n",
       "      <th>Race</th>\n",
       "      <th>Hisp</th>\n",
       "      <th>MaritalStatus</th>\n",
       "      <th>Nodeg</th>\n",
       "      <th>Earnings_1974</th>\n",
       "      <th>Earnings_1975</th>\n",
       "      <th>Earnings_1978</th>\n",
       "      <th>racial</th>\n",
       "    </tr>\n",
       "  </thead>\n",
       "  <tbody>\n",
       "    <tr>\n",
       "      <th>5834</th>\n",
       "      <td>16</td>\n",
       "      <td>LessThanHighSchool</td>\n",
       "      <td>NotBlack</td>\n",
       "      <td>NotHispanic</td>\n",
       "      <td>NotMarried</td>\n",
       "      <td>1</td>\n",
       "      <td>0.0</td>\n",
       "      <td>2323.8390</td>\n",
       "      <td>2625.920</td>\n",
       "      <td></td>\n",
       "    </tr>\n",
       "    <tr>\n",
       "      <th>13932</th>\n",
       "      <td>48</td>\n",
       "      <td>LessThanHighSchool</td>\n",
       "      <td>NotBlack</td>\n",
       "      <td>NotHispanic</td>\n",
       "      <td>Married</td>\n",
       "      <td>1</td>\n",
       "      <td>0.0</td>\n",
       "      <td>0.0000</td>\n",
       "      <td>0.000</td>\n",
       "      <td></td>\n",
       "    </tr>\n",
       "    <tr>\n",
       "      <th>8030</th>\n",
       "      <td>19</td>\n",
       "      <td>HighSchool</td>\n",
       "      <td>NotBlack</td>\n",
       "      <td>NotHispanic</td>\n",
       "      <td>NotMarried</td>\n",
       "      <td>0</td>\n",
       "      <td>0.0</td>\n",
       "      <td>483.3871</td>\n",
       "      <td>5334.593</td>\n",
       "      <td></td>\n",
       "    </tr>\n",
       "    <tr>\n",
       "      <th>5788</th>\n",
       "      <td>17</td>\n",
       "      <td>LessThanHighSchool</td>\n",
       "      <td>NotBlack</td>\n",
       "      <td>NotHispanic</td>\n",
       "      <td>NotMarried</td>\n",
       "      <td>1</td>\n",
       "      <td>0.0</td>\n",
       "      <td>1079.5650</td>\n",
       "      <td>7248.249</td>\n",
       "      <td></td>\n",
       "    </tr>\n",
       "    <tr>\n",
       "      <th>13927</th>\n",
       "      <td>55</td>\n",
       "      <td>LessThanHighSchool</td>\n",
       "      <td>NotBlack</td>\n",
       "      <td>NotHispanic</td>\n",
       "      <td>Married</td>\n",
       "      <td>1</td>\n",
       "      <td>0.0</td>\n",
       "      <td>0.0000</td>\n",
       "      <td>0.000</td>\n",
       "      <td></td>\n",
       "    </tr>\n",
       "  </tbody>\n",
       "</table>\n",
       "</div>"
      ],
      "text/plain": [
       "       Age          Eduacation      Race         Hisp MaritalStatus  Nodeg  \\\n",
       "5834    16  LessThanHighSchool  NotBlack  NotHispanic    NotMarried      1   \n",
       "13932   48  LessThanHighSchool  NotBlack  NotHispanic       Married      1   \n",
       "8030    19          HighSchool  NotBlack  NotHispanic    NotMarried      0   \n",
       "5788    17  LessThanHighSchool  NotBlack  NotHispanic    NotMarried      1   \n",
       "13927   55  LessThanHighSchool  NotBlack  NotHispanic       Married      1   \n",
       "\n",
       "       Earnings_1974  Earnings_1975  Earnings_1978 racial  \n",
       "5834             0.0      2323.8390       2625.920         \n",
       "13932            0.0         0.0000          0.000         \n",
       "8030             0.0       483.3871       5334.593         \n",
       "5788             0.0      1079.5650       7248.249         \n",
       "13927            0.0         0.0000          0.000         "
      ]
     },
     "execution_count": 145,
     "metadata": {},
     "output_type": "execute_result"
    }
   ],
   "source": [
    "df.head()"
   ]
  },
  {
   "cell_type": "code",
   "execution_count": 146,
   "metadata": {},
   "outputs": [],
   "source": [
    "df.loc[((df['Hisp'] ==\"NotHispanic\") & (df['Race']=='NotBlack')), 'racial'] = \"NotBlackNotHispanic\""
   ]
  },
  {
   "cell_type": "code",
   "execution_count": 147,
   "metadata": {},
   "outputs": [],
   "source": [
    "df.loc[((df['Hisp'] ==\"hispanic\") & (df['Race']=='NotBlack')), 'racial'] = \"hispanic\""
   ]
  },
  {
   "cell_type": "code",
   "execution_count": 148,
   "metadata": {},
   "outputs": [],
   "source": [
    "df.loc[(df['Race']=='black'), 'racial'] = \"black\""
   ]
  },
  {
   "cell_type": "code",
   "execution_count": 149,
   "metadata": {},
   "outputs": [
    {
     "data": {
      "text/html": [
       "<div>\n",
       "<style scoped>\n",
       "    .dataframe tbody tr th:only-of-type {\n",
       "        vertical-align: middle;\n",
       "    }\n",
       "\n",
       "    .dataframe tbody tr th {\n",
       "        vertical-align: top;\n",
       "    }\n",
       "\n",
       "    .dataframe thead th {\n",
       "        text-align: right;\n",
       "    }\n",
       "</style>\n",
       "<table border=\"1\" class=\"dataframe\">\n",
       "  <thead>\n",
       "    <tr style=\"text-align: right;\">\n",
       "      <th></th>\n",
       "      <th>Age</th>\n",
       "      <th>Eduacation</th>\n",
       "      <th>Race</th>\n",
       "      <th>Hisp</th>\n",
       "      <th>MaritalStatus</th>\n",
       "      <th>Nodeg</th>\n",
       "      <th>Earnings_1974</th>\n",
       "      <th>Earnings_1975</th>\n",
       "      <th>Earnings_1978</th>\n",
       "      <th>racial</th>\n",
       "    </tr>\n",
       "  </thead>\n",
       "  <tbody>\n",
       "    <tr>\n",
       "      <th>5834</th>\n",
       "      <td>16</td>\n",
       "      <td>LessThanHighSchool</td>\n",
       "      <td>NotBlack</td>\n",
       "      <td>NotHispanic</td>\n",
       "      <td>NotMarried</td>\n",
       "      <td>1</td>\n",
       "      <td>0.0</td>\n",
       "      <td>2323.8390</td>\n",
       "      <td>2625.920</td>\n",
       "      <td>NotBlackNotHispanic</td>\n",
       "    </tr>\n",
       "    <tr>\n",
       "      <th>13932</th>\n",
       "      <td>48</td>\n",
       "      <td>LessThanHighSchool</td>\n",
       "      <td>NotBlack</td>\n",
       "      <td>NotHispanic</td>\n",
       "      <td>Married</td>\n",
       "      <td>1</td>\n",
       "      <td>0.0</td>\n",
       "      <td>0.0000</td>\n",
       "      <td>0.000</td>\n",
       "      <td>NotBlackNotHispanic</td>\n",
       "    </tr>\n",
       "    <tr>\n",
       "      <th>8030</th>\n",
       "      <td>19</td>\n",
       "      <td>HighSchool</td>\n",
       "      <td>NotBlack</td>\n",
       "      <td>NotHispanic</td>\n",
       "      <td>NotMarried</td>\n",
       "      <td>0</td>\n",
       "      <td>0.0</td>\n",
       "      <td>483.3871</td>\n",
       "      <td>5334.593</td>\n",
       "      <td>NotBlackNotHispanic</td>\n",
       "    </tr>\n",
       "    <tr>\n",
       "      <th>5788</th>\n",
       "      <td>17</td>\n",
       "      <td>LessThanHighSchool</td>\n",
       "      <td>NotBlack</td>\n",
       "      <td>NotHispanic</td>\n",
       "      <td>NotMarried</td>\n",
       "      <td>1</td>\n",
       "      <td>0.0</td>\n",
       "      <td>1079.5650</td>\n",
       "      <td>7248.249</td>\n",
       "      <td>NotBlackNotHispanic</td>\n",
       "    </tr>\n",
       "    <tr>\n",
       "      <th>13927</th>\n",
       "      <td>55</td>\n",
       "      <td>LessThanHighSchool</td>\n",
       "      <td>NotBlack</td>\n",
       "      <td>NotHispanic</td>\n",
       "      <td>Married</td>\n",
       "      <td>1</td>\n",
       "      <td>0.0</td>\n",
       "      <td>0.0000</td>\n",
       "      <td>0.000</td>\n",
       "      <td>NotBlackNotHispanic</td>\n",
       "    </tr>\n",
       "  </tbody>\n",
       "</table>\n",
       "</div>"
      ],
      "text/plain": [
       "       Age          Eduacation      Race         Hisp MaritalStatus  Nodeg  \\\n",
       "5834    16  LessThanHighSchool  NotBlack  NotHispanic    NotMarried      1   \n",
       "13932   48  LessThanHighSchool  NotBlack  NotHispanic       Married      1   \n",
       "8030    19          HighSchool  NotBlack  NotHispanic    NotMarried      0   \n",
       "5788    17  LessThanHighSchool  NotBlack  NotHispanic    NotMarried      1   \n",
       "13927   55  LessThanHighSchool  NotBlack  NotHispanic       Married      1   \n",
       "\n",
       "       Earnings_1974  Earnings_1975  Earnings_1978               racial  \n",
       "5834             0.0      2323.8390       2625.920  NotBlackNotHispanic  \n",
       "13932            0.0         0.0000          0.000  NotBlackNotHispanic  \n",
       "8030             0.0       483.3871       5334.593  NotBlackNotHispanic  \n",
       "5788             0.0      1079.5650       7248.249  NotBlackNotHispanic  \n",
       "13927            0.0         0.0000          0.000  NotBlackNotHispanic  "
      ]
     },
     "execution_count": 149,
     "metadata": {},
     "output_type": "execute_result"
    }
   ],
   "source": [
    "df.head()"
   ]
  },
  {
   "cell_type": "code",
   "execution_count": 150,
   "metadata": {},
   "outputs": [
    {
     "data": {
      "text/plain": [
       "racial\n",
       "NotBlackNotHispanic    13664\n",
       "black                   1176\n",
       "hispanic                1152\n",
       "dtype: int64"
      ]
     },
     "execution_count": 150,
     "metadata": {},
     "output_type": "execute_result"
    }
   ],
   "source": [
    "df.value_counts('racial')"
   ]
  },
  {
   "cell_type": "code",
   "execution_count": 151,
   "metadata": {},
   "outputs": [
    {
     "data": {
      "text/plain": [
       "pandas.core.groupby.generic.DataFrameGroupBy"
      ]
     },
     "execution_count": 151,
     "metadata": {},
     "output_type": "execute_result"
    }
   ],
   "source": [
    "df_racialgroup = df.groupby(\"racial\")\n",
    "type(df_racialgroup)"
   ]
  },
  {
   "cell_type": "code",
   "execution_count": 152,
   "metadata": {},
   "outputs": [
    {
     "data": {
      "text/html": [
       "<div>\n",
       "<style scoped>\n",
       "    .dataframe tbody tr th:only-of-type {\n",
       "        vertical-align: middle;\n",
       "    }\n",
       "\n",
       "    .dataframe tbody tr th {\n",
       "        vertical-align: top;\n",
       "    }\n",
       "\n",
       "    .dataframe thead th {\n",
       "        text-align: right;\n",
       "    }\n",
       "</style>\n",
       "<table border=\"1\" class=\"dataframe\">\n",
       "  <thead>\n",
       "    <tr style=\"text-align: right;\">\n",
       "      <th></th>\n",
       "      <th>Age</th>\n",
       "      <th>Eduacation</th>\n",
       "      <th>Race</th>\n",
       "      <th>Hisp</th>\n",
       "      <th>MaritalStatus</th>\n",
       "      <th>Nodeg</th>\n",
       "      <th>Earnings_1974</th>\n",
       "      <th>Earnings_1975</th>\n",
       "      <th>Earnings_1978</th>\n",
       "    </tr>\n",
       "    <tr>\n",
       "      <th>racial</th>\n",
       "      <th></th>\n",
       "      <th></th>\n",
       "      <th></th>\n",
       "      <th></th>\n",
       "      <th></th>\n",
       "      <th></th>\n",
       "      <th></th>\n",
       "      <th></th>\n",
       "      <th></th>\n",
       "    </tr>\n",
       "  </thead>\n",
       "  <tbody>\n",
       "    <tr>\n",
       "      <th>NotBlackNotHispanic</th>\n",
       "      <td>27</td>\n",
       "      <td>Intermediate</td>\n",
       "      <td>NotBlack</td>\n",
       "      <td>NotHispanic</td>\n",
       "      <td>Married</td>\n",
       "      <td>0</td>\n",
       "      <td>25862.32</td>\n",
       "      <td>25243.55</td>\n",
       "      <td>25564.67</td>\n",
       "    </tr>\n",
       "    <tr>\n",
       "      <th>black</th>\n",
       "      <td>31</td>\n",
       "      <td>HighSchool</td>\n",
       "      <td>black</td>\n",
       "      <td>NotHispanic</td>\n",
       "      <td>Married</td>\n",
       "      <td>0</td>\n",
       "      <td>25862.32</td>\n",
       "      <td>25243.55</td>\n",
       "      <td>25564.67</td>\n",
       "    </tr>\n",
       "    <tr>\n",
       "      <th>hispanic</th>\n",
       "      <td>45</td>\n",
       "      <td>HighSchool</td>\n",
       "      <td>NotBlack</td>\n",
       "      <td>hispanic</td>\n",
       "      <td>Married</td>\n",
       "      <td>0</td>\n",
       "      <td>25862.32</td>\n",
       "      <td>25243.55</td>\n",
       "      <td>16591.91</td>\n",
       "    </tr>\n",
       "  </tbody>\n",
       "</table>\n",
       "</div>"
      ],
      "text/plain": [
       "                     Age    Eduacation      Race         Hisp MaritalStatus  \\\n",
       "racial                                                                        \n",
       "NotBlackNotHispanic   27  Intermediate  NotBlack  NotHispanic       Married   \n",
       "black                 31    HighSchool     black  NotHispanic       Married   \n",
       "hispanic              45    HighSchool  NotBlack     hispanic       Married   \n",
       "\n",
       "                     Nodeg  Earnings_1974  Earnings_1975  Earnings_1978  \n",
       "racial                                                                   \n",
       "NotBlackNotHispanic      0       25862.32       25243.55       25564.67  \n",
       "black                    0       25862.32       25243.55       25564.67  \n",
       "hispanic                 0       25862.32       25243.55       16591.91  "
      ]
     },
     "execution_count": 152,
     "metadata": {},
     "output_type": "execute_result"
    }
   ],
   "source": [
    "df_racialgroup.last()"
   ]
  },
  {
   "cell_type": "code",
   "execution_count": 153,
   "metadata": {},
   "outputs": [
    {
     "data": {
      "text/plain": [
       "racial\n",
       "NotBlackNotHispanic    55\n",
       "black                  55\n",
       "hispanic               55\n",
       "Name: Age, dtype: int64"
      ]
     },
     "execution_count": 153,
     "metadata": {},
     "output_type": "execute_result"
    }
   ],
   "source": [
    "df_racialgroup.Age.max()"
   ]
  },
  {
   "cell_type": "code",
   "execution_count": 154,
   "metadata": {},
   "outputs": [
    {
     "data": {
      "text/html": [
       "<div>\n",
       "<style scoped>\n",
       "    .dataframe tbody tr th:only-of-type {\n",
       "        vertical-align: middle;\n",
       "    }\n",
       "\n",
       "    .dataframe tbody tr th {\n",
       "        vertical-align: top;\n",
       "    }\n",
       "\n",
       "    .dataframe thead th {\n",
       "        text-align: right;\n",
       "    }\n",
       "</style>\n",
       "<table border=\"1\" class=\"dataframe\">\n",
       "  <thead>\n",
       "    <tr style=\"text-align: right;\">\n",
       "      <th></th>\n",
       "      <th>max</th>\n",
       "      <th>min</th>\n",
       "      <th>count</th>\n",
       "      <th>median</th>\n",
       "      <th>mean</th>\n",
       "    </tr>\n",
       "    <tr>\n",
       "      <th>racial</th>\n",
       "      <th></th>\n",
       "      <th></th>\n",
       "      <th></th>\n",
       "      <th></th>\n",
       "      <th></th>\n",
       "    </tr>\n",
       "  </thead>\n",
       "  <tbody>\n",
       "    <tr>\n",
       "      <th>NotBlackNotHispanic</th>\n",
       "      <td>25564.67</td>\n",
       "      <td>0.0</td>\n",
       "      <td>13664</td>\n",
       "      <td>17278.315</td>\n",
       "      <td>15213.330607</td>\n",
       "    </tr>\n",
       "    <tr>\n",
       "      <th>black</th>\n",
       "      <td>25564.67</td>\n",
       "      <td>0.0</td>\n",
       "      <td>1176</td>\n",
       "      <td>12115.880</td>\n",
       "      <td>12006.682951</td>\n",
       "    </tr>\n",
       "    <tr>\n",
       "      <th>hispanic</th>\n",
       "      <td>25564.67</td>\n",
       "      <td>0.0</td>\n",
       "      <td>1152</td>\n",
       "      <td>13717.740</td>\n",
       "      <td>13396.677888</td>\n",
       "    </tr>\n",
       "  </tbody>\n",
       "</table>\n",
       "</div>"
      ],
      "text/plain": [
       "                          max  min  count     median          mean\n",
       "racial                                                            \n",
       "NotBlackNotHispanic  25564.67  0.0  13664  17278.315  15213.330607\n",
       "black                25564.67  0.0   1176  12115.880  12006.682951\n",
       "hispanic             25564.67  0.0   1152  13717.740  13396.677888"
      ]
     },
     "execution_count": 154,
     "metadata": {},
     "output_type": "execute_result"
    }
   ],
   "source": [
    "df_racialgroup.Earnings_1978.agg(['max', 'min', 'count', 'median', 'mean'])"
   ]
  },
  {
   "cell_type": "code",
   "execution_count": 155,
   "metadata": {},
   "outputs": [
    {
     "data": {
      "text/html": [
       "<div>\n",
       "<style scoped>\n",
       "    .dataframe tbody tr th:only-of-type {\n",
       "        vertical-align: middle;\n",
       "    }\n",
       "\n",
       "    .dataframe tbody tr th {\n",
       "        vertical-align: top;\n",
       "    }\n",
       "\n",
       "    .dataframe thead th {\n",
       "        text-align: right;\n",
       "    }\n",
       "</style>\n",
       "<table border=\"1\" class=\"dataframe\">\n",
       "  <thead>\n",
       "    <tr style=\"text-align: right;\">\n",
       "      <th></th>\n",
       "      <th>Age</th>\n",
       "      <th>Nodeg</th>\n",
       "      <th>Earnings_1974</th>\n",
       "      <th>Earnings_1975</th>\n",
       "      <th>Earnings_1978</th>\n",
       "    </tr>\n",
       "  </thead>\n",
       "  <tbody>\n",
       "    <tr>\n",
       "      <th>count</th>\n",
       "      <td>15992.000000</td>\n",
       "      <td>15992.000000</td>\n",
       "      <td>15992.000000</td>\n",
       "      <td>15992.000000</td>\n",
       "      <td>15992.000000</td>\n",
       "    </tr>\n",
       "    <tr>\n",
       "      <th>mean</th>\n",
       "      <td>33.225238</td>\n",
       "      <td>0.295835</td>\n",
       "      <td>14016.800304</td>\n",
       "      <td>13650.803376</td>\n",
       "      <td>14846.659673</td>\n",
       "    </tr>\n",
       "    <tr>\n",
       "      <th>std</th>\n",
       "      <td>11.045216</td>\n",
       "      <td>0.456432</td>\n",
       "      <td>9569.795893</td>\n",
       "      <td>9270.403225</td>\n",
       "      <td>9647.391524</td>\n",
       "    </tr>\n",
       "    <tr>\n",
       "      <th>min</th>\n",
       "      <td>16.000000</td>\n",
       "      <td>0.000000</td>\n",
       "      <td>0.000000</td>\n",
       "      <td>0.000000</td>\n",
       "      <td>0.000000</td>\n",
       "    </tr>\n",
       "    <tr>\n",
       "      <th>25%</th>\n",
       "      <td>24.000000</td>\n",
       "      <td>0.000000</td>\n",
       "      <td>4403.452250</td>\n",
       "      <td>4398.823000</td>\n",
       "      <td>5669.298000</td>\n",
       "    </tr>\n",
       "    <tr>\n",
       "      <th>50%</th>\n",
       "      <td>31.000000</td>\n",
       "      <td>0.000000</td>\n",
       "      <td>15123.580000</td>\n",
       "      <td>14557.110000</td>\n",
       "      <td>16421.975000</td>\n",
       "    </tr>\n",
       "    <tr>\n",
       "      <th>75%</th>\n",
       "      <td>42.000000</td>\n",
       "      <td>1.000000</td>\n",
       "      <td>23584.180000</td>\n",
       "      <td>22923.737500</td>\n",
       "      <td>25564.670000</td>\n",
       "    </tr>\n",
       "    <tr>\n",
       "      <th>max</th>\n",
       "      <td>55.000000</td>\n",
       "      <td>1.000000</td>\n",
       "      <td>25862.320000</td>\n",
       "      <td>25243.550000</td>\n",
       "      <td>25564.670000</td>\n",
       "    </tr>\n",
       "  </tbody>\n",
       "</table>\n",
       "</div>"
      ],
      "text/plain": [
       "                Age         Nodeg  Earnings_1974  Earnings_1975  Earnings_1978\n",
       "count  15992.000000  15992.000000   15992.000000   15992.000000   15992.000000\n",
       "mean      33.225238      0.295835   14016.800304   13650.803376   14846.659673\n",
       "std       11.045216      0.456432    9569.795893    9270.403225    9647.391524\n",
       "min       16.000000      0.000000       0.000000       0.000000       0.000000\n",
       "25%       24.000000      0.000000    4403.452250    4398.823000    5669.298000\n",
       "50%       31.000000      0.000000   15123.580000   14557.110000   16421.975000\n",
       "75%       42.000000      1.000000   23584.180000   22923.737500   25564.670000\n",
       "max       55.000000      1.000000   25862.320000   25243.550000   25564.670000"
      ]
     },
     "execution_count": 155,
     "metadata": {},
     "output_type": "execute_result"
    }
   ],
   "source": [
    "df.describe()"
   ]
  },
  {
   "cell_type": "code",
   "execution_count": 156,
   "metadata": {},
   "outputs": [
    {
     "data": {
      "text/html": [
       "<div>\n",
       "<style scoped>\n",
       "    .dataframe tbody tr th:only-of-type {\n",
       "        vertical-align: middle;\n",
       "    }\n",
       "\n",
       "    .dataframe tbody tr th {\n",
       "        vertical-align: top;\n",
       "    }\n",
       "\n",
       "    .dataframe thead th {\n",
       "        text-align: right;\n",
       "    }\n",
       "</style>\n",
       "<table border=\"1\" class=\"dataframe\">\n",
       "  <thead>\n",
       "    <tr style=\"text-align: right;\">\n",
       "      <th></th>\n",
       "      <th>count</th>\n",
       "      <th>unique</th>\n",
       "      <th>top</th>\n",
       "      <th>freq</th>\n",
       "      <th>mean</th>\n",
       "      <th>std</th>\n",
       "      <th>min</th>\n",
       "      <th>25%</th>\n",
       "      <th>50%</th>\n",
       "      <th>75%</th>\n",
       "      <th>max</th>\n",
       "    </tr>\n",
       "  </thead>\n",
       "  <tbody>\n",
       "    <tr>\n",
       "      <th>Age</th>\n",
       "      <td>15992.0</td>\n",
       "      <td>NaN</td>\n",
       "      <td>NaN</td>\n",
       "      <td>NaN</td>\n",
       "      <td>33.225238</td>\n",
       "      <td>11.045216</td>\n",
       "      <td>16.0</td>\n",
       "      <td>24.0</td>\n",
       "      <td>31.0</td>\n",
       "      <td>42.0</td>\n",
       "      <td>55.0</td>\n",
       "    </tr>\n",
       "    <tr>\n",
       "      <th>Eduacation</th>\n",
       "      <td>15992</td>\n",
       "      <td>5</td>\n",
       "      <td>HighSchool</td>\n",
       "      <td>6252</td>\n",
       "      <td>NaN</td>\n",
       "      <td>NaN</td>\n",
       "      <td>NaN</td>\n",
       "      <td>NaN</td>\n",
       "      <td>NaN</td>\n",
       "      <td>NaN</td>\n",
       "      <td>NaN</td>\n",
       "    </tr>\n",
       "    <tr>\n",
       "      <th>Race</th>\n",
       "      <td>15992</td>\n",
       "      <td>2</td>\n",
       "      <td>NotBlack</td>\n",
       "      <td>14816</td>\n",
       "      <td>NaN</td>\n",
       "      <td>NaN</td>\n",
       "      <td>NaN</td>\n",
       "      <td>NaN</td>\n",
       "      <td>NaN</td>\n",
       "      <td>NaN</td>\n",
       "      <td>NaN</td>\n",
       "    </tr>\n",
       "    <tr>\n",
       "      <th>Hisp</th>\n",
       "      <td>15992</td>\n",
       "      <td>2</td>\n",
       "      <td>NotHispanic</td>\n",
       "      <td>14840</td>\n",
       "      <td>NaN</td>\n",
       "      <td>NaN</td>\n",
       "      <td>NaN</td>\n",
       "      <td>NaN</td>\n",
       "      <td>NaN</td>\n",
       "      <td>NaN</td>\n",
       "      <td>NaN</td>\n",
       "    </tr>\n",
       "    <tr>\n",
       "      <th>MaritalStatus</th>\n",
       "      <td>15992</td>\n",
       "      <td>2</td>\n",
       "      <td>Married</td>\n",
       "      <td>11382</td>\n",
       "      <td>NaN</td>\n",
       "      <td>NaN</td>\n",
       "      <td>NaN</td>\n",
       "      <td>NaN</td>\n",
       "      <td>NaN</td>\n",
       "      <td>NaN</td>\n",
       "      <td>NaN</td>\n",
       "    </tr>\n",
       "    <tr>\n",
       "      <th>Nodeg</th>\n",
       "      <td>15992.0</td>\n",
       "      <td>NaN</td>\n",
       "      <td>NaN</td>\n",
       "      <td>NaN</td>\n",
       "      <td>0.295835</td>\n",
       "      <td>0.456432</td>\n",
       "      <td>0.0</td>\n",
       "      <td>0.0</td>\n",
       "      <td>0.0</td>\n",
       "      <td>1.0</td>\n",
       "      <td>1.0</td>\n",
       "    </tr>\n",
       "    <tr>\n",
       "      <th>Earnings_1974</th>\n",
       "      <td>15992.0</td>\n",
       "      <td>NaN</td>\n",
       "      <td>NaN</td>\n",
       "      <td>NaN</td>\n",
       "      <td>14016.800304</td>\n",
       "      <td>9569.795893</td>\n",
       "      <td>0.0</td>\n",
       "      <td>4403.45225</td>\n",
       "      <td>15123.58</td>\n",
       "      <td>23584.18</td>\n",
       "      <td>25862.32</td>\n",
       "    </tr>\n",
       "    <tr>\n",
       "      <th>Earnings_1975</th>\n",
       "      <td>15992.0</td>\n",
       "      <td>NaN</td>\n",
       "      <td>NaN</td>\n",
       "      <td>NaN</td>\n",
       "      <td>13650.803376</td>\n",
       "      <td>9270.403225</td>\n",
       "      <td>0.0</td>\n",
       "      <td>4398.823</td>\n",
       "      <td>14557.11</td>\n",
       "      <td>22923.7375</td>\n",
       "      <td>25243.55</td>\n",
       "    </tr>\n",
       "    <tr>\n",
       "      <th>Earnings_1978</th>\n",
       "      <td>15992.0</td>\n",
       "      <td>NaN</td>\n",
       "      <td>NaN</td>\n",
       "      <td>NaN</td>\n",
       "      <td>14846.659673</td>\n",
       "      <td>9647.391524</td>\n",
       "      <td>0.0</td>\n",
       "      <td>5669.298</td>\n",
       "      <td>16421.975</td>\n",
       "      <td>25564.67</td>\n",
       "      <td>25564.67</td>\n",
       "    </tr>\n",
       "    <tr>\n",
       "      <th>racial</th>\n",
       "      <td>15992</td>\n",
       "      <td>3</td>\n",
       "      <td>NotBlackNotHispanic</td>\n",
       "      <td>13664</td>\n",
       "      <td>NaN</td>\n",
       "      <td>NaN</td>\n",
       "      <td>NaN</td>\n",
       "      <td>NaN</td>\n",
       "      <td>NaN</td>\n",
       "      <td>NaN</td>\n",
       "      <td>NaN</td>\n",
       "    </tr>\n",
       "  </tbody>\n",
       "</table>\n",
       "</div>"
      ],
      "text/plain": [
       "                 count unique                  top   freq          mean  \\\n",
       "Age            15992.0    NaN                  NaN    NaN     33.225238   \n",
       "Eduacation       15992      5           HighSchool   6252           NaN   \n",
       "Race             15992      2             NotBlack  14816           NaN   \n",
       "Hisp             15992      2          NotHispanic  14840           NaN   \n",
       "MaritalStatus    15992      2              Married  11382           NaN   \n",
       "Nodeg          15992.0    NaN                  NaN    NaN      0.295835   \n",
       "Earnings_1974  15992.0    NaN                  NaN    NaN  14016.800304   \n",
       "Earnings_1975  15992.0    NaN                  NaN    NaN  13650.803376   \n",
       "Earnings_1978  15992.0    NaN                  NaN    NaN  14846.659673   \n",
       "racial           15992      3  NotBlackNotHispanic  13664           NaN   \n",
       "\n",
       "                       std   min         25%        50%         75%       max  \n",
       "Age              11.045216  16.0        24.0       31.0        42.0      55.0  \n",
       "Eduacation             NaN   NaN         NaN        NaN         NaN       NaN  \n",
       "Race                   NaN   NaN         NaN        NaN         NaN       NaN  \n",
       "Hisp                   NaN   NaN         NaN        NaN         NaN       NaN  \n",
       "MaritalStatus          NaN   NaN         NaN        NaN         NaN       NaN  \n",
       "Nodeg             0.456432   0.0         0.0        0.0         1.0       1.0  \n",
       "Earnings_1974  9569.795893   0.0  4403.45225   15123.58    23584.18  25862.32  \n",
       "Earnings_1975  9270.403225   0.0    4398.823   14557.11  22923.7375  25243.55  \n",
       "Earnings_1978  9647.391524   0.0    5669.298  16421.975    25564.67  25564.67  \n",
       "racial                 NaN   NaN         NaN        NaN         NaN       NaN  "
      ]
     },
     "execution_count": 156,
     "metadata": {},
     "output_type": "execute_result"
    }
   ],
   "source": [
    "df.describe(include=\"all\").T"
   ]
  },
  {
   "cell_type": "code",
   "execution_count": 157,
   "metadata": {},
   "outputs": [
    {
     "name": "stdout",
     "output_type": "stream",
     "text": [
      "<class 'pandas.core.frame.DataFrame'>\n",
      "Int64Index: 15992 entries, 5834 to 4287\n",
      "Data columns (total 10 columns):\n",
      " #   Column         Non-Null Count  Dtype  \n",
      "---  ------         --------------  -----  \n",
      " 0   Age            15992 non-null  int64  \n",
      " 1   Eduacation     15992 non-null  object \n",
      " 2   Race           15992 non-null  object \n",
      " 3   Hisp           15992 non-null  object \n",
      " 4   MaritalStatus  15992 non-null  object \n",
      " 5   Nodeg          15992 non-null  int64  \n",
      " 6   Earnings_1974  15992 non-null  float64\n",
      " 7   Earnings_1975  15992 non-null  float64\n",
      " 8   Earnings_1978  15992 non-null  float64\n",
      " 9   racial         15992 non-null  object \n",
      "dtypes: float64(3), int64(2), object(5)\n",
      "memory usage: 1.3+ MB\n"
     ]
    }
   ],
   "source": [
    "df.info()"
   ]
  },
  {
   "cell_type": "markdown",
   "metadata": {},
   "source": [
    "## Part 1 - Age\n",
    "\n",
    "<ol>\n",
    "<li> Make and plot a Hist and Pmf for age.\n",
    "<li> What fraction of the people in the data are 51? What fraction are older than 51?\n",
    "<li> What is the median age? \n",
    "<li> Does the distribution of the sample data seem to mirror the working age population?\n",
    "</ol>"
   ]
  },
  {
   "cell_type": "markdown",
   "metadata": {},
   "source": [
    "#### Make and plot a Hist and Pmf for age."
   ]
  },
  {
   "cell_type": "code",
   "execution_count": 158,
   "metadata": {},
   "outputs": [],
   "source": [
    "agehist = thinkstats2.Hist(df['Age'], label='Age')"
   ]
  },
  {
   "cell_type": "code",
   "execution_count": null,
   "metadata": {},
   "outputs": [],
   "source": []
  },
  {
   "cell_type": "code",
   "execution_count": 159,
   "metadata": {},
   "outputs": [
    {
     "data": {
      "image/png": "[encoded data removed]",
      "text/plain": [
       "<Figure size 432x288 with 1 Axes>"
      ]
     },
     "metadata": {
      "needs_background": "light"
     },
     "output_type": "display_data"
    }
   ],
   "source": [
    "thinkplot.Hist(agehist)\n",
    "thinkplot.Config(xlabel='Age', ylabel='count')\n",
    "thinkplot.axvline(np.mean(agehist), color=\"red\")\n"
   ]
  },
  {
   "cell_type": "code",
   "execution_count": 232,
   "metadata": {},
   "outputs": [
    {
     "data": {
      "text/plain": [
       "<seaborn.axisgrid.FacetGrid at 0x15ec09943a0>"
      ]
     },
     "execution_count": 232,
     "metadata": {},
     "output_type": "execute_result"
    },
    {
     "data": {
      "image/png": "[encoded data removed]",
      "text/plain": [
       "<Figure size 360x360 with 1 Axes>"
      ]
     },
     "metadata": {
      "needs_background": "light"
     },
     "output_type": "display_data"
    }
   ],
   "source": [
    "sns.displot(df[\"Age\"], kde=True)"
   ]
  },
  {
   "cell_type": "code",
   "execution_count": null,
   "metadata": {},
   "outputs": [],
   "source": []
  },
  {
   "cell_type": "code",
   "execution_count": 160,
   "metadata": {},
   "outputs": [
    {
     "data": {
      "text/plain": [
       "count     1176.000000\n",
       "mean     12006.682951\n",
       "std       9349.118836\n",
       "min          0.000000\n",
       "25%       2465.217500\n",
       "50%      12115.880000\n",
       "75%      20655.290000\n",
       "max      25564.670000\n",
       "Name: Earnings_1978, dtype: float64"
      ]
     },
     "execution_count": 160,
     "metadata": {},
     "output_type": "execute_result"
    }
   ],
   "source": [
    "df2 = df[df['Race']==\"black\"]\n",
    "\n",
    "df2[\"Earnings_1978\"].describe()\n"
   ]
  },
  {
   "cell_type": "code",
   "execution_count": 161,
   "metadata": {},
   "outputs": [],
   "source": [
    "df3 = df2[[\"Earnings_1978\", \"Age\"]]"
   ]
  },
  {
   "cell_type": "code",
   "execution_count": null,
   "metadata": {},
   "outputs": [],
   "source": []
  },
  {
   "cell_type": "code",
   "execution_count": 162,
   "metadata": {},
   "outputs": [
    {
     "data": {
      "text/html": [
       "<div>\n",
       "<style scoped>\n",
       "    .dataframe tbody tr th:only-of-type {\n",
       "        vertical-align: middle;\n",
       "    }\n",
       "\n",
       "    .dataframe tbody tr th {\n",
       "        vertical-align: top;\n",
       "    }\n",
       "\n",
       "    .dataframe thead th {\n",
       "        text-align: right;\n",
       "    }\n",
       "</style>\n",
       "<table border=\"1\" class=\"dataframe\">\n",
       "  <thead>\n",
       "    <tr style=\"text-align: right;\">\n",
       "      <th></th>\n",
       "      <th>Earnings_1978</th>\n",
       "      <th>Age</th>\n",
       "    </tr>\n",
       "  </thead>\n",
       "  <tbody>\n",
       "    <tr>\n",
       "      <th>2483</th>\n",
       "      <td>0.00000</td>\n",
       "      <td>53</td>\n",
       "    </tr>\n",
       "    <tr>\n",
       "      <th>11021</th>\n",
       "      <td>0.00000</td>\n",
       "      <td>26</td>\n",
       "    </tr>\n",
       "    <tr>\n",
       "      <th>13922</th>\n",
       "      <td>964.95550</td>\n",
       "      <td>39</td>\n",
       "    </tr>\n",
       "    <tr>\n",
       "      <th>8042</th>\n",
       "      <td>5495.66500</td>\n",
       "      <td>20</td>\n",
       "    </tr>\n",
       "    <tr>\n",
       "      <th>2593</th>\n",
       "      <td>54.67588</td>\n",
       "      <td>17</td>\n",
       "    </tr>\n",
       "  </tbody>\n",
       "</table>\n",
       "</div>"
      ],
      "text/plain": [
       "       Earnings_1978  Age\n",
       "2483         0.00000   53\n",
       "11021        0.00000   26\n",
       "13922      964.95550   39\n",
       "8042      5495.66500   20\n",
       "2593        54.67588   17"
      ]
     },
     "execution_count": 162,
     "metadata": {},
     "output_type": "execute_result"
    }
   ],
   "source": [
    "df3.head()"
   ]
  },
  {
   "cell_type": "code",
   "execution_count": 163,
   "metadata": {},
   "outputs": [
    {
     "name": "stderr",
     "output_type": "stream",
     "text": [
      "C:\\Users\\toluw\\AppData\\Local\\Temp\\ipykernel_21652\\639177775.py:1: UserWarning: Boolean Series key will be reindexed to match DataFrame index.\n",
      "  out = df3[(df3[\"Age\"]<=20) & (df[\"Earnings_1978\"]>20000)]\n"
     ]
    }
   ],
   "source": [
    "out = df3[(df3[\"Age\"]<=20) & (df[\"Earnings_1978\"]>20000)]"
   ]
  },
  {
   "cell_type": "code",
   "execution_count": 164,
   "metadata": {},
   "outputs": [
    {
     "data": {
      "text/html": [
       "<div>\n",
       "<style scoped>\n",
       "    .dataframe tbody tr th:only-of-type {\n",
       "        vertical-align: middle;\n",
       "    }\n",
       "\n",
       "    .dataframe tbody tr th {\n",
       "        vertical-align: top;\n",
       "    }\n",
       "\n",
       "    .dataframe thead th {\n",
       "        text-align: right;\n",
       "    }\n",
       "</style>\n",
       "<table border=\"1\" class=\"dataframe\">\n",
       "  <thead>\n",
       "    <tr style=\"text-align: right;\">\n",
       "      <th></th>\n",
       "      <th>Age</th>\n",
       "      <th>Eduacation</th>\n",
       "      <th>Race</th>\n",
       "      <th>Hisp</th>\n",
       "      <th>MaritalStatus</th>\n",
       "      <th>Nodeg</th>\n",
       "      <th>Earnings_1974</th>\n",
       "      <th>Earnings_1975</th>\n",
       "      <th>Earnings_1978</th>\n",
       "      <th>racial</th>\n",
       "    </tr>\n",
       "  </thead>\n",
       "  <tbody>\n",
       "    <tr>\n",
       "      <th>8978</th>\n",
       "      <td>20</td>\n",
       "      <td>HighSchool</td>\n",
       "      <td>NotBlack</td>\n",
       "      <td>NotHispanic</td>\n",
       "      <td>NotMarried</td>\n",
       "      <td>0</td>\n",
       "      <td>10352.7700</td>\n",
       "      <td>9780.5320</td>\n",
       "      <td>24206.64</td>\n",
       "      <td>NotBlackNotHispanic</td>\n",
       "    </tr>\n",
       "    <tr>\n",
       "      <th>14839</th>\n",
       "      <td>20</td>\n",
       "      <td>HighSchool</td>\n",
       "      <td>NotBlack</td>\n",
       "      <td>NotHispanic</td>\n",
       "      <td>NotMarried</td>\n",
       "      <td>0</td>\n",
       "      <td>13812.8300</td>\n",
       "      <td>16650.0000</td>\n",
       "      <td>24474.11</td>\n",
       "      <td>NotBlackNotHispanic</td>\n",
       "    </tr>\n",
       "    <tr>\n",
       "      <th>6030</th>\n",
       "      <td>20</td>\n",
       "      <td>LessThanHighSchool</td>\n",
       "      <td>NotBlack</td>\n",
       "      <td>NotHispanic</td>\n",
       "      <td>Married</td>\n",
       "      <td>1</td>\n",
       "      <td>14308.5300</td>\n",
       "      <td>20576.1800</td>\n",
       "      <td>24511.05</td>\n",
       "      <td>NotBlackNotHispanic</td>\n",
       "    </tr>\n",
       "    <tr>\n",
       "      <th>8707</th>\n",
       "      <td>20</td>\n",
       "      <td>HighSchool</td>\n",
       "      <td>NotBlack</td>\n",
       "      <td>NotHispanic</td>\n",
       "      <td>Married</td>\n",
       "      <td>0</td>\n",
       "      <td>12660.7800</td>\n",
       "      <td>5682.4840</td>\n",
       "      <td>24558.34</td>\n",
       "      <td>NotBlackNotHispanic</td>\n",
       "    </tr>\n",
       "    <tr>\n",
       "      <th>522</th>\n",
       "      <td>20</td>\n",
       "      <td>Intermediate</td>\n",
       "      <td>NotBlack</td>\n",
       "      <td>NotHispanic</td>\n",
       "      <td>Married</td>\n",
       "      <td>0</td>\n",
       "      <td>12384.5300</td>\n",
       "      <td>13987.7900</td>\n",
       "      <td>24576.07</td>\n",
       "      <td>NotBlackNotHispanic</td>\n",
       "    </tr>\n",
       "    <tr>\n",
       "      <th>2188</th>\n",
       "      <td>20</td>\n",
       "      <td>Intermediate</td>\n",
       "      <td>NotBlack</td>\n",
       "      <td>NotHispanic</td>\n",
       "      <td>NotMarried</td>\n",
       "      <td>0</td>\n",
       "      <td>3779.4260</td>\n",
       "      <td>4633.3550</td>\n",
       "      <td>24883.44</td>\n",
       "      <td>NotBlackNotHispanic</td>\n",
       "    </tr>\n",
       "    <tr>\n",
       "      <th>12595</th>\n",
       "      <td>20</td>\n",
       "      <td>HighSchool</td>\n",
       "      <td>NotBlack</td>\n",
       "      <td>NotHispanic</td>\n",
       "      <td>NotMarried</td>\n",
       "      <td>0</td>\n",
       "      <td>14332.0400</td>\n",
       "      <td>13200.0500</td>\n",
       "      <td>24884.92</td>\n",
       "      <td>NotBlackNotHispanic</td>\n",
       "    </tr>\n",
       "    <tr>\n",
       "      <th>12176</th>\n",
       "      <td>19</td>\n",
       "      <td>HighSchool</td>\n",
       "      <td>black</td>\n",
       "      <td>NotHispanic</td>\n",
       "      <td>NotMarried</td>\n",
       "      <td>0</td>\n",
       "      <td>2241.4010</td>\n",
       "      <td>6629.5650</td>\n",
       "      <td>24935.16</td>\n",
       "      <td>black</td>\n",
       "    </tr>\n",
       "    <tr>\n",
       "      <th>13606</th>\n",
       "      <td>20</td>\n",
       "      <td>HighSchool</td>\n",
       "      <td>NotBlack</td>\n",
       "      <td>NotHispanic</td>\n",
       "      <td>NotMarried</td>\n",
       "      <td>0</td>\n",
       "      <td>8799.0670</td>\n",
       "      <td>15207.0000</td>\n",
       "      <td>24942.55</td>\n",
       "      <td>NotBlackNotHispanic</td>\n",
       "    </tr>\n",
       "    <tr>\n",
       "      <th>12713</th>\n",
       "      <td>19</td>\n",
       "      <td>HighSchool</td>\n",
       "      <td>NotBlack</td>\n",
       "      <td>NotHispanic</td>\n",
       "      <td>Married</td>\n",
       "      <td>0</td>\n",
       "      <td>11773.2300</td>\n",
       "      <td>24550.6900</td>\n",
       "      <td>25009.04</td>\n",
       "      <td>NotBlackNotHispanic</td>\n",
       "    </tr>\n",
       "    <tr>\n",
       "      <th>9317</th>\n",
       "      <td>20</td>\n",
       "      <td>HighSchool</td>\n",
       "      <td>NotBlack</td>\n",
       "      <td>NotHispanic</td>\n",
       "      <td>NotMarried</td>\n",
       "      <td>0</td>\n",
       "      <td>8019.2790</td>\n",
       "      <td>13416.6800</td>\n",
       "      <td>25167.16</td>\n",
       "      <td>NotBlackNotHispanic</td>\n",
       "    </tr>\n",
       "    <tr>\n",
       "      <th>14718</th>\n",
       "      <td>20</td>\n",
       "      <td>HighSchool</td>\n",
       "      <td>NotBlack</td>\n",
       "      <td>NotHispanic</td>\n",
       "      <td>Married</td>\n",
       "      <td>0</td>\n",
       "      <td>12024.0200</td>\n",
       "      <td>17380.4500</td>\n",
       "      <td>25181.94</td>\n",
       "      <td>NotBlackNotHispanic</td>\n",
       "    </tr>\n",
       "    <tr>\n",
       "      <th>1549</th>\n",
       "      <td>20</td>\n",
       "      <td>Intermediate</td>\n",
       "      <td>NotBlack</td>\n",
       "      <td>NotHispanic</td>\n",
       "      <td>NotMarried</td>\n",
       "      <td>0</td>\n",
       "      <td>0.0000</td>\n",
       "      <td>6398.6130</td>\n",
       "      <td>25239.57</td>\n",
       "      <td>NotBlackNotHispanic</td>\n",
       "    </tr>\n",
       "    <tr>\n",
       "      <th>15441</th>\n",
       "      <td>20</td>\n",
       "      <td>HighSchool</td>\n",
       "      <td>NotBlack</td>\n",
       "      <td>NotHispanic</td>\n",
       "      <td>NotMarried</td>\n",
       "      <td>0</td>\n",
       "      <td>9261.4540</td>\n",
       "      <td>11789.2700</td>\n",
       "      <td>25239.57</td>\n",
       "      <td>NotBlackNotHispanic</td>\n",
       "    </tr>\n",
       "    <tr>\n",
       "      <th>11914</th>\n",
       "      <td>20</td>\n",
       "      <td>HighSchool</td>\n",
       "      <td>black</td>\n",
       "      <td>NotHispanic</td>\n",
       "      <td>NotMarried</td>\n",
       "      <td>0</td>\n",
       "      <td>16567.5600</td>\n",
       "      <td>17292.7300</td>\n",
       "      <td>25303.11</td>\n",
       "      <td>black</td>\n",
       "    </tr>\n",
       "    <tr>\n",
       "      <th>5396</th>\n",
       "      <td>20</td>\n",
       "      <td>HighSchool</td>\n",
       "      <td>NotBlack</td>\n",
       "      <td>NotHispanic</td>\n",
       "      <td>Married</td>\n",
       "      <td>0</td>\n",
       "      <td>9872.7450</td>\n",
       "      <td>9039.3390</td>\n",
       "      <td>25360.74</td>\n",
       "      <td>NotBlackNotHispanic</td>\n",
       "    </tr>\n",
       "    <tr>\n",
       "      <th>7264</th>\n",
       "      <td>19</td>\n",
       "      <td>HighSchool</td>\n",
       "      <td>NotBlack</td>\n",
       "      <td>NotHispanic</td>\n",
       "      <td>Married</td>\n",
       "      <td>0</td>\n",
       "      <td>1118.7410</td>\n",
       "      <td>655.2581</td>\n",
       "      <td>25419.85</td>\n",
       "      <td>NotBlackNotHispanic</td>\n",
       "    </tr>\n",
       "    <tr>\n",
       "      <th>8893</th>\n",
       "      <td>20</td>\n",
       "      <td>HighSchool</td>\n",
       "      <td>NotBlack</td>\n",
       "      <td>NotHispanic</td>\n",
       "      <td>NotMarried</td>\n",
       "      <td>0</td>\n",
       "      <td>8130.9570</td>\n",
       "      <td>13166.0300</td>\n",
       "      <td>25564.67</td>\n",
       "      <td>NotBlackNotHispanic</td>\n",
       "    </tr>\n",
       "    <tr>\n",
       "      <th>7838</th>\n",
       "      <td>20</td>\n",
       "      <td>Intermediate</td>\n",
       "      <td>NotBlack</td>\n",
       "      <td>NotHispanic</td>\n",
       "      <td>Married</td>\n",
       "      <td>0</td>\n",
       "      <td>8383.7030</td>\n",
       "      <td>18610.4000</td>\n",
       "      <td>25564.67</td>\n",
       "      <td>NotBlackNotHispanic</td>\n",
       "    </tr>\n",
       "    <tr>\n",
       "      <th>7123</th>\n",
       "      <td>20</td>\n",
       "      <td>HighSchool</td>\n",
       "      <td>NotBlack</td>\n",
       "      <td>NotHispanic</td>\n",
       "      <td>Married</td>\n",
       "      <td>0</td>\n",
       "      <td>8544.3630</td>\n",
       "      <td>18193.2600</td>\n",
       "      <td>25564.67</td>\n",
       "      <td>NotBlackNotHispanic</td>\n",
       "    </tr>\n",
       "    <tr>\n",
       "      <th>7065</th>\n",
       "      <td>20</td>\n",
       "      <td>HighSchool</td>\n",
       "      <td>NotBlack</td>\n",
       "      <td>NotHispanic</td>\n",
       "      <td>Married</td>\n",
       "      <td>0</td>\n",
       "      <td>19874.8000</td>\n",
       "      <td>23207.9500</td>\n",
       "      <td>25564.67</td>\n",
       "      <td>NotBlackNotHispanic</td>\n",
       "    </tr>\n",
       "    <tr>\n",
       "      <th>1000</th>\n",
       "      <td>19</td>\n",
       "      <td>HighSchool</td>\n",
       "      <td>NotBlack</td>\n",
       "      <td>NotHispanic</td>\n",
       "      <td>Married</td>\n",
       "      <td>0</td>\n",
       "      <td>10037.3200</td>\n",
       "      <td>14949.1900</td>\n",
       "      <td>25564.67</td>\n",
       "      <td>NotBlackNotHispanic</td>\n",
       "    </tr>\n",
       "    <tr>\n",
       "      <th>8747</th>\n",
       "      <td>19</td>\n",
       "      <td>LessThanHighSchool</td>\n",
       "      <td>NotBlack</td>\n",
       "      <td>NotHispanic</td>\n",
       "      <td>Married</td>\n",
       "      <td>1</td>\n",
       "      <td>14008.7600</td>\n",
       "      <td>8378.7100</td>\n",
       "      <td>25564.67</td>\n",
       "      <td>NotBlackNotHispanic</td>\n",
       "    </tr>\n",
       "    <tr>\n",
       "      <th>6723</th>\n",
       "      <td>20</td>\n",
       "      <td>HighSchool</td>\n",
       "      <td>NotBlack</td>\n",
       "      <td>NotHispanic</td>\n",
       "      <td>NotMarried</td>\n",
       "      <td>0</td>\n",
       "      <td>14232.1100</td>\n",
       "      <td>12537.6300</td>\n",
       "      <td>25564.67</td>\n",
       "      <td>NotBlackNotHispanic</td>\n",
       "    </tr>\n",
       "    <tr>\n",
       "      <th>4841</th>\n",
       "      <td>19</td>\n",
       "      <td>HighSchool</td>\n",
       "      <td>NotBlack</td>\n",
       "      <td>NotHispanic</td>\n",
       "      <td>Married</td>\n",
       "      <td>0</td>\n",
       "      <td>12319.8700</td>\n",
       "      <td>10738.3500</td>\n",
       "      <td>25564.67</td>\n",
       "      <td>NotBlackNotHispanic</td>\n",
       "    </tr>\n",
       "    <tr>\n",
       "      <th>7328</th>\n",
       "      <td>20</td>\n",
       "      <td>HighSchool</td>\n",
       "      <td>NotBlack</td>\n",
       "      <td>NotHispanic</td>\n",
       "      <td>Married</td>\n",
       "      <td>0</td>\n",
       "      <td>15787.7700</td>\n",
       "      <td>24056.5600</td>\n",
       "      <td>25564.67</td>\n",
       "      <td>NotBlackNotHispanic</td>\n",
       "    </tr>\n",
       "    <tr>\n",
       "      <th>12668</th>\n",
       "      <td>20</td>\n",
       "      <td>HighSchool</td>\n",
       "      <td>NotBlack</td>\n",
       "      <td>NotHispanic</td>\n",
       "      <td>NotMarried</td>\n",
       "      <td>0</td>\n",
       "      <td>8062.3830</td>\n",
       "      <td>2083.9350</td>\n",
       "      <td>25564.67</td>\n",
       "      <td>NotBlackNotHispanic</td>\n",
       "    </tr>\n",
       "    <tr>\n",
       "      <th>10154</th>\n",
       "      <td>20</td>\n",
       "      <td>HighSchool</td>\n",
       "      <td>NotBlack</td>\n",
       "      <td>NotHispanic</td>\n",
       "      <td>NotMarried</td>\n",
       "      <td>0</td>\n",
       "      <td>12752.8700</td>\n",
       "      <td>19944.1900</td>\n",
       "      <td>25564.67</td>\n",
       "      <td>NotBlackNotHispanic</td>\n",
       "    </tr>\n",
       "    <tr>\n",
       "      <th>11866</th>\n",
       "      <td>19</td>\n",
       "      <td>HighSchool</td>\n",
       "      <td>NotBlack</td>\n",
       "      <td>NotHispanic</td>\n",
       "      <td>Married</td>\n",
       "      <td>0</td>\n",
       "      <td>15617.3200</td>\n",
       "      <td>25243.5500</td>\n",
       "      <td>25564.67</td>\n",
       "      <td>NotBlackNotHispanic</td>\n",
       "    </tr>\n",
       "    <tr>\n",
       "      <th>2737</th>\n",
       "      <td>19</td>\n",
       "      <td>HighSchool</td>\n",
       "      <td>NotBlack</td>\n",
       "      <td>NotHispanic</td>\n",
       "      <td>NotMarried</td>\n",
       "      <td>0</td>\n",
       "      <td>10319.4600</td>\n",
       "      <td>25243.5500</td>\n",
       "      <td>25564.67</td>\n",
       "      <td>NotBlackNotHispanic</td>\n",
       "    </tr>\n",
       "    <tr>\n",
       "      <th>7741</th>\n",
       "      <td>20</td>\n",
       "      <td>PostGraduate</td>\n",
       "      <td>NotBlack</td>\n",
       "      <td>NotHispanic</td>\n",
       "      <td>Married</td>\n",
       "      <td>0</td>\n",
       "      <td>19359.5200</td>\n",
       "      <td>21014.8100</td>\n",
       "      <td>25564.67</td>\n",
       "      <td>NotBlackNotHispanic</td>\n",
       "    </tr>\n",
       "    <tr>\n",
       "      <th>8939</th>\n",
       "      <td>19</td>\n",
       "      <td>LessThanHighSchool</td>\n",
       "      <td>NotBlack</td>\n",
       "      <td>NotHispanic</td>\n",
       "      <td>NotMarried</td>\n",
       "      <td>1</td>\n",
       "      <td>7976.1750</td>\n",
       "      <td>22781.8500</td>\n",
       "      <td>25564.67</td>\n",
       "      <td>NotBlackNotHispanic</td>\n",
       "    </tr>\n",
       "    <tr>\n",
       "      <th>7222</th>\n",
       "      <td>20</td>\n",
       "      <td>HighSchool</td>\n",
       "      <td>NotBlack</td>\n",
       "      <td>NotHispanic</td>\n",
       "      <td>Married</td>\n",
       "      <td>0</td>\n",
       "      <td>23309.4000</td>\n",
       "      <td>22456.0200</td>\n",
       "      <td>25564.67</td>\n",
       "      <td>NotBlackNotHispanic</td>\n",
       "    </tr>\n",
       "    <tr>\n",
       "      <th>9447</th>\n",
       "      <td>19</td>\n",
       "      <td>Intermediate</td>\n",
       "      <td>NotBlack</td>\n",
       "      <td>NotHispanic</td>\n",
       "      <td>Married</td>\n",
       "      <td>0</td>\n",
       "      <td>0.0000</td>\n",
       "      <td>5630.5650</td>\n",
       "      <td>25564.67</td>\n",
       "      <td>NotBlackNotHispanic</td>\n",
       "    </tr>\n",
       "    <tr>\n",
       "      <th>13121</th>\n",
       "      <td>19</td>\n",
       "      <td>HighSchool</td>\n",
       "      <td>NotBlack</td>\n",
       "      <td>NotHispanic</td>\n",
       "      <td>NotMarried</td>\n",
       "      <td>0</td>\n",
       "      <td>321.3198</td>\n",
       "      <td>159.3387</td>\n",
       "      <td>25564.67</td>\n",
       "      <td>NotBlackNotHispanic</td>\n",
       "    </tr>\n",
       "    <tr>\n",
       "      <th>5300</th>\n",
       "      <td>19</td>\n",
       "      <td>Intermediate</td>\n",
       "      <td>NotBlack</td>\n",
       "      <td>NotHispanic</td>\n",
       "      <td>NotMarried</td>\n",
       "      <td>0</td>\n",
       "      <td>397.7312</td>\n",
       "      <td>3526.9350</td>\n",
       "      <td>25564.67</td>\n",
       "      <td>NotBlackNotHispanic</td>\n",
       "    </tr>\n",
       "    <tr>\n",
       "      <th>5686</th>\n",
       "      <td>19</td>\n",
       "      <td>HighSchool</td>\n",
       "      <td>NotBlack</td>\n",
       "      <td>NotHispanic</td>\n",
       "      <td>NotMarried</td>\n",
       "      <td>0</td>\n",
       "      <td>476.1018</td>\n",
       "      <td>5736.1940</td>\n",
       "      <td>25564.67</td>\n",
       "      <td>NotBlackNotHispanic</td>\n",
       "    </tr>\n",
       "    <tr>\n",
       "      <th>12769</th>\n",
       "      <td>19</td>\n",
       "      <td>HighSchool</td>\n",
       "      <td>NotBlack</td>\n",
       "      <td>NotHispanic</td>\n",
       "      <td>NotMarried</td>\n",
       "      <td>0</td>\n",
       "      <td>858.1589</td>\n",
       "      <td>2954.0320</td>\n",
       "      <td>25564.67</td>\n",
       "      <td>NotBlackNotHispanic</td>\n",
       "    </tr>\n",
       "    <tr>\n",
       "      <th>2970</th>\n",
       "      <td>19</td>\n",
       "      <td>HighSchool</td>\n",
       "      <td>NotBlack</td>\n",
       "      <td>NotHispanic</td>\n",
       "      <td>NotMarried</td>\n",
       "      <td>0</td>\n",
       "      <td>973.7556</td>\n",
       "      <td>617.6613</td>\n",
       "      <td>25564.67</td>\n",
       "      <td>NotBlackNotHispanic</td>\n",
       "    </tr>\n",
       "    <tr>\n",
       "      <th>7612</th>\n",
       "      <td>19</td>\n",
       "      <td>LessThanHighSchool</td>\n",
       "      <td>NotBlack</td>\n",
       "      <td>NotHispanic</td>\n",
       "      <td>NotMarried</td>\n",
       "      <td>1</td>\n",
       "      <td>2080.7410</td>\n",
       "      <td>8774.3710</td>\n",
       "      <td>25564.67</td>\n",
       "      <td>NotBlackNotHispanic</td>\n",
       "    </tr>\n",
       "    <tr>\n",
       "      <th>10679</th>\n",
       "      <td>19</td>\n",
       "      <td>LessThanHighSchool</td>\n",
       "      <td>NotBlack</td>\n",
       "      <td>NotHispanic</td>\n",
       "      <td>NotMarried</td>\n",
       "      <td>1</td>\n",
       "      <td>2466.7170</td>\n",
       "      <td>0.0000</td>\n",
       "      <td>25564.67</td>\n",
       "      <td>NotBlackNotHispanic</td>\n",
       "    </tr>\n",
       "    <tr>\n",
       "      <th>6404</th>\n",
       "      <td>20</td>\n",
       "      <td>Intermediate</td>\n",
       "      <td>NotBlack</td>\n",
       "      <td>NotHispanic</td>\n",
       "      <td>NotMarried</td>\n",
       "      <td>0</td>\n",
       "      <td>3671.6660</td>\n",
       "      <td>1869.0970</td>\n",
       "      <td>25564.67</td>\n",
       "      <td>NotBlackNotHispanic</td>\n",
       "    </tr>\n",
       "    <tr>\n",
       "      <th>8844</th>\n",
       "      <td>19</td>\n",
       "      <td>HighSchool</td>\n",
       "      <td>NotBlack</td>\n",
       "      <td>NotHispanic</td>\n",
       "      <td>NotMarried</td>\n",
       "      <td>0</td>\n",
       "      <td>4335.8570</td>\n",
       "      <td>6651.0480</td>\n",
       "      <td>25564.67</td>\n",
       "      <td>NotBlackNotHispanic</td>\n",
       "    </tr>\n",
       "    <tr>\n",
       "      <th>9089</th>\n",
       "      <td>20</td>\n",
       "      <td>HighSchool</td>\n",
       "      <td>NotBlack</td>\n",
       "      <td>NotHispanic</td>\n",
       "      <td>Married</td>\n",
       "      <td>0</td>\n",
       "      <td>4410.3100</td>\n",
       "      <td>0.0000</td>\n",
       "      <td>25564.67</td>\n",
       "      <td>NotBlackNotHispanic</td>\n",
       "    </tr>\n",
       "    <tr>\n",
       "      <th>801</th>\n",
       "      <td>20</td>\n",
       "      <td>LessThanHighSchool</td>\n",
       "      <td>NotBlack</td>\n",
       "      <td>NotHispanic</td>\n",
       "      <td>Married</td>\n",
       "      <td>1</td>\n",
       "      <td>4545.4990</td>\n",
       "      <td>10244.2300</td>\n",
       "      <td>25564.67</td>\n",
       "      <td>NotBlackNotHispanic</td>\n",
       "    </tr>\n",
       "    <tr>\n",
       "      <th>14459</th>\n",
       "      <td>20</td>\n",
       "      <td>HighSchool</td>\n",
       "      <td>NotBlack</td>\n",
       "      <td>NotHispanic</td>\n",
       "      <td>NotMarried</td>\n",
       "      <td>0</td>\n",
       "      <td>4962.8230</td>\n",
       "      <td>4606.5000</td>\n",
       "      <td>25564.67</td>\n",
       "      <td>NotBlackNotHispanic</td>\n",
       "    </tr>\n",
       "    <tr>\n",
       "      <th>5677</th>\n",
       "      <td>20</td>\n",
       "      <td>Intermediate</td>\n",
       "      <td>NotBlack</td>\n",
       "      <td>NotHispanic</td>\n",
       "      <td>NotMarried</td>\n",
       "      <td>0</td>\n",
       "      <td>4978.4970</td>\n",
       "      <td>5220.5810</td>\n",
       "      <td>25564.67</td>\n",
       "      <td>NotBlackNotHispanic</td>\n",
       "    </tr>\n",
       "    <tr>\n",
       "      <th>1762</th>\n",
       "      <td>20</td>\n",
       "      <td>Intermediate</td>\n",
       "      <td>black</td>\n",
       "      <td>NotHispanic</td>\n",
       "      <td>NotMarried</td>\n",
       "      <td>0</td>\n",
       "      <td>5094.0940</td>\n",
       "      <td>4388.0810</td>\n",
       "      <td>25564.67</td>\n",
       "      <td>black</td>\n",
       "    </tr>\n",
       "    <tr>\n",
       "      <th>7857</th>\n",
       "      <td>20</td>\n",
       "      <td>Intermediate</td>\n",
       "      <td>NotBlack</td>\n",
       "      <td>hispanic</td>\n",
       "      <td>NotMarried</td>\n",
       "      <td>0</td>\n",
       "      <td>5591.7470</td>\n",
       "      <td>6837.2420</td>\n",
       "      <td>25564.67</td>\n",
       "      <td>hispanic</td>\n",
       "    </tr>\n",
       "    <tr>\n",
       "      <th>5748</th>\n",
       "      <td>20</td>\n",
       "      <td>HighSchool</td>\n",
       "      <td>NotBlack</td>\n",
       "      <td>NotHispanic</td>\n",
       "      <td>NotMarried</td>\n",
       "      <td>0</td>\n",
       "      <td>5811.1850</td>\n",
       "      <td>14336.9000</td>\n",
       "      <td>25564.67</td>\n",
       "      <td>NotBlackNotHispanic</td>\n",
       "    </tr>\n",
       "    <tr>\n",
       "      <th>15374</th>\n",
       "      <td>19</td>\n",
       "      <td>HighSchool</td>\n",
       "      <td>NotBlack</td>\n",
       "      <td>NotHispanic</td>\n",
       "      <td>NotMarried</td>\n",
       "      <td>0</td>\n",
       "      <td>6054.1340</td>\n",
       "      <td>9628.3550</td>\n",
       "      <td>25564.67</td>\n",
       "      <td>NotBlackNotHispanic</td>\n",
       "    </tr>\n",
       "    <tr>\n",
       "      <th>7147</th>\n",
       "      <td>20</td>\n",
       "      <td>Intermediate</td>\n",
       "      <td>NotBlack</td>\n",
       "      <td>NotHispanic</td>\n",
       "      <td>NotMarried</td>\n",
       "      <td>0</td>\n",
       "      <td>6371.5360</td>\n",
       "      <td>12233.2700</td>\n",
       "      <td>25564.67</td>\n",
       "      <td>NotBlackNotHispanic</td>\n",
       "    </tr>\n",
       "    <tr>\n",
       "      <th>6585</th>\n",
       "      <td>20</td>\n",
       "      <td>HighSchool</td>\n",
       "      <td>NotBlack</td>\n",
       "      <td>NotHispanic</td>\n",
       "      <td>NotMarried</td>\n",
       "      <td>0</td>\n",
       "      <td>6438.1510</td>\n",
       "      <td>10357.0200</td>\n",
       "      <td>25564.67</td>\n",
       "      <td>NotBlackNotHispanic</td>\n",
       "    </tr>\n",
       "    <tr>\n",
       "      <th>6898</th>\n",
       "      <td>19</td>\n",
       "      <td>HighSchool</td>\n",
       "      <td>NotBlack</td>\n",
       "      <td>NotHispanic</td>\n",
       "      <td>Married</td>\n",
       "      <td>0</td>\n",
       "      <td>6671.3030</td>\n",
       "      <td>15921.3400</td>\n",
       "      <td>25564.67</td>\n",
       "      <td>NotBlackNotHispanic</td>\n",
       "    </tr>\n",
       "    <tr>\n",
       "      <th>4631</th>\n",
       "      <td>20</td>\n",
       "      <td>HighSchool</td>\n",
       "      <td>NotBlack</td>\n",
       "      <td>NotHispanic</td>\n",
       "      <td>Married</td>\n",
       "      <td>0</td>\n",
       "      <td>6769.2670</td>\n",
       "      <td>19446.4800</td>\n",
       "      <td>25564.67</td>\n",
       "      <td>NotBlackNotHispanic</td>\n",
       "    </tr>\n",
       "    <tr>\n",
       "      <th>620</th>\n",
       "      <td>19</td>\n",
       "      <td>HighSchool</td>\n",
       "      <td>NotBlack</td>\n",
       "      <td>NotHispanic</td>\n",
       "      <td>Married</td>\n",
       "      <td>0</td>\n",
       "      <td>7100.3830</td>\n",
       "      <td>19654.1600</td>\n",
       "      <td>25564.67</td>\n",
       "      <td>NotBlackNotHispanic</td>\n",
       "    </tr>\n",
       "    <tr>\n",
       "      <th>4936</th>\n",
       "      <td>20</td>\n",
       "      <td>HighSchool</td>\n",
       "      <td>NotBlack</td>\n",
       "      <td>NotHispanic</td>\n",
       "      <td>NotMarried</td>\n",
       "      <td>0</td>\n",
       "      <td>7425.6210</td>\n",
       "      <td>6087.0970</td>\n",
       "      <td>25564.67</td>\n",
       "      <td>NotBlackNotHispanic</td>\n",
       "    </tr>\n",
       "    <tr>\n",
       "      <th>530</th>\n",
       "      <td>19</td>\n",
       "      <td>HighSchool</td>\n",
       "      <td>NotBlack</td>\n",
       "      <td>NotHispanic</td>\n",
       "      <td>Married</td>\n",
       "      <td>0</td>\n",
       "      <td>7676.4070</td>\n",
       "      <td>11902.0600</td>\n",
       "      <td>25564.67</td>\n",
       "      <td>NotBlackNotHispanic</td>\n",
       "    </tr>\n",
       "    <tr>\n",
       "      <th>9892</th>\n",
       "      <td>19</td>\n",
       "      <td>LessThanHighSchool</td>\n",
       "      <td>NotBlack</td>\n",
       "      <td>NotHispanic</td>\n",
       "      <td>Married</td>\n",
       "      <td>1</td>\n",
       "      <td>8031.0350</td>\n",
       "      <td>13334.3200</td>\n",
       "      <td>25564.67</td>\n",
       "      <td>NotBlackNotHispanic</td>\n",
       "    </tr>\n",
       "    <tr>\n",
       "      <th>6558</th>\n",
       "      <td>19</td>\n",
       "      <td>LessThanHighSchool</td>\n",
       "      <td>black</td>\n",
       "      <td>NotHispanic</td>\n",
       "      <td>NotMarried</td>\n",
       "      <td>1</td>\n",
       "      <td>24868.9700</td>\n",
       "      <td>23666.2700</td>\n",
       "      <td>25564.67</td>\n",
       "      <td>black</td>\n",
       "    </tr>\n",
       "  </tbody>\n",
       "</table>\n",
       "</div>"
      ],
      "text/plain": [
       "       Age          Eduacation      Race         Hisp MaritalStatus  Nodeg  \\\n",
       "8978    20          HighSchool  NotBlack  NotHispanic    NotMarried      0   \n",
       "14839   20          HighSchool  NotBlack  NotHispanic    NotMarried      0   \n",
       "6030    20  LessThanHighSchool  NotBlack  NotHispanic       Married      1   \n",
       "8707    20          HighSchool  NotBlack  NotHispanic       Married      0   \n",
       "522     20        Intermediate  NotBlack  NotHispanic       Married      0   \n",
       "2188    20        Intermediate  NotBlack  NotHispanic    NotMarried      0   \n",
       "12595   20          HighSchool  NotBlack  NotHispanic    NotMarried      0   \n",
       "12176   19          HighSchool     black  NotHispanic    NotMarried      0   \n",
       "13606   20          HighSchool  NotBlack  NotHispanic    NotMarried      0   \n",
       "12713   19          HighSchool  NotBlack  NotHispanic       Married      0   \n",
       "9317    20          HighSchool  NotBlack  NotHispanic    NotMarried      0   \n",
       "14718   20          HighSchool  NotBlack  NotHispanic       Married      0   \n",
       "1549    20        Intermediate  NotBlack  NotHispanic    NotMarried      0   \n",
       "15441   20          HighSchool  NotBlack  NotHispanic    NotMarried      0   \n",
       "11914   20          HighSchool     black  NotHispanic    NotMarried      0   \n",
       "5396    20          HighSchool  NotBlack  NotHispanic       Married      0   \n",
       "7264    19          HighSchool  NotBlack  NotHispanic       Married      0   \n",
       "8893    20          HighSchool  NotBlack  NotHispanic    NotMarried      0   \n",
       "7838    20        Intermediate  NotBlack  NotHispanic       Married      0   \n",
       "7123    20          HighSchool  NotBlack  NotHispanic       Married      0   \n",
       "7065    20          HighSchool  NotBlack  NotHispanic       Married      0   \n",
       "1000    19          HighSchool  NotBlack  NotHispanic       Married      0   \n",
       "8747    19  LessThanHighSchool  NotBlack  NotHispanic       Married      1   \n",
       "6723    20          HighSchool  NotBlack  NotHispanic    NotMarried      0   \n",
       "4841    19          HighSchool  NotBlack  NotHispanic       Married      0   \n",
       "7328    20          HighSchool  NotBlack  NotHispanic       Married      0   \n",
       "12668   20          HighSchool  NotBlack  NotHispanic    NotMarried      0   \n",
       "10154   20          HighSchool  NotBlack  NotHispanic    NotMarried      0   \n",
       "11866   19          HighSchool  NotBlack  NotHispanic       Married      0   \n",
       "2737    19          HighSchool  NotBlack  NotHispanic    NotMarried      0   \n",
       "7741    20        PostGraduate  NotBlack  NotHispanic       Married      0   \n",
       "8939    19  LessThanHighSchool  NotBlack  NotHispanic    NotMarried      1   \n",
       "7222    20          HighSchool  NotBlack  NotHispanic       Married      0   \n",
       "9447    19        Intermediate  NotBlack  NotHispanic       Married      0   \n",
       "13121   19          HighSchool  NotBlack  NotHispanic    NotMarried      0   \n",
       "5300    19        Intermediate  NotBlack  NotHispanic    NotMarried      0   \n",
       "5686    19          HighSchool  NotBlack  NotHispanic    NotMarried      0   \n",
       "12769   19          HighSchool  NotBlack  NotHispanic    NotMarried      0   \n",
       "2970    19          HighSchool  NotBlack  NotHispanic    NotMarried      0   \n",
       "7612    19  LessThanHighSchool  NotBlack  NotHispanic    NotMarried      1   \n",
       "10679   19  LessThanHighSchool  NotBlack  NotHispanic    NotMarried      1   \n",
       "6404    20        Intermediate  NotBlack  NotHispanic    NotMarried      0   \n",
       "8844    19          HighSchool  NotBlack  NotHispanic    NotMarried      0   \n",
       "9089    20          HighSchool  NotBlack  NotHispanic       Married      0   \n",
       "801     20  LessThanHighSchool  NotBlack  NotHispanic       Married      1   \n",
       "14459   20          HighSchool  NotBlack  NotHispanic    NotMarried      0   \n",
       "5677    20        Intermediate  NotBlack  NotHispanic    NotMarried      0   \n",
       "1762    20        Intermediate     black  NotHispanic    NotMarried      0   \n",
       "7857    20        Intermediate  NotBlack     hispanic    NotMarried      0   \n",
       "5748    20          HighSchool  NotBlack  NotHispanic    NotMarried      0   \n",
       "15374   19          HighSchool  NotBlack  NotHispanic    NotMarried      0   \n",
       "7147    20        Intermediate  NotBlack  NotHispanic    NotMarried      0   \n",
       "6585    20          HighSchool  NotBlack  NotHispanic    NotMarried      0   \n",
       "6898    19          HighSchool  NotBlack  NotHispanic       Married      0   \n",
       "4631    20          HighSchool  NotBlack  NotHispanic       Married      0   \n",
       "620     19          HighSchool  NotBlack  NotHispanic       Married      0   \n",
       "4936    20          HighSchool  NotBlack  NotHispanic    NotMarried      0   \n",
       "530     19          HighSchool  NotBlack  NotHispanic       Married      0   \n",
       "9892    19  LessThanHighSchool  NotBlack  NotHispanic       Married      1   \n",
       "6558    19  LessThanHighSchool     black  NotHispanic    NotMarried      1   \n",
       "\n",
       "       Earnings_1974  Earnings_1975  Earnings_1978               racial  \n",
       "8978      10352.7700      9780.5320       24206.64  NotBlackNotHispanic  \n",
       "14839     13812.8300     16650.0000       24474.11  NotBlackNotHispanic  \n",
       "6030      14308.5300     20576.1800       24511.05  NotBlackNotHispanic  \n",
       "8707      12660.7800      5682.4840       24558.34  NotBlackNotHispanic  \n",
       "522       12384.5300     13987.7900       24576.07  NotBlackNotHispanic  \n",
       "2188       3779.4260      4633.3550       24883.44  NotBlackNotHispanic  \n",
       "12595     14332.0400     13200.0500       24884.92  NotBlackNotHispanic  \n",
       "12176      2241.4010      6629.5650       24935.16                black  \n",
       "13606      8799.0670     15207.0000       24942.55  NotBlackNotHispanic  \n",
       "12713     11773.2300     24550.6900       25009.04  NotBlackNotHispanic  \n",
       "9317       8019.2790     13416.6800       25167.16  NotBlackNotHispanic  \n",
       "14718     12024.0200     17380.4500       25181.94  NotBlackNotHispanic  \n",
       "1549          0.0000      6398.6130       25239.57  NotBlackNotHispanic  \n",
       "15441      9261.4540     11789.2700       25239.57  NotBlackNotHispanic  \n",
       "11914     16567.5600     17292.7300       25303.11                black  \n",
       "5396       9872.7450      9039.3390       25360.74  NotBlackNotHispanic  \n",
       "7264       1118.7410       655.2581       25419.85  NotBlackNotHispanic  \n",
       "8893       8130.9570     13166.0300       25564.67  NotBlackNotHispanic  \n",
       "7838       8383.7030     18610.4000       25564.67  NotBlackNotHispanic  \n",
       "7123       8544.3630     18193.2600       25564.67  NotBlackNotHispanic  \n",
       "7065      19874.8000     23207.9500       25564.67  NotBlackNotHispanic  \n",
       "1000      10037.3200     14949.1900       25564.67  NotBlackNotHispanic  \n",
       "8747      14008.7600      8378.7100       25564.67  NotBlackNotHispanic  \n",
       "6723      14232.1100     12537.6300       25564.67  NotBlackNotHispanic  \n",
       "4841      12319.8700     10738.3500       25564.67  NotBlackNotHispanic  \n",
       "7328      15787.7700     24056.5600       25564.67  NotBlackNotHispanic  \n",
       "12668      8062.3830      2083.9350       25564.67  NotBlackNotHispanic  \n",
       "10154     12752.8700     19944.1900       25564.67  NotBlackNotHispanic  \n",
       "11866     15617.3200     25243.5500       25564.67  NotBlackNotHispanic  \n",
       "2737      10319.4600     25243.5500       25564.67  NotBlackNotHispanic  \n",
       "7741      19359.5200     21014.8100       25564.67  NotBlackNotHispanic  \n",
       "8939       7976.1750     22781.8500       25564.67  NotBlackNotHispanic  \n",
       "7222      23309.4000     22456.0200       25564.67  NotBlackNotHispanic  \n",
       "9447          0.0000      5630.5650       25564.67  NotBlackNotHispanic  \n",
       "13121       321.3198       159.3387       25564.67  NotBlackNotHispanic  \n",
       "5300        397.7312      3526.9350       25564.67  NotBlackNotHispanic  \n",
       "5686        476.1018      5736.1940       25564.67  NotBlackNotHispanic  \n",
       "12769       858.1589      2954.0320       25564.67  NotBlackNotHispanic  \n",
       "2970        973.7556       617.6613       25564.67  NotBlackNotHispanic  \n",
       "7612       2080.7410      8774.3710       25564.67  NotBlackNotHispanic  \n",
       "10679      2466.7170         0.0000       25564.67  NotBlackNotHispanic  \n",
       "6404       3671.6660      1869.0970       25564.67  NotBlackNotHispanic  \n",
       "8844       4335.8570      6651.0480       25564.67  NotBlackNotHispanic  \n",
       "9089       4410.3100         0.0000       25564.67  NotBlackNotHispanic  \n",
       "801        4545.4990     10244.2300       25564.67  NotBlackNotHispanic  \n",
       "14459      4962.8230      4606.5000       25564.67  NotBlackNotHispanic  \n",
       "5677       4978.4970      5220.5810       25564.67  NotBlackNotHispanic  \n",
       "1762       5094.0940      4388.0810       25564.67                black  \n",
       "7857       5591.7470      6837.2420       25564.67             hispanic  \n",
       "5748       5811.1850     14336.9000       25564.67  NotBlackNotHispanic  \n",
       "15374      6054.1340      9628.3550       25564.67  NotBlackNotHispanic  \n",
       "7147       6371.5360     12233.2700       25564.67  NotBlackNotHispanic  \n",
       "6585       6438.1510     10357.0200       25564.67  NotBlackNotHispanic  \n",
       "6898       6671.3030     15921.3400       25564.67  NotBlackNotHispanic  \n",
       "4631       6769.2670     19446.4800       25564.67  NotBlackNotHispanic  \n",
       "620        7100.3830     19654.1600       25564.67  NotBlackNotHispanic  \n",
       "4936       7425.6210      6087.0970       25564.67  NotBlackNotHispanic  \n",
       "530        7676.4070     11902.0600       25564.67  NotBlackNotHispanic  \n",
       "9892       8031.0350     13334.3200       25564.67  NotBlackNotHispanic  \n",
       "6558      24868.9700     23666.2700       25564.67                black  "
      ]
     },
     "execution_count": 164,
     "metadata": {},
     "output_type": "execute_result"
    }
   ],
   "source": [
    "df[(df[\"Age\"]>18) & (df[\"Age\"]<=20) & (df[\"Earnings_1978\"]>=24000)].sort_values(\"Earnings_1978\")"
   ]
  },
  {
   "cell_type": "code",
   "execution_count": 165,
   "metadata": {},
   "outputs": [
    {
     "data": {
      "text/plain": [
       "Earnings_1978  Age\n",
       "20243.38       18     1\n",
       "24935.16       19     1\n",
       "25303.11       20     1\n",
       "25564.67       18     1\n",
       "               19     1\n",
       "               20     1\n",
       "dtype: int64"
      ]
     },
     "execution_count": 165,
     "metadata": {},
     "output_type": "execute_result"
    }
   ],
   "source": [
    "out.value_counts()"
   ]
  },
  {
   "cell_type": "code",
   "execution_count": 166,
   "metadata": {},
   "outputs": [
    {
     "name": "stdout",
     "output_type": "stream",
     "text": [
      "<class 'pandas.core.frame.DataFrame'>\n",
      "Int64Index: 6 entries, 3101 to 6558\n",
      "Data columns (total 2 columns):\n",
      " #   Column         Non-Null Count  Dtype  \n",
      "---  ------         --------------  -----  \n",
      " 0   Earnings_1978  6 non-null      float64\n",
      " 1   Age            6 non-null      int64  \n",
      "dtypes: float64(1), int64(1)\n",
      "memory usage: 144.0 bytes\n"
     ]
    }
   ],
   "source": [
    "out.info()"
   ]
  },
  {
   "cell_type": "code",
   "execution_count": null,
   "metadata": {},
   "outputs": [],
   "source": []
  },
  {
   "cell_type": "code",
   "execution_count": 167,
   "metadata": {},
   "outputs": [],
   "source": [
    "df3_1 = df2[[\"Earnings_1978\", \"Eduacation\"]]"
   ]
  },
  {
   "cell_type": "code",
   "execution_count": 168,
   "metadata": {},
   "outputs": [
    {
     "data": {
      "text/plain": [
       "<AxesSubplot:xlabel='Age'>"
      ]
     },
     "execution_count": 168,
     "metadata": {},
     "output_type": "execute_result"
    },
    {
     "data": {
      "image/png": "[encoded data removed]",
      "text/plain": [
       "<Figure size 432x288 with 1 Axes>"
      ]
     },
     "metadata": {
      "needs_background": "light"
     },
     "output_type": "display_data"
    }
   ],
   "source": [
    "df3.groupby('Age').count().plot.bar()"
   ]
  },
  {
   "cell_type": "code",
   "execution_count": 169,
   "metadata": {},
   "outputs": [
    {
     "data": {
      "text/plain": [
       "<AxesSubplot:xlabel='Eduacation'>"
      ]
     },
     "execution_count": 169,
     "metadata": {},
     "output_type": "execute_result"
    },
    {
     "data": {
      "image/png": "[encoded data removed]",
      "text/plain": [
       "<Figure size 432x288 with 1 Axes>"
      ]
     },
     "metadata": {
      "needs_background": "light"
     },
     "output_type": "display_data"
    }
   ],
   "source": [
    "df3_1.groupby('Eduacation').count().plot.bar()"
   ]
  },
  {
   "cell_type": "code",
   "execution_count": 170,
   "metadata": {},
   "outputs": [
    {
     "data": {
      "text/html": [
       "<div>\n",
       "<style scoped>\n",
       "    .dataframe tbody tr th:only-of-type {\n",
       "        vertical-align: middle;\n",
       "    }\n",
       "\n",
       "    .dataframe tbody tr th {\n",
       "        vertical-align: top;\n",
       "    }\n",
       "\n",
       "    .dataframe thead th {\n",
       "        text-align: right;\n",
       "    }\n",
       "</style>\n",
       "<table border=\"1\" class=\"dataframe\">\n",
       "  <thead>\n",
       "    <tr style=\"text-align: right;\">\n",
       "      <th></th>\n",
       "      <th>Earnings_1978</th>\n",
       "      <th>Age</th>\n",
       "    </tr>\n",
       "  </thead>\n",
       "  <tbody>\n",
       "    <tr>\n",
       "      <th>count</th>\n",
       "      <td>1176.000000</td>\n",
       "      <td>1176.000000</td>\n",
       "    </tr>\n",
       "    <tr>\n",
       "      <th>mean</th>\n",
       "      <td>12006.682951</td>\n",
       "      <td>32.664116</td>\n",
       "    </tr>\n",
       "    <tr>\n",
       "      <th>std</th>\n",
       "      <td>9349.118836</td>\n",
       "      <td>10.978134</td>\n",
       "    </tr>\n",
       "    <tr>\n",
       "      <th>min</th>\n",
       "      <td>0.000000</td>\n",
       "      <td>16.000000</td>\n",
       "    </tr>\n",
       "    <tr>\n",
       "      <th>25%</th>\n",
       "      <td>2465.217500</td>\n",
       "      <td>23.000000</td>\n",
       "    </tr>\n",
       "    <tr>\n",
       "      <th>50%</th>\n",
       "      <td>12115.880000</td>\n",
       "      <td>31.000000</td>\n",
       "    </tr>\n",
       "    <tr>\n",
       "      <th>75%</th>\n",
       "      <td>20655.290000</td>\n",
       "      <td>41.000000</td>\n",
       "    </tr>\n",
       "    <tr>\n",
       "      <th>max</th>\n",
       "      <td>25564.670000</td>\n",
       "      <td>55.000000</td>\n",
       "    </tr>\n",
       "  </tbody>\n",
       "</table>\n",
       "</div>"
      ],
      "text/plain": [
       "       Earnings_1978          Age\n",
       "count    1176.000000  1176.000000\n",
       "mean    12006.682951    32.664116\n",
       "std      9349.118836    10.978134\n",
       "min         0.000000    16.000000\n",
       "25%      2465.217500    23.000000\n",
       "50%     12115.880000    31.000000\n",
       "75%     20655.290000    41.000000\n",
       "max     25564.670000    55.000000"
      ]
     },
     "execution_count": 170,
     "metadata": {},
     "output_type": "execute_result"
    }
   ],
   "source": [
    "df3.describe()"
   ]
  },
  {
   "cell_type": "code",
   "execution_count": 171,
   "metadata": {},
   "outputs": [
    {
     "data": {
      "text/plain": [
       "array([[<AxesSubplot:title={'center':'Earnings_1978'}>,\n",
       "        <AxesSubplot:title={'center':'Age'}>]], dtype=object)"
      ]
     },
     "execution_count": 171,
     "metadata": {},
     "output_type": "execute_result"
    },
    {
     "data": {
      "image/png": "[encoded data removed]",
      "text/plain": [
       "<Figure size 432x288 with 2 Axes>"
      ]
     },
     "metadata": {
      "needs_background": "light"
     },
     "output_type": "display_data"
    }
   ],
   "source": [
    "df3.hist()"
   ]
  },
  {
   "cell_type": "code",
   "execution_count": null,
   "metadata": {},
   "outputs": [],
   "source": []
  },
  {
   "cell_type": "code",
   "execution_count": 172,
   "metadata": {},
   "outputs": [
    {
     "data": {
      "text/plain": [
       "count    15992.000000\n",
       "mean     14846.659673\n",
       "std       9647.391524\n",
       "min          0.000000\n",
       "25%       5669.298000\n",
       "50%      16421.975000\n",
       "75%      25564.670000\n",
       "max      25564.670000\n",
       "Name: Earnings_1978, dtype: float64"
      ]
     },
     "execution_count": 172,
     "metadata": {},
     "output_type": "execute_result"
    }
   ],
   "source": [
    "df['Earnings_1978'].describe()"
   ]
  },
  {
   "cell_type": "code",
   "execution_count": 173,
   "metadata": {},
   "outputs": [
    {
     "data": {
      "text/plain": [
       "16421.975"
      ]
     },
     "execution_count": 173,
     "metadata": {},
     "output_type": "execute_result"
    }
   ],
   "source": [
    "df['Earnings_1978'].median()"
   ]
  },
  {
   "cell_type": "code",
   "execution_count": 174,
   "metadata": {},
   "outputs": [
    {
     "data": {
      "text/plain": [
       "14846.659672904903"
      ]
     },
     "execution_count": 174,
     "metadata": {},
     "output_type": "execute_result"
    }
   ],
   "source": [
    "df['Earnings_1978'].mean()"
   ]
  },
  {
   "cell_type": "code",
   "execution_count": 175,
   "metadata": {},
   "outputs": [],
   "source": [
    "\n",
    "df2pmf = thinkstats2.Pmf(df[\"Earnings_1978\"])\n"
   ]
  },
  {
   "cell_type": "code",
   "execution_count": 176,
   "metadata": {},
   "outputs": [
    {
     "data": {
      "image/png": "[encoded data removed]",
      "text/plain": [
       "<Figure size 864x432 with 1 Axes>"
      ]
     },
     "metadata": {
      "needs_background": "light"
     },
     "output_type": "display_data"
    },
    {
     "data": {
      "text/plain": [
       "<Figure size 576x432 with 0 Axes>"
      ]
     },
     "metadata": {},
     "output_type": "display_data"
    }
   ],
   "source": [
    "#Graph\n",
    "thinkplot.PrePlot(cols=2)\n",
    "thinkplot.Pmfs([df2pmf])\n",
    "#thinkplot.Show(xlabel=\"Earnings_1978\", ylabel = \"Percentage\")\n",
    "thinkplot.Show(xlabel=\"Earnings_1978\", ylabel = \"Share/Density/Percentage\")"
   ]
  },
  {
   "cell_type": "code",
   "execution_count": 177,
   "metadata": {},
   "outputs": [],
   "source": [
    "# PMF\n",
    "\n",
    "dfpmf = thinkstats2.Pmf(df[\"Age\"])\n"
   ]
  },
  {
   "cell_type": "code",
   "execution_count": 178,
   "metadata": {},
   "outputs": [
    {
     "data": {
      "image/png": "[encoded data removed]",
      "text/plain": [
       "<Figure size 864x432 with 1 Axes>"
      ]
     },
     "metadata": {
      "needs_background": "light"
     },
     "output_type": "display_data"
    },
    {
     "data": {
      "text/plain": [
       "<Figure size 576x432 with 0 Axes>"
      ]
     },
     "metadata": {},
     "output_type": "display_data"
    }
   ],
   "source": [
    "#Graph\n",
    "thinkplot.PrePlot(cols=2)\n",
    "thinkplot.Pmfs([dfpmf])\n",
    "#thinkplot.Show(xlabel=\"Age\", ylabel = \"Percentage\")\n",
    "thinkplot.Show(xlabel=\"Age\", ylabel = \"Share/Density/Percentage\")"
   ]
  },
  {
   "cell_type": "code",
   "execution_count": 179,
   "metadata": {},
   "outputs": [],
   "source": [
    "#find frequency of each Age using crosstab\n",
    "df_freq = pd.crosstab(index=df['Age'], columns='count')"
   ]
  },
  {
   "cell_type": "code",
   "execution_count": 180,
   "metadata": {},
   "outputs": [
    {
     "data": {
      "text/html": [
       "<div>\n",
       "<style scoped>\n",
       "    .dataframe tbody tr th:only-of-type {\n",
       "        vertical-align: middle;\n",
       "    }\n",
       "\n",
       "    .dataframe tbody tr th {\n",
       "        vertical-align: top;\n",
       "    }\n",
       "\n",
       "    .dataframe thead th {\n",
       "        text-align: right;\n",
       "    }\n",
       "</style>\n",
       "<table border=\"1\" class=\"dataframe\">\n",
       "  <thead>\n",
       "    <tr style=\"text-align: right;\">\n",
       "      <th>col_0</th>\n",
       "      <th>count</th>\n",
       "    </tr>\n",
       "    <tr>\n",
       "      <th>Age</th>\n",
       "      <th></th>\n",
       "    </tr>\n",
       "  </thead>\n",
       "  <tbody>\n",
       "    <tr>\n",
       "      <th>51</th>\n",
       "      <td>314</td>\n",
       "    </tr>\n",
       "    <tr>\n",
       "      <th>52</th>\n",
       "      <td>294</td>\n",
       "    </tr>\n",
       "    <tr>\n",
       "      <th>53</th>\n",
       "      <td>300</td>\n",
       "    </tr>\n",
       "    <tr>\n",
       "      <th>54</th>\n",
       "      <td>270</td>\n",
       "    </tr>\n",
       "    <tr>\n",
       "      <th>55</th>\n",
       "      <td>307</td>\n",
       "    </tr>\n",
       "  </tbody>\n",
       "</table>\n",
       "</div>"
      ],
      "text/plain": [
       "col_0  count\n",
       "Age         \n",
       "51       314\n",
       "52       294\n",
       "53       300\n",
       "54       270\n",
       "55       307"
      ]
     },
     "execution_count": 180,
     "metadata": {},
     "output_type": "execute_result"
    }
   ],
   "source": [
    "df_freq.tail()"
   ]
  },
  {
   "cell_type": "code",
   "execution_count": null,
   "metadata": {},
   "outputs": [],
   "source": []
  },
  {
   "cell_type": "code",
   "execution_count": null,
   "metadata": {},
   "outputs": [],
   "source": []
  },
  {
   "cell_type": "code",
   "execution_count": 181,
   "metadata": {},
   "outputs": [
    {
     "data": {
      "text/html": [
       "<div>\n",
       "<style scoped>\n",
       "    .dataframe tbody tr th:only-of-type {\n",
       "        vertical-align: middle;\n",
       "    }\n",
       "\n",
       "    .dataframe tbody tr th {\n",
       "        vertical-align: top;\n",
       "    }\n",
       "\n",
       "    .dataframe thead th {\n",
       "        text-align: right;\n",
       "    }\n",
       "</style>\n",
       "<table border=\"1\" class=\"dataframe\">\n",
       "  <thead>\n",
       "    <tr style=\"text-align: right;\">\n",
       "      <th></th>\n",
       "      <th>counts</th>\n",
       "      <th>percent</th>\n",
       "      <th>%</th>\n",
       "    </tr>\n",
       "    <tr>\n",
       "      <th>Age</th>\n",
       "      <th></th>\n",
       "      <th></th>\n",
       "      <th></th>\n",
       "    </tr>\n",
       "  </thead>\n",
       "  <tbody>\n",
       "    <tr>\n",
       "      <th>29</th>\n",
       "      <td>660</td>\n",
       "      <td>0.041271</td>\n",
       "      <td>4.1%</td>\n",
       "    </tr>\n",
       "    <tr>\n",
       "      <th>28</th>\n",
       "      <td>649</td>\n",
       "      <td>0.040583</td>\n",
       "      <td>4.1%</td>\n",
       "    </tr>\n",
       "    <tr>\n",
       "      <th>27</th>\n",
       "      <td>584</td>\n",
       "      <td>0.036518</td>\n",
       "      <td>3.7%</td>\n",
       "    </tr>\n",
       "    <tr>\n",
       "      <th>26</th>\n",
       "      <td>583</td>\n",
       "      <td>0.036456</td>\n",
       "      <td>3.6%</td>\n",
       "    </tr>\n",
       "    <tr>\n",
       "      <th>25</th>\n",
       "      <td>547</td>\n",
       "      <td>0.034205</td>\n",
       "      <td>3.4%</td>\n",
       "    </tr>\n",
       "  </tbody>\n",
       "</table>\n",
       "</div>"
      ],
      "text/plain": [
       "     counts   percent     %\n",
       "Age                        \n",
       "29      660  0.041271  4.1%\n",
       "28      649  0.040583  4.1%\n",
       "27      584  0.036518  3.7%\n",
       "26      583  0.036456  3.6%\n",
       "25      547  0.034205  3.4%"
      ]
     },
     "execution_count": 181,
     "metadata": {},
     "output_type": "execute_result"
    }
   ],
   "source": [
    "#calculating frequency table \n",
    "\n",
    "s = df['Age']\n",
    "counts = s.value_counts()\n",
    "percent = s.value_counts(normalize=True)\n",
    "percent100 = s.value_counts(normalize=True).mul(100).round(1).astype(str) + '%'\n",
    "freq = pd.DataFrame({'counts': counts, 'percent': percent, '%': percent100})\n",
    "freq.index.name = 'Age' # renaming the index cloumn name to age\n",
    "freq.head()\n"
   ]
  },
  {
   "cell_type": "code",
   "execution_count": 182,
   "metadata": {},
   "outputs": [
    {
     "data": {
      "text/html": [
       "<div>\n",
       "<style scoped>\n",
       "    .dataframe tbody tr th:only-of-type {\n",
       "        vertical-align: middle;\n",
       "    }\n",
       "\n",
       "    .dataframe tbody tr th {\n",
       "        vertical-align: top;\n",
       "    }\n",
       "\n",
       "    .dataframe thead th {\n",
       "        text-align: right;\n",
       "    }\n",
       "</style>\n",
       "<table border=\"1\" class=\"dataframe\">\n",
       "  <thead>\n",
       "    <tr style=\"text-align: right;\">\n",
       "      <th></th>\n",
       "      <th>counts</th>\n",
       "      <th>percent</th>\n",
       "      <th>%</th>\n",
       "    </tr>\n",
       "    <tr>\n",
       "      <th>Age</th>\n",
       "      <th></th>\n",
       "      <th></th>\n",
       "      <th></th>\n",
       "    </tr>\n",
       "  </thead>\n",
       "  <tbody>\n",
       "    <tr>\n",
       "      <th>51</th>\n",
       "      <td>314</td>\n",
       "      <td>0.019635</td>\n",
       "      <td>2.0%</td>\n",
       "    </tr>\n",
       "    <tr>\n",
       "      <th>52</th>\n",
       "      <td>294</td>\n",
       "      <td>0.018384</td>\n",
       "      <td>1.8%</td>\n",
       "    </tr>\n",
       "    <tr>\n",
       "      <th>53</th>\n",
       "      <td>300</td>\n",
       "      <td>0.018759</td>\n",
       "      <td>1.9%</td>\n",
       "    </tr>\n",
       "    <tr>\n",
       "      <th>54</th>\n",
       "      <td>270</td>\n",
       "      <td>0.016883</td>\n",
       "      <td>1.7%</td>\n",
       "    </tr>\n",
       "    <tr>\n",
       "      <th>55</th>\n",
       "      <td>307</td>\n",
       "      <td>0.019197</td>\n",
       "      <td>1.9%</td>\n",
       "    </tr>\n",
       "  </tbody>\n",
       "</table>\n",
       "</div>"
      ],
      "text/plain": [
       "     counts   percent     %\n",
       "Age                        \n",
       "51      314  0.019635  2.0%\n",
       "52      294  0.018384  1.8%\n",
       "53      300  0.018759  1.9%\n",
       "54      270  0.016883  1.7%\n",
       "55      307  0.019197  1.9%"
      ]
     },
     "execution_count": 182,
     "metadata": {},
     "output_type": "execute_result"
    }
   ],
   "source": [
    "# creating a frequency table and ensuring it's sorted\n",
    "\n",
    "s = df['Age']\n",
    "counts = s.value_counts()\n",
    "percent = s.value_counts(normalize=True)\n",
    "percent100 = s.value_counts(normalize=True).mul(100).round(1).astype(str) + '%'\n",
    "df_freq1= pd.DataFrame({'counts': counts, 'percent': percent, '%': percent100})\n",
    "df_freq2 = df_freq1.sort_index () # making sure the date is sorted\n",
    "df_freq2.index.name = 'Age' # renaming the index cloumn name to age\n",
    "df_freq2.tail()\n",
    "\n"
   ]
  },
  {
   "cell_type": "code",
   "execution_count": 183,
   "metadata": {},
   "outputs": [],
   "source": [
    "# create a cumulative column\n",
    "\n",
    "df_freq2[\"cumulative\"]= df_freq2['percent'].cumsum().mul(100).round(1).astype(str) + '%'"
   ]
  },
  {
   "cell_type": "code",
   "execution_count": 184,
   "metadata": {},
   "outputs": [
    {
     "data": {
      "text/html": [
       "<div>\n",
       "<style scoped>\n",
       "    .dataframe tbody tr th:only-of-type {\n",
       "        vertical-align: middle;\n",
       "    }\n",
       "\n",
       "    .dataframe tbody tr th {\n",
       "        vertical-align: top;\n",
       "    }\n",
       "\n",
       "    .dataframe thead th {\n",
       "        text-align: right;\n",
       "    }\n",
       "</style>\n",
       "<table border=\"1\" class=\"dataframe\">\n",
       "  <thead>\n",
       "    <tr style=\"text-align: right;\">\n",
       "      <th></th>\n",
       "      <th>counts</th>\n",
       "      <th>percent</th>\n",
       "      <th>%</th>\n",
       "      <th>cumulative</th>\n",
       "    </tr>\n",
       "    <tr>\n",
       "      <th>Age</th>\n",
       "      <th></th>\n",
       "      <th></th>\n",
       "      <th></th>\n",
       "      <th></th>\n",
       "    </tr>\n",
       "  </thead>\n",
       "  <tbody>\n",
       "    <tr>\n",
       "      <th>51</th>\n",
       "      <td>314</td>\n",
       "      <td>0.019635</td>\n",
       "      <td>2.0%</td>\n",
       "      <td>92.7%</td>\n",
       "    </tr>\n",
       "    <tr>\n",
       "      <th>52</th>\n",
       "      <td>294</td>\n",
       "      <td>0.018384</td>\n",
       "      <td>1.8%</td>\n",
       "      <td>94.5%</td>\n",
       "    </tr>\n",
       "    <tr>\n",
       "      <th>53</th>\n",
       "      <td>300</td>\n",
       "      <td>0.018759</td>\n",
       "      <td>1.9%</td>\n",
       "      <td>96.4%</td>\n",
       "    </tr>\n",
       "    <tr>\n",
       "      <th>54</th>\n",
       "      <td>270</td>\n",
       "      <td>0.016883</td>\n",
       "      <td>1.7%</td>\n",
       "      <td>98.1%</td>\n",
       "    </tr>\n",
       "    <tr>\n",
       "      <th>55</th>\n",
       "      <td>307</td>\n",
       "      <td>0.019197</td>\n",
       "      <td>1.9%</td>\n",
       "      <td>100.0%</td>\n",
       "    </tr>\n",
       "  </tbody>\n",
       "</table>\n",
       "</div>"
      ],
      "text/plain": [
       "     counts   percent     % cumulative\n",
       "Age                                   \n",
       "51      314  0.019635  2.0%      92.7%\n",
       "52      294  0.018384  1.8%      94.5%\n",
       "53      300  0.018759  1.9%      96.4%\n",
       "54      270  0.016883  1.7%      98.1%\n",
       "55      307  0.019197  1.9%     100.0%"
      ]
     },
     "execution_count": 184,
     "metadata": {},
     "output_type": "execute_result"
    }
   ],
   "source": [
    "df_freq2.tail() "
   ]
  },
  {
   "cell_type": "code",
   "execution_count": 185,
   "metadata": {},
   "outputs": [
    {
     "data": {
      "text/plain": [
       "{'xscale': 'linear', 'yscale': 'linear'}"
      ]
     },
     "execution_count": 185,
     "metadata": {},
     "output_type": "execute_result"
    },
    {
     "data": {
      "image/png": "[encoded data removed]",
      "text/plain": [
       "<Figure size 432x288 with 1 Axes>"
      ]
     },
     "metadata": {
      "needs_background": "light"
     },
     "output_type": "display_data"
    }
   ],
   "source": [
    "#Create and show CDF of Age\n",
    "df_cdf = thinkstats2.Cdf(df['Age'])\n",
    "thinkplot.Cdf(df_cdf)"
   ]
  },
  {
   "cell_type": "code",
   "execution_count": 186,
   "metadata": {},
   "outputs": [
    {
     "name": "stdout",
     "output_type": "stream",
     "text": [
      "92.7%\n"
     ]
    }
   ],
   "source": [
    "df_cdf.Prob(51)\n",
    "#And if we want to see in in pretty printing\n",
    "print(str(round(df_cdf.Prob(51), 3)*100)+\"%\")"
   ]
  },
  {
   "cell_type": "code",
   "execution_count": null,
   "metadata": {},
   "outputs": [],
   "source": []
  },
  {
   "cell_type": "markdown",
   "metadata": {},
   "source": [
    "#### What fraction of the people in the data are 51? What fraction are older than 51?"
   ]
  },
  {
   "cell_type": "code",
   "execution_count": 187,
   "metadata": {},
   "outputs": [],
   "source": [
    "# using .loc and lamba for slicing is efficient\n",
    "df_1 = df['Age'].loc[lambda x : x<=51]\n",
    "\n"
   ]
  },
  {
   "cell_type": "code",
   "execution_count": 188,
   "metadata": {},
   "outputs": [
    {
     "data": {
      "text/plain": [
       "5834     16\n",
       "13932    48\n",
       "8030     19\n",
       "5788     17\n",
       "9186     17\n",
       "Name: Age, dtype: int64"
      ]
     },
     "execution_count": 188,
     "metadata": {},
     "output_type": "execute_result"
    }
   ],
   "source": [
    "df_1.head()"
   ]
  },
  {
   "cell_type": "code",
   "execution_count": 189,
   "metadata": {},
   "outputs": [
    {
     "data": {
      "text/plain": [
       "14821"
      ]
     },
     "execution_count": 189,
     "metadata": {},
     "output_type": "execute_result"
    }
   ],
   "source": [
    "df_1.count()"
   ]
  },
  {
   "cell_type": "code",
   "execution_count": 190,
   "metadata": {},
   "outputs": [],
   "source": [
    "# using .loc and lamba for slicing is efficient\n",
    "df_2 = df['Age'].loc[lambda x : x>51]\n"
   ]
  },
  {
   "cell_type": "code",
   "execution_count": 191,
   "metadata": {},
   "outputs": [
    {
     "data": {
      "text/plain": [
       "1171"
      ]
     },
     "execution_count": 191,
     "metadata": {},
     "output_type": "execute_result"
    }
   ],
   "source": [
    "df_2.count()\n"
   ]
  },
  {
   "cell_type": "code",
   "execution_count": 192,
   "metadata": {},
   "outputs": [
    {
     "name": "stdout",
     "output_type": "stream",
     "text": [
      "(15992, 10)\n",
      "(14821,)\n",
      "(1171,)\n"
     ]
    }
   ],
   "source": [
    "print(df.shape, df_1.shape, df_2.shape,sep=\"\\n\")"
   ]
  },
  {
   "cell_type": "code",
   "execution_count": 193,
   "metadata": {},
   "outputs": [
    {
     "name": "stdout",
     "output_type": "stream",
     "text": [
      ">51: 0.07322411205602801\n"
     ]
    }
   ],
   "source": [
    "# %>51 in the dataset\n",
    "print(\">51:\", df_2.shape[0]/df.shape[0])"
   ]
  },
  {
   "cell_type": "code",
   "execution_count": 194,
   "metadata": {},
   "outputs": [
    {
     "data": {
      "text/html": [
       "<div>\n",
       "<style scoped>\n",
       "    .dataframe tbody tr th:only-of-type {\n",
       "        vertical-align: middle;\n",
       "    }\n",
       "\n",
       "    .dataframe tbody tr th {\n",
       "        vertical-align: top;\n",
       "    }\n",
       "\n",
       "    .dataframe thead th {\n",
       "        text-align: right;\n",
       "    }\n",
       "</style>\n",
       "<table border=\"1\" class=\"dataframe\">\n",
       "  <thead>\n",
       "    <tr style=\"text-align: right;\">\n",
       "      <th></th>\n",
       "      <th>Age</th>\n",
       "      <th>Nodeg</th>\n",
       "      <th>Earnings_1974</th>\n",
       "      <th>Earnings_1975</th>\n",
       "      <th>Earnings_1978</th>\n",
       "    </tr>\n",
       "  </thead>\n",
       "  <tbody>\n",
       "    <tr>\n",
       "      <th>count</th>\n",
       "      <td>15992.000000</td>\n",
       "      <td>15992.000000</td>\n",
       "      <td>15992.000000</td>\n",
       "      <td>15992.000000</td>\n",
       "      <td>15992.000000</td>\n",
       "    </tr>\n",
       "    <tr>\n",
       "      <th>mean</th>\n",
       "      <td>33.225238</td>\n",
       "      <td>0.295835</td>\n",
       "      <td>14016.800304</td>\n",
       "      <td>13650.803376</td>\n",
       "      <td>14846.659673</td>\n",
       "    </tr>\n",
       "    <tr>\n",
       "      <th>std</th>\n",
       "      <td>11.045216</td>\n",
       "      <td>0.456432</td>\n",
       "      <td>9569.795893</td>\n",
       "      <td>9270.403225</td>\n",
       "      <td>9647.391524</td>\n",
       "    </tr>\n",
       "    <tr>\n",
       "      <th>min</th>\n",
       "      <td>16.000000</td>\n",
       "      <td>0.000000</td>\n",
       "      <td>0.000000</td>\n",
       "      <td>0.000000</td>\n",
       "      <td>0.000000</td>\n",
       "    </tr>\n",
       "    <tr>\n",
       "      <th>25%</th>\n",
       "      <td>24.000000</td>\n",
       "      <td>0.000000</td>\n",
       "      <td>4403.452250</td>\n",
       "      <td>4398.823000</td>\n",
       "      <td>5669.298000</td>\n",
       "    </tr>\n",
       "    <tr>\n",
       "      <th>50%</th>\n",
       "      <td>31.000000</td>\n",
       "      <td>0.000000</td>\n",
       "      <td>15123.580000</td>\n",
       "      <td>14557.110000</td>\n",
       "      <td>16421.975000</td>\n",
       "    </tr>\n",
       "    <tr>\n",
       "      <th>75%</th>\n",
       "      <td>42.000000</td>\n",
       "      <td>1.000000</td>\n",
       "      <td>23584.180000</td>\n",
       "      <td>22923.737500</td>\n",
       "      <td>25564.670000</td>\n",
       "    </tr>\n",
       "    <tr>\n",
       "      <th>max</th>\n",
       "      <td>55.000000</td>\n",
       "      <td>1.000000</td>\n",
       "      <td>25862.320000</td>\n",
       "      <td>25243.550000</td>\n",
       "      <td>25564.670000</td>\n",
       "    </tr>\n",
       "  </tbody>\n",
       "</table>\n",
       "</div>"
      ],
      "text/plain": [
       "                Age         Nodeg  Earnings_1974  Earnings_1975  Earnings_1978\n",
       "count  15992.000000  15992.000000   15992.000000   15992.000000   15992.000000\n",
       "mean      33.225238      0.295835   14016.800304   13650.803376   14846.659673\n",
       "std       11.045216      0.456432    9569.795893    9270.403225    9647.391524\n",
       "min       16.000000      0.000000       0.000000       0.000000       0.000000\n",
       "25%       24.000000      0.000000    4403.452250    4398.823000    5669.298000\n",
       "50%       31.000000      0.000000   15123.580000   14557.110000   16421.975000\n",
       "75%       42.000000      1.000000   23584.180000   22923.737500   25564.670000\n",
       "max       55.000000      1.000000   25862.320000   25243.550000   25564.670000"
      ]
     },
     "execution_count": 194,
     "metadata": {},
     "output_type": "execute_result"
    }
   ],
   "source": [
    "df.describe()"
   ]
  },
  {
   "cell_type": "markdown",
   "metadata": {},
   "source": [
    "##### What is the median age?"
   ]
  },
  {
   "cell_type": "code",
   "execution_count": 195,
   "metadata": {},
   "outputs": [
    {
     "data": {
      "text/plain": [
       "31.0"
      ]
     },
     "execution_count": 195,
     "metadata": {},
     "output_type": "execute_result"
    }
   ],
   "source": [
    "df[\"Age\"].median()"
   ]
  },
  {
   "cell_type": "markdown",
   "metadata": {},
   "source": [
    "##### Does the distribution of the sample data seem to mirror the working age population?"
   ]
  },
  {
   "cell_type": "markdown",
   "metadata": {},
   "source": []
  },
  {
   "cell_type": "markdown",
   "metadata": {},
   "source": [
    "### Part 2 - Demographics\n",
    "\n",
    "<ul>\n",
    "<li>Consider some of the demographic features: \n",
    "    <ul>\n",
    "    <li>Education\n",
    "    <li>Race\n",
    "    <li>Hisp\n",
    "    <li>MaritalStatus\n",
    "    <li>Nodeg. \n",
    "    </ul>\n",
    "</ul>\n",
    "<ol>\n",
    "<li>This data came from the United States, does it appear to be a representative sample of the US population?\n",
    "<li>Demonstrate this in some way in your code. \n",
    "</ol>\n",
    "\n",
    "##### Exploring the data..."
   ]
  },
  {
   "cell_type": "code",
   "execution_count": 196,
   "metadata": {},
   "outputs": [
    {
     "data": {
      "text/html": [
       "<div>\n",
       "<style scoped>\n",
       "    .dataframe tbody tr th:only-of-type {\n",
       "        vertical-align: middle;\n",
       "    }\n",
       "\n",
       "    .dataframe tbody tr th {\n",
       "        vertical-align: top;\n",
       "    }\n",
       "\n",
       "    .dataframe thead th {\n",
       "        text-align: right;\n",
       "    }\n",
       "</style>\n",
       "<table border=\"1\" class=\"dataframe\">\n",
       "  <thead>\n",
       "    <tr style=\"text-align: right;\">\n",
       "      <th></th>\n",
       "      <th>Age</th>\n",
       "      <th>Eduacation</th>\n",
       "      <th>Race</th>\n",
       "      <th>Hisp</th>\n",
       "      <th>MaritalStatus</th>\n",
       "      <th>Nodeg</th>\n",
       "      <th>Earnings_1974</th>\n",
       "      <th>Earnings_1975</th>\n",
       "      <th>Earnings_1978</th>\n",
       "      <th>racial</th>\n",
       "    </tr>\n",
       "  </thead>\n",
       "  <tbody>\n",
       "    <tr>\n",
       "      <th>5834</th>\n",
       "      <td>16</td>\n",
       "      <td>LessThanHighSchool</td>\n",
       "      <td>NotBlack</td>\n",
       "      <td>NotHispanic</td>\n",
       "      <td>NotMarried</td>\n",
       "      <td>1</td>\n",
       "      <td>0.0</td>\n",
       "      <td>2323.8390</td>\n",
       "      <td>2625.920</td>\n",
       "      <td>NotBlackNotHispanic</td>\n",
       "    </tr>\n",
       "    <tr>\n",
       "      <th>13932</th>\n",
       "      <td>48</td>\n",
       "      <td>LessThanHighSchool</td>\n",
       "      <td>NotBlack</td>\n",
       "      <td>NotHispanic</td>\n",
       "      <td>Married</td>\n",
       "      <td>1</td>\n",
       "      <td>0.0</td>\n",
       "      <td>0.0000</td>\n",
       "      <td>0.000</td>\n",
       "      <td>NotBlackNotHispanic</td>\n",
       "    </tr>\n",
       "    <tr>\n",
       "      <th>8030</th>\n",
       "      <td>19</td>\n",
       "      <td>HighSchool</td>\n",
       "      <td>NotBlack</td>\n",
       "      <td>NotHispanic</td>\n",
       "      <td>NotMarried</td>\n",
       "      <td>0</td>\n",
       "      <td>0.0</td>\n",
       "      <td>483.3871</td>\n",
       "      <td>5334.593</td>\n",
       "      <td>NotBlackNotHispanic</td>\n",
       "    </tr>\n",
       "    <tr>\n",
       "      <th>5788</th>\n",
       "      <td>17</td>\n",
       "      <td>LessThanHighSchool</td>\n",
       "      <td>NotBlack</td>\n",
       "      <td>NotHispanic</td>\n",
       "      <td>NotMarried</td>\n",
       "      <td>1</td>\n",
       "      <td>0.0</td>\n",
       "      <td>1079.5650</td>\n",
       "      <td>7248.249</td>\n",
       "      <td>NotBlackNotHispanic</td>\n",
       "    </tr>\n",
       "    <tr>\n",
       "      <th>13927</th>\n",
       "      <td>55</td>\n",
       "      <td>LessThanHighSchool</td>\n",
       "      <td>NotBlack</td>\n",
       "      <td>NotHispanic</td>\n",
       "      <td>Married</td>\n",
       "      <td>1</td>\n",
       "      <td>0.0</td>\n",
       "      <td>0.0000</td>\n",
       "      <td>0.000</td>\n",
       "      <td>NotBlackNotHispanic</td>\n",
       "    </tr>\n",
       "  </tbody>\n",
       "</table>\n",
       "</div>"
      ],
      "text/plain": [
       "       Age          Eduacation      Race         Hisp MaritalStatus  Nodeg  \\\n",
       "5834    16  LessThanHighSchool  NotBlack  NotHispanic    NotMarried      1   \n",
       "13932   48  LessThanHighSchool  NotBlack  NotHispanic       Married      1   \n",
       "8030    19          HighSchool  NotBlack  NotHispanic    NotMarried      0   \n",
       "5788    17  LessThanHighSchool  NotBlack  NotHispanic    NotMarried      1   \n",
       "13927   55  LessThanHighSchool  NotBlack  NotHispanic       Married      1   \n",
       "\n",
       "       Earnings_1974  Earnings_1975  Earnings_1978               racial  \n",
       "5834             0.0      2323.8390       2625.920  NotBlackNotHispanic  \n",
       "13932            0.0         0.0000          0.000  NotBlackNotHispanic  \n",
       "8030             0.0       483.3871       5334.593  NotBlackNotHispanic  \n",
       "5788             0.0      1079.5650       7248.249  NotBlackNotHispanic  \n",
       "13927            0.0         0.0000          0.000  NotBlackNotHispanic  "
      ]
     },
     "execution_count": 196,
     "metadata": {},
     "output_type": "execute_result"
    }
   ],
   "source": [
    "df.head()"
   ]
  },
  {
   "cell_type": "code",
   "execution_count": 197,
   "metadata": {},
   "outputs": [
    {
     "data": {
      "text/plain": [
       "(array([3402., 1088.,  945., 1078., 1161., 1270., 1368., 1396., 4284.]),\n",
       " array([    0.        ,  2873.59111111,  5747.18222222,  8620.77333333,\n",
       "        11494.36444444, 14367.95555556, 17241.54666667, 20115.13777778,\n",
       "        22988.72888889, 25862.32      ]),\n",
       " <BarContainer object of 9 artists>)"
      ]
     },
     "execution_count": 197,
     "metadata": {},
     "output_type": "execute_result"
    },
    {
     "data": {
      "image/png": "[encoded data removed]",
      "text/plain": [
       "<Figure size 432x288 with 1 Axes>"
      ]
     },
     "metadata": {
      "needs_background": "light"
     },
     "output_type": "display_data"
    }
   ],
   "source": [
    "plt.hist(df['Earnings_1974'], bins=9)"
   ]
  },
  {
   "cell_type": "code",
   "execution_count": 198,
   "metadata": {},
   "outputs": [
    {
     "data": {
      "text/plain": [
       "(array([3312., 1164.,  971., 1060., 1238., 1274., 1401., 1332., 4240.]),\n",
       " array([    0.        ,  2804.83888889,  5609.67777778,  8414.51666667,\n",
       "        11219.35555556, 14024.19444444, 16829.03333333, 19633.87222222,\n",
       "        22438.71111111, 25243.55      ]),\n",
       " <BarContainer object of 9 artists>)"
      ]
     },
     "execution_count": 198,
     "metadata": {},
     "output_type": "execute_result"
    },
    {
     "data": {
      "image/png": "[encoded data removed]",
      "text/plain": [
       "<Figure size 432x288 with 1 Axes>"
      ]
     },
     "metadata": {
      "needs_background": "light"
     },
     "output_type": "display_data"
    }
   ],
   "source": [
    "plt.hist(df['Earnings_1975'], bins=9)"
   ]
  },
  {
   "cell_type": "code",
   "execution_count": 199,
   "metadata": {},
   "outputs": [
    {
     "data": {
      "text/plain": [
       "NotHispanic    14840\n",
       "hispanic        1152\n",
       "Name: Hisp, dtype: int64"
      ]
     },
     "execution_count": 199,
     "metadata": {},
     "output_type": "execute_result"
    }
   ],
   "source": [
    "df[\"Hisp\"].value_counts()"
   ]
  },
  {
   "cell_type": "code",
   "execution_count": 200,
   "metadata": {},
   "outputs": [],
   "source": [
    "df_nhb = df[(df[\"Hisp\"]=='NotHispanic') & (df['Race']==\"NotBlack\")]"
   ]
  },
  {
   "cell_type": "code",
   "execution_count": 201,
   "metadata": {},
   "outputs": [
    {
     "data": {
      "text/html": [
       "<div>\n",
       "<style scoped>\n",
       "    .dataframe tbody tr th:only-of-type {\n",
       "        vertical-align: middle;\n",
       "    }\n",
       "\n",
       "    .dataframe tbody tr th {\n",
       "        vertical-align: top;\n",
       "    }\n",
       "\n",
       "    .dataframe thead th {\n",
       "        text-align: right;\n",
       "    }\n",
       "</style>\n",
       "<table border=\"1\" class=\"dataframe\">\n",
       "  <thead>\n",
       "    <tr style=\"text-align: right;\">\n",
       "      <th></th>\n",
       "      <th>Age</th>\n",
       "      <th>Eduacation</th>\n",
       "      <th>Race</th>\n",
       "      <th>Hisp</th>\n",
       "      <th>MaritalStatus</th>\n",
       "      <th>Nodeg</th>\n",
       "      <th>Earnings_1974</th>\n",
       "      <th>Earnings_1975</th>\n",
       "      <th>Earnings_1978</th>\n",
       "      <th>racial</th>\n",
       "    </tr>\n",
       "  </thead>\n",
       "  <tbody>\n",
       "    <tr>\n",
       "      <th>5834</th>\n",
       "      <td>16</td>\n",
       "      <td>LessThanHighSchool</td>\n",
       "      <td>NotBlack</td>\n",
       "      <td>NotHispanic</td>\n",
       "      <td>NotMarried</td>\n",
       "      <td>1</td>\n",
       "      <td>0.0</td>\n",
       "      <td>2323.8390</td>\n",
       "      <td>2625.920</td>\n",
       "      <td>NotBlackNotHispanic</td>\n",
       "    </tr>\n",
       "    <tr>\n",
       "      <th>13932</th>\n",
       "      <td>48</td>\n",
       "      <td>LessThanHighSchool</td>\n",
       "      <td>NotBlack</td>\n",
       "      <td>NotHispanic</td>\n",
       "      <td>Married</td>\n",
       "      <td>1</td>\n",
       "      <td>0.0</td>\n",
       "      <td>0.0000</td>\n",
       "      <td>0.000</td>\n",
       "      <td>NotBlackNotHispanic</td>\n",
       "    </tr>\n",
       "    <tr>\n",
       "      <th>8030</th>\n",
       "      <td>19</td>\n",
       "      <td>HighSchool</td>\n",
       "      <td>NotBlack</td>\n",
       "      <td>NotHispanic</td>\n",
       "      <td>NotMarried</td>\n",
       "      <td>0</td>\n",
       "      <td>0.0</td>\n",
       "      <td>483.3871</td>\n",
       "      <td>5334.593</td>\n",
       "      <td>NotBlackNotHispanic</td>\n",
       "    </tr>\n",
       "    <tr>\n",
       "      <th>5788</th>\n",
       "      <td>17</td>\n",
       "      <td>LessThanHighSchool</td>\n",
       "      <td>NotBlack</td>\n",
       "      <td>NotHispanic</td>\n",
       "      <td>NotMarried</td>\n",
       "      <td>1</td>\n",
       "      <td>0.0</td>\n",
       "      <td>1079.5650</td>\n",
       "      <td>7248.249</td>\n",
       "      <td>NotBlackNotHispanic</td>\n",
       "    </tr>\n",
       "    <tr>\n",
       "      <th>13927</th>\n",
       "      <td>55</td>\n",
       "      <td>LessThanHighSchool</td>\n",
       "      <td>NotBlack</td>\n",
       "      <td>NotHispanic</td>\n",
       "      <td>Married</td>\n",
       "      <td>1</td>\n",
       "      <td>0.0</td>\n",
       "      <td>0.0000</td>\n",
       "      <td>0.000</td>\n",
       "      <td>NotBlackNotHispanic</td>\n",
       "    </tr>\n",
       "  </tbody>\n",
       "</table>\n",
       "</div>"
      ],
      "text/plain": [
       "       Age          Eduacation      Race         Hisp MaritalStatus  Nodeg  \\\n",
       "5834    16  LessThanHighSchool  NotBlack  NotHispanic    NotMarried      1   \n",
       "13932   48  LessThanHighSchool  NotBlack  NotHispanic       Married      1   \n",
       "8030    19          HighSchool  NotBlack  NotHispanic    NotMarried      0   \n",
       "5788    17  LessThanHighSchool  NotBlack  NotHispanic    NotMarried      1   \n",
       "13927   55  LessThanHighSchool  NotBlack  NotHispanic       Married      1   \n",
       "\n",
       "       Earnings_1974  Earnings_1975  Earnings_1978               racial  \n",
       "5834             0.0      2323.8390       2625.920  NotBlackNotHispanic  \n",
       "13932            0.0         0.0000          0.000  NotBlackNotHispanic  \n",
       "8030             0.0       483.3871       5334.593  NotBlackNotHispanic  \n",
       "5788             0.0      1079.5650       7248.249  NotBlackNotHispanic  \n",
       "13927            0.0         0.0000          0.000  NotBlackNotHispanic  "
      ]
     },
     "execution_count": 201,
     "metadata": {},
     "output_type": "execute_result"
    }
   ],
   "source": [
    "df_nhb.head()"
   ]
  },
  {
   "cell_type": "code",
   "execution_count": 202,
   "metadata": {},
   "outputs": [],
   "source": [
    "df_hisp = df[df[\"Hisp\"]=='hispanic']"
   ]
  },
  {
   "cell_type": "code",
   "execution_count": 203,
   "metadata": {},
   "outputs": [
    {
     "data": {
      "text/html": [
       "<div>\n",
       "<style scoped>\n",
       "    .dataframe tbody tr th:only-of-type {\n",
       "        vertical-align: middle;\n",
       "    }\n",
       "\n",
       "    .dataframe tbody tr th {\n",
       "        vertical-align: top;\n",
       "    }\n",
       "\n",
       "    .dataframe thead th {\n",
       "        text-align: right;\n",
       "    }\n",
       "</style>\n",
       "<table border=\"1\" class=\"dataframe\">\n",
       "  <thead>\n",
       "    <tr style=\"text-align: right;\">\n",
       "      <th></th>\n",
       "      <th>Age</th>\n",
       "      <th>Eduacation</th>\n",
       "      <th>Race</th>\n",
       "      <th>Hisp</th>\n",
       "      <th>MaritalStatus</th>\n",
       "      <th>Nodeg</th>\n",
       "      <th>Earnings_1974</th>\n",
       "      <th>Earnings_1975</th>\n",
       "      <th>Earnings_1978</th>\n",
       "      <th>racial</th>\n",
       "    </tr>\n",
       "  </thead>\n",
       "  <tbody>\n",
       "    <tr>\n",
       "      <th>13901</th>\n",
       "      <td>18</td>\n",
       "      <td>LessThanHighSchool</td>\n",
       "      <td>NotBlack</td>\n",
       "      <td>hispanic</td>\n",
       "      <td>NotMarried</td>\n",
       "      <td>1</td>\n",
       "      <td>0.0</td>\n",
       "      <td>3039.968</td>\n",
       "      <td>2027.441</td>\n",
       "      <td>hispanic</td>\n",
       "    </tr>\n",
       "    <tr>\n",
       "      <th>9179</th>\n",
       "      <td>27</td>\n",
       "      <td>graduate</td>\n",
       "      <td>NotBlack</td>\n",
       "      <td>hispanic</td>\n",
       "      <td>NotMarried</td>\n",
       "      <td>0</td>\n",
       "      <td>0.0</td>\n",
       "      <td>5370.968</td>\n",
       "      <td>12237.050</td>\n",
       "      <td>hispanic</td>\n",
       "    </tr>\n",
       "    <tr>\n",
       "      <th>5804</th>\n",
       "      <td>52</td>\n",
       "      <td>HighSchool</td>\n",
       "      <td>NotBlack</td>\n",
       "      <td>hispanic</td>\n",
       "      <td>Married</td>\n",
       "      <td>0</td>\n",
       "      <td>0.0</td>\n",
       "      <td>0.000</td>\n",
       "      <td>0.000</td>\n",
       "      <td>hispanic</td>\n",
       "    </tr>\n",
       "    <tr>\n",
       "      <th>5797</th>\n",
       "      <td>44</td>\n",
       "      <td>PostGraduate</td>\n",
       "      <td>NotBlack</td>\n",
       "      <td>hispanic</td>\n",
       "      <td>NotMarried</td>\n",
       "      <td>0</td>\n",
       "      <td>0.0</td>\n",
       "      <td>0.000</td>\n",
       "      <td>0.000</td>\n",
       "      <td>hispanic</td>\n",
       "    </tr>\n",
       "    <tr>\n",
       "      <th>10943</th>\n",
       "      <td>16</td>\n",
       "      <td>LessThanHighSchool</td>\n",
       "      <td>NotBlack</td>\n",
       "      <td>hispanic</td>\n",
       "      <td>NotMarried</td>\n",
       "      <td>1</td>\n",
       "      <td>0.0</td>\n",
       "      <td>3750.726</td>\n",
       "      <td>11770.090</td>\n",
       "      <td>hispanic</td>\n",
       "    </tr>\n",
       "  </tbody>\n",
       "</table>\n",
       "</div>"
      ],
      "text/plain": [
       "       Age          Eduacation      Race      Hisp MaritalStatus  Nodeg  \\\n",
       "13901   18  LessThanHighSchool  NotBlack  hispanic    NotMarried      1   \n",
       "9179    27            graduate  NotBlack  hispanic    NotMarried      0   \n",
       "5804    52          HighSchool  NotBlack  hispanic       Married      0   \n",
       "5797    44        PostGraduate  NotBlack  hispanic    NotMarried      0   \n",
       "10943   16  LessThanHighSchool  NotBlack  hispanic    NotMarried      1   \n",
       "\n",
       "       Earnings_1974  Earnings_1975  Earnings_1978    racial  \n",
       "13901            0.0       3039.968       2027.441  hispanic  \n",
       "9179             0.0       5370.968      12237.050  hispanic  \n",
       "5804             0.0          0.000          0.000  hispanic  \n",
       "5797             0.0          0.000          0.000  hispanic  \n",
       "10943            0.0       3750.726      11770.090  hispanic  "
      ]
     },
     "execution_count": 203,
     "metadata": {},
     "output_type": "execute_result"
    }
   ],
   "source": [
    "df_hisp.head()"
   ]
  },
  {
   "cell_type": "code",
   "execution_count": 204,
   "metadata": {},
   "outputs": [
    {
     "data": {
      "text/html": [
       "<div>\n",
       "<style scoped>\n",
       "    .dataframe tbody tr th:only-of-type {\n",
       "        vertical-align: middle;\n",
       "    }\n",
       "\n",
       "    .dataframe tbody tr th {\n",
       "        vertical-align: top;\n",
       "    }\n",
       "\n",
       "    .dataframe thead th {\n",
       "        text-align: right;\n",
       "    }\n",
       "</style>\n",
       "<table border=\"1\" class=\"dataframe\">\n",
       "  <thead>\n",
       "    <tr style=\"text-align: right;\">\n",
       "      <th></th>\n",
       "      <th>Age</th>\n",
       "      <th>Nodeg</th>\n",
       "      <th>Earnings_1974</th>\n",
       "      <th>Earnings_1975</th>\n",
       "      <th>Earnings_1978</th>\n",
       "    </tr>\n",
       "  </thead>\n",
       "  <tbody>\n",
       "    <tr>\n",
       "      <th>count</th>\n",
       "      <td>15992.000000</td>\n",
       "      <td>15992.000000</td>\n",
       "      <td>15992.000000</td>\n",
       "      <td>15992.000000</td>\n",
       "      <td>15992.000000</td>\n",
       "    </tr>\n",
       "    <tr>\n",
       "      <th>mean</th>\n",
       "      <td>33.225238</td>\n",
       "      <td>0.295835</td>\n",
       "      <td>14016.800304</td>\n",
       "      <td>13650.803376</td>\n",
       "      <td>14846.659673</td>\n",
       "    </tr>\n",
       "    <tr>\n",
       "      <th>std</th>\n",
       "      <td>11.045216</td>\n",
       "      <td>0.456432</td>\n",
       "      <td>9569.795893</td>\n",
       "      <td>9270.403225</td>\n",
       "      <td>9647.391524</td>\n",
       "    </tr>\n",
       "    <tr>\n",
       "      <th>min</th>\n",
       "      <td>16.000000</td>\n",
       "      <td>0.000000</td>\n",
       "      <td>0.000000</td>\n",
       "      <td>0.000000</td>\n",
       "      <td>0.000000</td>\n",
       "    </tr>\n",
       "    <tr>\n",
       "      <th>25%</th>\n",
       "      <td>24.000000</td>\n",
       "      <td>0.000000</td>\n",
       "      <td>4403.452250</td>\n",
       "      <td>4398.823000</td>\n",
       "      <td>5669.298000</td>\n",
       "    </tr>\n",
       "    <tr>\n",
       "      <th>50%</th>\n",
       "      <td>31.000000</td>\n",
       "      <td>0.000000</td>\n",
       "      <td>15123.580000</td>\n",
       "      <td>14557.110000</td>\n",
       "      <td>16421.975000</td>\n",
       "    </tr>\n",
       "    <tr>\n",
       "      <th>75%</th>\n",
       "      <td>42.000000</td>\n",
       "      <td>1.000000</td>\n",
       "      <td>23584.180000</td>\n",
       "      <td>22923.737500</td>\n",
       "      <td>25564.670000</td>\n",
       "    </tr>\n",
       "    <tr>\n",
       "      <th>max</th>\n",
       "      <td>55.000000</td>\n",
       "      <td>1.000000</td>\n",
       "      <td>25862.320000</td>\n",
       "      <td>25243.550000</td>\n",
       "      <td>25564.670000</td>\n",
       "    </tr>\n",
       "  </tbody>\n",
       "</table>\n",
       "</div>"
      ],
      "text/plain": [
       "                Age         Nodeg  Earnings_1974  Earnings_1975  Earnings_1978\n",
       "count  15992.000000  15992.000000   15992.000000   15992.000000   15992.000000\n",
       "mean      33.225238      0.295835   14016.800304   13650.803376   14846.659673\n",
       "std       11.045216      0.456432    9569.795893    9270.403225    9647.391524\n",
       "min       16.000000      0.000000       0.000000       0.000000       0.000000\n",
       "25%       24.000000      0.000000    4403.452250    4398.823000    5669.298000\n",
       "50%       31.000000      0.000000   15123.580000   14557.110000   16421.975000\n",
       "75%       42.000000      1.000000   23584.180000   22923.737500   25564.670000\n",
       "max       55.000000      1.000000   25862.320000   25243.550000   25564.670000"
      ]
     },
     "execution_count": 204,
     "metadata": {},
     "output_type": "execute_result"
    }
   ],
   "source": [
    "df.describe()"
   ]
  },
  {
   "cell_type": "code",
   "execution_count": 205,
   "metadata": {},
   "outputs": [
    {
     "data": {
      "text/plain": [
       "NotBlack    14816\n",
       "black        1176\n",
       "Name: Race, dtype: int64"
      ]
     },
     "execution_count": 205,
     "metadata": {},
     "output_type": "execute_result"
    }
   ],
   "source": [
    "df[\"Race\"].value_counts()"
   ]
  },
  {
   "cell_type": "code",
   "execution_count": 206,
   "metadata": {},
   "outputs": [
    {
     "data": {
      "text/plain": [
       "HighSchool            6252\n",
       "LessThanHighSchool    4731\n",
       "Intermediate          2708\n",
       "graduate              1367\n",
       "PostGraduate           934\n",
       "Name: Eduacation, dtype: int64"
      ]
     },
     "execution_count": 206,
     "metadata": {},
     "output_type": "execute_result"
    }
   ],
   "source": [
    "df['Eduacation'].value_counts()"
   ]
  },
  {
   "cell_type": "code",
   "execution_count": 207,
   "metadata": {},
   "outputs": [],
   "source": [
    "df_black = df[df['Race']==\"black\"]"
   ]
  },
  {
   "cell_type": "code",
   "execution_count": 208,
   "metadata": {},
   "outputs": [
    {
     "data": {
      "text/html": [
       "<div>\n",
       "<style scoped>\n",
       "    .dataframe tbody tr th:only-of-type {\n",
       "        vertical-align: middle;\n",
       "    }\n",
       "\n",
       "    .dataframe tbody tr th {\n",
       "        vertical-align: top;\n",
       "    }\n",
       "\n",
       "    .dataframe thead th {\n",
       "        text-align: right;\n",
       "    }\n",
       "</style>\n",
       "<table border=\"1\" class=\"dataframe\">\n",
       "  <thead>\n",
       "    <tr style=\"text-align: right;\">\n",
       "      <th></th>\n",
       "      <th>Age</th>\n",
       "      <th>Eduacation</th>\n",
       "      <th>Race</th>\n",
       "      <th>Hisp</th>\n",
       "      <th>MaritalStatus</th>\n",
       "      <th>Nodeg</th>\n",
       "      <th>Earnings_1974</th>\n",
       "      <th>Earnings_1975</th>\n",
       "      <th>Earnings_1978</th>\n",
       "      <th>racial</th>\n",
       "    </tr>\n",
       "  </thead>\n",
       "  <tbody>\n",
       "    <tr>\n",
       "      <th>2483</th>\n",
       "      <td>53</td>\n",
       "      <td>LessThanHighSchool</td>\n",
       "      <td>black</td>\n",
       "      <td>NotHispanic</td>\n",
       "      <td>Married</td>\n",
       "      <td>1</td>\n",
       "      <td>0.0</td>\n",
       "      <td>0.0000</td>\n",
       "      <td>0.00000</td>\n",
       "      <td>black</td>\n",
       "    </tr>\n",
       "    <tr>\n",
       "      <th>11021</th>\n",
       "      <td>26</td>\n",
       "      <td>HighSchool</td>\n",
       "      <td>black</td>\n",
       "      <td>NotHispanic</td>\n",
       "      <td>NotMarried</td>\n",
       "      <td>0</td>\n",
       "      <td>0.0</td>\n",
       "      <td>1448.3710</td>\n",
       "      <td>0.00000</td>\n",
       "      <td>black</td>\n",
       "    </tr>\n",
       "    <tr>\n",
       "      <th>13922</th>\n",
       "      <td>39</td>\n",
       "      <td>LessThanHighSchool</td>\n",
       "      <td>black</td>\n",
       "      <td>NotHispanic</td>\n",
       "      <td>Married</td>\n",
       "      <td>1</td>\n",
       "      <td>0.0</td>\n",
       "      <td>0.0000</td>\n",
       "      <td>964.95550</td>\n",
       "      <td>black</td>\n",
       "    </tr>\n",
       "    <tr>\n",
       "      <th>8042</th>\n",
       "      <td>20</td>\n",
       "      <td>LessThanHighSchool</td>\n",
       "      <td>black</td>\n",
       "      <td>NotHispanic</td>\n",
       "      <td>NotMarried</td>\n",
       "      <td>1</td>\n",
       "      <td>0.0</td>\n",
       "      <td>3480.3870</td>\n",
       "      <td>5495.66500</td>\n",
       "      <td>black</td>\n",
       "    </tr>\n",
       "    <tr>\n",
       "      <th>2593</th>\n",
       "      <td>17</td>\n",
       "      <td>LessThanHighSchool</td>\n",
       "      <td>black</td>\n",
       "      <td>NotHispanic</td>\n",
       "      <td>NotMarried</td>\n",
       "      <td>1</td>\n",
       "      <td>0.0</td>\n",
       "      <td>297.1935</td>\n",
       "      <td>54.67588</td>\n",
       "      <td>black</td>\n",
       "    </tr>\n",
       "  </tbody>\n",
       "</table>\n",
       "</div>"
      ],
      "text/plain": [
       "       Age          Eduacation   Race         Hisp MaritalStatus  Nodeg  \\\n",
       "2483    53  LessThanHighSchool  black  NotHispanic       Married      1   \n",
       "11021   26          HighSchool  black  NotHispanic    NotMarried      0   \n",
       "13922   39  LessThanHighSchool  black  NotHispanic       Married      1   \n",
       "8042    20  LessThanHighSchool  black  NotHispanic    NotMarried      1   \n",
       "2593    17  LessThanHighSchool  black  NotHispanic    NotMarried      1   \n",
       "\n",
       "       Earnings_1974  Earnings_1975  Earnings_1978 racial  \n",
       "2483             0.0         0.0000        0.00000  black  \n",
       "11021            0.0      1448.3710        0.00000  black  \n",
       "13922            0.0         0.0000      964.95550  black  \n",
       "8042             0.0      3480.3870     5495.66500  black  \n",
       "2593             0.0       297.1935       54.67588  black  "
      ]
     },
     "execution_count": 208,
     "metadata": {},
     "output_type": "execute_result"
    }
   ],
   "source": [
    "df_black.head()"
   ]
  },
  {
   "cell_type": "code",
   "execution_count": null,
   "metadata": {},
   "outputs": [],
   "source": []
  },
  {
   "cell_type": "code",
   "execution_count": 209,
   "metadata": {},
   "outputs": [
    {
     "data": {
      "text/plain": [
       "NotHispanic    1176\n",
       "Name: Hisp, dtype: int64"
      ]
     },
     "execution_count": 209,
     "metadata": {},
     "output_type": "execute_result"
    }
   ],
   "source": [
    "df_black[\"Hisp\"].value_counts()"
   ]
  },
  {
   "cell_type": "code",
   "execution_count": 210,
   "metadata": {},
   "outputs": [
    {
     "data": {
      "text/plain": [
       "LessThanHighSchool    510\n",
       "HighSchool            427\n",
       "Intermediate          161\n",
       "graduate               52\n",
       "PostGraduate           26\n",
       "Name: Eduacation, dtype: int64"
      ]
     },
     "execution_count": 210,
     "metadata": {},
     "output_type": "execute_result"
    }
   ],
   "source": [
    "df_black[\"Eduacation\"].value_counts()"
   ]
  },
  {
   "cell_type": "code",
   "execution_count": 211,
   "metadata": {},
   "outputs": [
    {
     "data": {
      "text/html": [
       "<div>\n",
       "<style scoped>\n",
       "    .dataframe tbody tr th:only-of-type {\n",
       "        vertical-align: middle;\n",
       "    }\n",
       "\n",
       "    .dataframe tbody tr th {\n",
       "        vertical-align: top;\n",
       "    }\n",
       "\n",
       "    .dataframe thead th {\n",
       "        text-align: right;\n",
       "    }\n",
       "</style>\n",
       "<table border=\"1\" class=\"dataframe\">\n",
       "  <thead>\n",
       "    <tr style=\"text-align: right;\">\n",
       "      <th></th>\n",
       "      <th>counts</th>\n",
       "      <th>percent</th>\n",
       "      <th>%</th>\n",
       "    </tr>\n",
       "  </thead>\n",
       "  <tbody>\n",
       "    <tr>\n",
       "      <th>LessThanHighSchool</th>\n",
       "      <td>510</td>\n",
       "      <td>0.433673</td>\n",
       "      <td>43.4%</td>\n",
       "    </tr>\n",
       "    <tr>\n",
       "      <th>HighSchool</th>\n",
       "      <td>427</td>\n",
       "      <td>0.363095</td>\n",
       "      <td>36.3%</td>\n",
       "    </tr>\n",
       "    <tr>\n",
       "      <th>Intermediate</th>\n",
       "      <td>161</td>\n",
       "      <td>0.136905</td>\n",
       "      <td>13.7%</td>\n",
       "    </tr>\n",
       "    <tr>\n",
       "      <th>graduate</th>\n",
       "      <td>52</td>\n",
       "      <td>0.044218</td>\n",
       "      <td>4.4%</td>\n",
       "    </tr>\n",
       "    <tr>\n",
       "      <th>PostGraduate</th>\n",
       "      <td>26</td>\n",
       "      <td>0.022109</td>\n",
       "      <td>2.2%</td>\n",
       "    </tr>\n",
       "  </tbody>\n",
       "</table>\n",
       "</div>"
      ],
      "text/plain": [
       "                    counts   percent      %\n",
       "LessThanHighSchool     510  0.433673  43.4%\n",
       "HighSchool             427  0.363095  36.3%\n",
       "Intermediate           161  0.136905  13.7%\n",
       "graduate                52  0.044218   4.4%\n",
       "PostGraduate            26  0.022109   2.2%"
      ]
     },
     "execution_count": 211,
     "metadata": {},
     "output_type": "execute_result"
    }
   ],
   "source": [
    "# calculating the counts an percentage of black people with eductaion\n",
    "\n",
    "s = df_black.Eduacation\n",
    "counts = s.value_counts()\n",
    "percent = s.value_counts(normalize=True)\n",
    "percent100 = s.value_counts(normalize=True).mul(100).round(1).astype(str) + '%'\n",
    "pd.DataFrame({'counts': counts, 'percent': percent, '%': percent100})\n"
   ]
  },
  {
   "cell_type": "markdown",
   "metadata": {},
   "source": [
    "##### Demographic Conclusion\n"
   ]
  },
  {
   "cell_type": "markdown",
   "metadata": {},
   "source": [
    "### Part 3 - Earnings\n",
    "\n",
    "<ol>\n",
    "<li>Make and plot a graph or graph of your choosing of the 3 earnings values, in order to answer the below question. Identify how the graph gave you your answer.\n",
    "    <ul>\n",
    "    <li>What is one conclusion could you draw from visualizing of the earnings in the different year? Please express it in plain language/non-statistics terms/as though you were explaining to one of your friends what happened to earnings between 1974 and 1978?\n",
    "    </ul>\n",
    "<li>Which has the greatest effect size on 1978 earnings: Race, Hispanic, MaritalStatus, or Nodeg? \n",
    "    <ul>\n",
    "    <li>What could you investigate further in an attempt to explain this?\n",
    "    </ul>\n",
    "<li>Plot a histogram and PMF, and compute useful descriptive statistics (think: average...) for the 1978 earnings value. Use the \"Cohorts\" code from the quiz to break the data into cohorts, plotting each group (either on one chart, or separately, whichever makes the most sense for examining the data - state specifically why you chose 1 vs many charts.\n",
    "    <ul>\n",
    "    <li>What is the difference in median income between the groups?\n",
    "    <li>Theorize a reason for the difference between the groups that could be explained with more data. Briefly describe the data you'd need. This does not need to be something you have data for, or know how to solve right now - just one well founded hypothesis on what might explain the difference.\n",
    "    </ul>\n",
    "<li>Are there outliers in the 1978 earnings data? Demonstrate this in some way with your code. \n",
    "    <ul>\n",
    "    <li>What can you infer from the presence of outliers that may impact analysis of this data.\n",
    "    </ul>\n",
    "</ol>"
   ]
  },
  {
   "cell_type": "markdown",
   "metadata": {},
   "source": [
    "##### Plot Earnings Data"
   ]
  },
  {
   "cell_type": "code",
   "execution_count": null,
   "metadata": {},
   "outputs": [],
   "source": [
    "\n"
   ]
  },
  {
   "cell_type": "markdown",
   "metadata": {},
   "source": [
    "As a conclusion, there seems to be a large jump in the number of people earning near the top end, around $25k. Otherwise the distributions are pretty similar. "
   ]
  },
  {
   "cell_type": "markdown",
   "metadata": {},
   "source": [
    "##### What to Investigate Further\n"
   ]
  },
  {
   "cell_type": "markdown",
   "metadata": {},
   "source": [
    "##### Histogram and PMF"
   ]
  },
  {
   "cell_type": "code",
   "execution_count": 212,
   "metadata": {},
   "outputs": [],
   "source": [
    "#Create a hist, pmf, and stats for 1987 Earnings\n",
    "#Note: if you don't round or otherwise create bins, the thinkstats plots for this will be weird\n",
    "#That's because there are very few values that are the same, e.g. $14762.34, $15672.86, etc... \n",
    "#Every cent is a different value. \n",
    "#Seaborn plots will probably look better by default. "
   ]
  },
  {
   "cell_type": "code",
   "execution_count": null,
   "metadata": {},
   "outputs": [],
   "source": []
  },
  {
   "cell_type": "markdown",
   "metadata": {},
   "source": [
    "##### Differences in Median Income, and Theory on Why\n"
   ]
  },
  {
   "cell_type": "markdown",
   "metadata": {},
   "source": [
    "##### Outliers"
   ]
  },
  {
   "cell_type": "code",
   "execution_count": null,
   "metadata": {},
   "outputs": [],
   "source": []
  },
  {
   "cell_type": "markdown",
   "metadata": {},
   "source": [
    "##### Outlier Conclusions\n"
   ]
  },
  {
   "cell_type": "code",
   "execution_count": 213,
   "metadata": {},
   "outputs": [],
   "source": [
    "# putting the years in data frame and median earning and rounding to 2 decimal places\n",
    "\n",
    "Data = {'Year': [1974,1975,1978],\n",
    "        'Earning': [round(df_black[\"Earnings_1974\"].median(),2),round(df_black[\"Earnings_1975\"].median(),2),round(df_black[\"Earnings_1978\"].median(),2)]\n",
    "  }"
   ]
  },
  {
   "cell_type": "code",
   "execution_count": 214,
   "metadata": {},
   "outputs": [],
   "source": [
    "df_Earning_black = pd.DataFrame(Data,columns=['Year','Earning'])\n"
   ]
  },
  {
   "cell_type": "code",
   "execution_count": 215,
   "metadata": {},
   "outputs": [
    {
     "data": {
      "text/html": [
       "<div>\n",
       "<style scoped>\n",
       "    .dataframe tbody tr th:only-of-type {\n",
       "        vertical-align: middle;\n",
       "    }\n",
       "\n",
       "    .dataframe tbody tr th {\n",
       "        vertical-align: top;\n",
       "    }\n",
       "\n",
       "    .dataframe thead th {\n",
       "        text-align: right;\n",
       "    }\n",
       "</style>\n",
       "<table border=\"1\" class=\"dataframe\">\n",
       "  <thead>\n",
       "    <tr style=\"text-align: right;\">\n",
       "      <th></th>\n",
       "      <th>Year</th>\n",
       "      <th>Earning</th>\n",
       "    </tr>\n",
       "  </thead>\n",
       "  <tbody>\n",
       "    <tr>\n",
       "      <th>0</th>\n",
       "      <td>1974</td>\n",
       "      <td>11079.65</td>\n",
       "    </tr>\n",
       "    <tr>\n",
       "      <th>1</th>\n",
       "      <td>1975</td>\n",
       "      <td>10845.78</td>\n",
       "    </tr>\n",
       "    <tr>\n",
       "      <th>2</th>\n",
       "      <td>1978</td>\n",
       "      <td>12115.88</td>\n",
       "    </tr>\n",
       "  </tbody>\n",
       "</table>\n",
       "</div>"
      ],
      "text/plain": [
       "   Year   Earning\n",
       "0  1974  11079.65\n",
       "1  1975  10845.78\n",
       "2  1978  12115.88"
      ]
     },
     "execution_count": 215,
     "metadata": {},
     "output_type": "execute_result"
    }
   ],
   "source": [
    "df_Earning_black.head()"
   ]
  },
  {
   "cell_type": "code",
   "execution_count": 216,
   "metadata": {},
   "outputs": [
    {
     "name": "stdout",
     "output_type": "stream",
     "text": [
      "<class 'pandas.core.frame.DataFrame'>\n",
      "RangeIndex: 3 entries, 0 to 2\n",
      "Data columns (total 2 columns):\n",
      " #   Column   Non-Null Count  Dtype  \n",
      "---  ------   --------------  -----  \n",
      " 0   Year     3 non-null      int64  \n",
      " 1   Earning  3 non-null      float64\n",
      "dtypes: float64(1), int64(1)\n",
      "memory usage: 176.0 bytes\n"
     ]
    }
   ],
   "source": [
    "df_Earning_black.info()"
   ]
  },
  {
   "cell_type": "code",
   "execution_count": 217,
   "metadata": {},
   "outputs": [],
   "source": [
    "# putting the years in data frame and median earning and rounding to 2 decimal places\n",
    "\n",
    "Data1 = {'Year': [1974,1975,1978],\n",
    "        'Earning': [round(df_hisp[\"Earnings_1974\"].median(),2),round(df_hisp[\"Earnings_1975\"].median(),2),round(df_hisp[\"Earnings_1978\"].median(),2)]\n",
    "  }"
   ]
  },
  {
   "cell_type": "code",
   "execution_count": 218,
   "metadata": {},
   "outputs": [],
   "source": [
    "df_Earning_hisp = pd.DataFrame(Data1,columns=['Year','Earning'])\n",
    "\n"
   ]
  },
  {
   "cell_type": "code",
   "execution_count": 219,
   "metadata": {},
   "outputs": [
    {
     "data": {
      "text/html": [
       "<div>\n",
       "<style scoped>\n",
       "    .dataframe tbody tr th:only-of-type {\n",
       "        vertical-align: middle;\n",
       "    }\n",
       "\n",
       "    .dataframe tbody tr th {\n",
       "        vertical-align: top;\n",
       "    }\n",
       "\n",
       "    .dataframe thead th {\n",
       "        text-align: right;\n",
       "    }\n",
       "</style>\n",
       "<table border=\"1\" class=\"dataframe\">\n",
       "  <thead>\n",
       "    <tr style=\"text-align: right;\">\n",
       "      <th></th>\n",
       "      <th>Year</th>\n",
       "      <th>Earning</th>\n",
       "    </tr>\n",
       "  </thead>\n",
       "  <tbody>\n",
       "    <tr>\n",
       "      <th>0</th>\n",
       "      <td>1974</td>\n",
       "      <td>12668.61</td>\n",
       "    </tr>\n",
       "    <tr>\n",
       "      <th>1</th>\n",
       "      <td>1975</td>\n",
       "      <td>12378.29</td>\n",
       "    </tr>\n",
       "    <tr>\n",
       "      <th>2</th>\n",
       "      <td>1978</td>\n",
       "      <td>13717.74</td>\n",
       "    </tr>\n",
       "  </tbody>\n",
       "</table>\n",
       "</div>"
      ],
      "text/plain": [
       "   Year   Earning\n",
       "0  1974  12668.61\n",
       "1  1975  12378.29\n",
       "2  1978  13717.74"
      ]
     },
     "execution_count": 219,
     "metadata": {},
     "output_type": "execute_result"
    }
   ],
   "source": [
    "df_Earning_hisp.head()"
   ]
  },
  {
   "cell_type": "code",
   "execution_count": 220,
   "metadata": {},
   "outputs": [],
   "source": [
    "Data2 = {'Year': [1974,1975,1978],\n",
    "        'Earning': [round(df_nhb[\"Earnings_1974\"].median(),2),round(df_nhb[\"Earnings_1975\"].median(),2),round(df_nhb[\"Earnings_1978\"].median(),2)]\n",
    "  }"
   ]
  },
  {
   "cell_type": "code",
   "execution_count": 221,
   "metadata": {},
   "outputs": [],
   "source": [
    "df_Earning_nhb = pd.DataFrame(Data2,columns=['Year','Earning'])\n"
   ]
  },
  {
   "cell_type": "code",
   "execution_count": 222,
   "metadata": {},
   "outputs": [
    {
     "data": {
      "text/html": [
       "<div>\n",
       "<style scoped>\n",
       "    .dataframe tbody tr th:only-of-type {\n",
       "        vertical-align: middle;\n",
       "    }\n",
       "\n",
       "    .dataframe tbody tr th {\n",
       "        vertical-align: top;\n",
       "    }\n",
       "\n",
       "    .dataframe thead th {\n",
       "        text-align: right;\n",
       "    }\n",
       "</style>\n",
       "<table border=\"1\" class=\"dataframe\">\n",
       "  <thead>\n",
       "    <tr style=\"text-align: right;\">\n",
       "      <th></th>\n",
       "      <th>Year</th>\n",
       "      <th>Earning</th>\n",
       "    </tr>\n",
       "  </thead>\n",
       "  <tbody>\n",
       "    <tr>\n",
       "      <th>0</th>\n",
       "      <td>1974</td>\n",
       "      <td>15881.82</td>\n",
       "    </tr>\n",
       "    <tr>\n",
       "      <th>1</th>\n",
       "      <td>1975</td>\n",
       "      <td>15241.92</td>\n",
       "    </tr>\n",
       "    <tr>\n",
       "      <th>2</th>\n",
       "      <td>1978</td>\n",
       "      <td>17278.31</td>\n",
       "    </tr>\n",
       "  </tbody>\n",
       "</table>\n",
       "</div>"
      ],
      "text/plain": [
       "   Year   Earning\n",
       "0  1974  15881.82\n",
       "1  1975  15241.92\n",
       "2  1978  17278.31"
      ]
     },
     "execution_count": 222,
     "metadata": {},
     "output_type": "execute_result"
    }
   ],
   "source": [
    "df_Earning_nhb.head()"
   ]
  },
  {
   "cell_type": "code",
   "execution_count": 223,
   "metadata": {},
   "outputs": [
    {
     "data": {
      "image/png": "[encoded data removed]",
      "text/plain": [
       "<Figure size 432x288 with 1 Axes>"
      ]
     },
     "metadata": {
      "needs_background": "light"
     },
     "output_type": "display_data"
    }
   ],
   "source": [
    "plt.plot(df_Earning_black['Year'], df_Earning_black['Earning'], color='red', marker='o')\n",
    "plt.plot(df_Earning_hisp['Year'], df_Earning_hisp['Earning'], color='green', marker='o')\n",
    "plt.plot(df_Earning_nhb['Year'], df_Earning_nhb['Earning'], color='blue', marker='o')\n",
    "plt.title('Earning Vs Year', fontsize=14)\n",
    "plt.xlabel('Year', fontsize=14)\n",
    "plt.ylabel('Earning', fontsize=14)\n",
    "\n",
    "plt.grid(True)\n",
    "plt.show()"
   ]
  },
  {
   "cell_type": "code",
   "execution_count": 224,
   "metadata": {},
   "outputs": [
    {
     "data": {
      "image/png": "[encoded data removed]",
      "text/plain": [
       "<Figure size 432x288 with 1 Axes>"
      ]
     },
     "metadata": {
      "needs_background": "light"
     },
     "output_type": "display_data"
    }
   ],
   "source": [
    "plt.plot(df_Earning_black['Year'], df_Earning_black['Earning'], color='red', marker='o')\n",
    "plt.plot(df_Earning_hisp['Year'], df_Earning_hisp['Earning'], color='green', marker='o')\n",
    "plt.plot(df_Earning_nhb['Year'], df_Earning_nhb['Earning'], color='blue', marker='o')\n",
    "plt.title('Earning Vs Year', fontsize=14)\n",
    "plt.xlabel('Year', fontsize=14)\n",
    "plt.ylabel('Earning', fontsize=14)\n",
    "plt.axis([1973, 1979, 10000, 18000]) # setting axis scale X and Y\n",
    "plt.grid(True)\n",
    "plt.show()"
   ]
  },
  {
   "cell_type": "code",
   "execution_count": 225,
   "metadata": {},
   "outputs": [],
   "source": [
    "\n",
    "df_Earning_black['Year'] = pd.to_datetime(df_Earning_black[\"Year\"], format='%Y')\n",
    "\n",
    "df_Earning_black = df_Earning_black.set_index('Year')\n"
   ]
  },
  {
   "cell_type": "code",
   "execution_count": 226,
   "metadata": {},
   "outputs": [
    {
     "data": {
      "text/html": [
       "<div>\n",
       "<style scoped>\n",
       "    .dataframe tbody tr th:only-of-type {\n",
       "        vertical-align: middle;\n",
       "    }\n",
       "\n",
       "    .dataframe tbody tr th {\n",
       "        vertical-align: top;\n",
       "    }\n",
       "\n",
       "    .dataframe thead th {\n",
       "        text-align: right;\n",
       "    }\n",
       "</style>\n",
       "<table border=\"1\" class=\"dataframe\">\n",
       "  <thead>\n",
       "    <tr style=\"text-align: right;\">\n",
       "      <th></th>\n",
       "      <th>Earning</th>\n",
       "    </tr>\n",
       "    <tr>\n",
       "      <th>Year</th>\n",
       "      <th></th>\n",
       "    </tr>\n",
       "  </thead>\n",
       "  <tbody>\n",
       "    <tr>\n",
       "      <th>1974-01-01</th>\n",
       "      <td>11079.65</td>\n",
       "    </tr>\n",
       "    <tr>\n",
       "      <th>1975-01-01</th>\n",
       "      <td>10845.78</td>\n",
       "    </tr>\n",
       "    <tr>\n",
       "      <th>1978-01-01</th>\n",
       "      <td>12115.88</td>\n",
       "    </tr>\n",
       "  </tbody>\n",
       "</table>\n",
       "</div>"
      ],
      "text/plain": [
       "             Earning\n",
       "Year                \n",
       "1974-01-01  11079.65\n",
       "1975-01-01  10845.78\n",
       "1978-01-01  12115.88"
      ]
     },
     "execution_count": 226,
     "metadata": {},
     "output_type": "execute_result"
    }
   ],
   "source": [
    "df_Earning_black.head()"
   ]
  },
  {
   "cell_type": "code",
   "execution_count": 227,
   "metadata": {},
   "outputs": [
    {
     "data": {
      "text/html": [
       "<div>\n",
       "<style scoped>\n",
       "    .dataframe tbody tr th:only-of-type {\n",
       "        vertical-align: middle;\n",
       "    }\n",
       "\n",
       "    .dataframe tbody tr th {\n",
       "        vertical-align: top;\n",
       "    }\n",
       "\n",
       "    .dataframe thead th {\n",
       "        text-align: right;\n",
       "    }\n",
       "</style>\n",
       "<table border=\"1\" class=\"dataframe\">\n",
       "  <thead>\n",
       "    <tr style=\"text-align: right;\">\n",
       "      <th></th>\n",
       "      <th>Earning</th>\n",
       "    </tr>\n",
       "    <tr>\n",
       "      <th>Year</th>\n",
       "      <th></th>\n",
       "    </tr>\n",
       "  </thead>\n",
       "  <tbody>\n",
       "    <tr>\n",
       "      <th>1974-01-01</th>\n",
       "      <td>12668.61</td>\n",
       "    </tr>\n",
       "    <tr>\n",
       "      <th>1975-01-01</th>\n",
       "      <td>12378.29</td>\n",
       "    </tr>\n",
       "    <tr>\n",
       "      <th>1978-01-01</th>\n",
       "      <td>13717.74</td>\n",
       "    </tr>\n",
       "  </tbody>\n",
       "</table>\n",
       "</div>"
      ],
      "text/plain": [
       "             Earning\n",
       "Year                \n",
       "1974-01-01  12668.61\n",
       "1975-01-01  12378.29\n",
       "1978-01-01  13717.74"
      ]
     },
     "execution_count": 227,
     "metadata": {},
     "output_type": "execute_result"
    }
   ],
   "source": [
    "df_Earning_hisp['Year'] = pd.to_datetime(df_Earning_hisp[\"Year\"], format='%Y')\n",
    "df_Earning_hisp = df_Earning_hisp.set_index('Year')\n",
    "df_Earning_hisp.head()"
   ]
  },
  {
   "cell_type": "code",
   "execution_count": 228,
   "metadata": {},
   "outputs": [
    {
     "data": {
      "text/html": [
       "<div>\n",
       "<style scoped>\n",
       "    .dataframe tbody tr th:only-of-type {\n",
       "        vertical-align: middle;\n",
       "    }\n",
       "\n",
       "    .dataframe tbody tr th {\n",
       "        vertical-align: top;\n",
       "    }\n",
       "\n",
       "    .dataframe thead th {\n",
       "        text-align: right;\n",
       "    }\n",
       "</style>\n",
       "<table border=\"1\" class=\"dataframe\">\n",
       "  <thead>\n",
       "    <tr style=\"text-align: right;\">\n",
       "      <th></th>\n",
       "      <th>Earning</th>\n",
       "    </tr>\n",
       "    <tr>\n",
       "      <th>Year</th>\n",
       "      <th></th>\n",
       "    </tr>\n",
       "  </thead>\n",
       "  <tbody>\n",
       "    <tr>\n",
       "      <th>1974-01-01</th>\n",
       "      <td>15881.82</td>\n",
       "    </tr>\n",
       "    <tr>\n",
       "      <th>1975-01-01</th>\n",
       "      <td>15241.92</td>\n",
       "    </tr>\n",
       "    <tr>\n",
       "      <th>1978-01-01</th>\n",
       "      <td>17278.31</td>\n",
       "    </tr>\n",
       "  </tbody>\n",
       "</table>\n",
       "</div>"
      ],
      "text/plain": [
       "             Earning\n",
       "Year                \n",
       "1974-01-01  15881.82\n",
       "1975-01-01  15241.92\n",
       "1978-01-01  17278.31"
      ]
     },
     "execution_count": 228,
     "metadata": {},
     "output_type": "execute_result"
    }
   ],
   "source": [
    "df_Earning_nhb['Year'] = pd.to_datetime(df_Earning_nhb[\"Year\"], format='%Y')\n",
    "df_Earning_nhb = df_Earning_nhb.set_index('Year')\n",
    "df_Earning_nhb.head()"
   ]
  },
  {
   "cell_type": "code",
   "execution_count": 229,
   "metadata": {},
   "outputs": [
    {
     "data": {
      "image/png": "[encoded data removed]",
      "text/plain": [
       "<Figure size 432x288 with 1 Axes>"
      ]
     },
     "metadata": {
      "needs_background": "light"
     },
     "output_type": "display_data"
    }
   ],
   "source": [
    "plt.plot(df_Earning_black['Earning'], color='red', marker='o')\n",
    "plt.plot(df_Earning_hisp['Earning'], color='green', marker='o')\n",
    "plt.plot(df_Earning_nhb['Earning'], color='blue', marker='o')\n",
    "plt.title('Earning Vs Year', fontsize=14)\n",
    "plt.xlabel('Year', fontsize=14)\n",
    "plt.ylabel('Earning', fontsize=14)\n",
    "plt.grid(True)\n",
    "plt.show()"
   ]
  },
  {
   "cell_type": "code",
   "execution_count": null,
   "metadata": {},
   "outputs": [],
   "source": []
  },
  {
   "cell_type": "code",
   "execution_count": 230,
   "metadata": {},
   "outputs": [],
   "source": [
    "df_Earning = df[[\"Earnings_1974\", \"Earnings_1975\", \"Earnings_1978\"]]"
   ]
  },
  {
   "cell_type": "code",
   "execution_count": 231,
   "metadata": {},
   "outputs": [
    {
     "data": {
      "text/plain": [
       "(15992, 3)"
      ]
     },
     "execution_count": 231,
     "metadata": {},
     "output_type": "execute_result"
    }
   ],
   "source": [
    "#find Q1, Q3, and interquartile range for each column\n",
    "import scipy.stats as stats\n",
    "Q1 = df_Earning.quantile(q=.25)\n",
    "Q3 = df_Earning.quantile(q=.75)\n",
    "IQR = df_Earning.apply(stats.iqr)\n",
    "\n",
    "#only keep rows in dataframe that have values within 1.5*IQR of Q1 and Q3\n",
    "data_clean = df_Earning[~((df_Earning < (Q1-1.5*IQR)) | (df_Earning > (Q3+1.5*IQR))).any(axis=1)]\n",
    "\n",
    "#find how many rows are left in the dataframe \n",
    "data_clean.shape\n"
   ]
  }
 ],
 "metadata": {
  "kernelspec": {
   "display_name": "Python 3.9.12 ('base')",
   "language": "python",
   "name": "python3"
  },
  "language_info": {
   "codemirror_mode": {
    "name": "ipython",
    "version": 3
   },
   "file_extension": ".py",
   "mimetype": "text/x-python",
   "name": "python",
   "nbconvert_exporter": "python",
   "pygments_lexer": "ipython3",
   "version": "3.9.12"
  },
  "orig_nbformat": 4,
  "vscode": {
   "interpreter": {
    "hash": "5e7cbeb742f02d765fcec4b3e42c8713f0c6d06ac97c88ada4b0856650159d56"
   }
  }
 },
 "nbformat": 4,
 "nbformat_minor": 2
}
